{
 "cells": [
  {
   "cell_type": "code",
   "execution_count": 1,
   "id": "732fd167",
   "metadata": {},
   "outputs": [],
   "source": [
    "import os\n",
    "import sys"
   ]
  },
  {
   "cell_type": "code",
   "execution_count": 2,
   "id": "06e196b3",
   "metadata": {},
   "outputs": [],
   "source": [
    "NOTEBOOK_DIR = os.path.dirname(os.path.realpath(\"__file__\"))\n",
    "PROJECT_ROOT = os.path.dirname(NOTEBOOK_DIR)\n",
    "\n",
    "sys.path.append(PROJECT_ROOT) # make my_module available to import\n",
    "\n",
    "# Importing my python module utils\n",
    "from emotion_detection_system.scripts.information_from_results import *"
   ]
  },
  {
   "cell_type": "code",
   "execution_count": 3,
   "id": "673eb129",
   "metadata": {},
   "outputs": [
    {
     "name": "stdout",
     "output_type": "stream",
     "text": [
      "##########\n",
      "\n",
      "Best Values for the Data Experiment Batch:\n",
      "Best Accuracy: 0.8522 (session_02_01_v_specialist)\n",
      "Compared to baseline: 0.8269 (session_02_01_v_specialist)\n",
      "Difference from Baseline: 3.06%\n",
      "##########\n",
      "\n",
      "Best Balanced Accuracy: 0.8353 (session_03_01_v_parents)\n",
      "Compared to baseline: 0.7494 (session_03_01_v_specialist)\n",
      "Difference from Baseline: 11.46%\n"
     ]
    }
   ],
   "source": [
    "calculate_best_acc(oversampling_data_results)"
   ]
  },
  {
   "cell_type": "code",
   "execution_count": 4,
   "id": "0fe8492c",
   "metadata": {
    "scrolled": true
   },
   "outputs": [
    {
     "name": "stdout",
     "output_type": "stream",
     "text": [
      "##########\n",
      "\n",
      "Average Accuracy in ['va_late_fusion', 'va_early_fusion']_['parents', 'specialist'] models: 0.73469(+-0.053951)\n",
      "Baseline value: 0.727333\n",
      "Difference from Baseline: 1.01%\n",
      "##########\n",
      "\n",
      "Average Balanced Accuracy in ['va_late_fusion', 'va_early_fusion']_['parents', 'specialist'] models: 0.612519 (+-0.111858)\n",
      "Baseline value: 0.527452\n",
      "Difference from Baseline: 16.13%\n",
      "##########\n",
      "\n",
      "Best Values for the current Scenario:\n",
      "Best Accuracy: 0.851 (session_02_01_va_early_fusion_specialist)\n",
      "Compared to baseline: 0.8248 (session_03_01_va_late_fusion_specialist)\n",
      "Difference from Baseline: 3.18%\n",
      "##########\n",
      "\n",
      "Best Balanced Accuracy: 0.8243 (session_03_01_va_late_fusion_specialist)\n",
      "Compared to baseline: 0.7451 (session_03_01_va_late_fusion_specialist)\n",
      "Difference from Baseline: 10.63%\n"
     ]
    }
   ],
   "source": [
    "compare_against_baseline(oversampling_data_results, scenario=['va_late_fusion', 'va_early_fusion'], annotation_type=['parents', 'specialist'])"
   ]
  },
  {
   "cell_type": "code",
   "execution_count": 5,
   "id": "e0495c8e",
   "metadata": {
    "scrolled": true
   },
   "outputs": [
    {
     "name": "stdout",
     "output_type": "stream",
     "text": [
      "##########\n",
      "\n",
      "Average Accuracy in ['va_late_fusion', 'va_early_fusion']_['parents'] models: 0.707342(+-0.049661)\n",
      "Baseline value: 0.701013\n",
      "Difference from Baseline: 0.90%\n",
      "##########\n",
      "\n",
      "Average Balanced Accuracy in ['va_late_fusion', 'va_early_fusion']_['parents'] models: 0.603662 (+-0.120153)\n",
      "Baseline value: 0.513558\n",
      "Difference from Baseline: 17.55%\n",
      "##########\n",
      "\n",
      "Best Values for the current Scenario:\n",
      "Best Accuracy: 0.8337 (session_03_01_va_late_fusion_parents)\n",
      "Compared to baseline: 0.8121 (session_03_01_va_late_fusion_parents)\n",
      "Difference from Baseline: 2.66%\n",
      "##########\n",
      "\n",
      "Best Balanced Accuracy: 0.8237 (session_03_01_va_late_fusion_parents)\n",
      "Compared to baseline: 0.6917 (session_03_01_va_late_fusion_parents)\n",
      "Difference from Baseline: 19.08%\n"
     ]
    }
   ],
   "source": [
    "compare_against_baseline(oversampling_data_results,scenario=['va_late_fusion', 'va_early_fusion'], annotation_type=['parents'])"
   ]
  },
  {
   "cell_type": "code",
   "execution_count": 6,
   "id": "456a65cf",
   "metadata": {},
   "outputs": [
    {
     "name": "stdout",
     "output_type": "stream",
     "text": [
      "##########\n",
      "\n",
      "Average Accuracy in ['va_late_fusion', 'va_early_fusion']_['specialist'] models: 0.762037(+-0.043828)\n",
      "Baseline value: 0.753654\n",
      "Difference from Baseline: 1.11%\n",
      "##########\n",
      "\n",
      "Average Balanced Accuracy in ['va_late_fusion', 'va_early_fusion']_['specialist'] models: 0.621375 (+-0.104728)\n",
      "Baseline value: 0.541346\n",
      "Difference from Baseline: 14.78%\n",
      "##########\n",
      "\n",
      "Best Values for the current Scenario:\n",
      "Best Accuracy: 0.851 (session_02_01_va_early_fusion_specialist)\n",
      "Compared to baseline: 0.8248 (session_03_01_va_late_fusion_specialist)\n",
      "Difference from Baseline: 3.18%\n",
      "##########\n",
      "\n",
      "Best Balanced Accuracy: 0.8243 (session_03_01_va_late_fusion_specialist)\n",
      "Compared to baseline: 0.7451 (session_03_01_va_late_fusion_specialist)\n",
      "Difference from Baseline: 10.63%\n"
     ]
    }
   ],
   "source": [
    "compare_against_baseline(oversampling_data_results,scenario=['va_late_fusion', 'va_early_fusion'], annotation_type=['specialist'])"
   ]
  },
  {
   "cell_type": "code",
   "execution_count": 7,
   "id": "37cf4fc5",
   "metadata": {},
   "outputs": [
    {
     "name": "stdout",
     "output_type": "stream",
     "text": [
      "##########\n",
      "\n",
      "Average Accuracy in ['va_late_fusion']_['parents', 'specialist'] models: 0.742654(+-0.05178)\n",
      "Baseline value: 0.730738\n",
      "Difference from Baseline: 1.63%\n",
      "##########\n",
      "\n",
      "Average Balanced Accuracy in ['va_late_fusion']_['parents', 'specialist'] models: 0.651229 (+-0.094054)\n",
      "Baseline value: 0.527567\n",
      "Difference from Baseline: 23.44%\n",
      "##########\n",
      "\n",
      "Best Values for the current Scenario:\n",
      "Best Accuracy: 0.8498 (session_02_01_va_late_fusion_specialist)\n",
      "Compared to baseline: 0.8248 (session_03_01_va_late_fusion_specialist)\n",
      "Difference from Baseline: 3.03%\n",
      "##########\n",
      "\n",
      "Best Balanced Accuracy: 0.8243 (session_03_01_va_late_fusion_specialist)\n",
      "Compared to baseline: 0.7451 (session_03_01_va_late_fusion_specialist)\n",
      "Difference from Baseline: 10.63%\n"
     ]
    }
   ],
   "source": [
    "compare_against_baseline(oversampling_data_results, scenario=['va_late_fusion'], annotation_type=['parents', 'specialist'])"
   ]
  },
  {
   "cell_type": "code",
   "execution_count": 8,
   "id": "6c5c85dc",
   "metadata": {},
   "outputs": [
    {
     "name": "stdout",
     "output_type": "stream",
     "text": [
      "##########\n",
      "\n",
      "Average Accuracy in ['va_early_fusion']_['parents', 'specialist'] models: 0.726725(+-0.055987)\n",
      "Baseline value: 0.723929\n",
      "Difference from Baseline: 0.39%\n",
      "##########\n",
      "\n",
      "Average Balanced Accuracy in ['va_early_fusion']_['parents', 'specialist'] models: 0.573808 (+-0.116597)\n",
      "Baseline value: 0.527338\n",
      "Difference from Baseline: 8.81%\n",
      "##########\n",
      "\n",
      "Best Values for the current Scenario:\n",
      "Best Accuracy: 0.851 (session_02_01_va_early_fusion_specialist)\n",
      "Compared to baseline: 0.8041 (session_03_01_va_early_fusion_parents)\n",
      "Difference from Baseline: 5.83%\n",
      "##########\n",
      "\n",
      "Best Balanced Accuracy: 0.7724 (session_03_01_va_early_fusion_specialist)\n",
      "Compared to baseline: 0.6834 (session_03_01_va_early_fusion_specialist)\n",
      "Difference from Baseline: 13.02%\n"
     ]
    }
   ],
   "source": [
    "compare_against_baseline(oversampling_data_results, scenario=['va_early_fusion'], annotation_type=['parents', 'specialist'])"
   ]
  },
  {
   "cell_type": "code",
   "execution_count": 9,
   "id": "a82d4d17",
   "metadata": {},
   "outputs": [
    {
     "name": "stdout",
     "output_type": "stream",
     "text": [
      "##########\n",
      "\n",
      "Average Accuracy in ['va_late_fusion']_['parents'] models: 0.717983(+-0.050607)\n",
      "Baseline value: 0.703833\n",
      "Difference from Baseline: 2.01%\n",
      "##########\n",
      "\n",
      "Average Balanced Accuracy in ['va_late_fusion']_['parents'] models: 0.648333 (+-0.087831)\n",
      "Baseline value: 0.509167\n",
      "Difference from Baseline: 27.33%\n",
      "##########\n",
      "\n",
      "Best Values for the current Scenario:\n",
      "Best Accuracy: 0.8337 (session_03_01_va_late_fusion_parents)\n",
      "Compared to baseline: 0.8121 (session_03_01_va_late_fusion_parents)\n",
      "Difference from Baseline: 2.66%\n",
      "##########\n",
      "\n",
      "Best Balanced Accuracy: 0.8237 (session_03_01_va_late_fusion_parents)\n",
      "Compared to baseline: 0.6917 (session_03_01_va_late_fusion_parents)\n",
      "Difference from Baseline: 19.08%\n"
     ]
    }
   ],
   "source": [
    "compare_against_baseline(oversampling_data_results, scenario=['va_late_fusion'], annotation_type=['parents'])"
   ]
  },
  {
   "cell_type": "code",
   "execution_count": 10,
   "id": "ec3bd4e1",
   "metadata": {},
   "outputs": [
    {
     "name": "stdout",
     "output_type": "stream",
     "text": [
      "##########\n",
      "\n",
      "Average Accuracy in ['va_early_fusion']_['parents'] models: 0.6967(+-0.048462)\n",
      "Baseline value: 0.698192\n",
      "Difference from Baseline: -0.21%\n",
      "##########\n",
      "\n",
      "Average Balanced Accuracy in ['va_early_fusion']_['parents'] models: 0.558992 (+-0.134602)\n",
      "Baseline value: 0.51795\n",
      "Difference from Baseline: 7.92%\n",
      "##########\n",
      "\n",
      "Best Values for the current Scenario:\n",
      "Best Accuracy: 0.8178 (session_03_01_va_early_fusion_parents)\n",
      "Compared to baseline: 0.8041 (session_03_01_va_early_fusion_parents)\n",
      "Difference from Baseline: 1.70%\n",
      "##########\n",
      "\n",
      "Best Balanced Accuracy: 0.7536 (session_03_01_va_early_fusion_parents)\n",
      "Compared to baseline: 0.6737 (session_03_01_va_early_fusion_parents)\n",
      "Difference from Baseline: 11.86%\n"
     ]
    }
   ],
   "source": [
    "compare_against_baseline(oversampling_data_results, scenario=['va_early_fusion'], annotation_type=['parents'])"
   ]
  },
  {
   "cell_type": "code",
   "execution_count": 11,
   "id": "165f6173",
   "metadata": {},
   "outputs": [
    {
     "name": "stdout",
     "output_type": "stream",
     "text": [
      "##########\n",
      "\n",
      "Average Accuracy in ['va_late_fusion']_['specialist'] models: 0.767325(+-0.041436)\n",
      "Baseline value: 0.757642\n",
      "Difference from Baseline: 1.28%\n",
      "##########\n",
      "\n",
      "Average Balanced Accuracy in ['va_late_fusion']_['specialist'] models: 0.654125 (+-0.10375)\n",
      "Baseline value: 0.545967\n",
      "Difference from Baseline: 19.81%\n",
      "##########\n",
      "\n",
      "Best Values for the current Scenario:\n",
      "Best Accuracy: 0.8498 (session_02_01_va_late_fusion_specialist)\n",
      "Compared to baseline: 0.8248 (session_03_01_va_late_fusion_specialist)\n",
      "Difference from Baseline: 3.03%\n",
      "##########\n",
      "\n",
      "Best Balanced Accuracy: 0.8243 (session_03_01_va_late_fusion_specialist)\n",
      "Compared to baseline: 0.7451 (session_03_01_va_late_fusion_specialist)\n",
      "Difference from Baseline: 10.63%\n"
     ]
    }
   ],
   "source": [
    "compare_against_baseline(oversampling_data_results, scenario=['va_late_fusion'], annotation_type=['specialist'])"
   ]
  },
  {
   "cell_type": "code",
   "execution_count": 12,
   "id": "7facfe7d",
   "metadata": {},
   "outputs": [
    {
     "name": "stdout",
     "output_type": "stream",
     "text": [
      "##########\n",
      "\n",
      "Average Accuracy in ['va_early_fusion']_['specialist'] models: 0.75675(+-0.047313)\n",
      "Baseline value: 0.749667\n",
      "Difference from Baseline: 0.94%\n",
      "##########\n",
      "\n",
      "Average Balanced Accuracy in ['va_early_fusion']_['specialist'] models: 0.588625 (+-0.099141)\n",
      "Baseline value: 0.536725\n",
      "Difference from Baseline: 9.67%\n",
      "##########\n",
      "\n",
      "Best Values for the current Scenario:\n",
      "Best Accuracy: 0.851 (session_02_01_va_early_fusion_specialist)\n",
      "Compared to baseline: 0.8032 (session_03_01_va_early_fusion_specialist)\n",
      "Difference from Baseline: 5.95%\n",
      "##########\n",
      "\n",
      "Best Balanced Accuracy: 0.7724 (session_03_01_va_early_fusion_specialist)\n",
      "Compared to baseline: 0.6834 (session_03_01_va_early_fusion_specialist)\n",
      "Difference from Baseline: 13.02%\n"
     ]
    }
   ],
   "source": [
    "compare_against_baseline(oversampling_data_results, scenario=['va_early_fusion'], annotation_type=['specialist'])"
   ]
  },
  {
   "cell_type": "code",
   "execution_count": 13,
   "id": "795c639d",
   "metadata": {},
   "outputs": [
    {
     "name": "stdout",
     "output_type": "stream",
     "text": [
      "##########\n",
      "\n",
      "Average Accuracy in ['v']_['parents', 'specialist'] models: 0.720721(+-0.062196)\n",
      "Baseline value: 0.736367\n",
      "Difference from Baseline: -2.12%\n",
      "##########\n",
      "\n",
      "Average Balanced Accuracy in ['v']_['parents', 'specialist'] models: 0.661442 (+-0.084281)\n",
      "Baseline value: 0.569571\n",
      "Difference from Baseline: 16.13%\n",
      "##########\n",
      "\n",
      "Best Values for the current Scenario:\n",
      "Best Accuracy: 0.8522 (session_02_01_v_specialist)\n",
      "Compared to baseline: 0.8269 (session_02_01_v_specialist)\n",
      "Difference from Baseline: 3.06%\n",
      "##########\n",
      "\n",
      "Best Balanced Accuracy: 0.8353 (session_03_01_v_parents)\n",
      "Compared to baseline: 0.7494 (session_03_01_v_specialist)\n",
      "Difference from Baseline: 11.46%\n"
     ]
    }
   ],
   "source": [
    "compare_against_baseline(oversampling_data_results, scenario=['v'], annotation_type=['parents', 'specialist'])"
   ]
  },
  {
   "cell_type": "code",
   "execution_count": 14,
   "id": "38a390aa",
   "metadata": {},
   "outputs": [
    {
     "name": "stdout",
     "output_type": "stream",
     "text": [
      "##########\n",
      "\n",
      "Average Accuracy in ['v']_['specialist'] models: 0.743183(+-0.04903)\n",
      "Baseline value: 0.766642\n",
      "Difference from Baseline: -3.06%\n",
      "##########\n",
      "\n",
      "Average Balanced Accuracy in ['v']_['specialist'] models: 0.668733 (+-0.090912)\n",
      "Baseline value: 0.588525\n",
      "Difference from Baseline: 13.63%\n",
      "##########\n",
      "\n",
      "Best Values for the current Scenario:\n",
      "Best Accuracy: 0.8522 (session_02_01_v_specialist)\n",
      "Compared to baseline: 0.8269 (session_02_01_v_specialist)\n",
      "Difference from Baseline: 3.06%\n",
      "##########\n",
      "\n",
      "Best Balanced Accuracy: 0.8153 (session_03_01_v_specialist)\n",
      "Compared to baseline: 0.7494 (session_03_01_v_specialist)\n",
      "Difference from Baseline: 8.79%\n"
     ]
    }
   ],
   "source": [
    "compare_against_baseline(oversampling_data_results, scenario=['v'], annotation_type=['specialist'])"
   ]
  },
  {
   "cell_type": "code",
   "execution_count": 15,
   "id": "0c3a27fe",
   "metadata": {},
   "outputs": [
    {
     "name": "stdout",
     "output_type": "stream",
     "text": [
      "##########\n",
      "\n",
      "Average Accuracy in ['v']_['parents'] models: 0.698258(+-0.067702)\n",
      "Baseline value: 0.706092\n",
      "Difference from Baseline: -1.11%\n",
      "##########\n",
      "\n",
      "Average Balanced Accuracy in ['v']_['parents'] models: 0.65415 (+-0.080445)\n",
      "Baseline value: 0.550617\n",
      "Difference from Baseline: 18.80%\n",
      "##########\n",
      "\n",
      "Best Values for the current Scenario:\n",
      "Best Accuracy: 0.8326 (session_03_01_v_parents)\n",
      "Compared to baseline: 0.8223 (session_03_01_v_parents)\n",
      "Difference from Baseline: 1.25%\n",
      "##########\n",
      "\n",
      "Best Balanced Accuracy: 0.8353 (session_03_01_v_parents)\n",
      "Compared to baseline: 0.7456 (session_03_01_v_parents)\n",
      "Difference from Baseline: 12.03%\n"
     ]
    }
   ],
   "source": [
    "compare_against_baseline(oversampling_data_results, scenario=['v'], annotation_type=['parents'])"
   ]
  },
  {
   "cell_type": "code",
   "execution_count": 16,
   "id": "2596bd59",
   "metadata": {},
   "outputs": [
    {
     "name": "stdout",
     "output_type": "stream",
     "text": [
      "##########\n",
      "\n",
      "Average Accuracy in ['a']_['parents', 'specialist'] models: 0.508696(+-0.1107)\n",
      "Baseline value: 0.558642\n",
      "Difference from Baseline: -8.94%\n",
      "##########\n",
      "\n",
      "Average Balanced Accuracy in ['a']_['parents', 'specialist'] models: 0.315958 (+-0.057279)\n",
      "Baseline value: 0.27685\n",
      "Difference from Baseline: 14.13%\n",
      "##########\n",
      "\n",
      "Best Values for the current Scenario:\n",
      "Best Accuracy: 0.6506 (participant_02_a_specialist)\n",
      "Compared to baseline: 0.6865 (participant_02_a_specialist)\n",
      "Difference from Baseline: -5.23%\n",
      "##########\n",
      "\n",
      "Best Balanced Accuracy: 0.5287 (session_02_02_a_parents)\n",
      "Compared to baseline: 0.3751 (session_02_02_a_parents)\n",
      "Difference from Baseline: 40.95%\n"
     ]
    }
   ],
   "source": [
    "compare_against_baseline(oversampling_data_results, scenario=['a'], annotation_type=['parents', 'specialist'])"
   ]
  },
  {
   "cell_type": "code",
   "execution_count": 17,
   "id": "08903ac7",
   "metadata": {},
   "outputs": [
    {
     "name": "stdout",
     "output_type": "stream",
     "text": [
      "##########\n",
      "\n",
      "Average Accuracy in ['a']_['specialist'] models: 0.5395(+-0.108193)\n",
      "Baseline value: 0.573483\n",
      "Difference from Baseline: -5.93%\n",
      "##########\n",
      "\n",
      "Average Balanced Accuracy in ['a']_['specialist'] models: 0.31815 (+-0.034253)\n",
      "Baseline value: 0.279358\n",
      "Difference from Baseline: 13.89%\n",
      "##########\n",
      "\n",
      "Best Values for the current Scenario:\n",
      "Best Accuracy: 0.6506 (participant_02_a_specialist)\n",
      "Compared to baseline: 0.6865 (participant_02_a_specialist)\n",
      "Difference from Baseline: -5.23%\n",
      "##########\n",
      "\n",
      "Best Balanced Accuracy: 0.3505 (participant_01_a_specialist)\n",
      "Compared to baseline: 0.3337 (session_03_01_a_specialist)\n",
      "Difference from Baseline: 5.03%\n"
     ]
    }
   ],
   "source": [
    "compare_against_baseline(oversampling_data_results, scenario=['a'], annotation_type=['specialist'])"
   ]
  },
  {
   "cell_type": "code",
   "execution_count": 18,
   "id": "6b4e050f",
   "metadata": {},
   "outputs": [
    {
     "name": "stdout",
     "output_type": "stream",
     "text": [
      "##########\n",
      "\n",
      "Average Accuracy in ['a']_['parents'] models: 0.477892(+-0.108844)\n",
      "Baseline value: 0.5438\n",
      "Difference from Baseline: -12.12%\n",
      "##########\n",
      "\n",
      "Average Balanced Accuracy in ['a']_['parents'] models: 0.313767 (+-0.075341)\n",
      "Baseline value: 0.274342\n",
      "Difference from Baseline: 14.37%\n",
      "##########\n",
      "\n",
      "Best Values for the current Scenario:\n",
      "Best Accuracy: 0.6392 (session_04_01_a_parents)\n",
      "Compared to baseline: 0.6378 (session_04_01_a_parents)\n",
      "Difference from Baseline: 0.22%\n",
      "##########\n",
      "\n",
      "Best Balanced Accuracy: 0.5287 (session_02_02_a_parents)\n",
      "Compared to baseline: 0.3751 (session_02_02_a_parents)\n",
      "Difference from Baseline: 40.95%\n"
     ]
    }
   ],
   "source": [
    "compare_against_baseline(oversampling_data_results, scenario=['a'], annotation_type=['parents'])"
   ]
  },
  {
   "cell_type": "code",
   "execution_count": 22,
   "id": "85a1ebe6",
   "metadata": {},
   "outputs": [
    {
     "name": "stdout",
     "output_type": "stream",
     "text": [
      "##########\n",
      "\n",
      "Best Values of F1Score:\n",
      "Best F1Score (Blue): 0.8271 (session_02_01_va_late_fusion_specialist)\n",
      "Compared to baseline: 0.7896 (session_03_01_va_late_fusion_parents)\n",
      "Difference from Baseline: 4.75%\n",
      "..........\n",
      "Best F1Score (Green): 0.9123 (session_02_01_va_early_fusion_specialist)\n",
      "Compared to baseline: 0.8981 (session_04_01_v_specialist)\n",
      "Difference from Baseline: 1.58%\n",
      "..........\n",
      "Best F1Score (Red): 0.8713\n",
      "0.8713 (             session_03_01_v\n",
      "session_03_01_va_late_fusion_parents\n",
      "parents)\n",
      "Compared to baseline: 0.7778 (session_03_01_v_parents)\n",
      "Difference from Baseline: 12.02%\n",
      "..........\n",
      "Best F1Score (Yellow): 0.7089 (session_03_01_va_late_fusion_specialist)\n",
      "Compared to baseline: 0.6857 (session_03_01_va_late_fusion_specialist)\n",
      "Difference from Baseline: 3.38%\n"
     ]
    }
   ],
   "source": [
    "calculate_best_f1_score(oversampling_data_results)"
   ]
  },
  {
   "cell_type": "code",
   "execution_count": 23,
   "id": "18386fdc",
   "metadata": {},
   "outputs": [
    {
     "name": "stdout",
     "output_type": "stream",
     "text": [
      "##########\n",
      "\n",
      "Average F1score (blue) models: 0.520887 (+-0.272052)\n",
      "Baseline value: 0.460484\n",
      "Difference from Baseline: 13.12%\n",
      "##########\n",
      "\n",
      "Average F1score (green) models: 0.772709 (+-0.107056)\n",
      "Baseline value: 0.789448\n",
      "Difference from Baseline: -2.12%\n",
      "##########\n",
      "\n",
      "Average F1score (red) models: 0.337711 (+-0.238673)\n",
      "Baseline value: 0.305869\n",
      "Difference from Baseline: 10.41%\n",
      "##########\n",
      "\n",
      "Average F1score (yellow) models: 0.433742 (+-0.213237)\n",
      "Baseline value: 0.359598\n",
      "Difference from Baseline: 20.62%\n"
     ]
    }
   ],
   "source": [
    "calculate_aggregated_f1_score(oversampling_data_results)"
   ]
  },
  {
   "cell_type": "markdown",
   "id": "f626b50a",
   "metadata": {},
   "source": [
    "# Comments & Conclusions\n",
    "\n",
    "1. "
   ]
  }
 ],
 "metadata": {
  "kernelspec": {
   "display_name": "Python 3 (ipykernel)",
   "language": "python",
   "name": "python3"
  },
  "language_info": {
   "codemirror_mode": {
    "name": "ipython",
    "version": 3
   },
   "file_extension": ".py",
   "mimetype": "text/x-python",
   "name": "python",
   "nbconvert_exporter": "python",
   "pygments_lexer": "ipython3",
   "version": "3.10.4"
  }
 },
 "nbformat": 4,
 "nbformat_minor": 5
}
