{
 "cells": [
  {
   "cell_type": "code",
   "execution_count": 4,
   "id": "732fd167",
   "metadata": {},
   "outputs": [],
   "source": [
    "import os\n",
    "import sys"
   ]
  },
  {
   "cell_type": "code",
   "execution_count": 6,
   "id": "06e196b3",
   "metadata": {},
   "outputs": [],
   "source": [
    "NOTEBOOK_DIR = os.path.dirname(os.path.realpath(\"__file__\"))\n",
    "PROJECT_ROOT = os.path.dirname(NOTEBOOK_DIR)\n",
    "\n",
    "sys.path.append(PROJECT_ROOT) # make my_module available to import\n",
    "\n",
    "# Importing my python module utils\n",
    "from emotion_detection_system.scripts.information_from_results import *"
   ]
  },
  {
   "cell_type": "code",
   "execution_count": 9,
   "id": "673eb129",
   "metadata": {},
   "outputs": [
    {
     "name": "stdout",
     "output_type": "stream",
     "text": [
      "##########\n",
      "\n",
      "Best Values for the Data Experiment Batch:\n",
      "Best Accuracy: 0.8144 (session_03_01_v_parents)\n",
      "Compared to baseline: 0.8269 (session_02_01_v_specialist)\n",
      "Difference from Baseline: -1.51%\n",
      "##########\n",
      "\n",
      "Best Balanced Accuracy: 0.8054 (session_03_01_v_specialist)\n",
      "Compared to baseline: 0.7494 (session_03_01_v_specialist)\n",
      "Difference from Baseline: 7.47%\n"
     ]
    }
   ],
   "source": [
    "calculate_best_acc(class_weight_data_results)"
   ]
  },
  {
   "cell_type": "code",
   "execution_count": 10,
   "id": "0fe8492c",
   "metadata": {
    "scrolled": true
   },
   "outputs": [
    {
     "name": "stdout",
     "output_type": "stream",
     "text": [
      "##########\n",
      "\n",
      "Average Accuracy in ['va_late_fusion', 'va_early_fusion']_['parents', 'specialist'] models: 0.686458(+-0.051916)\n",
      "Baseline value: 0.727333\n",
      "Difference from Baseline: -5.62%\n",
      "##########\n",
      "\n",
      "Average Balanced Accuracy in ['va_late_fusion', 'va_early_fusion']_['parents', 'specialist'] models: 0.423344 (+-0.122022)\n",
      "Baseline value: 0.527452\n",
      "Difference from Baseline: -19.74%\n",
      "##########\n",
      "\n",
      "Best Values for the current Scenario:\n",
      "Best Accuracy: 0.81 (session_03_01_va_late_fusion_specialist)\n",
      "Compared to baseline: 0.8248 (session_03_01_va_late_fusion_specialist)\n",
      "Difference from Baseline: -1.79%\n",
      "##########\n",
      "\n",
      "Best Balanced Accuracy: 0.742 (session_03_01_va_late_fusion_specialist)\n",
      "Compared to baseline: 0.7451 (session_03_01_va_late_fusion_specialist)\n",
      "Difference from Baseline: -0.42%\n"
     ]
    }
   ],
   "source": [
    "compare_against_baseline(class_weight_data_results, scenario=['va_late_fusion', 'va_early_fusion'], annotation_type=['parents', 'specialist'])"
   ]
  },
  {
   "cell_type": "code",
   "execution_count": 11,
   "id": "e0495c8e",
   "metadata": {
    "scrolled": true
   },
   "outputs": [
    {
     "name": "stdout",
     "output_type": "stream",
     "text": [
      "##########\n",
      "\n",
      "Average Accuracy in ['va_late_fusion', 'va_early_fusion']_['parents'] models: 0.670933(+-0.044995)\n",
      "Baseline value: 0.701013\n",
      "Difference from Baseline: -4.29%\n",
      "##########\n",
      "\n",
      "Average Balanced Accuracy in ['va_late_fusion', 'va_early_fusion']_['parents'] models: 0.430833 (+-0.123062)\n",
      "Baseline value: 0.513558\n",
      "Difference from Baseline: -16.11%\n",
      "##########\n",
      "\n",
      "Best Values for the current Scenario:\n",
      "Best Accuracy: 0.779 (session_03_01_va_early_fusion_parents)\n",
      "Compared to baseline: 0.8121 (session_03_01_va_late_fusion_parents)\n",
      "Difference from Baseline: -4.08%\n",
      "##########\n",
      "\n",
      "Best Balanced Accuracy: 0.659 (session_03_02_va_late_fusion_parents)\n",
      "Compared to baseline: 0.6917 (session_03_01_va_late_fusion_parents)\n",
      "Difference from Baseline: -4.73%\n"
     ]
    }
   ],
   "source": [
    "compare_against_baseline(class_weight_data_results,scenario=['va_late_fusion', 'va_early_fusion'], annotation_type=['parents'])"
   ]
  },
  {
   "cell_type": "code",
   "execution_count": 12,
   "id": "456a65cf",
   "metadata": {},
   "outputs": [
    {
     "name": "stdout",
     "output_type": "stream",
     "text": [
      "##########\n",
      "\n",
      "Average Accuracy in ['va_late_fusion', 'va_early_fusion']_['specialist'] models: 0.701983(+-0.054591)\n",
      "Baseline value: 0.753654\n",
      "Difference from Baseline: -6.86%\n",
      "##########\n",
      "\n",
      "Average Balanced Accuracy in ['va_late_fusion', 'va_early_fusion']_['specialist'] models: 0.415854 (+-0.123146)\n",
      "Baseline value: 0.541346\n",
      "Difference from Baseline: -23.18%\n",
      "##########\n",
      "\n",
      "Best Values for the current Scenario:\n",
      "Best Accuracy: 0.81 (session_03_01_va_late_fusion_specialist)\n",
      "Compared to baseline: 0.8248 (session_03_01_va_late_fusion_specialist)\n",
      "Difference from Baseline: -1.79%\n",
      "##########\n",
      "\n",
      "Best Balanced Accuracy: 0.742 (session_03_01_va_late_fusion_specialist)\n",
      "Compared to baseline: 0.7451 (session_03_01_va_late_fusion_specialist)\n",
      "Difference from Baseline: -0.42%\n"
     ]
    }
   ],
   "source": [
    "compare_against_baseline(class_weight_data_results,scenario=['va_late_fusion', 'va_early_fusion'], annotation_type=['specialist'])"
   ]
  },
  {
   "cell_type": "code",
   "execution_count": 26,
   "id": "37cf4fc5",
   "metadata": {},
   "outputs": [
    {
     "name": "stdout",
     "output_type": "stream",
     "text": [
      "##########\n",
      "\n",
      "Average Accuracy in ['va_late_fusion']_['parents', 'specialist'] models: 0.678888(+-0.054038)\n",
      "Baseline value: 0.730738\n",
      "Difference from Baseline: -7.10%\n",
      "##########\n",
      "\n",
      "Average Balanced Accuracy in ['va_late_fusion']_['parents', 'specialist'] models: 0.409696 (+-0.132063)\n",
      "Baseline value: 0.527567\n",
      "Difference from Baseline: -22.34%\n",
      "##########\n",
      "\n",
      "Best Values for the current Scenario:\n",
      "Best Accuracy: 0.81 (session_03_01_va_late_fusion_specialist)\n",
      "Compared to baseline: 0.8248 (session_03_01_va_late_fusion_specialist)\n",
      "Difference from Baseline: -1.79%\n",
      "##########\n",
      "\n",
      "Best Balanced Accuracy: 0.742 (session_03_01_va_late_fusion_specialist)\n",
      "Compared to baseline: 0.7451 (session_03_01_va_late_fusion_specialist)\n",
      "Difference from Baseline: -0.42%\n"
     ]
    }
   ],
   "source": [
    "compare_against_baseline(class_weight_data_results, scenario=['va_late_fusion'], annotation_type=['parents', 'specialist'])"
   ]
  },
  {
   "cell_type": "code",
   "execution_count": 25,
   "id": "6c5c85dc",
   "metadata": {},
   "outputs": [
    {
     "name": "stdout",
     "output_type": "stream",
     "text": [
      "##########\n",
      "\n",
      "Average Accuracy in ['va_early_fusion']_['parents', 'specialist'] models: 0.694029(+-0.049679)\n",
      "Baseline value: 0.723929\n",
      "Difference from Baseline: -4.13%\n",
      "##########\n",
      "\n",
      "Average Balanced Accuracy in ['va_early_fusion']_['parents', 'specialist'] models: 0.436992 (+-0.112236)\n",
      "Baseline value: 0.527338\n",
      "Difference from Baseline: -17.13%\n",
      "##########\n",
      "\n",
      "Best Values for the current Scenario:\n",
      "Best Accuracy: 0.802 (session_03_01_va_early_fusion_specialist)\n",
      "Compared to baseline: 0.8041 (session_03_01_va_early_fusion_parents)\n",
      "Difference from Baseline: -0.26%\n",
      "##########\n",
      "\n",
      "Best Balanced Accuracy: 0.6637 (session_03_01_va_early_fusion_specialist)\n",
      "Compared to baseline: 0.6834 (session_03_01_va_early_fusion_specialist)\n",
      "Difference from Baseline: -2.88%\n"
     ]
    }
   ],
   "source": [
    "compare_against_baseline(class_weight_data_results, scenario=['va_early_fusion'], annotation_type=['parents', 'specialist'])"
   ]
  },
  {
   "cell_type": "code",
   "execution_count": 24,
   "id": "a82d4d17",
   "metadata": {},
   "outputs": [
    {
     "name": "stdout",
     "output_type": "stream",
     "text": [
      "##########\n",
      "\n",
      "Average Accuracy in ['va_late_fusion']_['parents'] models: 0.667592(+-0.047661)\n",
      "Baseline value: 0.703833\n",
      "Difference from Baseline: -5.15%\n",
      "##########\n",
      "\n",
      "Average Balanced Accuracy in ['va_late_fusion']_['parents'] models: 0.4252 (+-0.129156)\n",
      "Baseline value: 0.509167\n",
      "Difference from Baseline: -16.49%\n",
      "##########\n",
      "\n",
      "Best Values for the current Scenario:\n",
      "Best Accuracy: 0.7585 (session_03_01_va_late_fusion_parents)\n",
      "Compared to baseline: 0.8121 (session_03_01_va_late_fusion_parents)\n",
      "Difference from Baseline: -6.60%\n",
      "##########\n",
      "\n",
      "Best Balanced Accuracy: 0.659 (session_03_02_va_late_fusion_parents)\n",
      "Compared to baseline: 0.6917 (session_03_01_va_late_fusion_parents)\n",
      "Difference from Baseline: -4.73%\n"
     ]
    }
   ],
   "source": [
    "compare_against_baseline(class_weight_data_results, scenario=['va_late_fusion'], annotation_type=['parents'])"
   ]
  },
  {
   "cell_type": "code",
   "execution_count": 23,
   "id": "ec3bd4e1",
   "metadata": {},
   "outputs": [
    {
     "name": "stdout",
     "output_type": "stream",
     "text": [
      "##########\n",
      "\n",
      "Average Accuracy in ['va_early_fusion']_['parents'] models: 0.674275(+-0.044013)\n",
      "Baseline value: 0.698192\n",
      "Difference from Baseline: -3.43%\n",
      "##########\n",
      "\n",
      "Average Balanced Accuracy in ['va_early_fusion']_['parents'] models: 0.436467 (+-0.122126)\n",
      "Baseline value: 0.51795\n",
      "Difference from Baseline: -15.73%\n",
      "##########\n",
      "\n",
      "Best Values for the current Scenario:\n",
      "Best Accuracy: 0.779 (session_03_01_va_early_fusion_parents)\n",
      "Compared to baseline: 0.8041 (session_03_01_va_early_fusion_parents)\n",
      "Difference from Baseline: -3.12%\n",
      "##########\n",
      "\n",
      "Best Balanced Accuracy: 0.6109 (session_03_01_va_early_fusion_parents)\n",
      "Compared to baseline: 0.6737 (session_03_01_va_early_fusion_parents)\n",
      "Difference from Baseline: -9.32%\n"
     ]
    }
   ],
   "source": [
    "compare_against_baseline(class_weight_data_results, scenario=['va_early_fusion'], annotation_type=['parents'])"
   ]
  },
  {
   "cell_type": "code",
   "execution_count": 22,
   "id": "165f6173",
   "metadata": {},
   "outputs": [
    {
     "name": "stdout",
     "output_type": "stream",
     "text": [
      "##########\n",
      "\n",
      "Average Accuracy in ['va_late_fusion']_['specialist'] models: 0.690183(+-0.059629)\n",
      "Baseline value: 0.757642\n",
      "Difference from Baseline: -8.90%\n",
      "##########\n",
      "\n",
      "Average Balanced Accuracy in ['va_late_fusion']_['specialist'] models: 0.394192 (+-0.138784)\n",
      "Baseline value: 0.545967\n",
      "Difference from Baseline: -27.80%\n",
      "##########\n",
      "\n",
      "Best Values for the current Scenario:\n",
      "Best Accuracy: 0.81 (session_03_01_va_late_fusion_specialist)\n",
      "Compared to baseline: 0.8248 (session_03_01_va_late_fusion_specialist)\n",
      "Difference from Baseline: -1.79%\n",
      "##########\n",
      "\n",
      "Best Balanced Accuracy: 0.742 (session_03_01_va_late_fusion_specialist)\n",
      "Compared to baseline: 0.7451 (session_03_01_va_late_fusion_specialist)\n",
      "Difference from Baseline: -0.42%\n"
     ]
    }
   ],
   "source": [
    "compare_against_baseline(class_weight_data_results, scenario=['va_late_fusion'], annotation_type=['specialist'])"
   ]
  },
  {
   "cell_type": "code",
   "execution_count": 21,
   "id": "7facfe7d",
   "metadata": {},
   "outputs": [
    {
     "name": "stdout",
     "output_type": "stream",
     "text": [
      "##########\n",
      "\n",
      "Average Accuracy in ['va_early_fusion']_['specialist'] models: 0.713783(+-0.048702)\n",
      "Baseline value: 0.749667\n",
      "Difference from Baseline: -4.79%\n",
      "##########\n",
      "\n",
      "Average Balanced Accuracy in ['va_early_fusion']_['specialist'] models: 0.437517 (+-0.106882)\n",
      "Baseline value: 0.536725\n",
      "Difference from Baseline: -18.48%\n",
      "##########\n",
      "\n",
      "Best Values for the current Scenario:\n",
      "Best Accuracy: 0.802 (session_03_01_va_early_fusion_specialist)\n",
      "Compared to baseline: 0.8032 (session_03_01_va_early_fusion_specialist)\n",
      "Difference from Baseline: -0.15%\n",
      "##########\n",
      "\n",
      "Best Balanced Accuracy: 0.6637 (session_03_01_va_early_fusion_specialist)\n",
      "Compared to baseline: 0.6834 (session_03_01_va_early_fusion_specialist)\n",
      "Difference from Baseline: -2.88%\n"
     ]
    }
   ],
   "source": [
    "compare_against_baseline(class_weight_data_results, scenario=['va_early_fusion'], annotation_type=['specialist'])"
   ]
  },
  {
   "cell_type": "code",
   "execution_count": 20,
   "id": "795c639d",
   "metadata": {},
   "outputs": [
    {
     "name": "stdout",
     "output_type": "stream",
     "text": [
      "##########\n",
      "\n",
      "Average Accuracy in ['v']_['parents', 'specialist'] models: 0.721567(+-0.054827)\n",
      "Baseline value: 0.736367\n",
      "Difference from Baseline: -2.01%\n",
      "##########\n",
      "\n",
      "Average Balanced Accuracy in ['v']_['parents', 'specialist'] models: 0.545075 (+-0.134448)\n",
      "Baseline value: 0.569571\n",
      "Difference from Baseline: -4.30%\n",
      "##########\n",
      "\n",
      "Best Values for the current Scenario:\n",
      "Best Accuracy: 0.8144 (session_03_01_v_parents)\n",
      "Compared to baseline: 0.8269 (session_02_01_v_specialist)\n",
      "Difference from Baseline: -1.51%\n",
      "##########\n",
      "\n",
      "Best Balanced Accuracy: 0.8054 (session_03_01_v_specialist)\n",
      "Compared to baseline: 0.7494 (session_03_01_v_specialist)\n",
      "Difference from Baseline: 7.47%\n"
     ]
    }
   ],
   "source": [
    "compare_against_baseline(class_weight_data_results, scenario=['v'], annotation_type=['parents', 'specialist'])"
   ]
  },
  {
   "cell_type": "code",
   "execution_count": 19,
   "id": "38a390aa",
   "metadata": {},
   "outputs": [
    {
     "name": "stdout",
     "output_type": "stream",
     "text": [
      "##########\n",
      "\n",
      "Average Accuracy in ['v']_['specialist'] models: 0.7541(+-0.038282)\n",
      "Baseline value: 0.766642\n",
      "Difference from Baseline: -1.64%\n",
      "##########\n",
      "\n",
      "Average Balanced Accuracy in ['v']_['specialist'] models: 0.5625 (+-0.147097)\n",
      "Baseline value: 0.588525\n",
      "Difference from Baseline: -4.42%\n",
      "##########\n",
      "\n",
      "Best Values for the current Scenario:\n",
      "Best Accuracy: 0.8123 (session_03_01_v_specialist)\n",
      "Compared to baseline: 0.8269 (session_02_01_v_specialist)\n",
      "Difference from Baseline: -1.77%\n",
      "##########\n",
      "\n",
      "Best Balanced Accuracy: 0.8054 (session_03_01_v_specialist)\n",
      "Compared to baseline: 0.7494 (session_03_01_v_specialist)\n",
      "Difference from Baseline: 7.47%\n"
     ]
    }
   ],
   "source": [
    "compare_against_baseline(class_weight_data_results, scenario=['v'], annotation_type=['specialist'])"
   ]
  },
  {
   "cell_type": "code",
   "execution_count": 18,
   "id": "0c3a27fe",
   "metadata": {},
   "outputs": [
    {
     "name": "stdout",
     "output_type": "stream",
     "text": [
      "##########\n",
      "\n",
      "Average Accuracy in ['v']_['parents'] models: 0.689033(+-0.050104)\n",
      "Baseline value: 0.706092\n",
      "Difference from Baseline: -2.42%\n",
      "##########\n",
      "\n",
      "Average Balanced Accuracy in ['v']_['parents'] models: 0.52765 (+-0.124482)\n",
      "Baseline value: 0.550617\n",
      "Difference from Baseline: -4.17%\n",
      "##########\n",
      "\n",
      "Best Values for the current Scenario:\n",
      "Best Accuracy: 0.8144 (session_03_01_v_parents)\n",
      "Compared to baseline: 0.8223 (session_03_01_v_parents)\n",
      "Difference from Baseline: -0.96%\n",
      "##########\n",
      "\n",
      "Best Balanced Accuracy: 0.7632 (session_03_01_v_parents)\n",
      "Compared to baseline: 0.7456 (session_03_01_v_parents)\n",
      "Difference from Baseline: 2.36%\n"
     ]
    }
   ],
   "source": [
    "compare_against_baseline(class_weight_data_results, scenario=['v'], annotation_type=['parents'])"
   ]
  },
  {
   "cell_type": "code",
   "execution_count": 17,
   "id": "2596bd59",
   "metadata": {},
   "outputs": [
    {
     "name": "stdout",
     "output_type": "stream",
     "text": [
      "##########\n",
      "\n",
      "Average Accuracy in ['a']_['parents', 'specialist'] models: 0.582546(+-0.066866)\n",
      "Baseline value: 0.558642\n",
      "Difference from Baseline: 4.28%\n",
      "##########\n",
      "\n",
      "Average Balanced Accuracy in ['a']_['parents', 'specialist'] models: 0.266313 (+-0.035576)\n",
      "Baseline value: 0.27685\n",
      "Difference from Baseline: -3.81%\n",
      "##########\n",
      "\n",
      "Best Values for the current Scenario:\n",
      "Best Accuracy: 0.6901 (session_02_02_a_specialist)\n",
      "Compared to baseline: 0.6865 (participant_02_a_specialist)\n",
      "Difference from Baseline: 0.52%\n",
      "##########\n",
      "\n",
      "Best Balanced Accuracy: 0.3704 (session_02_02_a_parents)\n",
      "Compared to baseline: 0.3751 (session_02_02_a_parents)\n",
      "Difference from Baseline: -1.25%\n"
     ]
    }
   ],
   "source": [
    "compare_against_baseline(class_weight_data_results, scenario=['a'], annotation_type=['parents', 'specialist'])"
   ]
  },
  {
   "cell_type": "code",
   "execution_count": 27,
   "id": "08903ac7",
   "metadata": {},
   "outputs": [
    {
     "name": "stdout",
     "output_type": "stream",
     "text": [
      "##########\n",
      "\n",
      "Average Accuracy in ['a']_['specialist'] models: 0.616775(+-0.0483)\n",
      "Baseline value: 0.573483\n",
      "Difference from Baseline: 7.55%\n",
      "##########\n",
      "\n",
      "Average Balanced Accuracy in ['a']_['specialist'] models: 0.271608 (+-0.037243)\n",
      "Baseline value: 0.279358\n",
      "Difference from Baseline: -2.77%\n",
      "##########\n",
      "\n",
      "Best Values for the current Scenario:\n",
      "Best Accuracy: 0.6901 (session_02_02_a_specialist)\n",
      "Compared to baseline: 0.6865 (participant_02_a_specialist)\n",
      "Difference from Baseline: 0.52%\n",
      "##########\n",
      "\n",
      "Best Balanced Accuracy: 0.3333\n",
      "0.3333\n",
      "0.3333 ( session_03_02_a\n",
      "participant_03_a\n",
      " session_03_01_a_specialist\n",
      "specialist\n",
      "specialist)\n",
      "Compared to baseline: 0.3337 (session_03_01_a_specialist)\n",
      "Difference from Baseline: -0.12%\n"
     ]
    }
   ],
   "source": [
    "compare_against_baseline(class_weight_data_results, scenario=['a'], annotation_type=['specialist'])"
   ]
  },
  {
   "cell_type": "code",
   "execution_count": 15,
   "id": "6b4e050f",
   "metadata": {},
   "outputs": [
    {
     "name": "stdout",
     "output_type": "stream",
     "text": [
      "##########\n",
      "\n",
      "Average Accuracy in ['a']_['parents'] models: 0.548317(+-0.066778)\n",
      "Baseline value: 0.5438\n",
      "Difference from Baseline: 0.83%\n",
      "##########\n",
      "\n",
      "Average Balanced Accuracy in ['a']_['parents'] models: 0.261017 (+-0.034613)\n",
      "Baseline value: 0.274342\n",
      "Difference from Baseline: -4.86%\n",
      "##########\n",
      "\n",
      "Best Values for the current Scenario:\n",
      "Best Accuracy: 0.6378 (session_04_01_a_parents)\n",
      "Compared to baseline: 0.6378 (session_04_01_a_parents)\n",
      "Difference from Baseline: 0.00%\n",
      "##########\n",
      "\n",
      "Best Balanced Accuracy: 0.3704 (session_02_02_a_parents)\n",
      "Compared to baseline: 0.3751 (session_02_02_a_parents)\n",
      "Difference from Baseline: -1.25%\n"
     ]
    }
   ],
   "source": [
    "compare_against_baseline(class_weight_data_results, scenario=['a'], annotation_type=['parents'])"
   ]
  },
  {
   "cell_type": "code",
   "execution_count": 13,
   "id": "85a1ebe6",
   "metadata": {},
   "outputs": [
    {
     "name": "stdout",
     "output_type": "stream",
     "text": [
      "##########\n",
      "\n",
      "Best Values of F1Score:\n",
      "Best F1Score (Blue): 0.7879 (session_03_01_v_specialist)\n",
      "Compared to baseline: 0.7896 (session_03_01_va_late_fusion_parents)\n",
      "Difference from Baseline: -0.22%\n",
      "..........\n",
      "Best F1Score (Green): 0.891 (session_04_01_v_specialist)\n",
      "Compared to baseline: 0.8981 (session_04_01_v_specialist)\n",
      "Difference from Baseline: -0.79%\n",
      "..........\n",
      "Best F1Score (Red): 0.8 (session_03_01_v_parents)\n",
      "Compared to baseline: 0.7778 (session_03_01_v_parents)\n",
      "Difference from Baseline: 2.85%\n",
      "..........\n",
      "Best F1Score (Yellow): 0.705 (session_03_01_v_specialist)\n",
      "Compared to baseline: 0.6857 (session_03_01_va_late_fusion_specialist)\n",
      "Difference from Baseline: 2.81%\n"
     ]
    }
   ],
   "source": [
    "calculate_best_f1_score(class_weight_data_results)"
   ]
  },
  {
   "cell_type": "code",
   "execution_count": 14,
   "id": "18386fdc",
   "metadata": {},
   "outputs": [
    {
     "name": "stdout",
     "output_type": "stream",
     "text": [
      "##########\n",
      "\n",
      "Average F1score (blue) models: 0.386367 (+-0.29758)\n",
      "Baseline value: 0.460484\n",
      "Difference from Baseline: -16.10%\n",
      "##########\n",
      "\n",
      "Average F1score (green) models: 0.782222 (+-0.052349)\n",
      "Baseline value: 0.789448\n",
      "Difference from Baseline: -0.92%\n",
      "##########\n",
      "\n",
      "Average F1score (red) models: 0.171837 (+-0.233471)\n",
      "Baseline value: 0.305869\n",
      "Difference from Baseline: -43.82%\n",
      "##########\n",
      "\n",
      "Average F1score (yellow) models: 0.228822 (+-0.223758)\n",
      "Baseline value: 0.359598\n",
      "Difference from Baseline: -36.37%\n"
     ]
    }
   ],
   "source": [
    "calculate_aggregated_f1_score(class_weight_data_results)"
   ]
  },
  {
   "cell_type": "markdown",
   "id": "f626b50a",
   "metadata": {},
   "source": [
    "# Comments & Conclusions\n",
    "\n",
    "1. "
   ]
  }
 ],
 "metadata": {
  "kernelspec": {
   "display_name": "Python 3 (ipykernel)",
   "language": "python",
   "name": "python3"
  },
  "language_info": {
   "codemirror_mode": {
    "name": "ipython",
    "version": 3
   },
   "file_extension": ".py",
   "mimetype": "text/x-python",
   "name": "python",
   "nbconvert_exporter": "python",
   "pygments_lexer": "ipython3",
   "version": "3.10.4"
  }
 },
 "nbformat": 4,
 "nbformat_minor": 5
}
