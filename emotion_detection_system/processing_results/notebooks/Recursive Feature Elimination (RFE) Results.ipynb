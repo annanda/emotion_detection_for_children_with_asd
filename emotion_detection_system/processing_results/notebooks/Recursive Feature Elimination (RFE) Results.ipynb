{
 "cells": [
  {
   "cell_type": "code",
   "execution_count": 1,
   "id": "732fd167",
   "metadata": {},
   "outputs": [],
   "source": [
    "import os\n",
    "import sys"
   ]
  },
  {
   "cell_type": "code",
   "execution_count": 3,
   "id": "06e196b3",
   "metadata": {},
   "outputs": [],
   "source": [
    "NOTEBOOK_DIR = os.path.dirname(os.path.realpath(\"__file__\"))\n",
    "PROJECT_ROOT = os.path.dirname(NOTEBOOK_DIR)\n",
    "\n",
    "sys.path.append(PROJECT_ROOT) # make my_module available to import\n",
    "\n",
    "# Importing my python module utils\n",
    "from emotion_detection_system.processing_results.information_from_results import *"
   ]
  },
  {
   "cell_type": "code",
   "execution_count": 5,
   "id": "673eb129",
   "metadata": {},
   "outputs": [
    {
     "name": "stdout",
     "output_type": "stream",
     "text": [
      "##########\n",
      "\n",
      "Best Values for the Data Experiment Batch:\n",
      "Best Accuracy: 0.8522 (session_02_01_v_specialist)\n",
      "Compared to baseline: 0.8438 (session_02_01_v_specialist)\n",
      "Difference from Baseline: 1.00%\n",
      "##########\n",
      "\n",
      "Best Balanced Accuracy: 0.7451 (session_03_01_v_parents)\n",
      "Compared to baseline: 0.7469 (session_03_01_v_specialist)\n",
      "Difference from Baseline: -0.24%\n"
     ]
    }
   ],
   "source": [
    "calculate_best_acc(rfe_data_results)"
   ]
  },
  {
   "cell_type": "code",
   "execution_count": 6,
   "id": "0fe8492c",
   "metadata": {
    "scrolled": true
   },
   "outputs": [
    {
     "name": "stdout",
     "output_type": "stream",
     "text": [
      "##########\n",
      "\n",
      "Average Accuracy in ['va_late_fusion', 'va_early_fusion']_['parents', 'specialist'] models: 0.671575(+-0.078146)\n",
      "Baseline value: 0.734521\n",
      "Difference from Baseline: -8.57%\n",
      "##########\n",
      "\n",
      "Average Balanced Accuracy in ['va_late_fusion', 'va_early_fusion']_['parents', 'specialist'] models: 0.419423 (+-0.140644)\n",
      "Baseline value: 0.544356\n",
      "Difference from Baseline: -22.95%\n",
      "##########\n",
      "\n",
      "Best Values for the current Scenario:\n",
      "Best Accuracy: 0.8144 (session_03_01_va_early_fusion_parents)\n",
      "Compared to baseline: 0.8305 (session_02_01_va_early_fusion_specialist)\n",
      "Difference from Baseline: -1.94%\n",
      "##########\n",
      "\n",
      "Best Balanced Accuracy: 0.7125 (session_03_01_va_early_fusion_parents)\n",
      "Compared to baseline: 0.7045 (session_03_01_va_early_fusion_specialist)\n",
      "Difference from Baseline: 1.14%\n"
     ]
    }
   ],
   "source": [
    "compare_against_baseline(rfe_data_results, scenario=['va_late_fusion', 'va_early_fusion'], annotation_type=['parents', 'specialist'])"
   ]
  },
  {
   "cell_type": "code",
   "execution_count": 7,
   "id": "e0495c8e",
   "metadata": {
    "scrolled": true
   },
   "outputs": [
    {
     "name": "stdout",
     "output_type": "stream",
     "text": [
      "##########\n",
      "\n",
      "Average Accuracy in ['va_late_fusion', 'va_early_fusion']_['parents'] models: 0.651971(+-0.066274)\n",
      "Baseline value: 0.70785\n",
      "Difference from Baseline: -7.89%\n",
      "##########\n",
      "\n",
      "Average Balanced Accuracy in ['va_late_fusion', 'va_early_fusion']_['parents'] models: 0.417608 (+-0.137526)\n",
      "Baseline value: 0.527617\n",
      "Difference from Baseline: -20.85%\n",
      "##########\n",
      "\n",
      "Best Values for the current Scenario:\n",
      "Best Accuracy: 0.8144 (session_03_01_va_early_fusion_parents)\n",
      "Compared to baseline: 0.8064\n",
      "0.8064 ( session_03_01_va_late_fusion\n",
      "session_03_01_va_early_fusion_parents\n",
      "parents)\n",
      "Difference from Baseline: 0.99%\n",
      "##########\n",
      "\n",
      "Best Balanced Accuracy: 0.7125 (session_03_01_va_early_fusion_parents)\n",
      "Compared to baseline: 0.6912 (session_03_01_va_early_fusion_parents)\n",
      "Difference from Baseline: 3.08%\n"
     ]
    }
   ],
   "source": [
    "compare_against_baseline(rfe_data_results,scenario=['va_late_fusion', 'va_early_fusion'], annotation_type=['parents'])"
   ]
  },
  {
   "cell_type": "code",
   "execution_count": 8,
   "id": "456a65cf",
   "metadata": {},
   "outputs": [
    {
     "name": "stdout",
     "output_type": "stream",
     "text": [
      "##########\n",
      "\n",
      "Average Accuracy in ['va_late_fusion', 'va_early_fusion']_['specialist'] models: 0.691179(+-0.085351)\n",
      "Baseline value: 0.761192\n",
      "Difference from Baseline: -9.20%\n",
      "##########\n",
      "\n",
      "Average Balanced Accuracy in ['va_late_fusion', 'va_early_fusion']_['specialist'] models: 0.421237 (+-0.146632)\n",
      "Baseline value: 0.561096\n",
      "Difference from Baseline: -24.93%\n",
      "##########\n",
      "\n",
      "Best Values for the current Scenario:\n",
      "Best Accuracy: 0.8125 (session_02_01_va_late_fusion_specialist)\n",
      "Compared to baseline: 0.8305 (session_02_01_va_early_fusion_specialist)\n",
      "Difference from Baseline: -2.17%\n",
      "##########\n",
      "\n",
      "Best Balanced Accuracy: 0.6726 (session_03_01_va_early_fusion_specialist)\n",
      "Compared to baseline: 0.7045 (session_03_01_va_early_fusion_specialist)\n",
      "Difference from Baseline: -4.53%\n"
     ]
    }
   ],
   "source": [
    "compare_against_baseline(rfe_data_results,scenario=['va_late_fusion', 'va_early_fusion'], annotation_type=['specialist'])"
   ]
  },
  {
   "cell_type": "code",
   "execution_count": 9,
   "id": "37cf4fc5",
   "metadata": {},
   "outputs": [
    {
     "name": "stdout",
     "output_type": "stream",
     "text": [
      "##########\n",
      "\n",
      "Average Accuracy in ['va_late_fusion']_['parents', 'specialist'] models: 0.667038(+-0.07613)\n",
      "Baseline value: 0.73255\n",
      "Difference from Baseline: -8.94%\n",
      "##########\n",
      "\n",
      "Average Balanced Accuracy in ['va_late_fusion']_['parents', 'specialist'] models: 0.3983 (+-0.130494)\n",
      "Baseline value: 0.522604\n",
      "Difference from Baseline: -23.79%\n",
      "##########\n",
      "\n",
      "Best Values for the current Scenario:\n",
      "Best Accuracy: 0.8125 (session_02_01_va_late_fusion_specialist)\n",
      "Compared to baseline: 0.8149 (session_02_01_va_late_fusion_specialist)\n",
      "Difference from Baseline: -0.29%\n",
      "##########\n",
      "\n",
      "Best Balanced Accuracy: 0.6653 (session_03_01_va_late_fusion_parents)\n",
      "Compared to baseline: 0.696 (session_03_01_va_late_fusion_specialist)\n",
      "Difference from Baseline: -4.41%\n"
     ]
    }
   ],
   "source": [
    "compare_against_baseline(rfe_data_results, scenario=['va_late_fusion'], annotation_type=['parents', 'specialist'])"
   ]
  },
  {
   "cell_type": "code",
   "execution_count": 10,
   "id": "6c5c85dc",
   "metadata": {},
   "outputs": [
    {
     "name": "stdout",
     "output_type": "stream",
     "text": [
      "##########\n",
      "\n",
      "Average Accuracy in ['va_early_fusion']_['parents', 'specialist'] models: 0.676113(+-0.081489)\n",
      "Baseline value: 0.736492\n",
      "Difference from Baseline: -8.20%\n",
      "##########\n",
      "\n",
      "Average Balanced Accuracy in ['va_early_fusion']_['parents', 'specialist'] models: 0.440546 (+-0.149871)\n",
      "Baseline value: 0.566108\n",
      "Difference from Baseline: -22.18%\n",
      "##########\n",
      "\n",
      "Best Values for the current Scenario:\n",
      "Best Accuracy: 0.8144 (session_03_01_va_early_fusion_parents)\n",
      "Compared to baseline: 0.8305 (session_02_01_va_early_fusion_specialist)\n",
      "Difference from Baseline: -1.94%\n",
      "##########\n",
      "\n",
      "Best Balanced Accuracy: 0.7125 (session_03_01_va_early_fusion_parents)\n",
      "Compared to baseline: 0.7045 (session_03_01_va_early_fusion_specialist)\n",
      "Difference from Baseline: 1.14%\n"
     ]
    }
   ],
   "source": [
    "compare_against_baseline(rfe_data_results, scenario=['va_early_fusion'], annotation_type=['parents', 'specialist'])"
   ]
  },
  {
   "cell_type": "code",
   "execution_count": 11,
   "id": "a82d4d17",
   "metadata": {},
   "outputs": [
    {
     "name": "stdout",
     "output_type": "stream",
     "text": [
      "##########\n",
      "\n",
      "Average Accuracy in ['va_late_fusion']_['parents'] models: 0.647975(+-0.062901)\n",
      "Baseline value: 0.706017\n",
      "Difference from Baseline: -8.22%\n",
      "##########\n",
      "\n",
      "Average Balanced Accuracy in ['va_late_fusion']_['parents'] models: 0.397492 (+-0.132007)\n",
      "Baseline value: 0.510183\n",
      "Difference from Baseline: -22.09%\n",
      "##########\n",
      "\n",
      "Best Values for the current Scenario:\n",
      "Best Accuracy: 0.8041 (session_03_01_va_late_fusion_parents)\n",
      "Compared to baseline: 0.8064 (session_03_01_va_late_fusion_parents)\n",
      "Difference from Baseline: -0.29%\n",
      "##########\n",
      "\n",
      "Best Balanced Accuracy: 0.6653 (session_03_01_va_late_fusion_parents)\n",
      "Compared to baseline: 0.669 (session_03_01_va_late_fusion_parents)\n",
      "Difference from Baseline: -0.55%\n"
     ]
    }
   ],
   "source": [
    "compare_against_baseline(rfe_data_results, scenario=['va_late_fusion'], annotation_type=['parents'])"
   ]
  },
  {
   "cell_type": "code",
   "execution_count": 12,
   "id": "ec3bd4e1",
   "metadata": {},
   "outputs": [
    {
     "name": "stdout",
     "output_type": "stream",
     "text": [
      "##########\n",
      "\n",
      "Average Accuracy in ['va_early_fusion']_['parents'] models: 0.655967(+-0.072059)\n",
      "Baseline value: 0.709683\n",
      "Difference from Baseline: -7.57%\n",
      "##########\n",
      "\n",
      "Average Balanced Accuracy in ['va_early_fusion']_['parents'] models: 0.437725 (+-0.145732)\n",
      "Baseline value: 0.54505\n",
      "Difference from Baseline: -19.69%\n",
      "##########\n",
      "\n",
      "Best Values for the current Scenario:\n",
      "Best Accuracy: 0.8144 (session_03_01_va_early_fusion_parents)\n",
      "Compared to baseline: 0.8064 (session_03_01_va_early_fusion_parents)\n",
      "Difference from Baseline: 0.99%\n",
      "##########\n",
      "\n",
      "Best Balanced Accuracy: 0.7125 (session_03_01_va_early_fusion_parents)\n",
      "Compared to baseline: 0.6912 (session_03_01_va_early_fusion_parents)\n",
      "Difference from Baseline: 3.08%\n"
     ]
    }
   ],
   "source": [
    "compare_against_baseline(rfe_data_results, scenario=['va_early_fusion'], annotation_type=['parents'])"
   ]
  },
  {
   "cell_type": "code",
   "execution_count": 13,
   "id": "165f6173",
   "metadata": {},
   "outputs": [
    {
     "name": "stdout",
     "output_type": "stream",
     "text": [
      "##########\n",
      "\n",
      "Average Accuracy in ['va_late_fusion']_['specialist'] models: 0.6861(+-0.085843)\n",
      "Baseline value: 0.759083\n",
      "Difference from Baseline: -9.61%\n",
      "##########\n",
      "\n",
      "Average Balanced Accuracy in ['va_late_fusion']_['specialist'] models: 0.399108 (+-0.134827)\n",
      "Baseline value: 0.535025\n",
      "Difference from Baseline: -25.40%\n",
      "##########\n",
      "\n",
      "Best Values for the current Scenario:\n",
      "Best Accuracy: 0.8125 (session_02_01_va_late_fusion_specialist)\n",
      "Compared to baseline: 0.8149 (session_02_01_va_late_fusion_specialist)\n",
      "Difference from Baseline: -0.29%\n",
      "##########\n",
      "\n",
      "Best Balanced Accuracy: 0.6432 (session_03_01_va_late_fusion_specialist)\n",
      "Compared to baseline: 0.696 (session_03_01_va_late_fusion_specialist)\n",
      "Difference from Baseline: -7.59%\n"
     ]
    }
   ],
   "source": [
    "compare_against_baseline(rfe_data_results, scenario=['va_late_fusion'], annotation_type=['specialist'])"
   ]
  },
  {
   "cell_type": "code",
   "execution_count": 14,
   "id": "7facfe7d",
   "metadata": {},
   "outputs": [
    {
     "name": "stdout",
     "output_type": "stream",
     "text": [
      "##########\n",
      "\n",
      "Average Accuracy in ['va_early_fusion']_['specialist'] models: 0.696258(+-0.088354)\n",
      "Baseline value: 0.7633\n",
      "Difference from Baseline: -8.78%\n",
      "##########\n",
      "\n",
      "Average Balanced Accuracy in ['va_early_fusion']_['specialist'] models: 0.443367 (+-0.160342)\n",
      "Baseline value: 0.587167\n",
      "Difference from Baseline: -24.49%\n",
      "##########\n",
      "\n",
      "Best Values for the current Scenario:\n",
      "Best Accuracy: 0.8084 (session_02_02_va_early_fusion_specialist)\n",
      "Compared to baseline: 0.8305 (session_02_01_va_early_fusion_specialist)\n",
      "Difference from Baseline: -2.66%\n",
      "##########\n",
      "\n",
      "Best Balanced Accuracy: 0.6726 (session_03_01_va_early_fusion_specialist)\n",
      "Compared to baseline: 0.7045 (session_03_01_va_early_fusion_specialist)\n",
      "Difference from Baseline: -4.53%\n"
     ]
    }
   ],
   "source": [
    "compare_against_baseline(rfe_data_results, scenario=['va_early_fusion'], annotation_type=['specialist'])"
   ]
  },
  {
   "cell_type": "code",
   "execution_count": 15,
   "id": "795c639d",
   "metadata": {},
   "outputs": [
    {
     "name": "stdout",
     "output_type": "stream",
     "text": [
      "##########\n",
      "\n",
      "Average Accuracy in ['v']_['parents', 'specialist'] models: 0.677367(+-0.081147)\n",
      "Baseline value: 0.746779\n",
      "Difference from Baseline: -9.29%\n",
      "##########\n",
      "\n",
      "Average Balanced Accuracy in ['v']_['parents', 'specialist'] models: 0.438708 (+-0.151622)\n",
      "Baseline value: 0.579958\n",
      "Difference from Baseline: -24.36%\n",
      "##########\n",
      "\n",
      "Best Values for the current Scenario:\n",
      "Best Accuracy: 0.8522 (session_02_01_v_specialist)\n",
      "Compared to baseline: 0.8438 (session_02_01_v_specialist)\n",
      "Difference from Baseline: 1.00%\n",
      "##########\n",
      "\n",
      "Best Balanced Accuracy: 0.7451 (session_03_01_v_parents)\n",
      "Compared to baseline: 0.7469 (session_03_01_v_specialist)\n",
      "Difference from Baseline: -0.24%\n"
     ]
    }
   ],
   "source": [
    "compare_against_baseline(rfe_data_results, scenario=['v'], annotation_type=['parents', 'specialist'])"
   ]
  },
  {
   "cell_type": "code",
   "execution_count": 16,
   "id": "38a390aa",
   "metadata": {},
   "outputs": [
    {
     "name": "stdout",
     "output_type": "stream",
     "text": [
      "##########\n",
      "\n",
      "Average Accuracy in ['v']_['specialist'] models: 0.69475(+-0.093724)\n",
      "Baseline value: 0.7759\n",
      "Difference from Baseline: -10.46%\n",
      "##########\n",
      "\n",
      "Average Balanced Accuracy in ['v']_['specialist'] models: 0.435008 (+-0.158697)\n",
      "Baseline value: 0.60095\n",
      "Difference from Baseline: -27.61%\n",
      "##########\n",
      "\n",
      "Best Values for the current Scenario:\n",
      "Best Accuracy: 0.8522 (session_02_01_v_specialist)\n",
      "Compared to baseline: 0.8438 (session_02_01_v_specialist)\n",
      "Difference from Baseline: 1.00%\n",
      "##########\n",
      "\n",
      "Best Balanced Accuracy: 0.6924 (session_03_01_v_specialist)\n",
      "Compared to baseline: 0.7469 (session_03_01_v_specialist)\n",
      "Difference from Baseline: -7.30%\n"
     ]
    }
   ],
   "source": [
    "compare_against_baseline(rfe_data_results, scenario=['v'], annotation_type=['specialist'])"
   ]
  },
  {
   "cell_type": "code",
   "execution_count": 17,
   "id": "0c3a27fe",
   "metadata": {},
   "outputs": [
    {
     "name": "stdout",
     "output_type": "stream",
     "text": [
      "##########\n",
      "\n",
      "Average Accuracy in ['v']_['parents'] models: 0.659983(+-0.065764)\n",
      "Baseline value: 0.717658\n",
      "Difference from Baseline: -8.04%\n",
      "##########\n",
      "\n",
      "Average Balanced Accuracy in ['v']_['parents'] models: 0.442408 (+-0.151175)\n",
      "Baseline value: 0.558967\n",
      "Difference from Baseline: -20.85%\n",
      "##########\n",
      "\n",
      "Best Values for the current Scenario:\n",
      "Best Accuracy: 0.8292 (session_03_01_v_parents)\n",
      "Compared to baseline: 0.8235 (session_03_01_v_parents)\n",
      "Difference from Baseline: 0.69%\n",
      "##########\n",
      "\n",
      "Best Balanced Accuracy: 0.7451 (session_03_01_v_parents)\n",
      "Compared to baseline: 0.7308 (session_03_01_v_parents)\n",
      "Difference from Baseline: 1.96%\n"
     ]
    }
   ],
   "source": [
    "compare_against_baseline(rfe_data_results, scenario=['v'], annotation_type=['parents'])"
   ]
  },
  {
   "cell_type": "code",
   "execution_count": 18,
   "id": "2596bd59",
   "metadata": {},
   "outputs": [
    {
     "name": "stdout",
     "output_type": "stream",
     "text": [
      "##########\n",
      "\n",
      "Average Accuracy in ['a']_['parents', 'specialist'] models: 0.581542(+-0.068473)\n",
      "Baseline value: 0.585779\n",
      "Difference from Baseline: -0.72%\n",
      "##########\n",
      "\n",
      "Average Balanced Accuracy in ['a']_['parents', 'specialist'] models: 0.264542 (+-0.028608)\n",
      "Baseline value: 0.284983\n",
      "Difference from Baseline: -7.17%\n",
      "##########\n",
      "\n",
      "Best Values for the current Scenario:\n",
      "Best Accuracy: 0.6901 (session_02_02_a_specialist)\n",
      "Compared to baseline: 0.6843 (session_02_01_a_specialist)\n",
      "Difference from Baseline: 0.85%\n",
      "##########\n",
      "\n",
      "Best Balanced Accuracy: 0.3333\n",
      "0.3333\n",
      "0.3333 ( session_03_02_a\n",
      "participant_03_a\n",
      " session_03_01_a_specialist\n",
      "specialist\n",
      "specialist)\n",
      "Compared to baseline: 0.4271 (session_02_02_a_parents)\n",
      "Difference from Baseline: -21.96%\n"
     ]
    }
   ],
   "source": [
    "compare_against_baseline(rfe_data_results, scenario=['a'], annotation_type=['parents', 'specialist'])"
   ]
  },
  {
   "cell_type": "code",
   "execution_count": 19,
   "id": "08903ac7",
   "metadata": {},
   "outputs": [
    {
     "name": "stdout",
     "output_type": "stream",
     "text": [
      "##########\n",
      "\n",
      "Average Accuracy in ['a']_['specialist'] models: 0.616017(+-0.049267)\n",
      "Baseline value: 0.618117\n",
      "Difference from Baseline: -0.34%\n",
      "##########\n",
      "\n",
      "Average Balanced Accuracy in ['a']_['specialist'] models: 0.271717 (+-0.037261)\n",
      "Baseline value: 0.288625\n",
      "Difference from Baseline: -5.86%\n",
      "##########\n",
      "\n",
      "Best Values for the current Scenario:\n",
      "Best Accuracy: 0.6901 (session_02_02_a_specialist)\n",
      "Compared to baseline: 0.6843 (session_02_01_a_specialist)\n",
      "Difference from Baseline: 0.85%\n",
      "##########\n",
      "\n",
      "Best Balanced Accuracy: 0.3333\n",
      "0.3333\n",
      "0.3333 ( session_03_02_a\n",
      "participant_03_a\n",
      " session_03_01_a_specialist\n",
      "specialist\n",
      "specialist)\n",
      "Compared to baseline: 0.3341 (session_03_01_a_specialist)\n",
      "Difference from Baseline: -0.24%\n"
     ]
    }
   ],
   "source": [
    "compare_against_baseline(rfe_data_results, scenario=['a'], annotation_type=['specialist'])"
   ]
  },
  {
   "cell_type": "code",
   "execution_count": 20,
   "id": "6b4e050f",
   "metadata": {},
   "outputs": [
    {
     "name": "stdout",
     "output_type": "stream",
     "text": [
      "##########\n",
      "\n",
      "Average Accuracy in ['a']_['parents'] models: 0.547067(+-0.06916)\n",
      "Baseline value: 0.553442\n",
      "Difference from Baseline: -1.15%\n",
      "##########\n",
      "\n",
      "Average Balanced Accuracy in ['a']_['parents'] models: 0.257367 (+-0.014512)\n",
      "Baseline value: 0.281342\n",
      "Difference from Baseline: -8.52%\n",
      "##########\n",
      "\n",
      "Best Values for the current Scenario:\n",
      "Best Accuracy: 0.6378 (session_04_01_a_parents)\n",
      "Compared to baseline: 0.6378 (session_04_01_a_parents)\n",
      "Difference from Baseline: 0.00%\n",
      "##########\n",
      "\n",
      "Best Balanced Accuracy: 0.288\n",
      "0.288 ( session_01_01_a\n",
      "participant_01_a_parents\n",
      "parents)\n",
      "Compared to baseline: 0.4271 (session_02_02_a_parents)\n",
      "Difference from Baseline: -32.57%\n"
     ]
    }
   ],
   "source": [
    "compare_against_baseline(rfe_data_results, scenario=['a'], annotation_type=['parents'])"
   ]
  },
  {
   "cell_type": "code",
   "execution_count": 21,
   "id": "85a1ebe6",
   "metadata": {},
   "outputs": [
    {
     "name": "stdout",
     "output_type": "stream",
     "text": [
      "##########\n",
      "\n",
      "Best Values of F1Score:\n",
      "Best F1Score (Blue): 0.7847 (session_02_01_v_specialist)\n",
      "Compared to baseline: 0.7826 (session_03_01_va_late_fusion_parents)\n",
      "Difference from Baseline: 0.27%\n",
      "..........\n",
      "Best F1Score (Green): 0.9158 (session_02_01_v_specialist)\n",
      "Compared to baseline: 0.9109 (session_02_01_v_specialist)\n",
      "Difference from Baseline: 0.54%\n",
      "..........\n",
      "Best F1Score (Red): 0.7527 (session_03_01_v_parents)\n",
      "Compared to baseline: 0.7733 (session_04_01_v_specialist)\n",
      "Difference from Baseline: -2.66%\n",
      "..........\n",
      "Best F1Score (Yellow): 0.6327 (session_03_01_v_parents)\n",
      "Compared to baseline: 0.6935 (session_04_01_v_specialist)\n",
      "Difference from Baseline: -8.77%\n"
     ]
    }
   ],
   "source": [
    "calculate_best_f1_score(rfe_data_results)"
   ]
  },
  {
   "cell_type": "code",
   "execution_count": 22,
   "id": "18386fdc",
   "metadata": {},
   "outputs": [
    {
     "name": "stdout",
     "output_type": "stream",
     "text": [
      "##########\n",
      "\n",
      "Average F1score (blue) models: 0.310993 (+-0.301794)\n",
      "Baseline value: 0.481688\n",
      "Difference from Baseline: -35.44%\n",
      "##########\n",
      "\n",
      "Average F1score (green) models: 0.773965 (+-0.058879)\n",
      "Baseline value: 0.804024\n",
      "Difference from Baseline: -3.74%\n",
      "##########\n",
      "\n",
      "Average F1score (red) models: 0.156945 (+-0.203859)\n",
      "Baseline value: 0.330767\n",
      "Difference from Baseline: -52.55%\n",
      "##########\n",
      "\n",
      "Average F1score (yellow) models: 0.195474 (+-0.217827)\n",
      "Baseline value: 0.375693\n",
      "Difference from Baseline: -47.97%\n"
     ]
    }
   ],
   "source": [
    "calculate_aggregated_f1_score(rfe_data_results)"
   ]
  },
  {
   "cell_type": "markdown",
   "id": "f626b50a",
   "metadata": {},
   "source": [
    "# Comments & Conclusions\n",
    "\n",
    "1. "
   ]
  }
 ],
 "metadata": {
  "kernelspec": {
   "display_name": "Python 3 (ipykernel)",
   "language": "python",
   "name": "python3"
  },
  "language_info": {
   "codemirror_mode": {
    "name": "ipython",
    "version": 3
   },
   "file_extension": ".py",
   "mimetype": "text/x-python",
   "name": "python",
   "nbconvert_exporter": "python",
   "pygments_lexer": "ipython3",
   "version": "3.10.4"
  }
 },
 "nbformat": 4,
 "nbformat_minor": 5
}
