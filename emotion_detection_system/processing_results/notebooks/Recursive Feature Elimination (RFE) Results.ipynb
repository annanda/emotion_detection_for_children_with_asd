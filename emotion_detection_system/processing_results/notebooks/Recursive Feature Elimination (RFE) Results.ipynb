{
 "cells": [
  {
   "cell_type": "code",
   "execution_count": 2,
   "id": "732fd167",
   "metadata": {},
   "outputs": [],
   "source": [
    "import os\n",
    "import sys"
   ]
  },
  {
   "cell_type": "code",
   "execution_count": 5,
   "id": "06e196b3",
   "metadata": {},
   "outputs": [],
   "source": [
    "NOTEBOOK_DIR = os.path.dirname(os.path.realpath(\"__file__\"))\n",
    "PROJECT_ROOT = os.path.dirname(NOTEBOOK_DIR)\n",
    "\n",
    "sys.path.append(PROJECT_ROOT) # make my_module available to import\n",
    "\n",
    "# Importing my python module utils\n",
    "from emotion_detection_system.processing_results.information_from_results import *"
   ]
  },
  {
   "cell_type": "code",
   "execution_count": 8,
   "id": "673eb129",
   "metadata": {},
   "outputs": [
    {
     "name": "stdout",
     "output_type": "stream",
     "text": [
      "##########\n",
      "\n",
      "Best Values for the Data Experiment Batch:\n",
      "Best Accuracy: 0.8522 (session_02_01_v_specialist)\n",
      "Compared to baseline: 0.8269 (session_02_01_v_specialist)\n",
      "Difference from Baseline: 3.06%\n",
      "##########\n",
      "\n",
      "Best Balanced Accuracy: 0.7451 (session_03_01_v_parents)\n",
      "Compared to baseline: 0.7494 (session_03_01_v_specialist)\n",
      "Difference from Baseline: -0.57%\n"
     ]
    }
   ],
   "source": [
    "calculate_best_acc(rfe_data_results)"
   ]
  },
  {
   "cell_type": "code",
   "execution_count": 9,
   "id": "0fe8492c",
   "metadata": {
    "scrolled": true
   },
   "outputs": [
    {
     "name": "stdout",
     "output_type": "stream",
     "text": [
      "##########\n",
      "\n",
      "Average Accuracy in ['va_late_fusion', 'va_early_fusion']_['parents', 'specialist'] models: 0.675513(+-0.077045)\n",
      "Baseline value: 0.727333\n",
      "Difference from Baseline: -7.12%\n",
      "##########\n",
      "\n",
      "Average Balanced Accuracy in ['va_late_fusion', 'va_early_fusion']_['parents', 'specialist'] models: 0.42668 (+-0.139167)\n",
      "Baseline value: 0.527452\n",
      "Difference from Baseline: -19.11%\n",
      "##########\n",
      "\n",
      "Best Values for the current Scenario:\n",
      "Best Accuracy: 0.8144 (session_03_01_va_early_fusion_parents)\n",
      "Compared to baseline: 0.8248 (session_03_01_va_late_fusion_specialist)\n",
      "Difference from Baseline: -1.26%\n",
      "##########\n",
      "\n",
      "Best Balanced Accuracy: 0.7125 (session_03_01_va_early_fusion_parents)\n",
      "Compared to baseline: 0.7451 (session_03_01_va_late_fusion_specialist)\n",
      "Difference from Baseline: -4.38%\n"
     ]
    }
   ],
   "source": [
    "compare_against_baseline(rfe_data_results, scenario=['va_late_fusion', 'va_early_fusion'], annotation_type=['parents', 'specialist'])"
   ]
  },
  {
   "cell_type": "code",
   "execution_count": 10,
   "id": "e0495c8e",
   "metadata": {
    "scrolled": true
   },
   "outputs": [
    {
     "name": "stdout",
     "output_type": "stream",
     "text": [
      "##########\n",
      "\n",
      "Average Accuracy in ['va_late_fusion', 'va_early_fusion']_['parents'] models: 0.656678(+-0.063529)\n",
      "Baseline value: 0.701013\n",
      "Difference from Baseline: -6.32%\n",
      "##########\n",
      "\n",
      "Average Balanced Accuracy in ['va_late_fusion', 'va_early_fusion']_['parents'] models: 0.424678 (+-0.136085)\n",
      "Baseline value: 0.513558\n",
      "Difference from Baseline: -17.31%\n",
      "##########\n",
      "\n",
      "Best Values for the current Scenario:\n",
      "Best Accuracy: 0.8144 (session_03_01_va_early_fusion_parents)\n",
      "Compared to baseline: 0.8121 (session_03_01_va_late_fusion_parents)\n",
      "Difference from Baseline: 0.28%\n",
      "##########\n",
      "\n",
      "Best Balanced Accuracy: 0.7125 (session_03_01_va_early_fusion_parents)\n",
      "Compared to baseline: 0.6917 (session_03_01_va_late_fusion_parents)\n",
      "Difference from Baseline: 3.01%\n"
     ]
    }
   ],
   "source": [
    "compare_against_baseline(rfe_data_results,scenario=['va_late_fusion', 'va_early_fusion'], annotation_type=['parents'])"
   ]
  },
  {
   "cell_type": "code",
   "execution_count": 11,
   "id": "456a65cf",
   "metadata": {},
   "outputs": [
    {
     "name": "stdout",
     "output_type": "stream",
     "text": [
      "##########\n",
      "\n",
      "Average Accuracy in ['va_late_fusion', 'va_early_fusion']_['specialist'] models: 0.694348(+-0.085813)\n",
      "Baseline value: 0.753654\n",
      "Difference from Baseline: -7.87%\n",
      "##########\n",
      "\n",
      "Average Balanced Accuracy in ['va_late_fusion', 'va_early_fusion']_['specialist'] models: 0.428683 (+-0.145215)\n",
      "Baseline value: 0.541346\n",
      "Difference from Baseline: -20.81%\n",
      "##########\n",
      "\n",
      "Best Values for the current Scenario:\n",
      "Best Accuracy: 0.8125 (session_02_01_va_late_fusion_specialist)\n",
      "Compared to baseline: 0.8248 (session_03_01_va_late_fusion_specialist)\n",
      "Difference from Baseline: -1.49%\n",
      "##########\n",
      "\n",
      "Best Balanced Accuracy: 0.6726 (session_03_01_va_early_fusion_specialist)\n",
      "Compared to baseline: 0.7451 (session_03_01_va_late_fusion_specialist)\n",
      "Difference from Baseline: -9.73%\n"
     ]
    }
   ],
   "source": [
    "compare_against_baseline(rfe_data_results,scenario=['va_late_fusion', 'va_early_fusion'], annotation_type=['specialist'])"
   ]
  },
  {
   "cell_type": "code",
   "execution_count": 12,
   "id": "37cf4fc5",
   "metadata": {},
   "outputs": [
    {
     "name": "stdout",
     "output_type": "stream",
     "text": [
      "##########\n",
      "\n",
      "Average Accuracy in ['va_late_fusion']_['parents', 'specialist'] models: 0.667038(+-0.07613)\n",
      "Baseline value: 0.730738\n",
      "Difference from Baseline: -8.72%\n",
      "##########\n",
      "\n",
      "Average Balanced Accuracy in ['va_late_fusion']_['parents', 'specialist'] models: 0.3983 (+-0.130494)\n",
      "Baseline value: 0.527567\n",
      "Difference from Baseline: -24.50%\n",
      "##########\n",
      "\n",
      "Best Values for the current Scenario:\n",
      "Best Accuracy: 0.8125 (session_02_01_va_late_fusion_specialist)\n",
      "Compared to baseline: 0.8248 (session_03_01_va_late_fusion_specialist)\n",
      "Difference from Baseline: -1.49%\n",
      "##########\n",
      "\n",
      "Best Balanced Accuracy: 0.6653 (session_03_01_va_late_fusion_parents)\n",
      "Compared to baseline: 0.7451 (session_03_01_va_late_fusion_specialist)\n",
      "Difference from Baseline: -10.71%\n"
     ]
    }
   ],
   "source": [
    "compare_against_baseline(rfe_data_results, scenario=['va_late_fusion'], annotation_type=['parents', 'specialist'])"
   ]
  },
  {
   "cell_type": "code",
   "execution_count": 13,
   "id": "6c5c85dc",
   "metadata": {},
   "outputs": [
    {
     "name": "stdout",
     "output_type": "stream",
     "text": [
      "##########\n",
      "\n",
      "Average Accuracy in ['va_early_fusion']_['parents', 'specialist'] models: 0.684759(+-0.078743)\n",
      "Baseline value: 0.723929\n",
      "Difference from Baseline: -5.41%\n",
      "##########\n",
      "\n",
      "Average Balanced Accuracy in ['va_early_fusion']_['parents', 'specialist'] models: 0.457641 (+-0.144659)\n",
      "Baseline value: 0.527338\n",
      "Difference from Baseline: -13.22%\n",
      "##########\n",
      "\n",
      "Best Values for the current Scenario:\n",
      "Best Accuracy: 0.8144 (session_03_01_va_early_fusion_parents)\n",
      "Compared to baseline: 0.8041 (session_03_01_va_early_fusion_parents)\n",
      "Difference from Baseline: 1.28%\n",
      "##########\n",
      "\n",
      "Best Balanced Accuracy: 0.7125 (session_03_01_va_early_fusion_parents)\n",
      "Compared to baseline: 0.6834 (session_03_01_va_early_fusion_specialist)\n",
      "Difference from Baseline: 4.26%\n"
     ]
    }
   ],
   "source": [
    "compare_against_baseline(rfe_data_results, scenario=['va_early_fusion'], annotation_type=['parents', 'specialist'])"
   ]
  },
  {
   "cell_type": "code",
   "execution_count": 14,
   "id": "a82d4d17",
   "metadata": {},
   "outputs": [
    {
     "name": "stdout",
     "output_type": "stream",
     "text": [
      "##########\n",
      "\n",
      "Average Accuracy in ['va_late_fusion']_['parents'] models: 0.647975(+-0.062901)\n",
      "Baseline value: 0.703833\n",
      "Difference from Baseline: -7.94%\n",
      "##########\n",
      "\n",
      "Average Balanced Accuracy in ['va_late_fusion']_['parents'] models: 0.397492 (+-0.132007)\n",
      "Baseline value: 0.509167\n",
      "Difference from Baseline: -21.93%\n",
      "##########\n",
      "\n",
      "Best Values for the current Scenario:\n",
      "Best Accuracy: 0.8041 (session_03_01_va_late_fusion_parents)\n",
      "Compared to baseline: 0.8121 (session_03_01_va_late_fusion_parents)\n",
      "Difference from Baseline: -0.99%\n",
      "##########\n",
      "\n",
      "Best Balanced Accuracy: 0.6653 (session_03_01_va_late_fusion_parents)\n",
      "Compared to baseline: 0.6917 (session_03_01_va_late_fusion_parents)\n",
      "Difference from Baseline: -3.82%\n"
     ]
    }
   ],
   "source": [
    "compare_against_baseline(rfe_data_results, scenario=['va_late_fusion'], annotation_type=['parents'])"
   ]
  },
  {
   "cell_type": "code",
   "execution_count": 15,
   "id": "ec3bd4e1",
   "metadata": {},
   "outputs": [
    {
     "name": "stdout",
     "output_type": "stream",
     "text": [
      "##########\n",
      "\n",
      "Average Accuracy in ['va_early_fusion']_['parents'] models: 0.666173(+-0.065855)\n",
      "Baseline value: 0.698192\n",
      "Difference from Baseline: -4.59%\n",
      "##########\n",
      "\n",
      "Average Balanced Accuracy in ['va_early_fusion']_['parents'] models: 0.454336 (+-0.140425)\n",
      "Baseline value: 0.51795\n",
      "Difference from Baseline: -12.28%\n",
      "##########\n",
      "\n",
      "Best Values for the current Scenario:\n",
      "Best Accuracy: 0.8144 (session_03_01_va_early_fusion_parents)\n",
      "Compared to baseline: 0.8041 (session_03_01_va_early_fusion_parents)\n",
      "Difference from Baseline: 1.28%\n",
      "##########\n",
      "\n",
      "Best Balanced Accuracy: 0.7125 (session_03_01_va_early_fusion_parents)\n",
      "Compared to baseline: 0.6737 (session_03_01_va_early_fusion_parents)\n",
      "Difference from Baseline: 5.76%\n"
     ]
    }
   ],
   "source": [
    "compare_against_baseline(rfe_data_results, scenario=['va_early_fusion'], annotation_type=['parents'])"
   ]
  },
  {
   "cell_type": "code",
   "execution_count": 16,
   "id": "165f6173",
   "metadata": {},
   "outputs": [
    {
     "name": "stdout",
     "output_type": "stream",
     "text": [
      "##########\n",
      "\n",
      "Average Accuracy in ['va_late_fusion']_['specialist'] models: 0.6861(+-0.085843)\n",
      "Baseline value: 0.757642\n",
      "Difference from Baseline: -9.44%\n",
      "##########\n",
      "\n",
      "Average Balanced Accuracy in ['va_late_fusion']_['specialist'] models: 0.399108 (+-0.134827)\n",
      "Baseline value: 0.545967\n",
      "Difference from Baseline: -26.90%\n",
      "##########\n",
      "\n",
      "Best Values for the current Scenario:\n",
      "Best Accuracy: 0.8125 (session_02_01_va_late_fusion_specialist)\n",
      "Compared to baseline: 0.8248 (session_03_01_va_late_fusion_specialist)\n",
      "Difference from Baseline: -1.49%\n",
      "##########\n",
      "\n",
      "Best Balanced Accuracy: 0.6432 (session_03_01_va_late_fusion_specialist)\n",
      "Compared to baseline: 0.7451 (session_03_01_va_late_fusion_specialist)\n",
      "Difference from Baseline: -13.68%\n"
     ]
    }
   ],
   "source": [
    "compare_against_baseline(rfe_data_results, scenario=['va_late_fusion'], annotation_type=['specialist'])"
   ]
  },
  {
   "cell_type": "code",
   "execution_count": 17,
   "id": "7facfe7d",
   "metadata": {},
   "outputs": [
    {
     "name": "stdout",
     "output_type": "stream",
     "text": [
      "##########\n",
      "\n",
      "Average Accuracy in ['va_early_fusion']_['specialist'] models: 0.703345(+-0.089017)\n",
      "Baseline value: 0.749667\n",
      "Difference from Baseline: -6.18%\n",
      "##########\n",
      "\n",
      "Average Balanced Accuracy in ['va_early_fusion']_['specialist'] models: 0.460945 (+-0.155569)\n",
      "Baseline value: 0.536725\n",
      "Difference from Baseline: -14.12%\n",
      "##########\n",
      "\n",
      "Best Values for the current Scenario:\n",
      "Best Accuracy: 0.8084 (session_02_02_va_early_fusion_specialist)\n",
      "Compared to baseline: 0.8032 (session_03_01_va_early_fusion_specialist)\n",
      "Difference from Baseline: 0.65%\n",
      "##########\n",
      "\n",
      "Best Balanced Accuracy: 0.6726 (session_03_01_va_early_fusion_specialist)\n",
      "Compared to baseline: 0.6834 (session_03_01_va_early_fusion_specialist)\n",
      "Difference from Baseline: -1.58%\n"
     ]
    }
   ],
   "source": [
    "compare_against_baseline(rfe_data_results, scenario=['va_early_fusion'], annotation_type=['specialist'])"
   ]
  },
  {
   "cell_type": "code",
   "execution_count": 18,
   "id": "795c639d",
   "metadata": {},
   "outputs": [
    {
     "name": "stdout",
     "output_type": "stream",
     "text": [
      "##########\n",
      "\n",
      "Average Accuracy in ['v']_['parents', 'specialist'] models: 0.677367(+-0.081147)\n",
      "Baseline value: 0.736367\n",
      "Difference from Baseline: -8.01%\n",
      "##########\n",
      "\n",
      "Average Balanced Accuracy in ['v']_['parents', 'specialist'] models: 0.438708 (+-0.151622)\n",
      "Baseline value: 0.569571\n",
      "Difference from Baseline: -22.98%\n",
      "##########\n",
      "\n",
      "Best Values for the current Scenario:\n",
      "Best Accuracy: 0.8522 (session_02_01_v_specialist)\n",
      "Compared to baseline: 0.8269 (session_02_01_v_specialist)\n",
      "Difference from Baseline: 3.06%\n",
      "##########\n",
      "\n",
      "Best Balanced Accuracy: 0.7451 (session_03_01_v_parents)\n",
      "Compared to baseline: 0.7494 (session_03_01_v_specialist)\n",
      "Difference from Baseline: -0.57%\n"
     ]
    }
   ],
   "source": [
    "compare_against_baseline(rfe_data_results, scenario=['v'], annotation_type=['parents', 'specialist'])"
   ]
  },
  {
   "cell_type": "code",
   "execution_count": 19,
   "id": "38a390aa",
   "metadata": {},
   "outputs": [
    {
     "name": "stdout",
     "output_type": "stream",
     "text": [
      "##########\n",
      "\n",
      "Average Accuracy in ['v']_['specialist'] models: 0.69475(+-0.093724)\n",
      "Baseline value: 0.766642\n",
      "Difference from Baseline: -9.38%\n",
      "##########\n",
      "\n",
      "Average Balanced Accuracy in ['v']_['specialist'] models: 0.435008 (+-0.158697)\n",
      "Baseline value: 0.588525\n",
      "Difference from Baseline: -26.08%\n",
      "##########\n",
      "\n",
      "Best Values for the current Scenario:\n",
      "Best Accuracy: 0.8522 (session_02_01_v_specialist)\n",
      "Compared to baseline: 0.8269 (session_02_01_v_specialist)\n",
      "Difference from Baseline: 3.06%\n",
      "##########\n",
      "\n",
      "Best Balanced Accuracy: 0.6924 (session_03_01_v_specialist)\n",
      "Compared to baseline: 0.7494 (session_03_01_v_specialist)\n",
      "Difference from Baseline: -7.61%\n"
     ]
    }
   ],
   "source": [
    "compare_against_baseline(rfe_data_results, scenario=['v'], annotation_type=['specialist'])"
   ]
  },
  {
   "cell_type": "code",
   "execution_count": 20,
   "id": "0c3a27fe",
   "metadata": {},
   "outputs": [
    {
     "name": "stdout",
     "output_type": "stream",
     "text": [
      "##########\n",
      "\n",
      "Average Accuracy in ['v']_['parents'] models: 0.659983(+-0.065764)\n",
      "Baseline value: 0.706092\n",
      "Difference from Baseline: -6.53%\n",
      "##########\n",
      "\n",
      "Average Balanced Accuracy in ['v']_['parents'] models: 0.442408 (+-0.151175)\n",
      "Baseline value: 0.550617\n",
      "Difference from Baseline: -19.65%\n",
      "##########\n",
      "\n",
      "Best Values for the current Scenario:\n",
      "Best Accuracy: 0.8292 (session_03_01_v_parents)\n",
      "Compared to baseline: 0.8223 (session_03_01_v_parents)\n",
      "Difference from Baseline: 0.84%\n",
      "##########\n",
      "\n",
      "Best Balanced Accuracy: 0.7451 (session_03_01_v_parents)\n",
      "Compared to baseline: 0.7456 (session_03_01_v_parents)\n",
      "Difference from Baseline: -0.07%\n"
     ]
    }
   ],
   "source": [
    "compare_against_baseline(rfe_data_results, scenario=['v'], annotation_type=['parents'])"
   ]
  },
  {
   "cell_type": "code",
   "execution_count": 21,
   "id": "2596bd59",
   "metadata": {},
   "outputs": [
    {
     "name": "stdout",
     "output_type": "stream",
     "text": [
      "##########\n",
      "\n",
      "Average Accuracy in ['a']_['parents', 'specialist'] models: 0.581542(+-0.068473)\n",
      "Baseline value: 0.558642\n",
      "Difference from Baseline: 4.10%\n",
      "##########\n",
      "\n",
      "Average Balanced Accuracy in ['a']_['parents', 'specialist'] models: 0.264542 (+-0.028608)\n",
      "Baseline value: 0.27685\n",
      "Difference from Baseline: -4.45%\n",
      "##########\n",
      "\n",
      "Best Values for the current Scenario:\n",
      "Best Accuracy: 0.6901 (session_02_02_a_specialist)\n",
      "Compared to baseline: 0.6865 (participant_02_a_specialist)\n",
      "Difference from Baseline: 0.52%\n",
      "##########\n",
      "\n",
      "Best Balanced Accuracy: 0.3333\n",
      "0.3333\n",
      "0.3333 ( session_03_02_a\n",
      "participant_03_a\n",
      " session_03_01_a_specialist\n",
      "specialist\n",
      "specialist)\n",
      "Compared to baseline: 0.3751 (session_02_02_a_parents)\n",
      "Difference from Baseline: -11.14%\n"
     ]
    }
   ],
   "source": [
    "compare_against_baseline(rfe_data_results, scenario=['a'], annotation_type=['parents', 'specialist'])"
   ]
  },
  {
   "cell_type": "code",
   "execution_count": 22,
   "id": "08903ac7",
   "metadata": {},
   "outputs": [
    {
     "name": "stdout",
     "output_type": "stream",
     "text": [
      "##########\n",
      "\n",
      "Average Accuracy in ['a']_['specialist'] models: 0.616017(+-0.049267)\n",
      "Baseline value: 0.573483\n",
      "Difference from Baseline: 7.42%\n",
      "##########\n",
      "\n",
      "Average Balanced Accuracy in ['a']_['specialist'] models: 0.271717 (+-0.037261)\n",
      "Baseline value: 0.279358\n",
      "Difference from Baseline: -2.74%\n",
      "##########\n",
      "\n",
      "Best Values for the current Scenario:\n",
      "Best Accuracy: 0.6901 (session_02_02_a_specialist)\n",
      "Compared to baseline: 0.6865 (participant_02_a_specialist)\n",
      "Difference from Baseline: 0.52%\n",
      "##########\n",
      "\n",
      "Best Balanced Accuracy: 0.3333\n",
      "0.3333\n",
      "0.3333 ( session_03_02_a\n",
      "participant_03_a\n",
      " session_03_01_a_specialist\n",
      "specialist\n",
      "specialist)\n",
      "Compared to baseline: 0.3337 (session_03_01_a_specialist)\n",
      "Difference from Baseline: -0.12%\n"
     ]
    }
   ],
   "source": [
    "compare_against_baseline(rfe_data_results, scenario=['a'], annotation_type=['specialist'])"
   ]
  },
  {
   "cell_type": "code",
   "execution_count": 23,
   "id": "6b4e050f",
   "metadata": {},
   "outputs": [
    {
     "name": "stdout",
     "output_type": "stream",
     "text": [
      "##########\n",
      "\n",
      "Average Accuracy in ['a']_['parents'] models: 0.547067(+-0.06916)\n",
      "Baseline value: 0.5438\n",
      "Difference from Baseline: 0.60%\n",
      "##########\n",
      "\n",
      "Average Balanced Accuracy in ['a']_['parents'] models: 0.257367 (+-0.014512)\n",
      "Baseline value: 0.274342\n",
      "Difference from Baseline: -6.19%\n",
      "##########\n",
      "\n",
      "Best Values for the current Scenario:\n",
      "Best Accuracy: 0.6378 (session_04_01_a_parents)\n",
      "Compared to baseline: 0.6378 (session_04_01_a_parents)\n",
      "Difference from Baseline: 0.00%\n",
      "##########\n",
      "\n",
      "Best Balanced Accuracy: 0.288\n",
      "0.288 ( session_01_01_a\n",
      "participant_01_a_parents\n",
      "parents)\n",
      "Compared to baseline: 0.3751 (session_02_02_a_parents)\n",
      "Difference from Baseline: -23.22%\n"
     ]
    }
   ],
   "source": [
    "compare_against_baseline(rfe_data_results, scenario=['a'], annotation_type=['parents'])"
   ]
  },
  {
   "cell_type": "code",
   "execution_count": 24,
   "id": "85a1ebe6",
   "metadata": {},
   "outputs": [
    {
     "name": "stdout",
     "output_type": "stream",
     "text": [
      "##########\n",
      "\n",
      "Best Values of F1Score:\n",
      "Best F1Score (Blue): 0.7847 (session_02_01_v_specialist)\n",
      "Compared to baseline: 0.7896 (session_03_01_va_late_fusion_parents)\n",
      "Difference from Baseline: -0.62%\n",
      "..........\n",
      "Best F1Score (Green): 0.9158 (session_02_01_v_specialist)\n",
      "Compared to baseline: 0.8981 (session_04_01_v_specialist)\n",
      "Difference from Baseline: 1.97%\n",
      "..........\n",
      "Best F1Score (Red): 0.7527 (session_03_01_v_parents)\n",
      "Compared to baseline: 0.7778 (session_03_01_v_parents)\n",
      "Difference from Baseline: -3.23%\n",
      "..........\n",
      "Best F1Score (Yellow): 0.6327 (session_03_01_v_parents)\n",
      "Compared to baseline: 0.6857 (session_03_01_va_late_fusion_specialist)\n",
      "Difference from Baseline: -7.73%\n"
     ]
    }
   ],
   "source": [
    "calculate_best_f1_score(rfe_data_results)"
   ]
  },
  {
   "cell_type": "code",
   "execution_count": 25,
   "id": "18386fdc",
   "metadata": {},
   "outputs": [
    {
     "name": "stdout",
     "output_type": "stream",
     "text": [
      "##########\n",
      "\n",
      "Average F1score (blue) models: 0.317048 (+-0.302068)\n",
      "Baseline value: 0.460484\n",
      "Difference from Baseline: -31.15%\n",
      "##########\n",
      "\n",
      "Average F1score (green) models: 0.774813 (+-0.059051)\n",
      "Baseline value: 0.789448\n",
      "Difference from Baseline: -1.85%\n",
      "##########\n",
      "\n",
      "Average F1score (red) models: 0.160773 (+-0.204845)\n",
      "Baseline value: 0.305869\n",
      "Difference from Baseline: -47.44%\n",
      "##########\n",
      "\n",
      "Average F1score (yellow) models: 0.199633 (+-0.218242)\n",
      "Baseline value: 0.359598\n",
      "Difference from Baseline: -44.48%\n"
     ]
    }
   ],
   "source": [
    "calculate_aggregated_f1_score(rfe_data_results)"
   ]
  },
  {
   "cell_type": "markdown",
   "id": "f626b50a",
   "metadata": {},
   "source": [
    "# Comments & Conclusions\n",
    "\n",
    "1. "
   ]
  }
 ],
 "metadata": {
  "kernelspec": {
   "display_name": "Python 3 (ipykernel)",
   "language": "python",
   "name": "python3"
  },
  "language_info": {
   "codemirror_mode": {
    "name": "ipython",
    "version": 3
   },
   "file_extension": ".py",
   "mimetype": "text/x-python",
   "name": "python",
   "nbconvert_exporter": "python",
   "pygments_lexer": "ipython3",
   "version": "3.10.4"
  }
 },
 "nbformat": 4,
 "nbformat_minor": 5
}
