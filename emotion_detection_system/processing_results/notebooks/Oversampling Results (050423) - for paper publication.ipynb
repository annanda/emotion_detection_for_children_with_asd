{
 "cells": [
  {
   "cell_type": "code",
   "execution_count": 13,
   "id": "732fd167",
   "metadata": {},
   "outputs": [],
   "source": [
    "import os\n",
    "import sys"
   ]
  },
  {
   "cell_type": "code",
   "execution_count": 14,
   "id": "06e196b3",
   "metadata": {},
   "outputs": [],
   "source": [
    "NOTEBOOK_DIR = os.path.dirname(os.path.realpath(\"__file__\"))\n",
    "PROJECT_ROOT = os.path.dirname(NOTEBOOK_DIR)\n",
    "\n",
    "sys.path.append(PROJECT_ROOT) # make my_module available to import\n",
    "\n",
    "# Importing my python module utils\n",
    "from emotion_detection_system.processing_results.information_from_results import *"
   ]
  },
  {
   "cell_type": "markdown",
   "id": "789f1f54",
   "metadata": {},
   "source": [
    "# Dataset Subsets (A total of 48 subsets)\n",
    "\n",
    "- ### All data (general models: 4 models)\n",
    "\n",
    "- ### Data from Each Participant separately (specific models: 16 models)\n",
    "\n",
    "- ### Data from Each Session separately (highly specific models: 28 models)"
   ]
  },
  {
   "cell_type": "markdown",
   "id": "9252b2c1",
   "metadata": {},
   "source": [
    "## Results Multimodal (parents and specialist): Generic Models"
   ]
  },
  {
   "cell_type": "code",
   "execution_count": 4,
   "id": "39451ac9",
   "metadata": {
    "scrolled": false
   },
   "outputs": [
    {
     "name": "stdout",
     "output_type": "stream",
     "text": [
      "..........\n",
      "Average Accuracy in all_data_['va_late_fusion', 'va_early_fusion']_['parents', 'specialist'] models: 0.63745(+-0.031203)\n",
      "Baseline value in all_data_['va_late_fusion', 'va_early_fusion']_['parents', 'specialist'] models: 0.68245\n",
      "Difference from Baseline: -6.59%\n",
      "..........\n",
      "Average Balanced Accuracy in all_data_['va_late_fusion', 'va_early_fusion']_['parents', 'specialist'] models: 0.64585 (+-0.03628)\n",
      "Baseline value in all_data_['va_late_fusion', 'va_early_fusion']_['parents', 'specialist'] models: 0.4542\n",
      "Difference from Baseline: 42.20%\n",
      "..........\n",
      "Best Values for the current Scenario:\n",
      "..........\n",
      "Best Accuracy: 0.6752 (all_data_va_late_fusion_specialist)\n",
      "Accuracy of the best model in baseline: 0.7076 (all_data_va_late_fusion_specialist)\n",
      "\n",
      "Best Accuracy (baseline): 0.7099 (all_data_va_early_fusion_specialist)\n",
      "Accuracy of the best baseline model in this scenario: 0.6507 (all_data_va_early_fusion_specialist)\n",
      "\n",
      "Difference of Best Acc Value between Scenario and Baseline: -4.89%\n",
      "..........\n",
      "Best Balanced Accuracy: 0.6878 (all_data_va_late_fusion_specialist)\n",
      "Balanced Accuracy of the best model in baseline: 0.4201 (all_data_va_late_fusion_specialist)\n",
      "\n",
      "Best Balanced Accuracy (baseline): 0.481 (all_data_va_early_fusion_parents)\n",
      "Best Accuracy of the best baseline model in this scenario: 0.6084 (all_data_va_early_fusion_parents)\n",
      "\n",
      "Difference of Best Balanced Acc Values between Scenario and Baseline: 42.99%\n"
     ]
    }
   ],
   "source": [
    "scenario=['va_late_fusion', 'va_early_fusion']\n",
    "annotation_type=['parents', 'specialist']\n",
    "subset_data='all_data'\n",
    "resulting_df, baseline_df = get_subset_data(oversampling_data_results, \n",
    "                                            scenario=scenario,\n",
    "                                            annotation_type=annotation_type, \n",
    "                                            subdataset_case=subset_data)\n",
    "compare_against_baseline(resulting_df, baseline_df, scenario, annotation_type, subset_data)"
   ]
  },
  {
   "cell_type": "markdown",
   "id": "3d6039b4",
   "metadata": {},
   "source": [
    "## Results Multimodal (parents and specialist): Specific Models"
   ]
  },
  {
   "cell_type": "code",
   "execution_count": 5,
   "id": "7dd59bc8",
   "metadata": {},
   "outputs": [
    {
     "name": "stdout",
     "output_type": "stream",
     "text": [
      "..........\n",
      "Average Accuracy in participants_['va_late_fusion', 'va_early_fusion']_['parents', 'specialist'] models: 0.712244(+-0.038154)\n",
      "Baseline value in participants_['va_late_fusion', 'va_early_fusion']_['parents', 'specialist'] models: 0.721788\n",
      "Difference from Baseline: -1.32%\n",
      "..........\n",
      "Average Balanced Accuracy in participants_['va_late_fusion', 'va_early_fusion']_['parents', 'specialist'] models: 0.712194 (+-0.044777)\n",
      "Baseline value in participants_['va_late_fusion', 'va_early_fusion']_['parents', 'specialist'] models: 0.522587\n",
      "Difference from Baseline: 36.28%\n",
      "..........\n",
      "Best Values for the current Scenario:\n",
      "..........\n",
      "Best Accuracy: 0.7676 (participant_03_va_late_fusion_specialist)\n",
      "Accuracy of the best model in baseline: 0.7509 (participant_03_va_late_fusion_specialist)\n",
      "\n",
      "Best Accuracy (baseline): 0.8007 (participant_02_va_early_fusion_specialist)\n",
      "Accuracy of the best baseline model in this scenario: 0.7398 (participant_02_va_early_fusion_specialist)\n",
      "\n",
      "Difference of Best Acc Value between Scenario and Baseline: -4.13%\n",
      "..........\n",
      "Best Balanced Accuracy: 0.7722 (participant_03_va_late_fusion_parents)\n",
      "Balanced Accuracy of the best model in baseline: 0.6059 (participant_03_va_late_fusion_parents)\n",
      "\n",
      "Best Balanced Accuracy (baseline): 0.6422 (participant_01_va_early_fusion_specialist)\n",
      "Best Accuracy of the best baseline model in this scenario: 0.7339 (participant_01_va_early_fusion_specialist)\n",
      "\n",
      "Difference of Best Balanced Acc Values between Scenario and Baseline: 20.24%\n"
     ]
    }
   ],
   "source": [
    "scenario=['va_late_fusion', 'va_early_fusion']\n",
    "annotation_type=['parents', 'specialist']\n",
    "subset_data='participants'\n",
    "resulting_df, baseline_df = get_subset_data(oversampling_data_results, \n",
    "                                            scenario=scenario,\n",
    "                                            annotation_type=annotation_type, \n",
    "                                            subdataset_case=subset_data)\n",
    "compare_against_baseline(resulting_df, baseline_df, scenario, annotation_type, subset_data)"
   ]
  },
  {
   "cell_type": "markdown",
   "id": "a5d604ec",
   "metadata": {},
   "source": [
    "## Results Multimodal (parents and specialist): Highly Specific Models"
   ]
  },
  {
   "cell_type": "code",
   "execution_count": 6,
   "id": "71ef834d",
   "metadata": {},
   "outputs": [
    {
     "name": "stdout",
     "output_type": "stream",
     "text": [
      "..........\n",
      "Average Accuracy in sessions_['va_late_fusion', 'va_early_fusion']_['parents', 'specialist'] models: 0.743593(+-0.054615)\n",
      "Baseline value in sessions_['va_late_fusion', 'va_early_fusion']_['parents', 'specialist'] models: 0.749236\n",
      "Difference from Baseline: -0.75%\n",
      "..........\n",
      "Average Balanced Accuracy in sessions_['va_late_fusion', 'va_early_fusion']_['parents', 'specialist'] models: 0.732725 (+-0.072251)\n",
      "Baseline value in sessions_['va_late_fusion', 'va_early_fusion']_['parents', 'specialist'] models: 0.569675\n",
      "Difference from Baseline: 28.62%\n",
      "..........\n",
      "Best Values for the current Scenario:\n",
      "..........\n",
      "Best Accuracy: 0.843 (session_03_01_va_late_fusion_specialist)\n",
      "Accuracy of the best model in baseline: 0.8146 (session_03_01_va_late_fusion_specialist)\n",
      "\n",
      "Best Accuracy (baseline): 0.8305 (session_02_01_va_early_fusion_specialist)\n",
      "Accuracy of the best baseline model in this scenario: 0.8245 (session_02_01_va_early_fusion_specialist)\n",
      "\n",
      "Difference of Best Acc Value between Scenario and Baseline: 1.51%\n",
      "..........\n",
      "Best Balanced Accuracy: 0.8415 (session_03_01_va_late_fusion_parents)\n",
      "Balanced Accuracy of the best model in baseline: 0.669 (session_03_01_va_late_fusion_parents)\n",
      "\n",
      "Best Balanced Accuracy (baseline): 0.7045 (session_03_01_va_early_fusion_specialist)\n",
      "Best Accuracy of the best baseline model in this scenario: 0.8085 (session_03_01_va_early_fusion_specialist)\n",
      "\n",
      "Difference of Best Balanced Acc Values between Scenario and Baseline: 19.45%\n"
     ]
    }
   ],
   "source": [
    "scenario=['va_late_fusion', 'va_early_fusion']\n",
    "annotation_type=['parents', 'specialist']\n",
    "subset_data='sessions'\n",
    "resulting_df, baseline_df = get_subset_data(oversampling_data_results, \n",
    "                                            scenario=scenario,\n",
    "                                            annotation_type=annotation_type, \n",
    "                                            subdataset_case=subset_data)\n",
    "compare_against_baseline(resulting_df, baseline_df, scenario, annotation_type, subset_data)"
   ]
  },
  {
   "cell_type": "markdown",
   "id": "8995878c",
   "metadata": {},
   "source": [
    "# Early Fusion vs. Late fusion"
   ]
  },
  {
   "cell_type": "markdown",
   "id": "eba1f965",
   "metadata": {},
   "source": [
    "## Generic Models"
   ]
  },
  {
   "cell_type": "code",
   "execution_count": 8,
   "id": "ccb3563f",
   "metadata": {},
   "outputs": [
    {
     "name": "stdout",
     "output_type": "stream",
     "text": [
      "..........\n",
      "Average Accuracy in all_data_['va_early_fusion']_['parents', 'specialist'] models: 0.62975(+-0.029628)\n",
      "Baseline value in all_data_['va_early_fusion']_['parents', 'specialist'] models: 0.6857\n",
      "Difference from Baseline: -8.16%\n",
      "..........\n",
      "Average Balanced Accuracy in all_data_['va_early_fusion']_['parents', 'specialist'] models: 0.63585 (+-0.03882)\n",
      "Baseline value in all_data_['va_early_fusion']_['parents', 'specialist'] models: 0.47675\n",
      "Difference from Baseline: 33.37%\n",
      "..........\n",
      "Best Values for the current Scenario:\n",
      "..........\n",
      "Best Accuracy: 0.6507 (all_data_va_early_fusion_specialist)\n",
      "Accuracy of the best model in baseline: 0.7099 (all_data_va_early_fusion_specialist)\n",
      "\n",
      "Best Accuracy (baseline): 0.7099 (all_data_va_early_fusion_specialist)\n",
      "Accuracy of the best baseline model in this scenario: 0.6507 (all_data_va_early_fusion_specialist)\n",
      "\n",
      "Difference of Best Acc Value between Scenario and Baseline: -8.34%\n",
      "..........\n",
      "Best Balanced Accuracy: 0.6633 (all_data_va_early_fusion_specialist)\n",
      "Balanced Accuracy of the best model in baseline: 0.4725 (all_data_va_early_fusion_specialist)\n",
      "\n",
      "Best Balanced Accuracy (baseline): 0.481 (all_data_va_early_fusion_parents)\n",
      "Best Accuracy of the best baseline model in this scenario: 0.6084 (all_data_va_early_fusion_parents)\n",
      "\n",
      "Difference of Best Balanced Acc Values between Scenario and Baseline: 37.90%\n"
     ]
    }
   ],
   "source": [
    "scenario=['va_early_fusion']\n",
    "annotation_type=['parents', 'specialist']\n",
    "subset_data='all_data'\n",
    "resulting_df, baseline_df = get_subset_data(oversampling_data_results, \n",
    "                                            scenario=scenario,\n",
    "                                            annotation_type=annotation_type, \n",
    "                                            subdataset_case=subset_data)\n",
    "compare_against_baseline(resulting_df, baseline_df, scenario, annotation_type, subset_data)"
   ]
  },
  {
   "cell_type": "code",
   "execution_count": 7,
   "id": "85edf897",
   "metadata": {
    "scrolled": true
   },
   "outputs": [
    {
     "name": "stdout",
     "output_type": "stream",
     "text": [
      "..........\n",
      "Average Accuracy in all_data_['va_late_fusion']_['parents', 'specialist'] models: 0.64515(+-0.042497)\n",
      "Baseline value in all_data_['va_late_fusion']_['parents', 'specialist'] models: 0.6792\n",
      "Difference from Baseline: -5.01%\n",
      "..........\n",
      "Average Balanced Accuracy in all_data_['va_late_fusion']_['parents', 'specialist'] models: 0.65585 (+-0.045184)\n",
      "Baseline value in all_data_['va_late_fusion']_['parents', 'specialist'] models: 0.43165\n",
      "Difference from Baseline: 51.94%\n",
      "..........\n",
      "Best Values for the current Scenario:\n",
      "..........\n",
      "Best Accuracy: 0.6752 (all_data_va_late_fusion_specialist)\n",
      "Accuracy of the best model in baseline: 0.7076 (all_data_va_late_fusion_specialist)\n",
      "\n",
      "Best Accuracy (baseline): 0.7076 (all_data_va_late_fusion_specialist)\n",
      "Accuracy of the best baseline model in this scenario: 0.6752 (all_data_va_late_fusion_specialist)\n",
      "\n",
      "Difference of Best Acc Value between Scenario and Baseline: -4.58%\n",
      "..........\n",
      "Best Balanced Accuracy: 0.6878 (all_data_va_late_fusion_specialist)\n",
      "Balanced Accuracy of the best model in baseline: 0.4201 (all_data_va_late_fusion_specialist)\n",
      "\n",
      "Best Balanced Accuracy (baseline): 0.4432 (all_data_va_late_fusion_parents)\n",
      "Best Accuracy of the best baseline model in this scenario: 0.6239 (all_data_va_late_fusion_parents)\n",
      "\n",
      "Difference of Best Balanced Acc Values between Scenario and Baseline: 55.19%\n"
     ]
    }
   ],
   "source": [
    "scenario=['va_late_fusion']\n",
    "annotation_type=['parents', 'specialist']\n",
    "subset_data='all_data'\n",
    "resulting_df, baseline_df = get_subset_data(oversampling_data_results, \n",
    "                                            scenario=scenario,\n",
    "                                            annotation_type=annotation_type, \n",
    "                                            subdataset_case=subset_data)\n",
    "compare_against_baseline(resulting_df, baseline_df, scenario, annotation_type, subset_data)"
   ]
  },
  {
   "cell_type": "markdown",
   "id": "b57dc6dc",
   "metadata": {},
   "source": [
    "## Specific Models"
   ]
  },
  {
   "cell_type": "code",
   "execution_count": 9,
   "id": "8834eb84",
   "metadata": {},
   "outputs": [
    {
     "name": "stdout",
     "output_type": "stream",
     "text": [
      "..........\n",
      "Average Accuracy in participants_['va_early_fusion']_['parents', 'specialist'] models: 0.699688(+-0.039002)\n",
      "Baseline value in participants_['va_early_fusion']_['parents', 'specialist'] models: 0.724\n",
      "Difference from Baseline: -3.36%\n",
      "..........\n",
      "Average Balanced Accuracy in participants_['va_early_fusion']_['parents', 'specialist'] models: 0.702512 (+-0.044049)\n",
      "Baseline value in participants_['va_early_fusion']_['parents', 'specialist'] models: 0.546663\n",
      "Difference from Baseline: 28.51%\n",
      "..........\n",
      "Best Values for the current Scenario:\n",
      "..........\n",
      "Best Accuracy: 0.7437 (participant_01_va_early_fusion_specialist)\n",
      "Accuracy of the best model in baseline: 0.7616 (participant_01_va_early_fusion_specialist)\n",
      "\n",
      "Best Accuracy (baseline): 0.8007 (participant_02_va_early_fusion_specialist)\n",
      "Accuracy of the best baseline model in this scenario: 0.7398 (participant_02_va_early_fusion_specialist)\n",
      "\n",
      "Difference of Best Acc Value between Scenario and Baseline: -7.12%\n",
      "..........\n",
      "Best Balanced Accuracy: 0.758 (participant_02_va_early_fusion_specialist)\n",
      "Balanced Accuracy of the best model in baseline: 0.5236 (participant_02_va_early_fusion_specialist)\n",
      "\n",
      "Best Balanced Accuracy (baseline): 0.6422 (participant_01_va_early_fusion_specialist)\n",
      "Best Accuracy of the best baseline model in this scenario: 0.7339 (participant_01_va_early_fusion_specialist)\n",
      "\n",
      "Difference of Best Balanced Acc Values between Scenario and Baseline: 18.03%\n"
     ]
    }
   ],
   "source": [
    "scenario=['va_early_fusion']\n",
    "annotation_type=['parents', 'specialist']\n",
    "subset_data='participants'\n",
    "resulting_df, baseline_df = get_subset_data(oversampling_data_results, \n",
    "                                            scenario=scenario,\n",
    "                                            annotation_type=annotation_type, \n",
    "                                            subdataset_case=subset_data)\n",
    "compare_against_baseline(resulting_df, baseline_df, scenario, annotation_type, subset_data)"
   ]
  },
  {
   "cell_type": "code",
   "execution_count": 10,
   "id": "aca29a2f",
   "metadata": {
    "scrolled": true
   },
   "outputs": [
    {
     "name": "stdout",
     "output_type": "stream",
     "text": [
      "..........\n",
      "Average Accuracy in participants_['va_late_fusion']_['parents', 'specialist'] models: 0.7248(+-0.035184)\n",
      "Baseline value in participants_['va_late_fusion']_['parents', 'specialist'] models: 0.719575\n",
      "Difference from Baseline: 0.73%\n",
      "..........\n",
      "Average Balanced Accuracy in participants_['va_late_fusion']_['parents', 'specialist'] models: 0.721875 (+-0.046279)\n",
      "Baseline value in participants_['va_late_fusion']_['parents', 'specialist'] models: 0.498512\n",
      "Difference from Baseline: 44.81%\n",
      "..........\n",
      "Best Values for the current Scenario:\n",
      "..........\n",
      "Best Accuracy: 0.7676 (participant_03_va_late_fusion_specialist)\n",
      "Accuracy of the best model in baseline: 0.7509 (participant_03_va_late_fusion_specialist)\n",
      "\n",
      "Best Accuracy (baseline): 0.78 (participant_02_va_late_fusion_specialist)\n",
      "Accuracy of the best baseline model in this scenario: 0.7489 (participant_02_va_late_fusion_specialist)\n",
      "\n",
      "Difference of Best Acc Value between Scenario and Baseline: -1.59%\n",
      "..........\n",
      "Best Balanced Accuracy: 0.7722 (participant_03_va_late_fusion_parents)\n",
      "Balanced Accuracy of the best model in baseline: 0.6059 (participant_03_va_late_fusion_parents)\n",
      "\n",
      "Best Balanced Accuracy (baseline): 0.6059 (participant_03_va_late_fusion_parents)\n",
      "Best Accuracy of the best baseline model in this scenario: 0.7722 (participant_03_va_late_fusion_parents)\n",
      "\n",
      "Difference of Best Balanced Acc Values between Scenario and Baseline: 27.45%\n"
     ]
    }
   ],
   "source": [
    "scenario=['va_late_fusion']\n",
    "annotation_type=['parents', 'specialist']\n",
    "subset_data='participants'\n",
    "resulting_df, baseline_df = get_subset_data(oversampling_data_results, \n",
    "                                            scenario=scenario,\n",
    "                                            annotation_type=annotation_type, \n",
    "                                            subdataset_case=subset_data)\n",
    "compare_against_baseline(resulting_df, baseline_df, scenario, annotation_type, subset_data)"
   ]
  },
  {
   "cell_type": "markdown",
   "id": "56f431ef",
   "metadata": {},
   "source": [
    "## Highly Specific Models"
   ]
  },
  {
   "cell_type": "code",
   "execution_count": 11,
   "id": "c4e605a6",
   "metadata": {
    "scrolled": true
   },
   "outputs": [
    {
     "name": "stdout",
     "output_type": "stream",
     "text": [
      "..........\n",
      "Average Accuracy in sessions_['va_early_fusion']_['parents', 'specialist'] models: 0.736871(+-0.055392)\n",
      "Baseline value in sessions_['va_early_fusion']_['parents', 'specialist'] models: 0.750886\n",
      "Difference from Baseline: -1.87%\n",
      "..........\n",
      "Average Balanced Accuracy in sessions_['va_early_fusion']_['parents', 'specialist'] models: 0.7207 (+-0.080653)\n",
      "Baseline value in sessions_['va_early_fusion']_['parents', 'specialist'] models: 0.589986\n",
      "Difference from Baseline: 22.16%\n",
      "..........\n",
      "Best Values for the current Scenario:\n",
      "..........\n",
      "Best Accuracy: 0.8245 (session_02_01_va_early_fusion_specialist)\n",
      "Accuracy of the best model in baseline: 0.8305 (session_02_01_va_early_fusion_specialist)\n",
      "\n",
      "Best Accuracy (baseline): 0.8305 (session_02_01_va_early_fusion_specialist)\n",
      "Accuracy of the best baseline model in this scenario: 0.8245 (session_02_01_va_early_fusion_specialist)\n",
      "\n",
      "Difference of Best Acc Value between Scenario and Baseline: -0.72%\n",
      "..........\n",
      "Best Balanced Accuracy: 0.8275 (session_02_01_va_early_fusion_specialist)\n",
      "Balanced Accuracy of the best model in baseline: 0.5678 (session_02_01_va_early_fusion_specialist)\n",
      "\n",
      "Best Balanced Accuracy (baseline): 0.7045 (session_03_01_va_early_fusion_specialist)\n",
      "Best Accuracy of the best baseline model in this scenario: 0.8085 (session_03_01_va_early_fusion_specialist)\n",
      "\n",
      "Difference of Best Balanced Acc Values between Scenario and Baseline: 17.46%\n"
     ]
    }
   ],
   "source": [
    "scenario=['va_early_fusion']\n",
    "annotation_type=['parents', 'specialist']\n",
    "subset_data='sessions'\n",
    "resulting_df, baseline_df = get_subset_data(oversampling_data_results, \n",
    "                                            scenario=scenario,\n",
    "                                            annotation_type=annotation_type, \n",
    "                                            subdataset_case=subset_data)\n",
    "compare_against_baseline(resulting_df, baseline_df, scenario, annotation_type, subset_data)"
   ]
  },
  {
   "cell_type": "code",
   "execution_count": 15,
   "id": "46e82eb7",
   "metadata": {
    "scrolled": true
   },
   "outputs": [
    {
     "name": "stdout",
     "output_type": "stream",
     "text": [
      "..........\n",
      "Average Accuracy in sessions_['va_late_fusion']_['parents', 'specialist'] models: 0.750314(+-0.055041)\n",
      "Baseline value in sessions_['va_late_fusion']_['parents', 'specialist'] models: 0.747586\n",
      "Difference from Baseline: 0.36%\n",
      "..........\n",
      "Average Balanced Accuracy in sessions_['va_late_fusion']_['parents', 'specialist'] models: 0.74475 (+-0.063446)\n",
      "Baseline value in sessions_['va_late_fusion']_['parents', 'specialist'] models: 0.549364\n",
      "Difference from Baseline: 35.57%\n",
      "..........\n",
      "Best Values for the current Scenario:\n",
      "..........\n",
      "Best Accuracy: 0.843 (session_03_01_va_late_fusion_specialist)\n",
      "Accuracy of the best model in baseline: 0.8146 (session_03_01_va_late_fusion_specialist)\n",
      "\n",
      "Best Accuracy (baseline): 0.8149 (session_02_01_va_late_fusion_specialist)\n",
      "Accuracy of the best baseline model in this scenario: 0.8197 (session_02_01_va_late_fusion_specialist)\n",
      "\n",
      "Difference of Best Acc Value between Scenario and Baseline: 3.45%\n",
      "..........\n",
      "Best Balanced Accuracy: 0.8415 (session_03_01_va_late_fusion_parents)\n",
      "Balanced Accuracy of the best model in baseline: 0.669 (session_03_01_va_late_fusion_parents)\n",
      "\n",
      "Best Balanced Accuracy (baseline): 0.696 (session_03_01_va_late_fusion_specialist)\n",
      "Best Accuracy of the best baseline model in this scenario: 0.8283 (session_03_01_va_late_fusion_specialist)\n",
      "\n",
      "Difference of Best Balanced Acc Values between Scenario and Baseline: 20.91%\n"
     ]
    }
   ],
   "source": [
    "scenario=['va_late_fusion']\n",
    "annotation_type=['parents', 'specialist']\n",
    "subset_data='sessions'\n",
    "resulting_df, baseline_df = get_subset_data(oversampling_data_results, \n",
    "                                            scenario=scenario,\n",
    "                                            annotation_type=annotation_type, \n",
    "                                            subdataset_case=subset_data)\n",
    "compare_against_baseline(resulting_df, baseline_df, scenario, annotation_type, subset_data)"
   ]
  },
  {
   "cell_type": "markdown",
   "id": "f626b50a",
   "metadata": {},
   "source": [
    "# Comments & Conclusions\n",
    "\n",
    "1. "
   ]
  }
 ],
 "metadata": {
  "kernelspec": {
   "display_name": "Python 3 (ipykernel)",
   "language": "python",
   "name": "python3"
  },
  "language_info": {
   "codemirror_mode": {
    "name": "ipython",
    "version": 3
   },
   "file_extension": ".py",
   "mimetype": "text/x-python",
   "name": "python",
   "nbconvert_exporter": "python",
   "pygments_lexer": "ipython3",
   "version": "3.10.4"
  }
 },
 "nbformat": 4,
 "nbformat_minor": 5
}
