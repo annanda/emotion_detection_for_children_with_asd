{
 "cells": [
  {
   "cell_type": "code",
   "execution_count": 2,
   "id": "732fd167",
   "metadata": {},
   "outputs": [],
   "source": [
    "import os\n",
    "import sys"
   ]
  },
  {
   "cell_type": "code",
   "execution_count": 3,
   "id": "06e196b3",
   "metadata": {},
   "outputs": [],
   "source": [
    "NOTEBOOK_DIR = os.path.dirname(os.path.realpath(\"__file__\"))\n",
    "PROJECT_ROOT = os.path.dirname(NOTEBOOK_DIR)\n",
    "\n",
    "sys.path.append(PROJECT_ROOT) # make my_module available to import\n",
    "\n",
    "# Importing my python module utils\n",
    "from emotion_detection_system.scripts.information_from_results import *"
   ]
  },
  {
   "cell_type": "code",
   "execution_count": 4,
   "id": "673eb129",
   "metadata": {},
   "outputs": [
    {
     "name": "stdout",
     "output_type": "stream",
     "text": [
      "##########\n",
      "\n",
      "Best Values for the Data Experiment Batch:\n",
      "Best Accuracy: 0.8077 (session_03_01_v_specialist)\n",
      "Compared to baseline: 0.8269 (session_02_01_v_specialist)\n",
      "Difference from Baseline: -2.32%\n",
      "##########\n",
      "\n",
      "Best Balanced Accuracy: 0.7854 (session_03_01_va_late_fusion_specialist)\n",
      "Compared to baseline: 0.7494 (session_03_01_v_specialist)\n",
      "Difference from Baseline: 4.80%\n"
     ]
    }
   ],
   "source": [
    "calculate_best_acc(undersampling_data_results)"
   ]
  },
  {
   "cell_type": "code",
   "execution_count": 5,
   "id": "0fe8492c",
   "metadata": {
    "scrolled": true
   },
   "outputs": [
    {
     "name": "stdout",
     "output_type": "stream",
     "text": [
      "##########\n",
      "\n",
      "Average Accuracy in ['va_late_fusion', 'va_early_fusion']_['parents', 'specialist'] models: 0.616569(+-0.074778)\n",
      "Baseline value: 0.727333\n",
      "Difference from Baseline: -15.23%\n",
      "##########\n",
      "\n",
      "Average Balanced Accuracy in ['va_late_fusion', 'va_early_fusion']_['parents', 'specialist'] models: 0.585427 (+-0.084795)\n",
      "Baseline value: 0.527452\n",
      "Difference from Baseline: 10.99%\n",
      "##########\n",
      "\n",
      "Best Values for the current Scenario:\n",
      "Best Accuracy: 0.7782 (session_03_01_va_late_fusion_specialist)\n",
      "Compared to baseline: 0.8248 (session_03_01_va_late_fusion_specialist)\n",
      "Difference from Baseline: -5.65%\n",
      "##########\n",
      "\n",
      "Best Balanced Accuracy: 0.7854 (session_03_01_va_late_fusion_specialist)\n",
      "Compared to baseline: 0.7451 (session_03_01_va_late_fusion_specialist)\n",
      "Difference from Baseline: 5.41%\n"
     ]
    }
   ],
   "source": [
    "compare_against_baseline(undersampling_data_results, scenario=['va_late_fusion', 'va_early_fusion'], annotation_type=['parents', 'specialist'])"
   ]
  },
  {
   "cell_type": "code",
   "execution_count": 6,
   "id": "e0495c8e",
   "metadata": {
    "scrolled": true
   },
   "outputs": [
    {
     "name": "stdout",
     "output_type": "stream",
     "text": [
      "##########\n",
      "\n",
      "Average Accuracy in ['va_late_fusion', 'va_early_fusion']_['parents'] models: 0.601971(+-0.053078)\n",
      "Baseline value: 0.701013\n",
      "Difference from Baseline: -14.13%\n",
      "##########\n",
      "\n",
      "Average Balanced Accuracy in ['va_late_fusion', 'va_early_fusion']_['parents'] models: 0.561742 (+-0.077672)\n",
      "Baseline value: 0.513558\n",
      "Difference from Baseline: 9.38%\n",
      "##########\n",
      "\n",
      "Best Values for the current Scenario:\n",
      "Best Accuracy: 0.7255 (session_03_01_va_late_fusion_parents)\n",
      "Compared to baseline: 0.8121 (session_03_01_va_late_fusion_parents)\n",
      "Difference from Baseline: -10.66%\n",
      "##########\n",
      "\n",
      "Best Balanced Accuracy: 0.7332 (session_03_01_va_late_fusion_parents)\n",
      "Compared to baseline: 0.6917 (session_03_01_va_late_fusion_parents)\n",
      "Difference from Baseline: 6.00%\n"
     ]
    }
   ],
   "source": [
    "compare_against_baseline(undersampling_data_results,scenario=['va_late_fusion', 'va_early_fusion'], annotation_type=['parents'])"
   ]
  },
  {
   "cell_type": "code",
   "execution_count": 7,
   "id": "456a65cf",
   "metadata": {},
   "outputs": [
    {
     "name": "stdout",
     "output_type": "stream",
     "text": [
      "##########\n",
      "\n",
      "Average Accuracy in ['va_late_fusion', 'va_early_fusion']_['specialist'] models: 0.631167(+-0.090359)\n",
      "Baseline value: 0.753654\n",
      "Difference from Baseline: -16.25%\n",
      "##########\n",
      "\n",
      "Average Balanced Accuracy in ['va_late_fusion', 'va_early_fusion']_['specialist'] models: 0.609113 (+-0.086542)\n",
      "Baseline value: 0.541346\n",
      "Difference from Baseline: 12.52%\n",
      "##########\n",
      "\n",
      "Best Values for the current Scenario:\n",
      "Best Accuracy: 0.7782 (session_03_01_va_late_fusion_specialist)\n",
      "Compared to baseline: 0.8248 (session_03_01_va_late_fusion_specialist)\n",
      "Difference from Baseline: -5.65%\n",
      "##########\n",
      "\n",
      "Best Balanced Accuracy: 0.7854 (session_03_01_va_late_fusion_specialist)\n",
      "Compared to baseline: 0.7451 (session_03_01_va_late_fusion_specialist)\n",
      "Difference from Baseline: 5.41%\n"
     ]
    }
   ],
   "source": [
    "compare_against_baseline(undersampling_data_results,scenario=['va_late_fusion', 'va_early_fusion'], annotation_type=['specialist'])"
   ]
  },
  {
   "cell_type": "code",
   "execution_count": 8,
   "id": "37cf4fc5",
   "metadata": {},
   "outputs": [
    {
     "name": "stdout",
     "output_type": "stream",
     "text": [
      "##########\n",
      "\n",
      "Average Accuracy in ['va_late_fusion']_['parents', 'specialist'] models: 0.622587(+-0.073795)\n",
      "Baseline value: 0.730738\n",
      "Difference from Baseline: -14.80%\n",
      "##########\n",
      "\n",
      "Average Balanced Accuracy in ['va_late_fusion']_['parents', 'specialist'] models: 0.610038 (+-0.087027)\n",
      "Baseline value: 0.527567\n",
      "Difference from Baseline: 15.63%\n",
      "##########\n",
      "\n",
      "Best Values for the current Scenario:\n",
      "Best Accuracy: 0.7782 (session_03_01_va_late_fusion_specialist)\n",
      "Compared to baseline: 0.8248 (session_03_01_va_late_fusion_specialist)\n",
      "Difference from Baseline: -5.65%\n",
      "##########\n",
      "\n",
      "Best Balanced Accuracy: 0.7854 (session_03_01_va_late_fusion_specialist)\n",
      "Compared to baseline: 0.7451 (session_03_01_va_late_fusion_specialist)\n",
      "Difference from Baseline: 5.41%\n"
     ]
    }
   ],
   "source": [
    "compare_against_baseline(undersampling_data_results, scenario=['va_late_fusion'], annotation_type=['parents', 'specialist'])"
   ]
  },
  {
   "cell_type": "code",
   "execution_count": 9,
   "id": "6c5c85dc",
   "metadata": {},
   "outputs": [
    {
     "name": "stdout",
     "output_type": "stream",
     "text": [
      "##########\n",
      "\n",
      "Average Accuracy in ['va_early_fusion']_['parents', 'specialist'] models: 0.61055(+-0.076846)\n",
      "Baseline value: 0.723929\n",
      "Difference from Baseline: -15.66%\n",
      "##########\n",
      "\n",
      "Average Balanced Accuracy in ['va_early_fusion']_['parents', 'specialist'] models: 0.560817 (+-0.076521)\n",
      "Baseline value: 0.527338\n",
      "Difference from Baseline: 6.35%\n",
      "##########\n",
      "\n",
      "Best Values for the current Scenario:\n",
      "Best Accuracy: 0.7691 (session_03_01_va_early_fusion_specialist)\n",
      "Compared to baseline: 0.8041 (session_03_01_va_early_fusion_parents)\n",
      "Difference from Baseline: -4.35%\n",
      "##########\n",
      "\n",
      "Best Balanced Accuracy: 0.743 (session_03_01_va_early_fusion_specialist)\n",
      "Compared to baseline: 0.6834 (session_03_01_va_early_fusion_specialist)\n",
      "Difference from Baseline: 8.72%\n"
     ]
    }
   ],
   "source": [
    "compare_against_baseline(undersampling_data_results, scenario=['va_early_fusion'], annotation_type=['parents', 'specialist'])"
   ]
  },
  {
   "cell_type": "code",
   "execution_count": 10,
   "id": "a82d4d17",
   "metadata": {},
   "outputs": [
    {
     "name": "stdout",
     "output_type": "stream",
     "text": [
      "##########\n",
      "\n",
      "Average Accuracy in ['va_late_fusion']_['parents'] models: 0.605883(+-0.050923)\n",
      "Baseline value: 0.703833\n",
      "Difference from Baseline: -13.92%\n",
      "##########\n",
      "\n",
      "Average Balanced Accuracy in ['va_late_fusion']_['parents'] models: 0.581 (+-0.079644)\n",
      "Baseline value: 0.509167\n",
      "Difference from Baseline: 14.11%\n",
      "##########\n",
      "\n",
      "Best Values for the current Scenario:\n",
      "Best Accuracy: 0.7255 (session_03_01_va_late_fusion_parents)\n",
      "Compared to baseline: 0.8121 (session_03_01_va_late_fusion_parents)\n",
      "Difference from Baseline: -10.66%\n",
      "##########\n",
      "\n",
      "Best Balanced Accuracy: 0.7332 (session_03_01_va_late_fusion_parents)\n",
      "Compared to baseline: 0.6917 (session_03_01_va_late_fusion_parents)\n",
      "Difference from Baseline: 6.00%\n"
     ]
    }
   ],
   "source": [
    "compare_against_baseline(undersampling_data_results, scenario=['va_late_fusion'], annotation_type=['parents'])"
   ]
  },
  {
   "cell_type": "code",
   "execution_count": 11,
   "id": "ec3bd4e1",
   "metadata": {},
   "outputs": [
    {
     "name": "stdout",
     "output_type": "stream",
     "text": [
      "##########\n",
      "\n",
      "Average Accuracy in ['va_early_fusion']_['parents'] models: 0.598058(+-0.057133)\n",
      "Baseline value: 0.698192\n",
      "Difference from Baseline: -14.34%\n",
      "##########\n",
      "\n",
      "Average Balanced Accuracy in ['va_early_fusion']_['parents'] models: 0.542483 (+-0.073905)\n",
      "Baseline value: 0.51795\n",
      "Difference from Baseline: 4.74%\n",
      "##########\n",
      "\n",
      "Best Values for the current Scenario:\n",
      "Best Accuracy: 0.7221 (session_03_01_va_early_fusion_parents)\n",
      "Compared to baseline: 0.8041 (session_03_01_va_early_fusion_parents)\n",
      "Difference from Baseline: -10.20%\n",
      "##########\n",
      "\n",
      "Best Balanced Accuracy: 0.696 (session_03_01_va_early_fusion_parents)\n",
      "Compared to baseline: 0.6737 (session_03_01_va_early_fusion_parents)\n",
      "Difference from Baseline: 3.31%\n"
     ]
    }
   ],
   "source": [
    "compare_against_baseline(undersampling_data_results, scenario=['va_early_fusion'], annotation_type=['parents'])"
   ]
  },
  {
   "cell_type": "code",
   "execution_count": 12,
   "id": "165f6173",
   "metadata": {},
   "outputs": [
    {
     "name": "stdout",
     "output_type": "stream",
     "text": [
      "##########\n",
      "\n",
      "Average Accuracy in ['va_late_fusion']_['specialist'] models: 0.639292(+-0.090469)\n",
      "Baseline value: 0.757642\n",
      "Difference from Baseline: -15.62%\n",
      "##########\n",
      "\n",
      "Average Balanced Accuracy in ['va_late_fusion']_['specialist'] models: 0.639075 (+-0.087481)\n",
      "Baseline value: 0.545967\n",
      "Difference from Baseline: 17.05%\n",
      "##########\n",
      "\n",
      "Best Values for the current Scenario:\n",
      "Best Accuracy: 0.7782 (session_03_01_va_late_fusion_specialist)\n",
      "Compared to baseline: 0.8248 (session_03_01_va_late_fusion_specialist)\n",
      "Difference from Baseline: -5.65%\n",
      "##########\n",
      "\n",
      "Best Balanced Accuracy: 0.7854 (session_03_01_va_late_fusion_specialist)\n",
      "Compared to baseline: 0.7451 (session_03_01_va_late_fusion_specialist)\n",
      "Difference from Baseline: 5.41%\n"
     ]
    }
   ],
   "source": [
    "compare_against_baseline(undersampling_data_results, scenario=['va_late_fusion'], annotation_type=['specialist'])"
   ]
  },
  {
   "cell_type": "code",
   "execution_count": 13,
   "id": "7facfe7d",
   "metadata": {},
   "outputs": [
    {
     "name": "stdout",
     "output_type": "stream",
     "text": [
      "##########\n",
      "\n",
      "Average Accuracy in ['va_early_fusion']_['specialist'] models: 0.623042(+-0.093504)\n",
      "Baseline value: 0.749667\n",
      "Difference from Baseline: -16.89%\n",
      "##########\n",
      "\n",
      "Average Balanced Accuracy in ['va_early_fusion']_['specialist'] models: 0.57915 (+-0.07777)\n",
      "Baseline value: 0.536725\n",
      "Difference from Baseline: 7.90%\n",
      "##########\n",
      "\n",
      "Best Values for the current Scenario:\n",
      "Best Accuracy: 0.7691 (session_03_01_va_early_fusion_specialist)\n",
      "Compared to baseline: 0.8032 (session_03_01_va_early_fusion_specialist)\n",
      "Difference from Baseline: -4.25%\n",
      "##########\n",
      "\n",
      "Best Balanced Accuracy: 0.743 (session_03_01_va_early_fusion_specialist)\n",
      "Compared to baseline: 0.6834 (session_03_01_va_early_fusion_specialist)\n",
      "Difference from Baseline: 8.72%\n"
     ]
    }
   ],
   "source": [
    "compare_against_baseline(undersampling_data_results, scenario=['va_early_fusion'], annotation_type=['specialist'])"
   ]
  },
  {
   "cell_type": "code",
   "execution_count": 14,
   "id": "795c639d",
   "metadata": {},
   "outputs": [
    {
     "name": "stdout",
     "output_type": "stream",
     "text": [
      "##########\n",
      "\n",
      "Average Accuracy in ['v']_['parents', 'specialist'] models: 0.6007(+-0.082208)\n",
      "Baseline value: 0.736367\n",
      "Difference from Baseline: -18.42%\n",
      "##########\n",
      "\n",
      "Average Balanced Accuracy in ['v']_['parents', 'specialist'] models: 0.601825 (+-0.086149)\n",
      "Baseline value: 0.569571\n",
      "Difference from Baseline: 5.66%\n",
      "##########\n",
      "\n",
      "Best Values for the current Scenario:\n",
      "Best Accuracy: 0.8077 (session_03_01_v_specialist)\n",
      "Compared to baseline: 0.8269 (session_02_01_v_specialist)\n",
      "Difference from Baseline: -2.32%\n",
      "##########\n",
      "\n",
      "Best Balanced Accuracy: 0.7821 (session_03_01_v_specialist)\n",
      "Compared to baseline: 0.7494 (session_03_01_v_specialist)\n",
      "Difference from Baseline: 4.36%\n"
     ]
    }
   ],
   "source": [
    "compare_against_baseline(undersampling_data_results, scenario=['v'], annotation_type=['parents', 'specialist'])"
   ]
  },
  {
   "cell_type": "code",
   "execution_count": 15,
   "id": "38a390aa",
   "metadata": {},
   "outputs": [
    {
     "name": "stdout",
     "output_type": "stream",
     "text": [
      "##########\n",
      "\n",
      "Average Accuracy in ['v']_['specialist'] models: 0.616483(+-0.092374)\n",
      "Baseline value: 0.766642\n",
      "Difference from Baseline: -19.59%\n",
      "##########\n",
      "\n",
      "Average Balanced Accuracy in ['v']_['specialist'] models: 0.617483 (+-0.100163)\n",
      "Baseline value: 0.588525\n",
      "Difference from Baseline: 4.92%\n",
      "##########\n",
      "\n",
      "Best Values for the current Scenario:\n",
      "Best Accuracy: 0.8077 (session_03_01_v_specialist)\n",
      "Compared to baseline: 0.8269 (session_02_01_v_specialist)\n",
      "Difference from Baseline: -2.32%\n",
      "##########\n",
      "\n",
      "Best Balanced Accuracy: 0.7821 (session_03_01_v_specialist)\n",
      "Compared to baseline: 0.7494 (session_03_01_v_specialist)\n",
      "Difference from Baseline: 4.36%\n"
     ]
    }
   ],
   "source": [
    "compare_against_baseline(undersampling_data_results, scenario=['v'], annotation_type=['specialist'])"
   ]
  },
  {
   "cell_type": "code",
   "execution_count": 16,
   "id": "0c3a27fe",
   "metadata": {},
   "outputs": [
    {
     "name": "stdout",
     "output_type": "stream",
     "text": [
      "##########\n",
      "\n",
      "Average Accuracy in ['v']_['parents'] models: 0.584917(+-0.071093)\n",
      "Baseline value: 0.706092\n",
      "Difference from Baseline: -17.16%\n",
      "##########\n",
      "\n",
      "Average Balanced Accuracy in ['v']_['parents'] models: 0.586167 (+-0.070358)\n",
      "Baseline value: 0.550617\n",
      "Difference from Baseline: 6.46%\n",
      "##########\n",
      "\n",
      "Best Values for the current Scenario:\n",
      "Best Accuracy: 0.7415 (session_03_01_v_parents)\n",
      "Compared to baseline: 0.8223 (session_03_01_v_parents)\n",
      "Difference from Baseline: -9.83%\n",
      "##########\n",
      "\n",
      "Best Balanced Accuracy: 0.7444 (session_03_01_v_parents)\n",
      "Compared to baseline: 0.7456 (session_03_01_v_parents)\n",
      "Difference from Baseline: -0.16%\n"
     ]
    }
   ],
   "source": [
    "compare_against_baseline(undersampling_data_results, scenario=['v'], annotation_type=['parents'])"
   ]
  },
  {
   "cell_type": "code",
   "execution_count": 17,
   "id": "2596bd59",
   "metadata": {},
   "outputs": [
    {
     "name": "stdout",
     "output_type": "stream",
     "text": [
      "##########\n",
      "\n",
      "Average Accuracy in ['a']_['parents', 'specialist'] models: 0.425704(+-0.140984)\n",
      "Baseline value: 0.558642\n",
      "Difference from Baseline: -23.80%\n",
      "##########\n",
      "\n",
      "Average Balanced Accuracy in ['a']_['parents', 'specialist'] models: 0.325333 (+-0.049832)\n",
      "Baseline value: 0.27685\n",
      "Difference from Baseline: 17.51%\n",
      "##########\n",
      "\n",
      "Best Values for the current Scenario:\n",
      "Best Accuracy: 0.6283 (session_03_02_a_specialist)\n",
      "Compared to baseline: 0.6865 (participant_02_a_specialist)\n",
      "Difference from Baseline: -8.48%\n",
      "##########\n",
      "\n",
      "Best Balanced Accuracy: 0.4601 (session_02_02_a_parents)\n",
      "Compared to baseline: 0.3751 (session_02_02_a_parents)\n",
      "Difference from Baseline: 22.66%\n"
     ]
    }
   ],
   "source": [
    "compare_against_baseline(undersampling_data_results, scenario=['a'], annotation_type=['parents', 'specialist'])"
   ]
  },
  {
   "cell_type": "code",
   "execution_count": 18,
   "id": "08903ac7",
   "metadata": {},
   "outputs": [
    {
     "name": "stdout",
     "output_type": "stream",
     "text": [
      "##########\n",
      "\n",
      "Average Accuracy in ['a']_['specialist'] models: 0.484308(+-0.136706)\n",
      "Baseline value: 0.573483\n",
      "Difference from Baseline: -15.55%\n",
      "##########\n",
      "\n",
      "Average Balanced Accuracy in ['a']_['specialist'] models: 0.309633 (+-0.046837)\n",
      "Baseline value: 0.279358\n",
      "Difference from Baseline: 10.84%\n",
      "##########\n",
      "\n",
      "Best Values for the current Scenario:\n",
      "Best Accuracy: 0.6283 (session_03_02_a_specialist)\n",
      "Compared to baseline: 0.6865 (participant_02_a_specialist)\n",
      "Difference from Baseline: -8.48%\n",
      "##########\n",
      "\n",
      "Best Balanced Accuracy: 0.3794 (participant_03_a_specialist)\n",
      "Compared to baseline: 0.3337 (session_03_01_a_specialist)\n",
      "Difference from Baseline: 13.69%\n"
     ]
    }
   ],
   "source": [
    "compare_against_baseline(undersampling_data_results, scenario=['a'], annotation_type=['specialist'])"
   ]
  },
  {
   "cell_type": "code",
   "execution_count": 19,
   "id": "6b4e050f",
   "metadata": {},
   "outputs": [
    {
     "name": "stdout",
     "output_type": "stream",
     "text": [
      "##########\n",
      "\n",
      "Average Accuracy in ['a']_['parents'] models: 0.3671(+-0.124009)\n",
      "Baseline value: 0.5438\n",
      "Difference from Baseline: -32.49%\n",
      "##########\n",
      "\n",
      "Average Balanced Accuracy in ['a']_['parents'] models: 0.341033 (+-0.049606)\n",
      "Baseline value: 0.274342\n",
      "Difference from Baseline: 24.31%\n",
      "##########\n",
      "\n",
      "Best Values for the current Scenario:\n",
      "Best Accuracy: 0.5803 (participant_04_a_parents)\n",
      "Compared to baseline: 0.6378 (session_04_01_a_parents)\n",
      "Difference from Baseline: -9.02%\n",
      "##########\n",
      "\n",
      "Best Balanced Accuracy: 0.4601 (session_02_02_a_parents)\n",
      "Compared to baseline: 0.3751 (session_02_02_a_parents)\n",
      "Difference from Baseline: 22.66%\n"
     ]
    }
   ],
   "source": [
    "compare_against_baseline(undersampling_data_results, scenario=['a'], annotation_type=['parents'])"
   ]
  },
  {
   "cell_type": "code",
   "execution_count": 20,
   "id": "85a1ebe6",
   "metadata": {},
   "outputs": [
    {
     "name": "stdout",
     "output_type": "stream",
     "text": [
      "##########\n",
      "\n",
      "Best Values of F1Score:\n",
      "Best F1Score (Blue): 0.7815 (session_03_01_v_specialist)\n",
      "Compared to baseline: 0.7896 (session_03_01_va_late_fusion_parents)\n",
      "Difference from Baseline: -1.03%\n",
      "..........\n",
      "Best F1Score (Green): 0.8566 (session_03_01_v_specialist)\n",
      "Compared to baseline: 0.8981 (session_04_01_v_specialist)\n",
      "Difference from Baseline: -4.62%\n",
      "..........\n",
      "Best F1Score (Red): 0.6667 (session_03_01_v_parents)\n",
      "Compared to baseline: 0.7778 (session_03_01_v_parents)\n",
      "Difference from Baseline: -14.28%\n",
      "..........\n",
      "Best F1Score (Yellow): 0.6716 (session_03_01_v_specialist)\n",
      "Compared to baseline: 0.6857 (session_03_01_va_late_fusion_specialist)\n",
      "Difference from Baseline: -2.06%\n"
     ]
    }
   ],
   "source": [
    "calculate_best_f1_score(undersampling_data_results)"
   ]
  },
  {
   "cell_type": "code",
   "execution_count": 21,
   "id": "18386fdc",
   "metadata": {},
   "outputs": [
    {
     "name": "stdout",
     "output_type": "stream",
     "text": [
      "##########\n",
      "\n",
      "Average F1score (blue) models: 0.442866 (+-0.223809)\n",
      "Baseline value: 0.460484\n",
      "Difference from Baseline: -3.83%\n",
      "##########\n",
      "\n",
      "Average F1score (green) models: 0.677368 (+-0.138831)\n",
      "Baseline value: 0.789448\n",
      "Difference from Baseline: -14.20%\n",
      "##########\n",
      "\n",
      "Average F1score (red) models: 0.275277 (+-0.167324)\n",
      "Baseline value: 0.305869\n",
      "Difference from Baseline: -10.00%\n",
      "##########\n",
      "\n",
      "Average F1score (yellow) models: 0.365504 (+-0.155104)\n",
      "Baseline value: 0.359598\n",
      "Difference from Baseline: 1.64%\n"
     ]
    }
   ],
   "source": [
    "calculate_aggregated_f1_score(undersampling_data_results)"
   ]
  },
  {
   "cell_type": "markdown",
   "id": "f626b50a",
   "metadata": {},
   "source": [
    "# Comments & Conclusions\n",
    "\n",
    "1. "
   ]
  }
 ],
 "metadata": {
  "kernelspec": {
   "display_name": "Python 3 (ipykernel)",
   "language": "python",
   "name": "python3"
  },
  "language_info": {
   "codemirror_mode": {
    "name": "ipython",
    "version": 3
   },
   "file_extension": ".py",
   "mimetype": "text/x-python",
   "name": "python",
   "nbconvert_exporter": "python",
   "pygments_lexer": "ipython3",
   "version": "3.10.4"
  }
 },
 "nbformat": 4,
 "nbformat_minor": 5
}
