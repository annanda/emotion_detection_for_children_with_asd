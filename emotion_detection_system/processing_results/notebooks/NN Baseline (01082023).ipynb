{
 "cells": [
  {
   "cell_type": "code",
   "execution_count": 1,
   "id": "732fd167",
   "metadata": {},
   "outputs": [],
   "source": [
    "import os\n",
    "import sys\n",
    "import numpy as np\n",
    "from scipy import stats\n",
    "\n",
    "# import seaborn as sns\n",
    "# from pylab import rcParams\n",
    "# import matplotlib.pyplot as plt\n",
    "# import matplotlib.animation as animation\n",
    "# from matplotlib import rc\n",
    "\n",
    "# configuration for graphics and random seed\n",
    "\n",
    "%matplotlib inline\n",
    "\n",
    "# sns.set(style='whitegrid', palette='muted', font_scale=1.5)\n",
    "\n",
    "# rcParams['figure.figsize'] = 14, 8"
   ]
  },
  {
   "cell_type": "code",
   "execution_count": 2,
   "id": "06e196b3",
   "metadata": {},
   "outputs": [],
   "source": [
    "NOTEBOOK_DIR = os.path.dirname(os.path.realpath(\"__file__\"))\n",
    "PROJECT_ROOT = os.path.dirname(NOTEBOOK_DIR)\n",
    "\n",
    "sys.path.append(PROJECT_ROOT) # make my_module available to import\n",
    "\n",
    "# Importing my python module utils\n",
    "from emotion_detection_system.processing_results.information_from_results import *"
   ]
  },
  {
   "cell_type": "code",
   "execution_count": 3,
   "id": "4518bf97",
   "metadata": {},
   "outputs": [],
   "source": [
    "current_data = nn_bl_data_results"
   ]
  },
  {
   "cell_type": "code",
   "execution_count": 4,
   "id": "9bf28243",
   "metadata": {},
   "outputs": [],
   "source": [
    "def does_it_pass_t_test(values_1, values_2,tolerance=0.05):\n",
    "    _, pvalue = stats.ttest_ind(values_1, values_2)\n",
    "    if pvalue <= tolerance:\n",
    "        return True\n",
    "    else:\n",
    "        return False"
   ]
  },
  {
   "cell_type": "markdown",
   "id": "789f1f54",
   "metadata": {},
   "source": [
    "# Dataset Subsets (A total of 48 subsets)\n",
    "\n",
    "- ### All data (general models: 4 models)\n",
    "\n",
    "- ### Data from Each Participant separately (specific models: 16 models)\n",
    "\n",
    "- ### Data from Each Session separately (highly specific models: 28 models)"
   ]
  },
  {
   "cell_type": "markdown",
   "id": "9252b2c1",
   "metadata": {},
   "source": [
    "## Results Multimodal (parents and specialist): Generic Models"
   ]
  },
  {
   "cell_type": "code",
   "execution_count": 7,
   "id": "39451ac9",
   "metadata": {
    "scrolled": false
   },
   "outputs": [
    {
     "name": "stdout",
     "output_type": "stream",
     "text": [
      "..........\n",
      "Average Accuracy in all_data_['va_late_fusion', 'va_early_fusion', 'a', 'v']_['parents', 'specialist'] models: 0.736012(+-0.105322)\n",
      "Baseline value in all_data_['va_late_fusion', 'va_early_fusion', 'a', 'v']_['parents', 'specialist'] models: 0.65985\n",
      "Difference from Baseline: 11.54%\n",
      "..........\n",
      "Average Balanced Accuracy in all_data_['va_late_fusion', 'va_early_fusion', 'a', 'v']_['parents', 'specialist'] models: 0.588562 (+-0.173466)\n",
      "Baseline value in all_data_['va_late_fusion', 'va_early_fusion', 'a', 'v']_['parents', 'specialist'] models: 0.415725\n",
      "Difference from Baseline: 41.57%\n",
      "..........\n",
      "Best Values for the current Scenario:\n",
      "..........\n",
      "Best Accuracy: 0.8258 (all_data_v_specialist)\n",
      "Accuracy of the best model in baseline: 0.7217 (all_data_v_specialist)\n",
      "\n",
      "Best Accuracy (baseline): 0.7217 (all_data_v_specialist)\n",
      "Accuracy of the best baseline model in this scenario: 0.8258 (all_data_v_specialist)\n",
      "\n",
      "Difference of Best Acc Value between Scenario and Baseline: 14.42%\n",
      "..........\n",
      "Best Balanced Accuracy: 0.7025 (all_data_v_specialist)\n",
      "Balanced Accuracy of the best model in baseline: 0.4775 (all_data_v_specialist)\n",
      "\n",
      "Best Balanced Accuracy (baseline): 0.4845 (all_data_v_parents)\n",
      "Best Accuracy of the best baseline model in this scenario: 0.7011 (all_data_v_parents)\n",
      "\n",
      "Difference of Best Balanced Acc Values between Scenario and Baseline: 44.99%\n"
     ]
    }
   ],
   "source": [
    "scenario=['va_late_fusion', 'va_early_fusion', 'a', 'v']\n",
    "annotation_type=['parents', 'specialist']\n",
    "subset_data='all_data'\n",
    "resulting_df, baseline_df = get_subset_data(current_data, \n",
    "                                            scenario=scenario,\n",
    "                                            annotation_type=annotation_type, \n",
    "                                            subdataset_case=subset_data)\n",
    "compare_against_baseline(resulting_df, baseline_df, scenario, annotation_type, subset_data)"
   ]
  },
  {
   "cell_type": "code",
   "execution_count": 8,
   "id": "34b4bb14",
   "metadata": {},
   "outputs": [
    {
     "data": {
      "text/html": [
       "<div>\n",
       "<style scoped>\n",
       "    .dataframe tbody tr th:only-of-type {\n",
       "        vertical-align: middle;\n",
       "    }\n",
       "\n",
       "    .dataframe tbody tr th {\n",
       "        vertical-align: top;\n",
       "    }\n",
       "\n",
       "    .dataframe thead th {\n",
       "        text-align: right;\n",
       "    }\n",
       "</style>\n",
       "<table border=\"1\" class=\"dataframe\">\n",
       "  <thead>\n",
       "    <tr style=\"text-align: right;\">\n",
       "      <th></th>\n",
       "      <th>Data_Included_Slug</th>\n",
       "      <th>Participant</th>\n",
       "      <th>Session</th>\n",
       "      <th>Scenario</th>\n",
       "      <th>Annotation_Type</th>\n",
       "      <th>Accuracy</th>\n",
       "      <th>Accuracy_Balanced</th>\n",
       "      <th>Precision_Blue</th>\n",
       "      <th>Precision_Green</th>\n",
       "      <th>Precision_Red</th>\n",
       "      <th>Precision_Yellow</th>\n",
       "      <th>Recall_Blue</th>\n",
       "      <th>Recall_Green</th>\n",
       "      <th>Recall_Red</th>\n",
       "      <th>Recall_Yellow</th>\n",
       "      <th>F1score_Blue</th>\n",
       "      <th>F1score_Green</th>\n",
       "      <th>F1score_Red</th>\n",
       "      <th>F1score_Yellow</th>\n",
       "    </tr>\n",
       "  </thead>\n",
       "  <tbody>\n",
       "    <tr>\n",
       "      <th>0</th>\n",
       "      <td>all_data_va_early_fusion</td>\n",
       "      <td>All data</td>\n",
       "      <td>NaN</td>\n",
       "      <td>va_early_fusion</td>\n",
       "      <td>parents</td>\n",
       "      <td>0.7503</td>\n",
       "      <td>0.6557</td>\n",
       "      <td>0.7384</td>\n",
       "      <td>0.8066</td>\n",
       "      <td>0.6220</td>\n",
       "      <td>0.6034</td>\n",
       "      <td>0.6921</td>\n",
       "      <td>0.8568</td>\n",
       "      <td>0.50000</td>\n",
       "      <td>0.5740</td>\n",
       "      <td>0.7145</td>\n",
       "      <td>0.8310</td>\n",
       "      <td>0.55440</td>\n",
       "      <td>0.5884</td>\n",
       "    </tr>\n",
       "    <tr>\n",
       "      <th>13</th>\n",
       "      <td>all_data_a</td>\n",
       "      <td>All data</td>\n",
       "      <td>NaN</td>\n",
       "      <td>a</td>\n",
       "      <td>parents</td>\n",
       "      <td>0.5405</td>\n",
       "      <td>0.3218</td>\n",
       "      <td>0.4452</td>\n",
       "      <td>0.5718</td>\n",
       "      <td>0.3729</td>\n",
       "      <td>0.3093</td>\n",
       "      <td>0.1429</td>\n",
       "      <td>0.8841</td>\n",
       "      <td>0.13880</td>\n",
       "      <td>0.1216</td>\n",
       "      <td>0.2163</td>\n",
       "      <td>0.6945</td>\n",
       "      <td>0.20230</td>\n",
       "      <td>0.1745</td>\n",
       "    </tr>\n",
       "    <tr>\n",
       "      <th>14</th>\n",
       "      <td>all_data_va_late_fusion</td>\n",
       "      <td>All data</td>\n",
       "      <td>NaN</td>\n",
       "      <td>va_late_fusion</td>\n",
       "      <td>parents</td>\n",
       "      <td>0.7755</td>\n",
       "      <td>0.6809</td>\n",
       "      <td>0.7696</td>\n",
       "      <td>0.8186</td>\n",
       "      <td>0.6475</td>\n",
       "      <td>0.6562</td>\n",
       "      <td>0.7349</td>\n",
       "      <td>0.8827</td>\n",
       "      <td>0.53480</td>\n",
       "      <td>0.5710</td>\n",
       "      <td>0.7519</td>\n",
       "      <td>0.8494</td>\n",
       "      <td>0.58580</td>\n",
       "      <td>0.6106</td>\n",
       "    </tr>\n",
       "    <tr>\n",
       "      <th>25</th>\n",
       "      <td>all_data_v</td>\n",
       "      <td>All data</td>\n",
       "      <td>NaN</td>\n",
       "      <td>v</td>\n",
       "      <td>parents</td>\n",
       "      <td>0.7685</td>\n",
       "      <td>0.7011</td>\n",
       "      <td>0.7356</td>\n",
       "      <td>0.8438</td>\n",
       "      <td>0.6169</td>\n",
       "      <td>0.6218</td>\n",
       "      <td>0.7441</td>\n",
       "      <td>0.8455</td>\n",
       "      <td>0.60130</td>\n",
       "      <td>0.6136</td>\n",
       "      <td>0.7398</td>\n",
       "      <td>0.8447</td>\n",
       "      <td>0.60900</td>\n",
       "      <td>0.6177</td>\n",
       "    </tr>\n",
       "    <tr>\n",
       "      <th>57</th>\n",
       "      <td>all_data_v</td>\n",
       "      <td>All data</td>\n",
       "      <td>NaN</td>\n",
       "      <td>v</td>\n",
       "      <td>specialist</td>\n",
       "      <td>0.8258</td>\n",
       "      <td>0.7025</td>\n",
       "      <td>0.8012</td>\n",
       "      <td>0.8643</td>\n",
       "      <td>0.6703</td>\n",
       "      <td>0.7095</td>\n",
       "      <td>0.7134</td>\n",
       "      <td>0.9083</td>\n",
       "      <td>0.49590</td>\n",
       "      <td>0.6923</td>\n",
       "      <td>0.7548</td>\n",
       "      <td>0.8857</td>\n",
       "      <td>0.57010</td>\n",
       "      <td>0.7008</td>\n",
       "    </tr>\n",
       "    <tr>\n",
       "      <th>68</th>\n",
       "      <td>all_data_va_late_fusion</td>\n",
       "      <td>All data</td>\n",
       "      <td>NaN</td>\n",
       "      <td>va_late_fusion</td>\n",
       "      <td>specialist</td>\n",
       "      <td>0.8216</td>\n",
       "      <td>0.6597</td>\n",
       "      <td>0.8207</td>\n",
       "      <td>0.8401</td>\n",
       "      <td>0.6857</td>\n",
       "      <td>0.7440</td>\n",
       "      <td>0.6661</td>\n",
       "      <td>0.9310</td>\n",
       "      <td>0.39020</td>\n",
       "      <td>0.6516</td>\n",
       "      <td>0.7354</td>\n",
       "      <td>0.8832</td>\n",
       "      <td>0.49740</td>\n",
       "      <td>0.6948</td>\n",
       "    </tr>\n",
       "    <tr>\n",
       "      <th>70</th>\n",
       "      <td>all_data_va_early_fusion</td>\n",
       "      <td>All data</td>\n",
       "      <td>NaN</td>\n",
       "      <td>va_early_fusion</td>\n",
       "      <td>specialist</td>\n",
       "      <td>0.8005</td>\n",
       "      <td>0.6904</td>\n",
       "      <td>0.7752</td>\n",
       "      <td>0.8492</td>\n",
       "      <td>0.5000</td>\n",
       "      <td>0.6701</td>\n",
       "      <td>0.6617</td>\n",
       "      <td>0.8941</td>\n",
       "      <td>0.56100</td>\n",
       "      <td>0.6451</td>\n",
       "      <td>0.7139</td>\n",
       "      <td>0.8711</td>\n",
       "      <td>0.52870</td>\n",
       "      <td>0.6573</td>\n",
       "    </tr>\n",
       "    <tr>\n",
       "      <th>91</th>\n",
       "      <td>all_data_a</td>\n",
       "      <td>All data</td>\n",
       "      <td>NaN</td>\n",
       "      <td>a</td>\n",
       "      <td>specialist</td>\n",
       "      <td>0.6054</td>\n",
       "      <td>0.2964</td>\n",
       "      <td>0.3828</td>\n",
       "      <td>0.6428</td>\n",
       "      <td>0.1154</td>\n",
       "      <td>0.3481</td>\n",
       "      <td>0.1288</td>\n",
       "      <td>0.9030</td>\n",
       "      <td>0.02439</td>\n",
       "      <td>0.1295</td>\n",
       "      <td>0.1928</td>\n",
       "      <td>0.7510</td>\n",
       "      <td>0.04027</td>\n",
       "      <td>0.1888</td>\n",
       "    </tr>\n",
       "  </tbody>\n",
       "</table>\n",
       "</div>"
      ],
      "text/plain": [
       "          Data_Included_Slug Participant Session         Scenario  \\\n",
       "0   all_data_va_early_fusion    All data     NaN  va_early_fusion   \n",
       "13                all_data_a    All data     NaN                a   \n",
       "14   all_data_va_late_fusion    All data     NaN   va_late_fusion   \n",
       "25                all_data_v    All data     NaN                v   \n",
       "57                all_data_v    All data     NaN                v   \n",
       "68   all_data_va_late_fusion    All data     NaN   va_late_fusion   \n",
       "70  all_data_va_early_fusion    All data     NaN  va_early_fusion   \n",
       "91                all_data_a    All data     NaN                a   \n",
       "\n",
       "   Annotation_Type  Accuracy  Accuracy_Balanced  Precision_Blue  \\\n",
       "0          parents    0.7503             0.6557          0.7384   \n",
       "13         parents    0.5405             0.3218          0.4452   \n",
       "14         parents    0.7755             0.6809          0.7696   \n",
       "25         parents    0.7685             0.7011          0.7356   \n",
       "57      specialist    0.8258             0.7025          0.8012   \n",
       "68      specialist    0.8216             0.6597          0.8207   \n",
       "70      specialist    0.8005             0.6904          0.7752   \n",
       "91      specialist    0.6054             0.2964          0.3828   \n",
       "\n",
       "    Precision_Green  Precision_Red  Precision_Yellow  Recall_Blue  \\\n",
       "0            0.8066         0.6220            0.6034       0.6921   \n",
       "13           0.5718         0.3729            0.3093       0.1429   \n",
       "14           0.8186         0.6475            0.6562       0.7349   \n",
       "25           0.8438         0.6169            0.6218       0.7441   \n",
       "57           0.8643         0.6703            0.7095       0.7134   \n",
       "68           0.8401         0.6857            0.7440       0.6661   \n",
       "70           0.8492         0.5000            0.6701       0.6617   \n",
       "91           0.6428         0.1154            0.3481       0.1288   \n",
       "\n",
       "    Recall_Green  Recall_Red  Recall_Yellow  F1score_Blue  F1score_Green  \\\n",
       "0         0.8568     0.50000         0.5740        0.7145         0.8310   \n",
       "13        0.8841     0.13880         0.1216        0.2163         0.6945   \n",
       "14        0.8827     0.53480         0.5710        0.7519         0.8494   \n",
       "25        0.8455     0.60130         0.6136        0.7398         0.8447   \n",
       "57        0.9083     0.49590         0.6923        0.7548         0.8857   \n",
       "68        0.9310     0.39020         0.6516        0.7354         0.8832   \n",
       "70        0.8941     0.56100         0.6451        0.7139         0.8711   \n",
       "91        0.9030     0.02439         0.1295        0.1928         0.7510   \n",
       "\n",
       "    F1score_Red  F1score_Yellow  \n",
       "0       0.55440          0.5884  \n",
       "13      0.20230          0.1745  \n",
       "14      0.58580          0.6106  \n",
       "25      0.60900          0.6177  \n",
       "57      0.57010          0.7008  \n",
       "68      0.49740          0.6948  \n",
       "70      0.52870          0.6573  \n",
       "91      0.04027          0.1888  "
      ]
     },
     "execution_count": 8,
     "metadata": {},
     "output_type": "execute_result"
    }
   ],
   "source": [
    "resulting_df"
   ]
  },
  {
   "cell_type": "markdown",
   "id": "3d6039b4",
   "metadata": {},
   "source": [
    "## Results Multimodal (parents and specialist): Specific Models"
   ]
  },
  {
   "cell_type": "code",
   "execution_count": 13,
   "id": "7dd59bc8",
   "metadata": {},
   "outputs": [
    {
     "name": "stdout",
     "output_type": "stream",
     "text": [
      "..........\n",
      "Average Accuracy in participants_['va_late_fusion', 'va_early_fusion']_['parents'] models: 0.752812(+-0.035267)\n",
      "Baseline value in participants_['va_late_fusion', 'va_early_fusion']_['parents'] models: 0.6934\n",
      "Difference from Baseline: 8.57%\n",
      "..........\n",
      "Average Balanced Accuracy in participants_['va_late_fusion', 'va_early_fusion']_['parents'] models: 0.70885 (+-0.060867)\n",
      "Baseline value in participants_['va_late_fusion', 'va_early_fusion']_['parents'] models: 0.50295\n",
      "Difference from Baseline: 40.94%\n",
      "..........\n",
      "Best Values for the current Scenario:\n",
      "..........\n",
      "Best Accuracy: 0.8091 (participant_03_va_late_fusion_parents)\n",
      "Accuracy of the best model in baseline: 0.7267 (participant_03_va_late_fusion_parents)\n",
      "\n",
      "Best Accuracy (baseline): 0.7267 (participant_03_va_late_fusion_parents)\n",
      "Accuracy of the best baseline model in this scenario: 0.8091 (participant_03_va_late_fusion_parents)\n",
      "\n",
      "Difference of Best Acc Value between Scenario and Baseline: 11.34%\n",
      "..........\n",
      "Best Balanced Accuracy: 0.812 (participant_03_va_late_fusion_parents)\n",
      "Balanced Accuracy of the best model in baseline: 0.6059 (participant_03_va_late_fusion_parents)\n",
      "\n",
      "Best Balanced Accuracy (baseline): 0.6233 (participant_03_va_early_fusion_parents)\n",
      "Best Accuracy of the best baseline model in this scenario: 0.7773 (participant_03_va_early_fusion_parents)\n",
      "\n",
      "Difference of Best Balanced Acc Values between Scenario and Baseline: 30.27%\n"
     ]
    }
   ],
   "source": [
    "scenario=['va_late_fusion', 'va_early_fusion']\n",
    "annotation_type=['parents']\n",
    "subset_data='participants'\n",
    "resulting_df, baseline_df = get_subset_data(current_data, \n",
    "                                            scenario=scenario,\n",
    "                                            annotation_type=annotation_type, \n",
    "                                            subdataset_case=subset_data)\n",
    "compare_against_baseline(resulting_df, baseline_df, scenario, annotation_type, subset_data)"
   ]
  },
  {
   "cell_type": "code",
   "execution_count": 8,
   "id": "f7231d0a",
   "metadata": {},
   "outputs": [
    {
     "data": {
      "text/html": [
       "<div>\n",
       "<style scoped>\n",
       "    .dataframe tbody tr th:only-of-type {\n",
       "        vertical-align: middle;\n",
       "    }\n",
       "\n",
       "    .dataframe tbody tr th {\n",
       "        vertical-align: top;\n",
       "    }\n",
       "\n",
       "    .dataframe thead th {\n",
       "        text-align: right;\n",
       "    }\n",
       "</style>\n",
       "<table border=\"1\" class=\"dataframe\">\n",
       "  <thead>\n",
       "    <tr style=\"text-align: right;\">\n",
       "      <th></th>\n",
       "      <th>Data_Included_Slug</th>\n",
       "      <th>Participant</th>\n",
       "      <th>Session</th>\n",
       "      <th>Scenario</th>\n",
       "      <th>Annotation_Type</th>\n",
       "      <th>Accuracy</th>\n",
       "      <th>Accuracy_Balanced</th>\n",
       "      <th>Precision_Blue</th>\n",
       "      <th>Precision_Green</th>\n",
       "      <th>Precision_Red</th>\n",
       "      <th>Precision_Yellow</th>\n",
       "      <th>Recall_Blue</th>\n",
       "      <th>Recall_Green</th>\n",
       "      <th>Recall_Red</th>\n",
       "      <th>Recall_Yellow</th>\n",
       "      <th>F1score_Blue</th>\n",
       "      <th>F1score_Green</th>\n",
       "      <th>F1score_Red</th>\n",
       "      <th>F1score_Yellow</th>\n",
       "    </tr>\n",
       "  </thead>\n",
       "  <tbody>\n",
       "    <tr>\n",
       "      <th>49</th>\n",
       "      <td>participant_01_va_early_fusion</td>\n",
       "      <td>Participant_01</td>\n",
       "      <td>NaN</td>\n",
       "      <td>va_early_fusion</td>\n",
       "      <td>specialist</td>\n",
       "      <td>0.8070</td>\n",
       "      <td>0.7645</td>\n",
       "      <td>0.7778</td>\n",
       "      <td>0.8900</td>\n",
       "      <td>0.5088</td>\n",
       "      <td>0.7156</td>\n",
       "      <td>0.7568</td>\n",
       "      <td>0.8444</td>\n",
       "      <td>0.6744</td>\n",
       "      <td>0.7824</td>\n",
       "      <td>0.7671</td>\n",
       "      <td>0.8666</td>\n",
       "      <td>0.5800</td>\n",
       "      <td>0.7475</td>\n",
       "    </tr>\n",
       "    <tr>\n",
       "      <th>52</th>\n",
       "      <td>participant_04_va_early_fusion</td>\n",
       "      <td>Participant_04</td>\n",
       "      <td>NaN</td>\n",
       "      <td>va_early_fusion</td>\n",
       "      <td>specialist</td>\n",
       "      <td>0.7633</td>\n",
       "      <td>0.7384</td>\n",
       "      <td>0.6006</td>\n",
       "      <td>0.8727</td>\n",
       "      <td>0.5000</td>\n",
       "      <td>0.7164</td>\n",
       "      <td>0.6879</td>\n",
       "      <td>0.7907</td>\n",
       "      <td>0.7083</td>\n",
       "      <td>0.7665</td>\n",
       "      <td>0.6413</td>\n",
       "      <td>0.8297</td>\n",
       "      <td>0.5862</td>\n",
       "      <td>0.7406</td>\n",
       "    </tr>\n",
       "    <tr>\n",
       "      <th>58</th>\n",
       "      <td>participant_02_va_late_fusion</td>\n",
       "      <td>Participant_02</td>\n",
       "      <td>NaN</td>\n",
       "      <td>va_late_fusion</td>\n",
       "      <td>specialist</td>\n",
       "      <td>0.8306</td>\n",
       "      <td>0.7536</td>\n",
       "      <td>0.7485</td>\n",
       "      <td>0.9236</td>\n",
       "      <td>0.5000</td>\n",
       "      <td>0.5694</td>\n",
       "      <td>0.8161</td>\n",
       "      <td>0.8580</td>\n",
       "      <td>0.6250</td>\n",
       "      <td>0.7151</td>\n",
       "      <td>0.7809</td>\n",
       "      <td>0.8896</td>\n",
       "      <td>0.5556</td>\n",
       "      <td>0.6340</td>\n",
       "    </tr>\n",
       "    <tr>\n",
       "      <th>60</th>\n",
       "      <td>participant_03_va_late_fusion</td>\n",
       "      <td>Participant_03</td>\n",
       "      <td>NaN</td>\n",
       "      <td>va_late_fusion</td>\n",
       "      <td>specialist</td>\n",
       "      <td>0.8623</td>\n",
       "      <td>0.8263</td>\n",
       "      <td>0.8390</td>\n",
       "      <td>0.9058</td>\n",
       "      <td>NaN</td>\n",
       "      <td>0.7381</td>\n",
       "      <td>0.8159</td>\n",
       "      <td>0.9094</td>\n",
       "      <td>NaN</td>\n",
       "      <td>0.7535</td>\n",
       "      <td>0.8273</td>\n",
       "      <td>0.9076</td>\n",
       "      <td>NaN</td>\n",
       "      <td>0.7457</td>\n",
       "    </tr>\n",
       "    <tr>\n",
       "      <th>62</th>\n",
       "      <td>participant_01_va_late_fusion</td>\n",
       "      <td>Participant_01</td>\n",
       "      <td>NaN</td>\n",
       "      <td>va_late_fusion</td>\n",
       "      <td>specialist</td>\n",
       "      <td>0.8143</td>\n",
       "      <td>0.7498</td>\n",
       "      <td>0.7268</td>\n",
       "      <td>0.8976</td>\n",
       "      <td>0.7273</td>\n",
       "      <td>0.7170</td>\n",
       "      <td>0.8054</td>\n",
       "      <td>0.8482</td>\n",
       "      <td>0.5581</td>\n",
       "      <td>0.7876</td>\n",
       "      <td>0.7641</td>\n",
       "      <td>0.8722</td>\n",
       "      <td>0.6316</td>\n",
       "      <td>0.7506</td>\n",
       "    </tr>\n",
       "    <tr>\n",
       "      <th>70</th>\n",
       "      <td>participant_04_va_late_fusion</td>\n",
       "      <td>Participant_04</td>\n",
       "      <td>NaN</td>\n",
       "      <td>va_late_fusion</td>\n",
       "      <td>specialist</td>\n",
       "      <td>0.7864</td>\n",
       "      <td>0.7349</td>\n",
       "      <td>0.6307</td>\n",
       "      <td>0.8804</td>\n",
       "      <td>0.5636</td>\n",
       "      <td>0.7326</td>\n",
       "      <td>0.6844</td>\n",
       "      <td>0.8312</td>\n",
       "      <td>0.6458</td>\n",
       "      <td>0.7782</td>\n",
       "      <td>0.6565</td>\n",
       "      <td>0.8550</td>\n",
       "      <td>0.6019</td>\n",
       "      <td>0.7547</td>\n",
       "    </tr>\n",
       "    <tr>\n",
       "      <th>81</th>\n",
       "      <td>participant_03_va_early_fusion</td>\n",
       "      <td>Participant_03</td>\n",
       "      <td>NaN</td>\n",
       "      <td>va_early_fusion</td>\n",
       "      <td>specialist</td>\n",
       "      <td>0.8153</td>\n",
       "      <td>0.7977</td>\n",
       "      <td>0.7704</td>\n",
       "      <td>0.9068</td>\n",
       "      <td>NaN</td>\n",
       "      <td>0.6140</td>\n",
       "      <td>0.8297</td>\n",
       "      <td>0.8343</td>\n",
       "      <td>NaN</td>\n",
       "      <td>0.7292</td>\n",
       "      <td>0.7989</td>\n",
       "      <td>0.8690</td>\n",
       "      <td>NaN</td>\n",
       "      <td>0.6667</td>\n",
       "    </tr>\n",
       "    <tr>\n",
       "      <th>90</th>\n",
       "      <td>participant_02_va_early_fusion</td>\n",
       "      <td>Participant_02</td>\n",
       "      <td>NaN</td>\n",
       "      <td>va_early_fusion</td>\n",
       "      <td>specialist</td>\n",
       "      <td>0.8275</td>\n",
       "      <td>0.6841</td>\n",
       "      <td>0.7906</td>\n",
       "      <td>0.8709</td>\n",
       "      <td>0.6207</td>\n",
       "      <td>0.6076</td>\n",
       "      <td>0.7065</td>\n",
       "      <td>0.9095</td>\n",
       "      <td>0.5625</td>\n",
       "      <td>0.5581</td>\n",
       "      <td>0.7462</td>\n",
       "      <td>0.8898</td>\n",
       "      <td>0.5902</td>\n",
       "      <td>0.5818</td>\n",
       "    </tr>\n",
       "  </tbody>\n",
       "</table>\n",
       "</div>"
      ],
      "text/plain": [
       "                Data_Included_Slug     Participant Session         Scenario  \\\n",
       "49  participant_01_va_early_fusion  Participant_01     NaN  va_early_fusion   \n",
       "52  participant_04_va_early_fusion  Participant_04     NaN  va_early_fusion   \n",
       "58   participant_02_va_late_fusion  Participant_02     NaN   va_late_fusion   \n",
       "60   participant_03_va_late_fusion  Participant_03     NaN   va_late_fusion   \n",
       "62   participant_01_va_late_fusion  Participant_01     NaN   va_late_fusion   \n",
       "70   participant_04_va_late_fusion  Participant_04     NaN   va_late_fusion   \n",
       "81  participant_03_va_early_fusion  Participant_03     NaN  va_early_fusion   \n",
       "90  participant_02_va_early_fusion  Participant_02     NaN  va_early_fusion   \n",
       "\n",
       "   Annotation_Type  Accuracy  Accuracy_Balanced  Precision_Blue  \\\n",
       "49      specialist    0.8070             0.7645          0.7778   \n",
       "52      specialist    0.7633             0.7384          0.6006   \n",
       "58      specialist    0.8306             0.7536          0.7485   \n",
       "60      specialist    0.8623             0.8263          0.8390   \n",
       "62      specialist    0.8143             0.7498          0.7268   \n",
       "70      specialist    0.7864             0.7349          0.6307   \n",
       "81      specialist    0.8153             0.7977          0.7704   \n",
       "90      specialist    0.8275             0.6841          0.7906   \n",
       "\n",
       "    Precision_Green  Precision_Red  Precision_Yellow  Recall_Blue  \\\n",
       "49           0.8900         0.5088            0.7156       0.7568   \n",
       "52           0.8727         0.5000            0.7164       0.6879   \n",
       "58           0.9236         0.5000            0.5694       0.8161   \n",
       "60           0.9058            NaN            0.7381       0.8159   \n",
       "62           0.8976         0.7273            0.7170       0.8054   \n",
       "70           0.8804         0.5636            0.7326       0.6844   \n",
       "81           0.9068            NaN            0.6140       0.8297   \n",
       "90           0.8709         0.6207            0.6076       0.7065   \n",
       "\n",
       "    Recall_Green  Recall_Red  Recall_Yellow  F1score_Blue  F1score_Green  \\\n",
       "49        0.8444      0.6744         0.7824        0.7671         0.8666   \n",
       "52        0.7907      0.7083         0.7665        0.6413         0.8297   \n",
       "58        0.8580      0.6250         0.7151        0.7809         0.8896   \n",
       "60        0.9094         NaN         0.7535        0.8273         0.9076   \n",
       "62        0.8482      0.5581         0.7876        0.7641         0.8722   \n",
       "70        0.8312      0.6458         0.7782        0.6565         0.8550   \n",
       "81        0.8343         NaN         0.7292        0.7989         0.8690   \n",
       "90        0.9095      0.5625         0.5581        0.7462         0.8898   \n",
       "\n",
       "    F1score_Red  F1score_Yellow  \n",
       "49       0.5800          0.7475  \n",
       "52       0.5862          0.7406  \n",
       "58       0.5556          0.6340  \n",
       "60          NaN          0.7457  \n",
       "62       0.6316          0.7506  \n",
       "70       0.6019          0.7547  \n",
       "81          NaN          0.6667  \n",
       "90       0.5902          0.5818  "
      ]
     },
     "execution_count": 8,
     "metadata": {},
     "output_type": "execute_result"
    }
   ],
   "source": [
    "resulting_df"
   ]
  },
  {
   "cell_type": "markdown",
   "id": "a5d604ec",
   "metadata": {},
   "source": [
    "## Results Multimodal (parents and specialist): Highly Specific Models"
   ]
  },
  {
   "cell_type": "code",
   "execution_count": 16,
   "id": "71ef834d",
   "metadata": {},
   "outputs": [
    {
     "name": "stdout",
     "output_type": "stream",
     "text": [
      "..........\n",
      "Average Accuracy in sessions_['va_late_fusion', 'va_early_fusion']_['parents'] models: 0.794557(+-0.046496)\n",
      "Baseline value in sessions_['va_late_fusion', 'va_early_fusion']_['parents'] models: 0.723493\n",
      "Difference from Baseline: 9.82%\n",
      "..........\n",
      "Average Balanced Accuracy in sessions_['va_late_fusion', 'va_early_fusion']_['parents'] models: 0.743286 (+-0.069311)\n",
      "Baseline value in sessions_['va_late_fusion', 'va_early_fusion']_['parents'] models: 0.551071\n",
      "Difference from Baseline: 34.88%\n",
      "..........\n",
      "Best Values for the current Scenario:\n",
      "..........\n",
      "Best Accuracy: 0.8895 (session_03_01_va_late_fusion_parents)\n",
      "Accuracy of the best model in baseline: 0.8064 (session_03_01_va_late_fusion_parents)\n",
      "\n",
      "Best Accuracy (baseline): 0.8064 (session_03_01_va_late_fusion_parents)\n",
      "Accuracy of the best baseline model in this scenario: 0.8895 (session_03_01_va_late_fusion_parents)\n",
      "\n",
      "Difference of Best Acc Value between Scenario and Baseline: 10.31%\n",
      "..........\n",
      "Best Balanced Accuracy: 0.8656 (session_03_01_va_early_fusion_parents)\n",
      "Balanced Accuracy of the best model in baseline: 0.6912 (session_03_01_va_early_fusion_parents)\n",
      "\n",
      "Best Balanced Accuracy (baseline): 0.6912 (session_03_01_va_early_fusion_parents)\n",
      "Best Accuracy of the best baseline model in this scenario: 0.8656 (session_03_01_va_early_fusion_parents)\n",
      "\n",
      "Difference of Best Balanced Acc Values between Scenario and Baseline: 25.23%\n"
     ]
    }
   ],
   "source": [
    "scenario=['va_late_fusion', 'va_early_fusion']\n",
    "annotation_type=['parents']\n",
    "subset_data='sessions'\n",
    "resulting_df, baseline_df = get_subset_data(current_data, \n",
    "                                            scenario=scenario,\n",
    "                                            annotation_type=annotation_type, \n",
    "                                            subdataset_case=subset_data)\n",
    "compare_against_baseline(resulting_df, baseline_df, scenario, annotation_type, subset_data)"
   ]
  },
  {
   "cell_type": "code",
   "execution_count": 15,
   "id": "cdc88e64",
   "metadata": {},
   "outputs": [
    {
     "data": {
      "text/html": [
       "<div>\n",
       "<style scoped>\n",
       "    .dataframe tbody tr th:only-of-type {\n",
       "        vertical-align: middle;\n",
       "    }\n",
       "\n",
       "    .dataframe tbody tr th {\n",
       "        vertical-align: top;\n",
       "    }\n",
       "\n",
       "    .dataframe thead th {\n",
       "        text-align: right;\n",
       "    }\n",
       "</style>\n",
       "<table border=\"1\" class=\"dataframe\">\n",
       "  <thead>\n",
       "    <tr style=\"text-align: right;\">\n",
       "      <th></th>\n",
       "      <th>Data_Included_Slug</th>\n",
       "      <th>Participant</th>\n",
       "      <th>Session</th>\n",
       "      <th>Scenario</th>\n",
       "      <th>Annotation_Type</th>\n",
       "      <th>Accuracy</th>\n",
       "      <th>Accuracy_Balanced</th>\n",
       "      <th>Precision_Blue</th>\n",
       "      <th>Precision_Green</th>\n",
       "      <th>Precision_Red</th>\n",
       "      <th>Precision_Yellow</th>\n",
       "      <th>Recall_Blue</th>\n",
       "      <th>Recall_Green</th>\n",
       "      <th>Recall_Red</th>\n",
       "      <th>Recall_Yellow</th>\n",
       "      <th>F1score_Blue</th>\n",
       "      <th>F1score_Green</th>\n",
       "      <th>F1score_Red</th>\n",
       "      <th>F1score_Yellow</th>\n",
       "    </tr>\n",
       "  </thead>\n",
       "  <tbody>\n",
       "    <tr>\n",
       "      <th>4</th>\n",
       "      <td>session_02_02_va_early_fusion</td>\n",
       "      <td>NaN</td>\n",
       "      <td>Session_02_02</td>\n",
       "      <td>va_early_fusion</td>\n",
       "      <td>parents</td>\n",
       "      <td>0.7633</td>\n",
       "      <td>0.7362</td>\n",
       "      <td>0.7178</td>\n",
       "      <td>0.8571</td>\n",
       "      <td>0.6500</td>\n",
       "      <td>0.5912</td>\n",
       "      <td>0.7178</td>\n",
       "      <td>0.8225</td>\n",
       "      <td>0.8000</td>\n",
       "      <td>0.6045</td>\n",
       "      <td>0.7178</td>\n",
       "      <td>0.8394</td>\n",
       "      <td>0.7172</td>\n",
       "      <td>0.5978</td>\n",
       "    </tr>\n",
       "    <tr>\n",
       "      <th>6</th>\n",
       "      <td>session_04_01_va_early_fusion</td>\n",
       "      <td>NaN</td>\n",
       "      <td>Session_04_01</td>\n",
       "      <td>va_early_fusion</td>\n",
       "      <td>parents</td>\n",
       "      <td>0.8153</td>\n",
       "      <td>0.7353</td>\n",
       "      <td>0.7255</td>\n",
       "      <td>0.8922</td>\n",
       "      <td>0.5667</td>\n",
       "      <td>0.6706</td>\n",
       "      <td>0.7551</td>\n",
       "      <td>0.8664</td>\n",
       "      <td>0.6071</td>\n",
       "      <td>0.7125</td>\n",
       "      <td>0.7400</td>\n",
       "      <td>0.8791</td>\n",
       "      <td>0.5862</td>\n",
       "      <td>0.6909</td>\n",
       "    </tr>\n",
       "    <tr>\n",
       "      <th>13</th>\n",
       "      <td>session_03_01_va_early_fusion</td>\n",
       "      <td>NaN</td>\n",
       "      <td>Session_03_01</td>\n",
       "      <td>va_early_fusion</td>\n",
       "      <td>parents</td>\n",
       "      <td>0.8770</td>\n",
       "      <td>0.8656</td>\n",
       "      <td>0.8491</td>\n",
       "      <td>0.9367</td>\n",
       "      <td>0.8519</td>\n",
       "      <td>0.7034</td>\n",
       "      <td>0.8678</td>\n",
       "      <td>0.8988</td>\n",
       "      <td>0.9200</td>\n",
       "      <td>0.7757</td>\n",
       "      <td>0.8584</td>\n",
       "      <td>0.9174</td>\n",
       "      <td>0.8846</td>\n",
       "      <td>0.7378</td>\n",
       "    </tr>\n",
       "    <tr>\n",
       "      <th>19</th>\n",
       "      <td>session_01_01_va_late_fusion</td>\n",
       "      <td>NaN</td>\n",
       "      <td>Session_01_01</td>\n",
       "      <td>va_late_fusion</td>\n",
       "      <td>parents</td>\n",
       "      <td>0.7734</td>\n",
       "      <td>0.6953</td>\n",
       "      <td>0.7541</td>\n",
       "      <td>0.8594</td>\n",
       "      <td>0.5556</td>\n",
       "      <td>0.5091</td>\n",
       "      <td>0.7302</td>\n",
       "      <td>0.8295</td>\n",
       "      <td>0.5128</td>\n",
       "      <td>0.7089</td>\n",
       "      <td>0.7419</td>\n",
       "      <td>0.8442</td>\n",
       "      <td>0.5333</td>\n",
       "      <td>0.5926</td>\n",
       "    </tr>\n",
       "    <tr>\n",
       "      <th>20</th>\n",
       "      <td>session_03_02_va_early_fusion</td>\n",
       "      <td>NaN</td>\n",
       "      <td>Session_03_02</td>\n",
       "      <td>va_early_fusion</td>\n",
       "      <td>parents</td>\n",
       "      <td>0.8083</td>\n",
       "      <td>0.7842</td>\n",
       "      <td>0.8250</td>\n",
       "      <td>0.8432</td>\n",
       "      <td>0.6667</td>\n",
       "      <td>0.7397</td>\n",
       "      <td>0.7534</td>\n",
       "      <td>0.8691</td>\n",
       "      <td>0.7500</td>\n",
       "      <td>0.7642</td>\n",
       "      <td>0.7876</td>\n",
       "      <td>0.8560</td>\n",
       "      <td>0.7059</td>\n",
       "      <td>0.7517</td>\n",
       "    </tr>\n",
       "    <tr>\n",
       "      <th>26</th>\n",
       "      <td>session_01_01_va_early_fusion</td>\n",
       "      <td>NaN</td>\n",
       "      <td>Session_01_01</td>\n",
       "      <td>va_early_fusion</td>\n",
       "      <td>parents</td>\n",
       "      <td>0.7566</td>\n",
       "      <td>0.6388</td>\n",
       "      <td>0.7127</td>\n",
       "      <td>0.8617</td>\n",
       "      <td>0.3810</td>\n",
       "      <td>0.5366</td>\n",
       "      <td>0.8032</td>\n",
       "      <td>0.7849</td>\n",
       "      <td>0.4103</td>\n",
       "      <td>0.5570</td>\n",
       "      <td>0.7552</td>\n",
       "      <td>0.8215</td>\n",
       "      <td>0.3951</td>\n",
       "      <td>0.5466</td>\n",
       "    </tr>\n",
       "    <tr>\n",
       "      <th>27</th>\n",
       "      <td>session_02_02_va_late_fusion</td>\n",
       "      <td>NaN</td>\n",
       "      <td>Session_02_02</td>\n",
       "      <td>va_late_fusion</td>\n",
       "      <td>parents</td>\n",
       "      <td>0.7881</td>\n",
       "      <td>0.7850</td>\n",
       "      <td>0.7222</td>\n",
       "      <td>0.8673</td>\n",
       "      <td>0.7059</td>\n",
       "      <td>0.6667</td>\n",
       "      <td>0.7975</td>\n",
       "      <td>0.8225</td>\n",
       "      <td>0.9231</td>\n",
       "      <td>0.5970</td>\n",
       "      <td>0.7580</td>\n",
       "      <td>0.8443</td>\n",
       "      <td>0.8000</td>\n",
       "      <td>0.6299</td>\n",
       "    </tr>\n",
       "    <tr>\n",
       "      <th>29</th>\n",
       "      <td>session_02_01_va_late_fusion</td>\n",
       "      <td>NaN</td>\n",
       "      <td>Session_02_01</td>\n",
       "      <td>va_late_fusion</td>\n",
       "      <td>parents</td>\n",
       "      <td>0.7758</td>\n",
       "      <td>0.7664</td>\n",
       "      <td>0.8052</td>\n",
       "      <td>0.8596</td>\n",
       "      <td>0.5429</td>\n",
       "      <td>0.7306</td>\n",
       "      <td>0.8921</td>\n",
       "      <td>0.8338</td>\n",
       "      <td>0.6867</td>\n",
       "      <td>0.6531</td>\n",
       "      <td>0.8464</td>\n",
       "      <td>0.8465</td>\n",
       "      <td>0.6064</td>\n",
       "      <td>0.6897</td>\n",
       "    </tr>\n",
       "    <tr>\n",
       "      <th>33</th>\n",
       "      <td>session_03_01_va_late_fusion</td>\n",
       "      <td>NaN</td>\n",
       "      <td>Session_03_01</td>\n",
       "      <td>va_late_fusion</td>\n",
       "      <td>parents</td>\n",
       "      <td>0.8895</td>\n",
       "      <td>0.8643</td>\n",
       "      <td>0.8597</td>\n",
       "      <td>0.9296</td>\n",
       "      <td>0.8491</td>\n",
       "      <td>0.7850</td>\n",
       "      <td>0.8370</td>\n",
       "      <td>0.9352</td>\n",
       "      <td>0.9000</td>\n",
       "      <td>0.7850</td>\n",
       "      <td>0.8482</td>\n",
       "      <td>0.9324</td>\n",
       "      <td>0.8738</td>\n",
       "      <td>0.7850</td>\n",
       "    </tr>\n",
       "    <tr>\n",
       "      <th>35</th>\n",
       "      <td>session_04_02_va_late_fusion</td>\n",
       "      <td>NaN</td>\n",
       "      <td>Session_04_02</td>\n",
       "      <td>va_late_fusion</td>\n",
       "      <td>parents</td>\n",
       "      <td>0.7514</td>\n",
       "      <td>0.6749</td>\n",
       "      <td>0.6562</td>\n",
       "      <td>0.8412</td>\n",
       "      <td>0.5098</td>\n",
       "      <td>0.6119</td>\n",
       "      <td>0.6364</td>\n",
       "      <td>0.8228</td>\n",
       "      <td>0.6047</td>\n",
       "      <td>0.6357</td>\n",
       "      <td>0.6462</td>\n",
       "      <td>0.8319</td>\n",
       "      <td>0.5532</td>\n",
       "      <td>0.6236</td>\n",
       "    </tr>\n",
       "    <tr>\n",
       "      <th>36</th>\n",
       "      <td>session_04_02_va_early_fusion</td>\n",
       "      <td>NaN</td>\n",
       "      <td>Session_04_02</td>\n",
       "      <td>va_early_fusion</td>\n",
       "      <td>parents</td>\n",
       "      <td>0.7363</td>\n",
       "      <td>0.6472</td>\n",
       "      <td>0.6562</td>\n",
       "      <td>0.8446</td>\n",
       "      <td>0.5455</td>\n",
       "      <td>0.5139</td>\n",
       "      <td>0.6364</td>\n",
       "      <td>0.8206</td>\n",
       "      <td>0.5581</td>\n",
       "      <td>0.5736</td>\n",
       "      <td>0.6462</td>\n",
       "      <td>0.8324</td>\n",
       "      <td>0.5517</td>\n",
       "      <td>0.5421</td>\n",
       "    </tr>\n",
       "    <tr>\n",
       "      <th>41</th>\n",
       "      <td>session_02_01_va_early_fusion</td>\n",
       "      <td>NaN</td>\n",
       "      <td>Session_02_01</td>\n",
       "      <td>va_early_fusion</td>\n",
       "      <td>parents</td>\n",
       "      <td>0.7506</td>\n",
       "      <td>0.7057</td>\n",
       "      <td>0.8043</td>\n",
       "      <td>0.8255</td>\n",
       "      <td>0.6119</td>\n",
       "      <td>0.6567</td>\n",
       "      <td>0.7986</td>\n",
       "      <td>0.8120</td>\n",
       "      <td>0.4940</td>\n",
       "      <td>0.7184</td>\n",
       "      <td>0.8014</td>\n",
       "      <td>0.8187</td>\n",
       "      <td>0.5467</td>\n",
       "      <td>0.6862</td>\n",
       "    </tr>\n",
       "    <tr>\n",
       "      <th>42</th>\n",
       "      <td>session_04_01_va_late_fusion</td>\n",
       "      <td>NaN</td>\n",
       "      <td>Session_04_01</td>\n",
       "      <td>va_late_fusion</td>\n",
       "      <td>parents</td>\n",
       "      <td>0.8224</td>\n",
       "      <td>0.7495</td>\n",
       "      <td>0.7222</td>\n",
       "      <td>0.9014</td>\n",
       "      <td>0.5556</td>\n",
       "      <td>0.7000</td>\n",
       "      <td>0.7959</td>\n",
       "      <td>0.8753</td>\n",
       "      <td>0.7143</td>\n",
       "      <td>0.6125</td>\n",
       "      <td>0.7573</td>\n",
       "      <td>0.8881</td>\n",
       "      <td>0.6250</td>\n",
       "      <td>0.6533</td>\n",
       "    </tr>\n",
       "    <tr>\n",
       "      <th>43</th>\n",
       "      <td>session_03_02_va_late_fusion</td>\n",
       "      <td>NaN</td>\n",
       "      <td>Session_03_02</td>\n",
       "      <td>va_late_fusion</td>\n",
       "      <td>parents</td>\n",
       "      <td>0.8158</td>\n",
       "      <td>0.7576</td>\n",
       "      <td>0.8048</td>\n",
       "      <td>0.8462</td>\n",
       "      <td>0.5000</td>\n",
       "      <td>0.7861</td>\n",
       "      <td>0.7717</td>\n",
       "      <td>0.8886</td>\n",
       "      <td>0.6250</td>\n",
       "      <td>0.7453</td>\n",
       "      <td>0.7879</td>\n",
       "      <td>0.8668</td>\n",
       "      <td>0.5556</td>\n",
       "      <td>0.7651</td>\n",
       "    </tr>\n",
       "  </tbody>\n",
       "</table>\n",
       "</div>"
      ],
      "text/plain": [
       "               Data_Included_Slug Participant        Session         Scenario  \\\n",
       "4   session_02_02_va_early_fusion         NaN  Session_02_02  va_early_fusion   \n",
       "6   session_04_01_va_early_fusion         NaN  Session_04_01  va_early_fusion   \n",
       "13  session_03_01_va_early_fusion         NaN  Session_03_01  va_early_fusion   \n",
       "19   session_01_01_va_late_fusion         NaN  Session_01_01   va_late_fusion   \n",
       "20  session_03_02_va_early_fusion         NaN  Session_03_02  va_early_fusion   \n",
       "26  session_01_01_va_early_fusion         NaN  Session_01_01  va_early_fusion   \n",
       "27   session_02_02_va_late_fusion         NaN  Session_02_02   va_late_fusion   \n",
       "29   session_02_01_va_late_fusion         NaN  Session_02_01   va_late_fusion   \n",
       "33   session_03_01_va_late_fusion         NaN  Session_03_01   va_late_fusion   \n",
       "35   session_04_02_va_late_fusion         NaN  Session_04_02   va_late_fusion   \n",
       "36  session_04_02_va_early_fusion         NaN  Session_04_02  va_early_fusion   \n",
       "41  session_02_01_va_early_fusion         NaN  Session_02_01  va_early_fusion   \n",
       "42   session_04_01_va_late_fusion         NaN  Session_04_01   va_late_fusion   \n",
       "43   session_03_02_va_late_fusion         NaN  Session_03_02   va_late_fusion   \n",
       "\n",
       "   Annotation_Type  Accuracy  Accuracy_Balanced  Precision_Blue  \\\n",
       "4          parents    0.7633             0.7362          0.7178   \n",
       "6          parents    0.8153             0.7353          0.7255   \n",
       "13         parents    0.8770             0.8656          0.8491   \n",
       "19         parents    0.7734             0.6953          0.7541   \n",
       "20         parents    0.8083             0.7842          0.8250   \n",
       "26         parents    0.7566             0.6388          0.7127   \n",
       "27         parents    0.7881             0.7850          0.7222   \n",
       "29         parents    0.7758             0.7664          0.8052   \n",
       "33         parents    0.8895             0.8643          0.8597   \n",
       "35         parents    0.7514             0.6749          0.6562   \n",
       "36         parents    0.7363             0.6472          0.6562   \n",
       "41         parents    0.7506             0.7057          0.8043   \n",
       "42         parents    0.8224             0.7495          0.7222   \n",
       "43         parents    0.8158             0.7576          0.8048   \n",
       "\n",
       "    Precision_Green  Precision_Red  Precision_Yellow  Recall_Blue  \\\n",
       "4            0.8571         0.6500            0.5912       0.7178   \n",
       "6            0.8922         0.5667            0.6706       0.7551   \n",
       "13           0.9367         0.8519            0.7034       0.8678   \n",
       "19           0.8594         0.5556            0.5091       0.7302   \n",
       "20           0.8432         0.6667            0.7397       0.7534   \n",
       "26           0.8617         0.3810            0.5366       0.8032   \n",
       "27           0.8673         0.7059            0.6667       0.7975   \n",
       "29           0.8596         0.5429            0.7306       0.8921   \n",
       "33           0.9296         0.8491            0.7850       0.8370   \n",
       "35           0.8412         0.5098            0.6119       0.6364   \n",
       "36           0.8446         0.5455            0.5139       0.6364   \n",
       "41           0.8255         0.6119            0.6567       0.7986   \n",
       "42           0.9014         0.5556            0.7000       0.7959   \n",
       "43           0.8462         0.5000            0.7861       0.7717   \n",
       "\n",
       "    Recall_Green  Recall_Red  Recall_Yellow  F1score_Blue  F1score_Green  \\\n",
       "4         0.8225      0.8000         0.6045        0.7178         0.8394   \n",
       "6         0.8664      0.6071         0.7125        0.7400         0.8791   \n",
       "13        0.8988      0.9200         0.7757        0.8584         0.9174   \n",
       "19        0.8295      0.5128         0.7089        0.7419         0.8442   \n",
       "20        0.8691      0.7500         0.7642        0.7876         0.8560   \n",
       "26        0.7849      0.4103         0.5570        0.7552         0.8215   \n",
       "27        0.8225      0.9231         0.5970        0.7580         0.8443   \n",
       "29        0.8338      0.6867         0.6531        0.8464         0.8465   \n",
       "33        0.9352      0.9000         0.7850        0.8482         0.9324   \n",
       "35        0.8228      0.6047         0.6357        0.6462         0.8319   \n",
       "36        0.8206      0.5581         0.5736        0.6462         0.8324   \n",
       "41        0.8120      0.4940         0.7184        0.8014         0.8187   \n",
       "42        0.8753      0.7143         0.6125        0.7573         0.8881   \n",
       "43        0.8886      0.6250         0.7453        0.7879         0.8668   \n",
       "\n",
       "    F1score_Red  F1score_Yellow  \n",
       "4        0.7172          0.5978  \n",
       "6        0.5862          0.6909  \n",
       "13       0.8846          0.7378  \n",
       "19       0.5333          0.5926  \n",
       "20       0.7059          0.7517  \n",
       "26       0.3951          0.5466  \n",
       "27       0.8000          0.6299  \n",
       "29       0.6064          0.6897  \n",
       "33       0.8738          0.7850  \n",
       "35       0.5532          0.6236  \n",
       "36       0.5517          0.5421  \n",
       "41       0.5467          0.6862  \n",
       "42       0.6250          0.6533  \n",
       "43       0.5556          0.7651  "
      ]
     },
     "execution_count": 15,
     "metadata": {},
     "output_type": "execute_result"
    }
   ],
   "source": [
    "resulting_df"
   ]
  },
  {
   "cell_type": "markdown",
   "id": "8995878c",
   "metadata": {},
   "source": [
    "# Early Fusion vs. Late fusion"
   ]
  },
  {
   "cell_type": "markdown",
   "id": "eba1f965",
   "metadata": {},
   "source": [
    "## Generic Models"
   ]
  },
  {
   "cell_type": "code",
   "execution_count": 11,
   "id": "ccb3563f",
   "metadata": {},
   "outputs": [
    {
     "name": "stdout",
     "output_type": "stream",
     "text": [
      "..........\n",
      "Average Accuracy in all_data_['va_early_fusion']_['parents', 'specialist'] models: 0.6781(+-0.045679)\n",
      "Baseline value in all_data_['va_early_fusion']_['parents', 'specialist'] models: 0.6857\n",
      "Difference from Baseline: -1.11%\n",
      "..........\n",
      "Average Balanced Accuracy in all_data_['va_early_fusion']_['parents', 'specialist'] models: 0.65265 (+-0.035143)\n",
      "Baseline value in all_data_['va_early_fusion']_['parents', 'specialist'] models: 0.47675\n",
      "Difference from Baseline: 36.90%\n",
      "..........\n",
      "Best Values for the current Scenario:\n",
      "..........\n",
      "Best Accuracy: 0.7104 (all_data_va_early_fusion_specialist)\n",
      "Accuracy of the best model in baseline: 0.7099 (all_data_va_early_fusion_specialist)\n",
      "\n",
      "Best Accuracy (baseline): 0.7099 (all_data_va_early_fusion_specialist)\n",
      "Accuracy of the best baseline model in this scenario: 0.7104 (all_data_va_early_fusion_specialist)\n",
      "\n",
      "Difference of Best Acc Value between Scenario and Baseline: 0.07%\n",
      "..........\n",
      "Best Balanced Accuracy: 0.6775 (all_data_va_early_fusion_specialist)\n",
      "Balanced Accuracy of the best model in baseline: 0.4725 (all_data_va_early_fusion_specialist)\n",
      "\n",
      "Best Balanced Accuracy (baseline): 0.481 (all_data_va_early_fusion_parents)\n",
      "Best Accuracy of the best baseline model in this scenario: 0.6278 (all_data_va_early_fusion_parents)\n",
      "\n",
      "Difference of Best Balanced Acc Values between Scenario and Baseline: 40.85%\n"
     ]
    }
   ],
   "source": [
    "scenario=['va_early_fusion']\n",
    "annotation_type=['parents', 'specialist']\n",
    "subset_data='all_data'\n",
    "resulting_df, baseline_df = get_subset_data(current_data, \n",
    "                                            scenario=scenario,\n",
    "                                            annotation_type=annotation_type, \n",
    "                                            subdataset_case=subset_data)\n",
    "compare_against_baseline(resulting_df, baseline_df, scenario, annotation_type, subset_data)"
   ]
  },
  {
   "cell_type": "code",
   "execution_count": 12,
   "id": "85edf897",
   "metadata": {
    "scrolled": false
   },
   "outputs": [
    {
     "name": "stdout",
     "output_type": "stream",
     "text": [
      "..........\n",
      "Average Accuracy in all_data_['va_late_fusion']_['parents', 'specialist'] models: 0.6543(+-0.046669)\n",
      "Baseline value in all_data_['va_late_fusion']_['parents', 'specialist'] models: 0.6792\n",
      "Difference from Baseline: -3.67%\n",
      "..........\n",
      "Average Balanced Accuracy in all_data_['va_late_fusion']_['parents', 'specialist'] models: 0.67795 (+-0.049851)\n",
      "Baseline value in all_data_['va_late_fusion']_['parents', 'specialist'] models: 0.43165\n",
      "Difference from Baseline: 57.06%\n",
      "..........\n",
      "Best Values for the current Scenario:\n",
      "..........\n",
      "Best Accuracy: 0.6873 (all_data_va_late_fusion_specialist)\n",
      "Accuracy of the best model in baseline: 0.7076 (all_data_va_late_fusion_specialist)\n",
      "\n",
      "Best Accuracy (baseline): 0.7076 (all_data_va_late_fusion_specialist)\n",
      "Accuracy of the best baseline model in this scenario: 0.6873 (all_data_va_late_fusion_specialist)\n",
      "\n",
      "Difference of Best Acc Value between Scenario and Baseline: -2.87%\n",
      "..........\n",
      "Best Balanced Accuracy: 0.7132 (all_data_va_late_fusion_specialist)\n",
      "Balanced Accuracy of the best model in baseline: 0.4201 (all_data_va_late_fusion_specialist)\n",
      "\n",
      "Best Balanced Accuracy (baseline): 0.4432 (all_data_va_late_fusion_parents)\n",
      "Best Accuracy of the best baseline model in this scenario: 0.6427 (all_data_va_late_fusion_parents)\n",
      "\n",
      "Difference of Best Balanced Acc Values between Scenario and Baseline: 60.92%\n"
     ]
    }
   ],
   "source": [
    "scenario=['va_late_fusion']\n",
    "annotation_type=['parents', 'specialist']\n",
    "subset_data='all_data'\n",
    "resulting_df, baseline_df = get_subset_data(current_data, \n",
    "                                            scenario=scenario,\n",
    "                                            annotation_type=annotation_type, \n",
    "                                            subdataset_case=subset_data)\n",
    "compare_against_baseline(resulting_df, baseline_df, scenario, annotation_type, subset_data)"
   ]
  },
  {
   "cell_type": "markdown",
   "id": "b57dc6dc",
   "metadata": {},
   "source": [
    "## Specific Models"
   ]
  },
  {
   "cell_type": "code",
   "execution_count": 13,
   "id": "8834eb84",
   "metadata": {},
   "outputs": [
    {
     "name": "stdout",
     "output_type": "stream",
     "text": [
      "..........\n",
      "Average Accuracy in participants_['va_early_fusion']_['parents', 'specialist'] models: 0.772925(+-0.044)\n",
      "Baseline value in participants_['va_early_fusion']_['parents', 'specialist'] models: 0.724\n",
      "Difference from Baseline: 6.76%\n",
      "..........\n",
      "Average Balanced Accuracy in participants_['va_early_fusion']_['parents', 'specialist'] models: 0.714775 (+-0.062341)\n",
      "Baseline value in participants_['va_early_fusion']_['parents', 'specialist'] models: 0.546663\n",
      "Difference from Baseline: 30.75%\n",
      "..........\n",
      "Best Values for the current Scenario:\n",
      "..........\n",
      "Best Accuracy: 0.8275 (participant_02_va_early_fusion_specialist)\n",
      "Accuracy of the best model in baseline: 0.8007 (participant_02_va_early_fusion_specialist)\n",
      "\n",
      "Best Accuracy (baseline): 0.8007 (participant_02_va_early_fusion_specialist)\n",
      "Accuracy of the best baseline model in this scenario: 0.8275 (participant_02_va_early_fusion_specialist)\n",
      "\n",
      "Difference of Best Acc Value between Scenario and Baseline: 3.35%\n",
      "..........\n",
      "Best Balanced Accuracy: 0.7977 (participant_03_va_early_fusion_specialist)\n",
      "Balanced Accuracy of the best model in baseline: 0.5903 (participant_03_va_early_fusion_specialist)\n",
      "\n",
      "Best Balanced Accuracy (baseline): 0.6422 (participant_01_va_early_fusion_specialist)\n",
      "Best Accuracy of the best baseline model in this scenario: 0.7645 (participant_01_va_early_fusion_specialist)\n",
      "\n",
      "Difference of Best Balanced Acc Values between Scenario and Baseline: 24.21%\n"
     ]
    }
   ],
   "source": [
    "scenario=['va_early_fusion']\n",
    "annotation_type=['parents', 'specialist']\n",
    "subset_data='participants'\n",
    "resulting_df, baseline_df = get_subset_data(current_data, \n",
    "                                            scenario=scenario,\n",
    "                                            annotation_type=annotation_type, \n",
    "                                            subdataset_case=subset_data)\n",
    "compare_against_baseline(resulting_df, baseline_df, scenario, annotation_type, subset_data)"
   ]
  },
  {
   "cell_type": "code",
   "execution_count": 15,
   "id": "aca29a2f",
   "metadata": {
    "scrolled": false
   },
   "outputs": [
    {
     "name": "stdout",
     "output_type": "stream",
     "text": [
      "..........\n",
      "Average Accuracy in participants_['va_late_fusion']_['parents', 'specialist'] models: 0.793225(+-0.045244)\n",
      "Baseline value in participants_['va_late_fusion']_['parents', 'specialist'] models: 0.719575\n",
      "Difference from Baseline: 10.24%\n",
      "..........\n",
      "Average Balanced Accuracy in participants_['va_late_fusion']_['parents', 'specialist'] models: 0.750238 (+-0.046865)\n",
      "Baseline value in participants_['va_late_fusion']_['parents', 'specialist'] models: 0.498512\n",
      "Difference from Baseline: 50.50%\n",
      "..........\n",
      "Best Values for the current Scenario:\n",
      "..........\n",
      "Best Accuracy: 0.8623 (participant_03_va_late_fusion_specialist)\n",
      "Accuracy of the best model in baseline: 0.7509 (participant_03_va_late_fusion_specialist)\n",
      "\n",
      "Best Accuracy (baseline): 0.78 (participant_02_va_late_fusion_specialist)\n",
      "Accuracy of the best baseline model in this scenario: 0.8306 (participant_02_va_late_fusion_specialist)\n",
      "\n",
      "Difference of Best Acc Value between Scenario and Baseline: 10.55%\n",
      "..........\n",
      "Best Balanced Accuracy: 0.8263 (participant_03_va_late_fusion_specialist)\n",
      "Balanced Accuracy of the best model in baseline: 0.5826 (participant_03_va_late_fusion_specialist)\n",
      "\n",
      "Best Balanced Accuracy (baseline): 0.6059 (participant_03_va_late_fusion_parents)\n",
      "Best Accuracy of the best baseline model in this scenario: 0.812 (participant_03_va_late_fusion_parents)\n",
      "\n",
      "Difference of Best Balanced Acc Values between Scenario and Baseline: 36.38%\n"
     ]
    }
   ],
   "source": [
    "scenario=['va_late_fusion']\n",
    "annotation_type=['parents', 'specialist']\n",
    "subset_data='participants'\n",
    "resulting_df, baseline_df = get_subset_data(current_data, \n",
    "                                            scenario=scenario,\n",
    "                                            annotation_type=annotation_type, \n",
    "                                            subdataset_case=subset_data)\n",
    "compare_against_baseline(resulting_df, baseline_df, scenario, annotation_type, subset_data)"
   ]
  },
  {
   "cell_type": "markdown",
   "id": "56f431ef",
   "metadata": {},
   "source": [
    "## Highly Specific Models"
   ]
  },
  {
   "cell_type": "code",
   "execution_count": 16,
   "id": "c4e605a6",
   "metadata": {
    "scrolled": false
   },
   "outputs": [
    {
     "name": "stdout",
     "output_type": "stream",
     "text": [
      "..........\n",
      "Average Accuracy in sessions_['va_early_fusion']_['parents', 'specialist'] models: 0.812471(+-0.054618)\n",
      "Baseline value in sessions_['va_early_fusion']_['parents', 'specialist'] models: 0.750886\n",
      "Difference from Baseline: 8.20%\n",
      "..........\n",
      "Average Balanced Accuracy in sessions_['va_early_fusion']_['parents', 'specialist'] models: 0.749429 (+-0.077073)\n",
      "Baseline value in sessions_['va_early_fusion']_['parents', 'specialist'] models: 0.589986\n",
      "Difference from Baseline: 27.02%\n",
      "..........\n",
      "Best Values for the current Scenario:\n",
      "..........\n",
      "Best Accuracy: 0.8875 (session_04_01_va_early_fusion_specialist)\n",
      "Accuracy of the best model in baseline: 0.7892 (session_04_01_va_early_fusion_specialist)\n",
      "\n",
      "Best Accuracy (baseline): 0.8305 (session_02_01_va_early_fusion_specialist)\n",
      "Accuracy of the best baseline model in this scenario: 0.8738 (session_02_01_va_early_fusion_specialist)\n",
      "\n",
      "Difference of Best Acc Value between Scenario and Baseline: 6.86%\n",
      "..........\n",
      "Best Balanced Accuracy: 0.8656 (session_03_01_va_early_fusion_parents)\n",
      "Balanced Accuracy of the best model in baseline: 0.6912 (session_03_01_va_early_fusion_parents)\n",
      "\n",
      "Best Balanced Accuracy (baseline): 0.7045 (session_03_01_va_early_fusion_specialist)\n",
      "Best Accuracy of the best baseline model in this scenario: 0.8626 (session_03_01_va_early_fusion_specialist)\n",
      "\n",
      "Difference of Best Balanced Acc Values between Scenario and Baseline: 22.87%\n"
     ]
    }
   ],
   "source": [
    "scenario=['va_early_fusion']\n",
    "annotation_type=['parents', 'specialist']\n",
    "subset_data='sessions'\n",
    "resulting_df, baseline_df = get_subset_data(current_data, \n",
    "                                            scenario=scenario,\n",
    "                                            annotation_type=annotation_type, \n",
    "                                            subdataset_case=subset_data)\n",
    "compare_against_baseline(resulting_df, baseline_df, scenario, annotation_type, subset_data)"
   ]
  },
  {
   "cell_type": "code",
   "execution_count": 17,
   "id": "46e82eb7",
   "metadata": {
    "scrolled": false
   },
   "outputs": [
    {
     "name": "stdout",
     "output_type": "stream",
     "text": [
      "..........\n",
      "Average Accuracy in sessions_['va_late_fusion']_['parents', 'specialist'] models: 0.825329(+-0.053507)\n",
      "Baseline value in sessions_['va_late_fusion']_['parents', 'specialist'] models: 0.747586\n",
      "Difference from Baseline: 10.40%\n",
      "..........\n",
      "Average Balanced Accuracy in sessions_['va_late_fusion']_['parents', 'specialist'] models: 0.771743 (+-0.068528)\n",
      "Baseline value in sessions_['va_late_fusion']_['parents', 'specialist'] models: 0.549364\n",
      "Difference from Baseline: 40.48%\n",
      "..........\n",
      "Best Values for the current Scenario:\n",
      "..........\n",
      "Best Accuracy: 0.8987 (session_03_01_va_late_fusion_specialist)\n",
      "Accuracy of the best model in baseline: 0.8146 (session_03_01_va_late_fusion_specialist)\n",
      "\n",
      "Best Accuracy (baseline): 0.8149 (session_02_01_va_late_fusion_specialist)\n",
      "Accuracy of the best baseline model in this scenario: 0.8894 (session_02_01_va_late_fusion_specialist)\n",
      "\n",
      "Difference of Best Acc Value between Scenario and Baseline: 10.28%\n",
      "..........\n",
      "Best Balanced Accuracy: 0.8807 (session_03_01_va_late_fusion_specialist)\n",
      "Balanced Accuracy of the best model in baseline: 0.696 (session_03_01_va_late_fusion_specialist)\n",
      "\n",
      "Best Balanced Accuracy (baseline): 0.696 (session_03_01_va_late_fusion_specialist)\n",
      "Best Accuracy of the best baseline model in this scenario: 0.8807 (session_03_01_va_late_fusion_specialist)\n",
      "\n",
      "Difference of Best Balanced Acc Values between Scenario and Baseline: 26.54%\n"
     ]
    }
   ],
   "source": [
    "scenario=['va_late_fusion']\n",
    "annotation_type=['parents', 'specialist']\n",
    "subset_data='sessions'\n",
    "resulting_df, baseline_df = get_subset_data(current_data, \n",
    "                                            scenario=scenario,\n",
    "                                            annotation_type=annotation_type, \n",
    "                                            subdataset_case=subset_data)\n",
    "compare_against_baseline(resulting_df, baseline_df, scenario, annotation_type, subset_data)"
   ]
  },
  {
   "cell_type": "markdown",
   "id": "82341f04",
   "metadata": {},
   "source": [
    "# Annotation Type: Parents vs. Specialist"
   ]
  },
  {
   "cell_type": "markdown",
   "id": "3e30b5b4",
   "metadata": {},
   "source": [
    "## Generic Models"
   ]
  },
  {
   "cell_type": "code",
   "execution_count": 8,
   "id": "75d851d9",
   "metadata": {
    "scrolled": false
   },
   "outputs": [
    {
     "name": "stdout",
     "output_type": "stream",
     "text": [
      "..........\n",
      "Average Accuracy in all_data_['va_late_fusion', 'va_early_fusion']_['parents'] models: 0.63355(+-0.017324)\n",
      "Baseline value in all_data_['va_late_fusion', 'va_early_fusion']_['parents'] models: 0.65615\n",
      "Difference from Baseline: -3.44%\n",
      "..........\n",
      "Average Balanced Accuracy in all_data_['va_late_fusion', 'va_early_fusion']_['parents'] models: 0.63525 (+-0.010536)\n",
      "Baseline value in all_data_['va_late_fusion', 'va_early_fusion']_['parents'] models: 0.4621\n",
      "Difference from Baseline: 37.47%\n",
      "..........\n",
      "Best Values for the current Scenario:\n",
      "..........\n",
      "Best Accuracy: 0.6458 (all_data_va_early_fusion_parents)\n",
      "Accuracy of the best model in baseline: 0.6615 (all_data_va_early_fusion_parents)\n",
      "\n",
      "Best Accuracy (baseline): 0.6615 (all_data_va_early_fusion_parents)\n",
      "Accuracy of the best baseline model in this scenario: 0.6458 (all_data_va_early_fusion_parents)\n",
      "\n",
      "Difference of Best Acc Value between Scenario and Baseline: -2.37%\n",
      "..........\n",
      "Best Balanced Accuracy: 0.6427 (all_data_va_late_fusion_parents)\n",
      "Balanced Accuracy of the best model in baseline: 0.4432 (all_data_va_late_fusion_parents)\n",
      "\n",
      "Best Balanced Accuracy (baseline): 0.481 (all_data_va_early_fusion_parents)\n",
      "Best Accuracy of the best baseline model in this scenario: 0.6278 (all_data_va_early_fusion_parents)\n",
      "\n",
      "Difference of Best Balanced Acc Values between Scenario and Baseline: 33.62%\n"
     ]
    }
   ],
   "source": [
    "scenario=['va_late_fusion', 'va_early_fusion']\n",
    "annotation_type=['parents']\n",
    "subset_data='all_data'\n",
    "resulting_df, baseline_df = get_subset_data(current_data, \n",
    "                                            scenario=scenario,\n",
    "                                            annotation_type=annotation_type, \n",
    "                                            subdataset_case=subset_data)\n",
    "compare_against_baseline(resulting_df, baseline_df, scenario, annotation_type, subset_data)"
   ]
  },
  {
   "cell_type": "code",
   "execution_count": 9,
   "id": "e762b068",
   "metadata": {
    "scrolled": false
   },
   "outputs": [
    {
     "name": "stdout",
     "output_type": "stream",
     "text": [
      "..........\n",
      "Average Accuracy in all_data_['va_late_fusion', 'va_early_fusion']_['specialist'] models: 0.69885(+-0.016334)\n",
      "Baseline value in all_data_['va_late_fusion', 'va_early_fusion']_['specialist'] models: 0.70875\n",
      "Difference from Baseline: -1.40%\n",
      "..........\n",
      "Average Balanced Accuracy in all_data_['va_late_fusion', 'va_early_fusion']_['specialist'] models: 0.69535 (+-0.025244)\n",
      "Baseline value in all_data_['va_late_fusion', 'va_early_fusion']_['specialist'] models: 0.4463\n",
      "Difference from Baseline: 55.80%\n",
      "..........\n",
      "Best Values for the current Scenario:\n",
      "..........\n",
      "Best Accuracy: 0.7104 (all_data_va_early_fusion_specialist)\n",
      "Accuracy of the best model in baseline: 0.7099 (all_data_va_early_fusion_specialist)\n",
      "\n",
      "Best Accuracy (baseline): 0.7099 (all_data_va_early_fusion_specialist)\n",
      "Accuracy of the best baseline model in this scenario: 0.7104 (all_data_va_early_fusion_specialist)\n",
      "\n",
      "Difference of Best Acc Value between Scenario and Baseline: 0.07%\n",
      "..........\n",
      "Best Balanced Accuracy: 0.7132 (all_data_va_late_fusion_specialist)\n",
      "Balanced Accuracy of the best model in baseline: 0.4201 (all_data_va_late_fusion_specialist)\n",
      "\n",
      "Best Balanced Accuracy (baseline): 0.4725 (all_data_va_early_fusion_specialist)\n",
      "Best Accuracy of the best baseline model in this scenario: 0.6775 (all_data_va_early_fusion_specialist)\n",
      "\n",
      "Difference of Best Balanced Acc Values between Scenario and Baseline: 50.94%\n"
     ]
    }
   ],
   "source": [
    "scenario=['va_late_fusion', 'va_early_fusion']\n",
    "annotation_type=['specialist']\n",
    "subset_data='all_data'\n",
    "resulting_df, baseline_df = get_subset_data(current_data, \n",
    "                                            scenario=scenario,\n",
    "                                            annotation_type=annotation_type, \n",
    "                                            subdataset_case=subset_data)\n",
    "compare_against_baseline(resulting_df, baseline_df, scenario, annotation_type, subset_data)"
   ]
  },
  {
   "cell_type": "markdown",
   "id": "d53bce53",
   "metadata": {},
   "source": [
    "## Specific Models"
   ]
  },
  {
   "cell_type": "code",
   "execution_count": 10,
   "id": "9dab5bcd",
   "metadata": {},
   "outputs": [
    {
     "name": "stdout",
     "output_type": "stream",
     "text": [
      "..........\n",
      "Average Accuracy in participants_['va_late_fusion', 'va_early_fusion']_['parents'] models: 0.752812(+-0.035267)\n",
      "Baseline value in participants_['va_late_fusion', 'va_early_fusion']_['parents'] models: 0.6934\n",
      "Difference from Baseline: 8.57%\n",
      "..........\n",
      "Average Balanced Accuracy in participants_['va_late_fusion', 'va_early_fusion']_['parents'] models: 0.70885 (+-0.060867)\n",
      "Baseline value in participants_['va_late_fusion', 'va_early_fusion']_['parents'] models: 0.50295\n",
      "Difference from Baseline: 40.94%\n",
      "..........\n",
      "Best Values for the current Scenario:\n",
      "..........\n",
      "Best Accuracy: 0.8091 (participant_03_va_late_fusion_parents)\n",
      "Accuracy of the best model in baseline: 0.7267 (participant_03_va_late_fusion_parents)\n",
      "\n",
      "Best Accuracy (baseline): 0.7267 (participant_03_va_late_fusion_parents)\n",
      "Accuracy of the best baseline model in this scenario: 0.8091 (participant_03_va_late_fusion_parents)\n",
      "\n",
      "Difference of Best Acc Value between Scenario and Baseline: 11.34%\n",
      "..........\n",
      "Best Balanced Accuracy: 0.812 (participant_03_va_late_fusion_parents)\n",
      "Balanced Accuracy of the best model in baseline: 0.6059 (participant_03_va_late_fusion_parents)\n",
      "\n",
      "Best Balanced Accuracy (baseline): 0.6233 (participant_03_va_early_fusion_parents)\n",
      "Best Accuracy of the best baseline model in this scenario: 0.7773 (participant_03_va_early_fusion_parents)\n",
      "\n",
      "Difference of Best Balanced Acc Values between Scenario and Baseline: 30.27%\n"
     ]
    }
   ],
   "source": [
    "scenario=['va_late_fusion', 'va_early_fusion']\n",
    "annotation_type=['parents']\n",
    "subset_data='participants'\n",
    "resulting_df, baseline_df = get_subset_data(current_data, \n",
    "                                            scenario=scenario,\n",
    "                                            annotation_type=annotation_type, \n",
    "                                            subdataset_case=subset_data)\n",
    "compare_against_baseline(resulting_df, baseline_df, scenario, annotation_type, subset_data)"
   ]
  },
  {
   "cell_type": "code",
   "execution_count": 11,
   "id": "1d52dc56",
   "metadata": {
    "scrolled": false
   },
   "outputs": [
    {
     "name": "stdout",
     "output_type": "stream",
     "text": [
      "..........\n",
      "Average Accuracy in participants_['va_late_fusion', 'va_early_fusion']_['specialist'] models: 0.813338(+-0.029689)\n",
      "Baseline value in participants_['va_late_fusion', 'va_early_fusion']_['specialist'] models: 0.750175\n",
      "Difference from Baseline: 8.42%\n",
      "..........\n",
      "Average Balanced Accuracy in participants_['va_late_fusion', 'va_early_fusion']_['specialist'] models: 0.756162 (+-0.042631)\n",
      "Baseline value in participants_['va_late_fusion', 'va_early_fusion']_['specialist'] models: 0.542225\n",
      "Difference from Baseline: 39.46%\n",
      "..........\n",
      "Best Values for the current Scenario:\n",
      "..........\n",
      "Best Accuracy: 0.8623 (participant_03_va_late_fusion_specialist)\n",
      "Accuracy of the best model in baseline: 0.7509 (participant_03_va_late_fusion_specialist)\n",
      "\n",
      "Best Accuracy (baseline): 0.8007 (participant_02_va_early_fusion_specialist)\n",
      "Accuracy of the best baseline model in this scenario: 0.8275 (participant_02_va_early_fusion_specialist)\n",
      "\n",
      "Difference of Best Acc Value between Scenario and Baseline: 7.69%\n",
      "..........\n",
      "Best Balanced Accuracy: 0.8263 (participant_03_va_late_fusion_specialist)\n",
      "Balanced Accuracy of the best model in baseline: 0.5826 (participant_03_va_late_fusion_specialist)\n",
      "\n",
      "Best Balanced Accuracy (baseline): 0.6422 (participant_01_va_early_fusion_specialist)\n",
      "Best Accuracy of the best baseline model in this scenario: 0.7645 (participant_01_va_early_fusion_specialist)\n",
      "\n",
      "Difference of Best Balanced Acc Values between Scenario and Baseline: 28.67%\n"
     ]
    }
   ],
   "source": [
    "scenario=['va_late_fusion', 'va_early_fusion']\n",
    "annotation_type=['specialist']\n",
    "subset_data='participants'\n",
    "resulting_df, baseline_df = get_subset_data(current_data, \n",
    "                                            scenario=scenario,\n",
    "                                            annotation_type=annotation_type, \n",
    "                                            subdataset_case=subset_data)\n",
    "compare_against_baseline(resulting_df, baseline_df, scenario, annotation_type, subset_data)"
   ]
  },
  {
   "cell_type": "markdown",
   "id": "0bd32b08",
   "metadata": {},
   "source": [
    "## Highly Specific Models"
   ]
  },
  {
   "cell_type": "code",
   "execution_count": 12,
   "id": "d2cf9ff2",
   "metadata": {},
   "outputs": [
    {
     "name": "stdout",
     "output_type": "stream",
     "text": [
      "..........\n",
      "Average Accuracy in sessions_['va_late_fusion', 'va_early_fusion']_['parents'] models: 0.794557(+-0.046496)\n",
      "Baseline value in sessions_['va_late_fusion', 'va_early_fusion']_['parents'] models: 0.723493\n",
      "Difference from Baseline: 9.82%\n",
      "..........\n",
      "Average Balanced Accuracy in sessions_['va_late_fusion', 'va_early_fusion']_['parents'] models: 0.743286 (+-0.069311)\n",
      "Baseline value in sessions_['va_late_fusion', 'va_early_fusion']_['parents'] models: 0.551071\n",
      "Difference from Baseline: 34.88%\n",
      "..........\n",
      "Best Values for the current Scenario:\n",
      "..........\n",
      "Best Accuracy: 0.8895 (session_03_01_va_late_fusion_parents)\n",
      "Accuracy of the best model in baseline: 0.8064 (session_03_01_va_late_fusion_parents)\n",
      "\n",
      "Best Accuracy (baseline): 0.8064 (session_03_01_va_late_fusion_parents)\n",
      "Accuracy of the best baseline model in this scenario: 0.8895 (session_03_01_va_late_fusion_parents)\n",
      "\n",
      "Difference of Best Acc Value between Scenario and Baseline: 10.31%\n",
      "..........\n",
      "Best Balanced Accuracy: 0.8656 (session_03_01_va_early_fusion_parents)\n",
      "Balanced Accuracy of the best model in baseline: 0.6912 (session_03_01_va_early_fusion_parents)\n",
      "\n",
      "Best Balanced Accuracy (baseline): 0.6912 (session_03_01_va_early_fusion_parents)\n",
      "Best Accuracy of the best baseline model in this scenario: 0.8656 (session_03_01_va_early_fusion_parents)\n",
      "\n",
      "Difference of Best Balanced Acc Values between Scenario and Baseline: 25.23%\n"
     ]
    }
   ],
   "source": [
    "scenario=['va_late_fusion', 'va_early_fusion']\n",
    "annotation_type=['parents']\n",
    "subset_data='sessions'\n",
    "resulting_df, baseline_df = get_subset_data(current_data, \n",
    "                                            scenario=scenario,\n",
    "                                            annotation_type=annotation_type, \n",
    "                                            subdataset_case=subset_data)\n",
    "compare_against_baseline(resulting_df, baseline_df, scenario, annotation_type, subset_data)"
   ]
  },
  {
   "cell_type": "code",
   "execution_count": 17,
   "id": "525c3d25",
   "metadata": {
    "scrolled": true
   },
   "outputs": [],
   "source": [
    "scenario=['va_late_fusion', 'va_early_fusion']\n",
    "annotation_type=['specialist']\n",
    "subset_data='sessions'\n",
    "resulting_df, baseline_df = get_subset_data(current_data, \n",
    "                                            scenario=scenario,\n",
    "                                            annotation_type=annotation_type, \n",
    "                                            subdataset_case=subset_data)\n",
    "compare_against_baseline(resulting_df, baseline_df, scenario, annotation_type, subset_data)"
   ]
  },
  {
   "cell_type": "markdown",
   "id": "46826222",
   "metadata": {},
   "source": [
    "# F1 Scores\n",
    "## Generic Models"
   ]
  },
  {
   "cell_type": "code",
   "execution_count": 15,
   "id": "b86d12af",
   "metadata": {},
   "outputs": [
    {
     "name": "stdout",
     "output_type": "stream",
     "text": [
      "..........\n",
      "..........\n",
      "Average F1score (blue) models: 0.609 (+-0.012151)\n",
      "Baseline value: 0.5195\n",
      "Difference from Baseline: 17.23%\n",
      "..........\n",
      "Average F1score (green) models: 0.737825 (+-0.030757)\n",
      "Baseline value: 0.79045\n",
      "Difference from Baseline: -6.66%\n",
      "..........\n",
      "Average F1score (red) models: 0.3613 (+-0.044208)\n",
      "Baseline value: 0.337375\n",
      "Difference from Baseline: 7.09%\n",
      "..........\n",
      "Average F1score (yellow) models: 0.5016 (+-0.031179)\n",
      "Baseline value: 0.332625\n",
      "Difference from Baseline: 50.80%\n"
     ]
    }
   ],
   "source": [
    "scenario=['va_late_fusion', 'va_early_fusion']\n",
    "annotation_type=['parents', 'specialist']\n",
    "subset_data='all_data'\n",
    "resulting_df, baseline_df = get_subset_data(current_data, \n",
    "                                            scenario=scenario,\n",
    "                                            annotation_type=annotation_type, \n",
    "                                            subdataset_case=subset_data)\n",
    "calculate_aggregated_f1_score(resulting_df, baseline_df)"
   ]
  },
  {
   "cell_type": "code",
   "execution_count": 16,
   "id": "089c3a13",
   "metadata": {},
   "outputs": [
    {
     "name": "stdout",
     "output_type": "stream",
     "text": [
      "..........\n",
      "..........\n",
      "Average F1score (blue) models: 0.6729 (+-0.076282)\n",
      "Baseline value: 0.581213\n",
      "Difference from Baseline: 15.78%\n",
      "..........\n",
      "Average F1score (green) models: 0.795206 (+-0.023333)\n",
      "Baseline value: 0.816581\n",
      "Difference from Baseline: -2.62%\n",
      "..........\n",
      "Average F1score (red) models: 0.522421 (+-0.084593)\n",
      "Baseline value: 0.383093\n",
      "Difference from Baseline: 36.37%\n",
      "..........\n",
      "Average F1score (yellow) models: 0.57095 (+-0.0679)\n",
      "Baseline value: 0.437656\n",
      "Difference from Baseline: 30.46%\n"
     ]
    }
   ],
   "source": [
    "scenario=['va_late_fusion', 'va_early_fusion']\n",
    "annotation_type=['parents', 'specialist']\n",
    "subset_data='participants'\n",
    "resulting_df, baseline_df = get_subset_data(current_data, \n",
    "                                            scenario=scenario,\n",
    "                                            annotation_type=annotation_type, \n",
    "                                            subdataset_case=subset_data)\n",
    "calculate_aggregated_f1_score(resulting_df, baseline_df)"
   ]
  },
  {
   "cell_type": "code",
   "execution_count": 17,
   "id": "0a5f52a0",
   "metadata": {
    "scrolled": true
   },
   "outputs": [
    {
     "name": "stdout",
     "output_type": "stream",
     "text": [
      "..........\n",
      "..........\n",
      "Average F1score (blue) models: 0.704146 (+-0.079441)\n",
      "Baseline value: 0.63725\n",
      "Difference from Baseline: 10.50%\n",
      "..........\n",
      "Average F1score (green) models: 0.817932 (+-0.042139)\n",
      "Baseline value: 0.834193\n",
      "Difference from Baseline: -1.95%\n",
      "..........\n",
      "Average F1score (red) models: 0.546492 (+-0.162483)\n",
      "Baseline value: 0.434313\n",
      "Difference from Baseline: 25.83%\n",
      "..........\n",
      "Average F1score (yellow) models: 0.605471 (+-0.072892)\n",
      "Baseline value: 0.500968\n",
      "Difference from Baseline: 20.86%\n"
     ]
    }
   ],
   "source": [
    "scenario=['va_late_fusion', 'va_early_fusion']\n",
    "annotation_type=['parents', 'specialist']\n",
    "subset_data='sessions'\n",
    "resulting_df, baseline_df = get_subset_data(current_data, \n",
    "                                            scenario=scenario,\n",
    "                                            annotation_type=annotation_type, \n",
    "                                            subdataset_case=subset_data)\n",
    "calculate_aggregated_f1_score(resulting_df, baseline_df)"
   ]
  },
  {
   "cell_type": "markdown",
   "id": "18cc23a3",
   "metadata": {},
   "source": [
    "# PLOTS"
   ]
  },
  {
   "cell_type": "code",
   "execution_count": 25,
   "id": "bb8bcf5a",
   "metadata": {},
   "outputs": [],
   "source": [
    "scenario=['va_late_fusion', 'va_early_fusion']\n",
    "annotation_type=['parents', 'specialist']\n",
    "subset_data='all_data'\n",
    "resulting_df_generic, baseline_df_generic = get_subset_data(current_data, \n",
    "                                            scenario=scenario,\n",
    "                                            annotation_type=annotation_type, \n",
    "                                            subdataset_case=subset_data)"
   ]
  },
  {
   "cell_type": "code",
   "execution_count": 23,
   "id": "cd589f2b",
   "metadata": {},
   "outputs": [],
   "source": [
    "scenario=['va_late_fusion', 'va_early_fusion']\n",
    "annotation_type=['parents', 'specialist']\n",
    "subset_data='participants'\n",
    "resulting_df_specific, baseline_df_specific = get_subset_data(current_data, \n",
    "                                            scenario=scenario,\n",
    "                                            annotation_type=annotation_type, \n",
    "                                            subdataset_case=subset_data)"
   ]
  },
  {
   "cell_type": "code",
   "execution_count": 24,
   "id": "503ce2be",
   "metadata": {},
   "outputs": [],
   "source": [
    "scenario=['va_late_fusion', 'va_early_fusion']\n",
    "annotation_type=['parents', 'specialist']\n",
    "subset_data='sessions'\n",
    "resulting_df_highly_specific, baseline_df_highly_specific = get_subset_data(current_data, \n",
    "                                            scenario=scenario,\n",
    "                                            annotation_type=annotation_type, \n",
    "                                            subdataset_case=subset_data)"
   ]
  },
  {
   "cell_type": "code",
   "execution_count": 25,
   "id": "6ab3be8c",
   "metadata": {},
   "outputs": [
    {
     "data": {
      "text/html": [
       "<div>\n",
       "<style scoped>\n",
       "    .dataframe tbody tr th:only-of-type {\n",
       "        vertical-align: middle;\n",
       "    }\n",
       "\n",
       "    .dataframe tbody tr th {\n",
       "        vertical-align: top;\n",
       "    }\n",
       "\n",
       "    .dataframe thead th {\n",
       "        text-align: right;\n",
       "    }\n",
       "</style>\n",
       "<table border=\"1\" class=\"dataframe\">\n",
       "  <thead>\n",
       "    <tr style=\"text-align: right;\">\n",
       "      <th></th>\n",
       "      <th>Accuracy</th>\n",
       "    </tr>\n",
       "  </thead>\n",
       "  <tbody>\n",
       "    <tr>\n",
       "      <th>4</th>\n",
       "      <td>0.6151</td>\n",
       "    </tr>\n",
       "    <tr>\n",
       "      <th>24</th>\n",
       "      <td>0.6088</td>\n",
       "    </tr>\n",
       "    <tr>\n",
       "      <th>52</th>\n",
       "      <td>0.6752</td>\n",
       "    </tr>\n",
       "    <tr>\n",
       "      <th>87</th>\n",
       "      <td>0.6507</td>\n",
       "    </tr>\n",
       "  </tbody>\n",
       "</table>\n",
       "</div>"
      ],
      "text/plain": [
       "    Accuracy\n",
       "4     0.6151\n",
       "24    0.6088\n",
       "52    0.6752\n",
       "87    0.6507"
      ]
     },
     "execution_count": 25,
     "metadata": {},
     "output_type": "execute_result"
    }
   ],
   "source": [
    "resulting_df_generic[['Accuracy']]"
   ]
  },
  {
   "cell_type": "code",
   "execution_count": 26,
   "id": "7a581137",
   "metadata": {},
   "outputs": [
    {
     "data": {
      "text/html": [
       "<div>\n",
       "<style scoped>\n",
       "    .dataframe tbody tr th:only-of-type {\n",
       "        vertical-align: middle;\n",
       "    }\n",
       "\n",
       "    .dataframe tbody tr th {\n",
       "        vertical-align: top;\n",
       "    }\n",
       "\n",
       "    .dataframe thead th {\n",
       "        text-align: right;\n",
       "    }\n",
       "</style>\n",
       "<table border=\"1\" class=\"dataframe\">\n",
       "  <thead>\n",
       "    <tr style=\"text-align: right;\">\n",
       "      <th></th>\n",
       "      <th>Data_Included_Slug</th>\n",
       "      <th>Participant</th>\n",
       "      <th>Session</th>\n",
       "      <th>Scenario</th>\n",
       "      <th>Annotation_Type</th>\n",
       "      <th>Accuracy</th>\n",
       "      <th>Accuracy_Balanced</th>\n",
       "      <th>Precision_Blue</th>\n",
       "      <th>Precision_Green</th>\n",
       "      <th>Precision_Red</th>\n",
       "      <th>Precision_Yellow</th>\n",
       "      <th>Recall_Blue</th>\n",
       "      <th>Recall_Green</th>\n",
       "      <th>Recall_Red</th>\n",
       "      <th>Recall_Yellow</th>\n",
       "      <th>F1score_Blue</th>\n",
       "      <th>F1score_Green</th>\n",
       "      <th>F1score_Red</th>\n",
       "      <th>F1score_Yellow</th>\n",
       "    </tr>\n",
       "  </thead>\n",
       "  <tbody>\n",
       "    <tr>\n",
       "      <th>4</th>\n",
       "      <td>all_data_va_late_fusion</td>\n",
       "      <td>All data</td>\n",
       "      <td>NaN</td>\n",
       "      <td>va_late_fusion</td>\n",
       "      <td>parents</td>\n",
       "      <td>0.6151</td>\n",
       "      <td>0.6239</td>\n",
       "      <td>0.5841</td>\n",
       "      <td>0.8563</td>\n",
       "      <td>0.2978</td>\n",
       "      <td>0.4195</td>\n",
       "      <td>0.6448</td>\n",
       "      <td>0.6119</td>\n",
       "      <td>0.6709</td>\n",
       "      <td>0.5680</td>\n",
       "      <td>0.6129</td>\n",
       "      <td>0.7138</td>\n",
       "      <td>0.4125</td>\n",
       "      <td>0.4826</td>\n",
       "    </tr>\n",
       "    <tr>\n",
       "      <th>24</th>\n",
       "      <td>all_data_va_early_fusion</td>\n",
       "      <td>All data</td>\n",
       "      <td>NaN</td>\n",
       "      <td>va_early_fusion</td>\n",
       "      <td>parents</td>\n",
       "      <td>0.6088</td>\n",
       "      <td>0.6084</td>\n",
       "      <td>0.5749</td>\n",
       "      <td>0.8436</td>\n",
       "      <td>0.2746</td>\n",
       "      <td>0.4243</td>\n",
       "      <td>0.6417</td>\n",
       "      <td>0.6132</td>\n",
       "      <td>0.6361</td>\n",
       "      <td>0.5426</td>\n",
       "      <td>0.6065</td>\n",
       "      <td>0.7102</td>\n",
       "      <td>0.3836</td>\n",
       "      <td>0.4762</td>\n",
       "    </tr>\n",
       "    <tr>\n",
       "      <th>52</th>\n",
       "      <td>all_data_va_late_fusion</td>\n",
       "      <td>All data</td>\n",
       "      <td>NaN</td>\n",
       "      <td>va_late_fusion</td>\n",
       "      <td>specialist</td>\n",
       "      <td>0.6752</td>\n",
       "      <td>0.6878</td>\n",
       "      <td>0.5968</td>\n",
       "      <td>0.8796</td>\n",
       "      <td>0.2017</td>\n",
       "      <td>0.4758</td>\n",
       "      <td>0.6512</td>\n",
       "      <td>0.6890</td>\n",
       "      <td>0.7724</td>\n",
       "      <td>0.6385</td>\n",
       "      <td>0.6228</td>\n",
       "      <td>0.7727</td>\n",
       "      <td>0.3199</td>\n",
       "      <td>0.5453</td>\n",
       "    </tr>\n",
       "    <tr>\n",
       "      <th>87</th>\n",
       "      <td>all_data_va_early_fusion</td>\n",
       "      <td>All data</td>\n",
       "      <td>NaN</td>\n",
       "      <td>va_early_fusion</td>\n",
       "      <td>specialist</td>\n",
       "      <td>0.6507</td>\n",
       "      <td>0.6633</td>\n",
       "      <td>0.5534</td>\n",
       "      <td>0.8749</td>\n",
       "      <td>0.2110</td>\n",
       "      <td>0.4314</td>\n",
       "      <td>0.6407</td>\n",
       "      <td>0.6634</td>\n",
       "      <td>0.7480</td>\n",
       "      <td>0.6011</td>\n",
       "      <td>0.5938</td>\n",
       "      <td>0.7546</td>\n",
       "      <td>0.3292</td>\n",
       "      <td>0.5023</td>\n",
       "    </tr>\n",
       "  </tbody>\n",
       "</table>\n",
       "</div>"
      ],
      "text/plain": [
       "          Data_Included_Slug Participant Session         Scenario  \\\n",
       "4    all_data_va_late_fusion    All data     NaN   va_late_fusion   \n",
       "24  all_data_va_early_fusion    All data     NaN  va_early_fusion   \n",
       "52   all_data_va_late_fusion    All data     NaN   va_late_fusion   \n",
       "87  all_data_va_early_fusion    All data     NaN  va_early_fusion   \n",
       "\n",
       "   Annotation_Type  Accuracy  Accuracy_Balanced  Precision_Blue  \\\n",
       "4          parents    0.6151             0.6239          0.5841   \n",
       "24         parents    0.6088             0.6084          0.5749   \n",
       "52      specialist    0.6752             0.6878          0.5968   \n",
       "87      specialist    0.6507             0.6633          0.5534   \n",
       "\n",
       "    Precision_Green  Precision_Red  Precision_Yellow  Recall_Blue  \\\n",
       "4            0.8563         0.2978            0.4195       0.6448   \n",
       "24           0.8436         0.2746            0.4243       0.6417   \n",
       "52           0.8796         0.2017            0.4758       0.6512   \n",
       "87           0.8749         0.2110            0.4314       0.6407   \n",
       "\n",
       "    Recall_Green  Recall_Red  Recall_Yellow  F1score_Blue  F1score_Green  \\\n",
       "4         0.6119      0.6709         0.5680        0.6129         0.7138   \n",
       "24        0.6132      0.6361         0.5426        0.6065         0.7102   \n",
       "52        0.6890      0.7724         0.6385        0.6228         0.7727   \n",
       "87        0.6634      0.7480         0.6011        0.5938         0.7546   \n",
       "\n",
       "    F1score_Red  F1score_Yellow  \n",
       "4        0.4125          0.4826  \n",
       "24       0.3836          0.4762  \n",
       "52       0.3199          0.5453  \n",
       "87       0.3292          0.5023  "
      ]
     },
     "execution_count": 26,
     "metadata": {},
     "output_type": "execute_result"
    }
   ],
   "source": [
    "resulting_df_generic"
   ]
  },
  {
   "cell_type": "code",
   "execution_count": 47,
   "id": "6b8ea231",
   "metadata": {},
   "outputs": [
    {
     "data": {
      "text/html": [
       "<div>\n",
       "<style scoped>\n",
       "    .dataframe tbody tr th:only-of-type {\n",
       "        vertical-align: middle;\n",
       "    }\n",
       "\n",
       "    .dataframe tbody tr th {\n",
       "        vertical-align: top;\n",
       "    }\n",
       "\n",
       "    .dataframe thead th {\n",
       "        text-align: right;\n",
       "    }\n",
       "</style>\n",
       "<table border=\"1\" class=\"dataframe\">\n",
       "  <thead>\n",
       "    <tr style=\"text-align: right;\">\n",
       "      <th></th>\n",
       "      <th>Data_Included_Slug</th>\n",
       "      <th>Participant</th>\n",
       "      <th>Session</th>\n",
       "      <th>Scenario</th>\n",
       "      <th>Annotation_Type</th>\n",
       "      <th>Accuracy</th>\n",
       "      <th>Accuracy_Balanced</th>\n",
       "      <th>Precision_Blue</th>\n",
       "      <th>Precision_Green</th>\n",
       "      <th>Precision_Red</th>\n",
       "      <th>Precision_Yellow</th>\n",
       "      <th>Recall_Blue</th>\n",
       "      <th>Recall_Green</th>\n",
       "      <th>Recall_Red</th>\n",
       "      <th>Recall_Yellow</th>\n",
       "      <th>F1score_Blue</th>\n",
       "      <th>F1score_Green</th>\n",
       "      <th>F1score_Red</th>\n",
       "      <th>F1score_Yellow</th>\n",
       "    </tr>\n",
       "  </thead>\n",
       "  <tbody>\n",
       "    <tr>\n",
       "      <th>5</th>\n",
       "      <td>participant_04_va_early_fusion</td>\n",
       "      <td>Participant_04</td>\n",
       "      <td>NaN</td>\n",
       "      <td>va_early_fusion</td>\n",
       "      <td>parents</td>\n",
       "      <td>0.6327</td>\n",
       "      <td>0.6286</td>\n",
       "      <td>0.4313</td>\n",
       "      <td>0.8940</td>\n",
       "      <td>0.2994</td>\n",
       "      <td>0.4625</td>\n",
       "      <td>0.6504</td>\n",
       "      <td>0.6424</td>\n",
       "      <td>0.6620</td>\n",
       "      <td>0.5598</td>\n",
       "      <td>0.5186</td>\n",
       "      <td>0.7476</td>\n",
       "      <td>0.4123</td>\n",
       "      <td>0.5065</td>\n",
       "    </tr>\n",
       "    <tr>\n",
       "      <th>8</th>\n",
       "      <td>participant_01_va_early_fusion</td>\n",
       "      <td>Participant_01</td>\n",
       "      <td>NaN</td>\n",
       "      <td>va_early_fusion</td>\n",
       "      <td>parents</td>\n",
       "      <td>0.7134</td>\n",
       "      <td>0.6794</td>\n",
       "      <td>0.7022</td>\n",
       "      <td>0.8533</td>\n",
       "      <td>0.3472</td>\n",
       "      <td>0.4348</td>\n",
       "      <td>0.7111</td>\n",
       "      <td>0.7326</td>\n",
       "      <td>0.6410</td>\n",
       "      <td>0.6329</td>\n",
       "      <td>0.7066</td>\n",
       "      <td>0.7883</td>\n",
       "      <td>0.4505</td>\n",
       "      <td>0.5155</td>\n",
       "    </tr>\n",
       "    <tr>\n",
       "      <th>29</th>\n",
       "      <td>participant_04_va_late_fusion</td>\n",
       "      <td>Participant_04</td>\n",
       "      <td>NaN</td>\n",
       "      <td>va_late_fusion</td>\n",
       "      <td>parents</td>\n",
       "      <td>0.6760</td>\n",
       "      <td>0.6577</td>\n",
       "      <td>0.4825</td>\n",
       "      <td>0.8916</td>\n",
       "      <td>0.3462</td>\n",
       "      <td>0.5135</td>\n",
       "      <td>0.6707</td>\n",
       "      <td>0.6898</td>\n",
       "      <td>0.6338</td>\n",
       "      <td>0.6364</td>\n",
       "      <td>0.5612</td>\n",
       "      <td>0.7778</td>\n",
       "      <td>0.4478</td>\n",
       "      <td>0.5684</td>\n",
       "    </tr>\n",
       "    <tr>\n",
       "      <th>31</th>\n",
       "      <td>participant_03_va_late_fusion</td>\n",
       "      <td>Participant_03</td>\n",
       "      <td>NaN</td>\n",
       "      <td>va_late_fusion</td>\n",
       "      <td>parents</td>\n",
       "      <td>0.7422</td>\n",
       "      <td>0.7722</td>\n",
       "      <td>0.7054</td>\n",
       "      <td>0.8787</td>\n",
       "      <td>0.6310</td>\n",
       "      <td>0.5547</td>\n",
       "      <td>0.7354</td>\n",
       "      <td>0.7562</td>\n",
       "      <td>0.9138</td>\n",
       "      <td>0.6834</td>\n",
       "      <td>0.7201</td>\n",
       "      <td>0.8129</td>\n",
       "      <td>0.7465</td>\n",
       "      <td>0.6124</td>\n",
       "    </tr>\n",
       "    <tr>\n",
       "      <th>35</th>\n",
       "      <td>participant_02_va_late_fusion</td>\n",
       "      <td>Participant_02</td>\n",
       "      <td>NaN</td>\n",
       "      <td>va_late_fusion</td>\n",
       "      <td>parents</td>\n",
       "      <td>0.6685</td>\n",
       "      <td>0.6565</td>\n",
       "      <td>0.6474</td>\n",
       "      <td>0.8368</td>\n",
       "      <td>0.4008</td>\n",
       "      <td>0.5375</td>\n",
       "      <td>0.7053</td>\n",
       "      <td>0.7389</td>\n",
       "      <td>0.7095</td>\n",
       "      <td>0.4723</td>\n",
       "      <td>0.6751</td>\n",
       "      <td>0.7848</td>\n",
       "      <td>0.5122</td>\n",
       "      <td>0.5028</td>\n",
       "    </tr>\n",
       "    <tr>\n",
       "      <th>36</th>\n",
       "      <td>participant_03_va_early_fusion</td>\n",
       "      <td>Participant_03</td>\n",
       "      <td>NaN</td>\n",
       "      <td>va_early_fusion</td>\n",
       "      <td>parents</td>\n",
       "      <td>0.6969</td>\n",
       "      <td>0.7343</td>\n",
       "      <td>0.6617</td>\n",
       "      <td>0.8549</td>\n",
       "      <td>0.5100</td>\n",
       "      <td>0.5157</td>\n",
       "      <td>0.6928</td>\n",
       "      <td>0.6975</td>\n",
       "      <td>0.8793</td>\n",
       "      <td>0.6677</td>\n",
       "      <td>0.6769</td>\n",
       "      <td>0.7682</td>\n",
       "      <td>0.6456</td>\n",
       "      <td>0.5820</td>\n",
       "    </tr>\n",
       "    <tr>\n",
       "      <th>37</th>\n",
       "      <td>participant_01_va_late_fusion</td>\n",
       "      <td>Participant_01</td>\n",
       "      <td>NaN</td>\n",
       "      <td>va_late_fusion</td>\n",
       "      <td>parents</td>\n",
       "      <td>0.7302</td>\n",
       "      <td>0.7092</td>\n",
       "      <td>0.7068</td>\n",
       "      <td>0.8750</td>\n",
       "      <td>0.3944</td>\n",
       "      <td>0.4474</td>\n",
       "      <td>0.7270</td>\n",
       "      <td>0.7461</td>\n",
       "      <td>0.7179</td>\n",
       "      <td>0.6456</td>\n",
       "      <td>0.7167</td>\n",
       "      <td>0.8054</td>\n",
       "      <td>0.5091</td>\n",
       "      <td>0.5285</td>\n",
       "    </tr>\n",
       "    <tr>\n",
       "      <th>44</th>\n",
       "      <td>participant_02_va_early_fusion</td>\n",
       "      <td>Participant_02</td>\n",
       "      <td>NaN</td>\n",
       "      <td>va_early_fusion</td>\n",
       "      <td>parents</td>\n",
       "      <td>0.6624</td>\n",
       "      <td>0.6595</td>\n",
       "      <td>0.6050</td>\n",
       "      <td>0.8343</td>\n",
       "      <td>0.4150</td>\n",
       "      <td>0.5598</td>\n",
       "      <td>0.7152</td>\n",
       "      <td>0.7069</td>\n",
       "      <td>0.7095</td>\n",
       "      <td>0.5066</td>\n",
       "      <td>0.6555</td>\n",
       "      <td>0.7653</td>\n",
       "      <td>0.5237</td>\n",
       "      <td>0.5319</td>\n",
       "    </tr>\n",
       "    <tr>\n",
       "      <th>50</th>\n",
       "      <td>participant_03_va_early_fusion</td>\n",
       "      <td>Participant_03</td>\n",
       "      <td>NaN</td>\n",
       "      <td>va_early_fusion</td>\n",
       "      <td>specialist</td>\n",
       "      <td>0.7265</td>\n",
       "      <td>0.7279</td>\n",
       "      <td>0.6784</td>\n",
       "      <td>0.8854</td>\n",
       "      <td>NaN</td>\n",
       "      <td>0.4683</td>\n",
       "      <td>0.7418</td>\n",
       "      <td>0.7232</td>\n",
       "      <td>NaN</td>\n",
       "      <td>0.7188</td>\n",
       "      <td>0.7087</td>\n",
       "      <td>0.7961</td>\n",
       "      <td>NaN</td>\n",
       "      <td>0.5671</td>\n",
       "    </tr>\n",
       "    <tr>\n",
       "      <th>53</th>\n",
       "      <td>participant_04_va_late_fusion</td>\n",
       "      <td>Participant_04</td>\n",
       "      <td>NaN</td>\n",
       "      <td>va_late_fusion</td>\n",
       "      <td>specialist</td>\n",
       "      <td>0.7213</td>\n",
       "      <td>0.7251</td>\n",
       "      <td>0.5527</td>\n",
       "      <td>0.8817</td>\n",
       "      <td>0.3654</td>\n",
       "      <td>0.6412</td>\n",
       "      <td>0.6135</td>\n",
       "      <td>0.7444</td>\n",
       "      <td>0.7917</td>\n",
       "      <td>0.7510</td>\n",
       "      <td>0.5815</td>\n",
       "      <td>0.8072</td>\n",
       "      <td>0.5000</td>\n",
       "      <td>0.6918</td>\n",
       "    </tr>\n",
       "    <tr>\n",
       "      <th>55</th>\n",
       "      <td>participant_02_va_late_fusion</td>\n",
       "      <td>Participant_02</td>\n",
       "      <td>NaN</td>\n",
       "      <td>va_late_fusion</td>\n",
       "      <td>specialist</td>\n",
       "      <td>0.7489</td>\n",
       "      <td>0.7636</td>\n",
       "      <td>0.6933</td>\n",
       "      <td>0.9293</td>\n",
       "      <td>0.3768</td>\n",
       "      <td>0.3758</td>\n",
       "      <td>0.8387</td>\n",
       "      <td>0.7347</td>\n",
       "      <td>0.8125</td>\n",
       "      <td>0.6686</td>\n",
       "      <td>0.7591</td>\n",
       "      <td>0.8206</td>\n",
       "      <td>0.5149</td>\n",
       "      <td>0.4812</td>\n",
       "    </tr>\n",
       "    <tr>\n",
       "      <th>57</th>\n",
       "      <td>participant_03_va_late_fusion</td>\n",
       "      <td>Participant_03</td>\n",
       "      <td>NaN</td>\n",
       "      <td>va_late_fusion</td>\n",
       "      <td>specialist</td>\n",
       "      <td>0.7676</td>\n",
       "      <td>0.7683</td>\n",
       "      <td>0.7125</td>\n",
       "      <td>0.9002</td>\n",
       "      <td>NaN</td>\n",
       "      <td>0.5369</td>\n",
       "      <td>0.7830</td>\n",
       "      <td>0.7651</td>\n",
       "      <td>NaN</td>\n",
       "      <td>0.7569</td>\n",
       "      <td>0.7461</td>\n",
       "      <td>0.8272</td>\n",
       "      <td>NaN</td>\n",
       "      <td>0.6282</td>\n",
       "    </tr>\n",
       "    <tr>\n",
       "      <th>61</th>\n",
       "      <td>participant_01_va_late_fusion</td>\n",
       "      <td>Participant_01</td>\n",
       "      <td>NaN</td>\n",
       "      <td>va_late_fusion</td>\n",
       "      <td>specialist</td>\n",
       "      <td>0.7437</td>\n",
       "      <td>0.7224</td>\n",
       "      <td>0.7316</td>\n",
       "      <td>0.8899</td>\n",
       "      <td>0.4828</td>\n",
       "      <td>0.5569</td>\n",
       "      <td>0.7514</td>\n",
       "      <td>0.7514</td>\n",
       "      <td>0.6512</td>\n",
       "      <td>0.7358</td>\n",
       "      <td>0.7413</td>\n",
       "      <td>0.8148</td>\n",
       "      <td>0.5545</td>\n",
       "      <td>0.6339</td>\n",
       "    </tr>\n",
       "    <tr>\n",
       "      <th>66</th>\n",
       "      <td>participant_02_va_early_fusion</td>\n",
       "      <td>Participant_02</td>\n",
       "      <td>NaN</td>\n",
       "      <td>va_early_fusion</td>\n",
       "      <td>specialist</td>\n",
       "      <td>0.7398</td>\n",
       "      <td>0.7580</td>\n",
       "      <td>0.6416</td>\n",
       "      <td>0.9391</td>\n",
       "      <td>0.3881</td>\n",
       "      <td>0.3770</td>\n",
       "      <td>0.8258</td>\n",
       "      <td>0.7249</td>\n",
       "      <td>0.8125</td>\n",
       "      <td>0.6686</td>\n",
       "      <td>0.7221</td>\n",
       "      <td>0.8182</td>\n",
       "      <td>0.5253</td>\n",
       "      <td>0.4822</td>\n",
       "    </tr>\n",
       "    <tr>\n",
       "      <th>85</th>\n",
       "      <td>participant_04_va_early_fusion</td>\n",
       "      <td>Participant_04</td>\n",
       "      <td>NaN</td>\n",
       "      <td>va_early_fusion</td>\n",
       "      <td>specialist</td>\n",
       "      <td>0.6821</td>\n",
       "      <td>0.6985</td>\n",
       "      <td>0.5088</td>\n",
       "      <td>0.8666</td>\n",
       "      <td>0.3362</td>\n",
       "      <td>0.5897</td>\n",
       "      <td>0.6135</td>\n",
       "      <td>0.7027</td>\n",
       "      <td>0.8125</td>\n",
       "      <td>0.6654</td>\n",
       "      <td>0.5563</td>\n",
       "      <td>0.7761</td>\n",
       "      <td>0.4756</td>\n",
       "      <td>0.6252</td>\n",
       "    </tr>\n",
       "    <tr>\n",
       "      <th>89</th>\n",
       "      <td>participant_01_va_early_fusion</td>\n",
       "      <td>Participant_01</td>\n",
       "      <td>NaN</td>\n",
       "      <td>va_early_fusion</td>\n",
       "      <td>specialist</td>\n",
       "      <td>0.7437</td>\n",
       "      <td>0.7339</td>\n",
       "      <td>0.6970</td>\n",
       "      <td>0.8932</td>\n",
       "      <td>0.3846</td>\n",
       "      <td>0.6207</td>\n",
       "      <td>0.7459</td>\n",
       "      <td>0.7457</td>\n",
       "      <td>0.6977</td>\n",
       "      <td>0.7461</td>\n",
       "      <td>0.7206</td>\n",
       "      <td>0.8128</td>\n",
       "      <td>0.4959</td>\n",
       "      <td>0.6776</td>\n",
       "    </tr>\n",
       "  </tbody>\n",
       "</table>\n",
       "</div>"
      ],
      "text/plain": [
       "                Data_Included_Slug     Participant Session         Scenario  \\\n",
       "5   participant_04_va_early_fusion  Participant_04     NaN  va_early_fusion   \n",
       "8   participant_01_va_early_fusion  Participant_01     NaN  va_early_fusion   \n",
       "29   participant_04_va_late_fusion  Participant_04     NaN   va_late_fusion   \n",
       "31   participant_03_va_late_fusion  Participant_03     NaN   va_late_fusion   \n",
       "35   participant_02_va_late_fusion  Participant_02     NaN   va_late_fusion   \n",
       "36  participant_03_va_early_fusion  Participant_03     NaN  va_early_fusion   \n",
       "37   participant_01_va_late_fusion  Participant_01     NaN   va_late_fusion   \n",
       "44  participant_02_va_early_fusion  Participant_02     NaN  va_early_fusion   \n",
       "50  participant_03_va_early_fusion  Participant_03     NaN  va_early_fusion   \n",
       "53   participant_04_va_late_fusion  Participant_04     NaN   va_late_fusion   \n",
       "55   participant_02_va_late_fusion  Participant_02     NaN   va_late_fusion   \n",
       "57   participant_03_va_late_fusion  Participant_03     NaN   va_late_fusion   \n",
       "61   participant_01_va_late_fusion  Participant_01     NaN   va_late_fusion   \n",
       "66  participant_02_va_early_fusion  Participant_02     NaN  va_early_fusion   \n",
       "85  participant_04_va_early_fusion  Participant_04     NaN  va_early_fusion   \n",
       "89  participant_01_va_early_fusion  Participant_01     NaN  va_early_fusion   \n",
       "\n",
       "   Annotation_Type  Accuracy  Accuracy_Balanced  Precision_Blue  \\\n",
       "5          parents    0.6327             0.6286          0.4313   \n",
       "8          parents    0.7134             0.6794          0.7022   \n",
       "29         parents    0.6760             0.6577          0.4825   \n",
       "31         parents    0.7422             0.7722          0.7054   \n",
       "35         parents    0.6685             0.6565          0.6474   \n",
       "36         parents    0.6969             0.7343          0.6617   \n",
       "37         parents    0.7302             0.7092          0.7068   \n",
       "44         parents    0.6624             0.6595          0.6050   \n",
       "50      specialist    0.7265             0.7279          0.6784   \n",
       "53      specialist    0.7213             0.7251          0.5527   \n",
       "55      specialist    0.7489             0.7636          0.6933   \n",
       "57      specialist    0.7676             0.7683          0.7125   \n",
       "61      specialist    0.7437             0.7224          0.7316   \n",
       "66      specialist    0.7398             0.7580          0.6416   \n",
       "85      specialist    0.6821             0.6985          0.5088   \n",
       "89      specialist    0.7437             0.7339          0.6970   \n",
       "\n",
       "    Precision_Green  Precision_Red  Precision_Yellow  Recall_Blue  \\\n",
       "5            0.8940         0.2994            0.4625       0.6504   \n",
       "8            0.8533         0.3472            0.4348       0.7111   \n",
       "29           0.8916         0.3462            0.5135       0.6707   \n",
       "31           0.8787         0.6310            0.5547       0.7354   \n",
       "35           0.8368         0.4008            0.5375       0.7053   \n",
       "36           0.8549         0.5100            0.5157       0.6928   \n",
       "37           0.8750         0.3944            0.4474       0.7270   \n",
       "44           0.8343         0.4150            0.5598       0.7152   \n",
       "50           0.8854            NaN            0.4683       0.7418   \n",
       "53           0.8817         0.3654            0.6412       0.6135   \n",
       "55           0.9293         0.3768            0.3758       0.8387   \n",
       "57           0.9002            NaN            0.5369       0.7830   \n",
       "61           0.8899         0.4828            0.5569       0.7514   \n",
       "66           0.9391         0.3881            0.3770       0.8258   \n",
       "85           0.8666         0.3362            0.5897       0.6135   \n",
       "89           0.8932         0.3846            0.6207       0.7459   \n",
       "\n",
       "    Recall_Green  Recall_Red  Recall_Yellow  F1score_Blue  F1score_Green  \\\n",
       "5         0.6424      0.6620         0.5598        0.5186         0.7476   \n",
       "8         0.7326      0.6410         0.6329        0.7066         0.7883   \n",
       "29        0.6898      0.6338         0.6364        0.5612         0.7778   \n",
       "31        0.7562      0.9138         0.6834        0.7201         0.8129   \n",
       "35        0.7389      0.7095         0.4723        0.6751         0.7848   \n",
       "36        0.6975      0.8793         0.6677        0.6769         0.7682   \n",
       "37        0.7461      0.7179         0.6456        0.7167         0.8054   \n",
       "44        0.7069      0.7095         0.5066        0.6555         0.7653   \n",
       "50        0.7232         NaN         0.7188        0.7087         0.7961   \n",
       "53        0.7444      0.7917         0.7510        0.5815         0.8072   \n",
       "55        0.7347      0.8125         0.6686        0.7591         0.8206   \n",
       "57        0.7651         NaN         0.7569        0.7461         0.8272   \n",
       "61        0.7514      0.6512         0.7358        0.7413         0.8148   \n",
       "66        0.7249      0.8125         0.6686        0.7221         0.8182   \n",
       "85        0.7027      0.8125         0.6654        0.5563         0.7761   \n",
       "89        0.7457      0.6977         0.7461        0.7206         0.8128   \n",
       "\n",
       "    F1score_Red  F1score_Yellow  \n",
       "5        0.4123          0.5065  \n",
       "8        0.4505          0.5155  \n",
       "29       0.4478          0.5684  \n",
       "31       0.7465          0.6124  \n",
       "35       0.5122          0.5028  \n",
       "36       0.6456          0.5820  \n",
       "37       0.5091          0.5285  \n",
       "44       0.5237          0.5319  \n",
       "50          NaN          0.5671  \n",
       "53       0.5000          0.6918  \n",
       "55       0.5149          0.4812  \n",
       "57          NaN          0.6282  \n",
       "61       0.5545          0.6339  \n",
       "66       0.5253          0.4822  \n",
       "85       0.4756          0.6252  \n",
       "89       0.4959          0.6776  "
      ]
     },
     "execution_count": 47,
     "metadata": {},
     "output_type": "execute_result"
    }
   ],
   "source": [
    "resulting_df_specific"
   ]
  },
  {
   "cell_type": "markdown",
   "id": "30e574a5",
   "metadata": {},
   "source": [
    "# Oversampling Vs. Baseline"
   ]
  },
  {
   "cell_type": "markdown",
   "id": "d9906bb9",
   "metadata": {},
   "source": [
    "## Statistical Significance Test (t-test, 0.05 p-values)"
   ]
  },
  {
   "cell_type": "code",
   "execution_count": 26,
   "id": "8bf10b78",
   "metadata": {},
   "outputs": [
    {
     "data": {
      "text/plain": [
       "Ttest_indResult(statistic=array([-5.09780665]), pvalue=array([0.00373412]))"
      ]
     },
     "execution_count": 26,
     "metadata": {},
     "output_type": "execute_result"
    }
   ],
   "source": [
    "stats.ttest_ind(resulting_df_generic[['Accuracy']], resulting_df_specific[['Accuracy']], equal_var=False)"
   ]
  },
  {
   "cell_type": "code",
   "execution_count": 17,
   "id": "85e3a93a",
   "metadata": {},
   "outputs": [
    {
     "data": {
      "text/plain": [
       "Ttest_indResult(statistic=array([-2.23064224]), pvalue=array([0.03136071]))"
      ]
     },
     "execution_count": 17,
     "metadata": {},
     "output_type": "execute_result"
    }
   ],
   "source": [
    "stats.ttest_ind(resulting_df_specific[['Accuracy']], resulting_df_highly_specific[['Accuracy']], equal_var=False)"
   ]
  },
  {
   "cell_type": "code",
   "execution_count": 18,
   "id": "1c2ddfe8",
   "metadata": {},
   "outputs": [
    {
     "data": {
      "text/plain": [
       "Ttest_indResult(statistic=array([-3.11242744]), pvalue=array([0.0229881]))"
      ]
     },
     "execution_count": 18,
     "metadata": {},
     "output_type": "execute_result"
    }
   ],
   "source": [
    "stats.ttest_ind(resulting_df_generic[['Accuracy_Balanced']], resulting_df_specific[['Accuracy_Balanced']], equal_var=False)"
   ]
  },
  {
   "cell_type": "code",
   "execution_count": 19,
   "id": "beeb84ed",
   "metadata": {},
   "outputs": [
    {
     "data": {
      "text/plain": [
       "Ttest_indResult(statistic=array([-1.16282872]), pvalue=array([0.25152065]))"
      ]
     },
     "execution_count": 19,
     "metadata": {},
     "output_type": "execute_result"
    }
   ],
   "source": [
    "stats.ttest_ind(resulting_df_specific[['Accuracy_Balanced']], resulting_df_highly_specific[['Accuracy_Balanced']], equal_var=False)"
   ]
  },
  {
   "cell_type": "markdown",
   "id": "fa1fa603",
   "metadata": {},
   "source": [
    "## T-test within same group"
   ]
  },
  {
   "cell_type": "code",
   "execution_count": 48,
   "id": "0934c73e",
   "metadata": {},
   "outputs": [
    {
     "data": {
      "text/plain": [
       "Ttest_indResult(statistic=array([-2.05617045]), pvalue=array([0.08552114]))"
      ]
     },
     "execution_count": 48,
     "metadata": {},
     "output_type": "execute_result"
    }
   ],
   "source": [
    "stats.ttest_ind(resulting_df_generic[['Accuracy']], baseline_df_generic[['Accuracy']], equal_var=False)"
   ]
  },
  {
   "cell_type": "code",
   "execution_count": 11,
   "id": "af29c1d0",
   "metadata": {},
   "outputs": [
    {
     "data": {
      "text/plain": [
       "Ttest_indResult(statistic=array([-0.68055361]), pvalue=array([0.50137307]))"
      ]
     },
     "execution_count": 11,
     "metadata": {},
     "output_type": "execute_result"
    }
   ],
   "source": [
    "stats.ttest_ind(resulting_df_specific[['Accuracy']], baseline_df_specific[['Accuracy']])"
   ]
  },
  {
   "cell_type": "code",
   "execution_count": 12,
   "id": "aa04cbe7",
   "metadata": {},
   "outputs": [
    {
     "data": {
      "text/plain": [
       "Ttest_indResult(statistic=array([-0.41720918]), pvalue=array([0.67817948]))"
      ]
     },
     "execution_count": 12,
     "metadata": {},
     "output_type": "execute_result"
    }
   ],
   "source": [
    "stats.ttest_ind(resulting_df_highly_specific[['Accuracy']], baseline_df_highly_specific[['Accuracy']])"
   ]
  },
  {
   "cell_type": "code",
   "execution_count": 6,
   "id": "ac1f8397",
   "metadata": {},
   "outputs": [
    {
     "data": {
      "text/html": [
       "<div>\n",
       "<style scoped>\n",
       "    .dataframe tbody tr th:only-of-type {\n",
       "        vertical-align: middle;\n",
       "    }\n",
       "\n",
       "    .dataframe tbody tr th {\n",
       "        vertical-align: top;\n",
       "    }\n",
       "\n",
       "    .dataframe thead th {\n",
       "        text-align: right;\n",
       "    }\n",
       "</style>\n",
       "<table border=\"1\" class=\"dataframe\">\n",
       "  <thead>\n",
       "    <tr style=\"text-align: right;\">\n",
       "      <th></th>\n",
       "      <th>Accuracy</th>\n",
       "    </tr>\n",
       "  </thead>\n",
       "  <tbody>\n",
       "    <tr>\n",
       "      <th>4</th>\n",
       "      <td>0.6151</td>\n",
       "    </tr>\n",
       "    <tr>\n",
       "      <th>24</th>\n",
       "      <td>0.6088</td>\n",
       "    </tr>\n",
       "    <tr>\n",
       "      <th>52</th>\n",
       "      <td>0.6752</td>\n",
       "    </tr>\n",
       "    <tr>\n",
       "      <th>87</th>\n",
       "      <td>0.6507</td>\n",
       "    </tr>\n",
       "  </tbody>\n",
       "</table>\n",
       "</div>"
      ],
      "text/plain": [
       "    Accuracy\n",
       "4     0.6151\n",
       "24    0.6088\n",
       "52    0.6752\n",
       "87    0.6507"
      ]
     },
     "execution_count": 6,
     "metadata": {},
     "output_type": "execute_result"
    }
   ],
   "source": [
    "resulting_df_generic[['Accuracy']]"
   ]
  },
  {
   "cell_type": "code",
   "execution_count": 14,
   "id": "f75fccfc",
   "metadata": {},
   "outputs": [
    {
     "ename": "NameError",
     "evalue": "name 'resulting_df_generic' is not defined",
     "output_type": "error",
     "traceback": [
      "\u001b[0;31m---------------------------------------------------------------------------\u001b[0m",
      "\u001b[0;31mNameError\u001b[0m                                 Traceback (most recent call last)",
      "Cell \u001b[0;32mIn[14], line 1\u001b[0m\n\u001b[0;32m----> 1\u001b[0m \u001b[43mresulting_df_generic\u001b[49m\n",
      "\u001b[0;31mNameError\u001b[0m: name 'resulting_df_generic' is not defined"
     ]
    }
   ],
   "source": [
    "resulting_df_generic"
   ]
  },
  {
   "cell_type": "code",
   "execution_count": 7,
   "id": "298e23ef",
   "metadata": {},
   "outputs": [],
   "source": [
    "values_concat = [resulting_df_generic[['Accuracy']], \n",
    "                 baseline_df_generic[['Accuracy']],\n",
    "                 resulting_df_specific[['Accuracy']], \n",
    "                 baseline_df_specific[['Accuracy']],\n",
    "                 resulting_df_highly_specific[['Accuracy']],\n",
    "                 baseline_df_highly_specific[['Accuracy']]\n",
    "                ]\n",
    "\n",
    "Accuracies = pd.concat(values_concat, axis=1, keys=['GM','BL_GM', 'SM','BL_SM', 'HSM','BL_HSM'])"
   ]
  },
  {
   "cell_type": "code",
   "execution_count": 7,
   "id": "c58099f8",
   "metadata": {},
   "outputs": [],
   "source": [
    "values_concat_b_acc = [resulting_df_generic[['Accuracy_Balanced']], \n",
    "                 baseline_df_generic[['Accuracy_Balanced']],\n",
    "                 resulting_df_specific[['Accuracy_Balanced']], \n",
    "                 baseline_df_specific[['Accuracy_Balanced']],\n",
    "                 resulting_df_highly_specific[['Accuracy_Balanced']],\n",
    "                 baseline_df_highly_specific[['Accuracy_Balanced']]\n",
    "                ]\n",
    "\n",
    "balanced_accuracies = pd.concat(values_concat_b_acc, axis=1, keys=['GM','BL_GM', 'SM','BL_SM', 'HSM','BL_HSM'])"
   ]
  },
  {
   "cell_type": "code",
   "execution_count": 13,
   "id": "fed13822",
   "metadata": {},
   "outputs": [
    {
     "data": {
      "text/html": [
       "<div>\n",
       "<style scoped>\n",
       "    .dataframe tbody tr th:only-of-type {\n",
       "        vertical-align: middle;\n",
       "    }\n",
       "\n",
       "    .dataframe tbody tr th {\n",
       "        vertical-align: top;\n",
       "    }\n",
       "\n",
       "    .dataframe thead tr th {\n",
       "        text-align: left;\n",
       "    }\n",
       "</style>\n",
       "<table border=\"1\" class=\"dataframe\">\n",
       "  <thead>\n",
       "    <tr>\n",
       "      <th></th>\n",
       "      <th>GM</th>\n",
       "      <th>BL_GM</th>\n",
       "      <th>SM</th>\n",
       "      <th>BL_SM</th>\n",
       "      <th>HSM</th>\n",
       "      <th>BL_HSM</th>\n",
       "    </tr>\n",
       "    <tr>\n",
       "      <th></th>\n",
       "      <th>Accuracy_Balanced</th>\n",
       "      <th>Accuracy_Balanced</th>\n",
       "      <th>Accuracy_Balanced</th>\n",
       "      <th>Accuracy_Balanced</th>\n",
       "      <th>Accuracy_Balanced</th>\n",
       "      <th>Accuracy_Balanced</th>\n",
       "    </tr>\n",
       "  </thead>\n",
       "  <tbody>\n",
       "    <tr>\n",
       "      <th>4</th>\n",
       "      <td>0.6239</td>\n",
       "      <td>NaN</td>\n",
       "      <td>NaN</td>\n",
       "      <td>NaN</td>\n",
       "      <td>NaN</td>\n",
       "      <td>NaN</td>\n",
       "    </tr>\n",
       "    <tr>\n",
       "      <th>24</th>\n",
       "      <td>0.6084</td>\n",
       "      <td>NaN</td>\n",
       "      <td>NaN</td>\n",
       "      <td>NaN</td>\n",
       "      <td>NaN</td>\n",
       "      <td>0.6120</td>\n",
       "    </tr>\n",
       "    <tr>\n",
       "      <th>52</th>\n",
       "      <td>0.6878</td>\n",
       "      <td>NaN</td>\n",
       "      <td>NaN</td>\n",
       "      <td>NaN</td>\n",
       "      <td>NaN</td>\n",
       "      <td>NaN</td>\n",
       "    </tr>\n",
       "    <tr>\n",
       "      <th>87</th>\n",
       "      <td>0.6633</td>\n",
       "      <td>NaN</td>\n",
       "      <td>NaN</td>\n",
       "      <td>NaN</td>\n",
       "      <td>NaN</td>\n",
       "      <td>NaN</td>\n",
       "    </tr>\n",
       "    <tr>\n",
       "      <th>2</th>\n",
       "      <td>NaN</td>\n",
       "      <td>0.4432</td>\n",
       "      <td>NaN</td>\n",
       "      <td>NaN</td>\n",
       "      <td>NaN</td>\n",
       "      <td>NaN</td>\n",
       "    </tr>\n",
       "    <tr>\n",
       "      <th>...</th>\n",
       "      <td>...</td>\n",
       "      <td>...</td>\n",
       "      <td>...</td>\n",
       "      <td>...</td>\n",
       "      <td>...</td>\n",
       "      <td>...</td>\n",
       "    </tr>\n",
       "    <tr>\n",
       "      <th>81</th>\n",
       "      <td>NaN</td>\n",
       "      <td>NaN</td>\n",
       "      <td>NaN</td>\n",
       "      <td>NaN</td>\n",
       "      <td>NaN</td>\n",
       "      <td>0.6734</td>\n",
       "    </tr>\n",
       "    <tr>\n",
       "      <th>88</th>\n",
       "      <td>NaN</td>\n",
       "      <td>NaN</td>\n",
       "      <td>NaN</td>\n",
       "      <td>NaN</td>\n",
       "      <td>NaN</td>\n",
       "      <td>0.5476</td>\n",
       "    </tr>\n",
       "    <tr>\n",
       "      <th>91</th>\n",
       "      <td>NaN</td>\n",
       "      <td>NaN</td>\n",
       "      <td>NaN</td>\n",
       "      <td>NaN</td>\n",
       "      <td>NaN</td>\n",
       "      <td>0.5109</td>\n",
       "    </tr>\n",
       "    <tr>\n",
       "      <th>94</th>\n",
       "      <td>NaN</td>\n",
       "      <td>NaN</td>\n",
       "      <td>NaN</td>\n",
       "      <td>NaN</td>\n",
       "      <td>NaN</td>\n",
       "      <td>0.7045</td>\n",
       "    </tr>\n",
       "    <tr>\n",
       "      <th>95</th>\n",
       "      <td>NaN</td>\n",
       "      <td>NaN</td>\n",
       "      <td>NaN</td>\n",
       "      <td>NaN</td>\n",
       "      <td>NaN</td>\n",
       "      <td>0.4611</td>\n",
       "    </tr>\n",
       "  </tbody>\n",
       "</table>\n",
       "<p>74 rows × 6 columns</p>\n",
       "</div>"
      ],
      "text/plain": [
       "                  GM             BL_GM                SM             BL_SM  \\\n",
       "   Accuracy_Balanced Accuracy_Balanced Accuracy_Balanced Accuracy_Balanced   \n",
       "4             0.6239               NaN               NaN               NaN   \n",
       "24            0.6084               NaN               NaN               NaN   \n",
       "52            0.6878               NaN               NaN               NaN   \n",
       "87            0.6633               NaN               NaN               NaN   \n",
       "2                NaN            0.4432               NaN               NaN   \n",
       "..               ...               ...               ...               ...   \n",
       "81               NaN               NaN               NaN               NaN   \n",
       "88               NaN               NaN               NaN               NaN   \n",
       "91               NaN               NaN               NaN               NaN   \n",
       "94               NaN               NaN               NaN               NaN   \n",
       "95               NaN               NaN               NaN               NaN   \n",
       "\n",
       "                 HSM            BL_HSM  \n",
       "   Accuracy_Balanced Accuracy_Balanced  \n",
       "4                NaN               NaN  \n",
       "24               NaN            0.6120  \n",
       "52               NaN               NaN  \n",
       "87               NaN               NaN  \n",
       "2                NaN               NaN  \n",
       "..               ...               ...  \n",
       "81               NaN            0.6734  \n",
       "88               NaN            0.5476  \n",
       "91               NaN            0.5109  \n",
       "94               NaN            0.7045  \n",
       "95               NaN            0.4611  \n",
       "\n",
       "[74 rows x 6 columns]"
      ]
     },
     "execution_count": 13,
     "metadata": {},
     "output_type": "execute_result"
    }
   ],
   "source": [
    "balanced_accuracies"
   ]
  },
  {
   "cell_type": "code",
   "execution_count": 27,
   "id": "8108b97d",
   "metadata": {},
   "outputs": [
    {
     "ename": "NameError",
     "evalue": "name 'Accuracies' is not defined",
     "output_type": "error",
     "traceback": [
      "\u001b[0;31m---------------------------------------------------------------------------\u001b[0m",
      "\u001b[0;31mNameError\u001b[0m                                 Traceback (most recent call last)",
      "Cell \u001b[0;32mIn[27], line 1\u001b[0m\n\u001b[0;32m----> 1\u001b[0m boxplot \u001b[38;5;241m=\u001b[39m \u001b[43mAccuracies\u001b[49m\u001b[38;5;241m.\u001b[39mboxplot(column\u001b[38;5;241m=\u001b[39m[\u001b[38;5;124m'\u001b[39m\u001b[38;5;124mGM\u001b[39m\u001b[38;5;124m'\u001b[39m,\u001b[38;5;124m'\u001b[39m\u001b[38;5;124mBL_GM\u001b[39m\u001b[38;5;124m'\u001b[39m, \u001b[38;5;124m'\u001b[39m\u001b[38;5;124mSM\u001b[39m\u001b[38;5;124m'\u001b[39m,\u001b[38;5;124m'\u001b[39m\u001b[38;5;124mBL_SM\u001b[39m\u001b[38;5;124m'\u001b[39m, \u001b[38;5;124m'\u001b[39m\u001b[38;5;124mHSM\u001b[39m\u001b[38;5;124m'\u001b[39m,\u001b[38;5;124m'\u001b[39m\u001b[38;5;124mBL_HSM\u001b[39m\u001b[38;5;124m'\u001b[39m])\n",
      "\u001b[0;31mNameError\u001b[0m: name 'Accuracies' is not defined"
     ]
    }
   ],
   "source": [
    "boxplot = Accuracies.boxplot(column=['GM','BL_GM', 'SM','BL_SM', 'HSM','BL_HSM'])"
   ]
  },
  {
   "cell_type": "code",
   "execution_count": 8,
   "id": "370f4f18",
   "metadata": {},
   "outputs": [
    {
     "data": {
      "image/png": "[encoded data removed]",
      "text/plain": [
       "<Figure size 640x480 with 1 Axes>"
      ]
     },
     "metadata": {},
     "output_type": "display_data"
    }
   ],
   "source": [
    "boxplot = balanced_accuracies.boxplot(column=['GM','BL_GM', 'SM','BL_SM', 'HSM','BL_HSM'])"
   ]
  },
  {
   "cell_type": "markdown",
   "id": "649037cc",
   "metadata": {},
   "source": [
    "## Statistic Significant Test (t-test) Balanced Accuracy"
   ]
  },
  {
   "cell_type": "code",
   "execution_count": 9,
   "id": "51a0ce57",
   "metadata": {},
   "outputs": [
    {
     "data": {
      "text/plain": [
       "Ttest_indResult(statistic=array([8.37390065]), pvalue=array([0.00015778]))"
      ]
     },
     "execution_count": 9,
     "metadata": {},
     "output_type": "execute_result"
    }
   ],
   "source": [
    "stats.ttest_ind(resulting_df_generic[['Accuracy_Balanced']], baseline_df_generic[['Accuracy_Balanced']])"
   ]
  },
  {
   "cell_type": "code",
   "execution_count": 11,
   "id": "142083e3",
   "metadata": {},
   "outputs": [
    {
     "data": {
      "text/plain": [
       "Ttest_indResult(statistic=array([8.22110751]), pvalue=array([3.54527916e-09]))"
      ]
     },
     "execution_count": 11,
     "metadata": {},
     "output_type": "execute_result"
    }
   ],
   "source": [
    "stats.ttest_ind(resulting_df_specific[['Accuracy_Balanced']], baseline_df_specific[['Accuracy_Balanced']])"
   ]
  },
  {
   "cell_type": "code",
   "execution_count": 12,
   "id": "0624fac2",
   "metadata": {},
   "outputs": [
    {
     "data": {
      "text/plain": [
       "Ttest_indResult(statistic=array([7.91355529]), pvalue=array([1.36025637e-10]))"
      ]
     },
     "execution_count": 12,
     "metadata": {},
     "output_type": "execute_result"
    }
   ],
   "source": [
    "stats.ttest_ind(resulting_df_highly_specific[['Accuracy_Balanced']], baseline_df_highly_specific[['Accuracy_Balanced']])"
   ]
  },
  {
   "cell_type": "markdown",
   "id": "e1989a9d",
   "metadata": {},
   "source": [
    "# Early Fusion vs. Late Fusion"
   ]
  },
  {
   "cell_type": "code",
   "execution_count": 6,
   "id": "e99aa0cf",
   "metadata": {},
   "outputs": [],
   "source": [
    "scenario=['va_early_fusion']\n",
    "annotation_type=['parents', 'specialist']\n",
    "subset_data='all_data'\n",
    "ef_resulting_df_generic, _ = get_subset_data(oversampling_data_results, \n",
    "                                            scenario=scenario,\n",
    "                                            annotation_type=annotation_type, \n",
    "                                            subdataset_case=subset_data)\n",
    "\n",
    "\n",
    "scenario=['va_late_fusion']\n",
    "annotation_type=['parents', 'specialist']\n",
    "subset_data='all_data'\n",
    "lf_resulting_df_generic, _ = get_subset_data(oversampling_data_results, \n",
    "                                            scenario=scenario,\n",
    "                                            annotation_type=annotation_type, \n",
    "                                            subdataset_case=subset_data)\n",
    "\n",
    "scenario=['va_early_fusion']\n",
    "annotation_type=['parents', 'specialist']\n",
    "subset_data='participants'\n",
    "ef_resulting_df_specific, _ = get_subset_data(oversampling_data_results, \n",
    "                                            scenario=scenario,\n",
    "                                            annotation_type=annotation_type, \n",
    "                                            subdataset_case=subset_data)\n",
    "\n",
    "\n",
    "scenario=['va_late_fusion']\n",
    "annotation_type=['parents', 'specialist']\n",
    "subset_data='participants'\n",
    "lf_resulting_df_specific, _ = get_subset_data(oversampling_data_results, \n",
    "                                            scenario=scenario,\n",
    "                                            annotation_type=annotation_type, \n",
    "                                            subdataset_case=subset_data)\n",
    "\n",
    "scenario=['va_early_fusion']\n",
    "annotation_type=['parents', 'specialist']\n",
    "subset_data='sessions'\n",
    "ef_resulting_df_highly_specific, _ = get_subset_data(oversampling_data_results, \n",
    "                                            scenario=scenario,\n",
    "                                            annotation_type=annotation_type, \n",
    "                                            subdataset_case=subset_data)\n",
    "\n",
    "\n",
    "scenario=['va_late_fusion']\n",
    "annotation_type=['parents', 'specialist']\n",
    "subset_data='sessions'\n",
    "lf_resulting_df_highly_specific, _ = get_subset_data(oversampling_data_results, \n",
    "                                            scenario=scenario,\n",
    "                                            annotation_type=annotation_type, \n",
    "                                            subdataset_case=subset_data)\n"
   ]
  },
  {
   "cell_type": "code",
   "execution_count": 7,
   "id": "fb51e3a5",
   "metadata": {},
   "outputs": [],
   "source": [
    "fusion_values_concat = [ef_resulting_df_generic[['Accuracy']], \n",
    "                 lf_resulting_df_generic[['Accuracy']],\n",
    "                 ef_resulting_df_specific[['Accuracy']], \n",
    "                 lf_resulting_df_specific[['Accuracy']],\n",
    "                 ef_resulting_df_highly_specific[['Accuracy']],\n",
    "                 lf_resulting_df_highly_specific[['Accuracy']]\n",
    "                ]\n",
    "\n",
    "accuracies = pd.concat(fusion_values_concat, axis=1, keys=['GM_EF','GM_LF', 'SM_EF','SM_LF', 'HSM_EF','HSM_LF'])\n",
    "\n",
    "fusion_values_concat_b_acc = [ef_resulting_df_generic[['Accuracy_Balanced']], \n",
    "                 lf_resulting_df_generic[['Accuracy_Balanced']],\n",
    "                 ef_resulting_df_specific[['Accuracy_Balanced']], \n",
    "                 lf_resulting_df_specific[['Accuracy_Balanced']],\n",
    "                 ef_resulting_df_highly_specific[['Accuracy_Balanced']],\n",
    "                 lf_resulting_df_highly_specific[['Accuracy_Balanced']]\n",
    "                ]\n",
    "\n",
    "fusion_balanced_accuracies = pd.concat(fusion_values_concat_b_acc, axis=1,  keys=['GM_EF','GM_LF', 'SM_EF','SM_LF', 'HSM_EF','HSM_LF'])"
   ]
  },
  {
   "cell_type": "code",
   "execution_count": 11,
   "id": "062874b0",
   "metadata": {},
   "outputs": [
    {
     "data": {
      "image/png": "[encoded data removed]",
      "text/plain": [
       "<Figure size 640x480 with 1 Axes>"
      ]
     },
     "metadata": {},
     "output_type": "display_data"
    }
   ],
   "source": [
    "boxplot = accuracies.boxplot(column=['GM_EF','GM_LF', 'SM_EF','SM_LF', 'HSM_EF','HSM_LF'])"
   ]
  },
  {
   "cell_type": "code",
   "execution_count": 12,
   "id": "92627b2a",
   "metadata": {
    "scrolled": false
   },
   "outputs": [
    {
     "data": {
      "image/png": "[encoded data removed]",
      "text/plain": [
       "<Figure size 640x480 with 1 Axes>"
      ]
     },
     "metadata": {},
     "output_type": "display_data"
    }
   ],
   "source": [
    "boxplot = fusion_balanced_accuracies.boxplot(column=['GM_EF','GM_LF', 'SM_EF','SM_LF', 'HSM_EF','HSM_LF'])"
   ]
  },
  {
   "cell_type": "code",
   "execution_count": 10,
   "id": "285b1fab",
   "metadata": {},
   "outputs": [
    {
     "data": {
      "text/plain": [
       "Ttest_indResult(statistic=array([-0.42039722]), pvalue=array([0.71505754]))"
      ]
     },
     "execution_count": 10,
     "metadata": {},
     "output_type": "execute_result"
    }
   ],
   "source": [
    "stats.ttest_ind(ef_resulting_df_generic[['Accuracy']], lf_resulting_df_generic[['Accuracy']])"
   ]
  },
  {
   "cell_type": "code",
   "execution_count": 11,
   "id": "fdb230b4",
   "metadata": {},
   "outputs": [
    {
     "data": {
      "text/plain": [
       "Ttest_indResult(statistic=array([-0.47480563]), pvalue=array([0.68172108]))"
      ]
     },
     "execution_count": 11,
     "metadata": {},
     "output_type": "execute_result"
    }
   ],
   "source": [
    "stats.ttest_ind(ef_resulting_df_generic[['Accuracy_Balanced']], lf_resulting_df_generic[['Accuracy_Balanced']])"
   ]
  },
  {
   "cell_type": "code",
   "execution_count": 14,
   "id": "310e40a2",
   "metadata": {},
   "outputs": [
    {
     "data": {
      "text/plain": [
       "Ttest_indResult(statistic=array([-1.35225694]), pvalue=array([0.19773392]))"
      ]
     },
     "execution_count": 14,
     "metadata": {},
     "output_type": "execute_result"
    }
   ],
   "source": [
    "stats.ttest_ind(ef_resulting_df_specific[['Accuracy']], lf_resulting_df_specific[['Accuracy']])"
   ]
  },
  {
   "cell_type": "code",
   "execution_count": 15,
   "id": "ded6ab14",
   "metadata": {},
   "outputs": [
    {
     "data": {
      "text/plain": [
       "Ttest_indResult(statistic=array([-0.85716169]), pvalue=array([0.40578985]))"
      ]
     },
     "execution_count": 15,
     "metadata": {},
     "output_type": "execute_result"
    }
   ],
   "source": [
    "stats.ttest_ind(ef_resulting_df_specific[['Accuracy_Balanced']], lf_resulting_df_specific[['Accuracy_Balanced']])"
   ]
  },
  {
   "cell_type": "code",
   "execution_count": 16,
   "id": "b1fe7e0b",
   "metadata": {},
   "outputs": [
    {
     "data": {
      "text/plain": [
       "Ttest_indResult(statistic=array([-0.64412442]), pvalue=array([0.52513692]))"
      ]
     },
     "execution_count": 16,
     "metadata": {},
     "output_type": "execute_result"
    }
   ],
   "source": [
    "stats.ttest_ind(ef_resulting_df_highly_specific[['Accuracy']], lf_resulting_df_highly_specific[['Accuracy']])"
   ]
  },
  {
   "cell_type": "code",
   "execution_count": 17,
   "id": "52f8d81b",
   "metadata": {},
   "outputs": [
    {
     "data": {
      "text/plain": [
       "Ttest_indResult(statistic=array([-0.87691269]), pvalue=array([0.38856491]))"
      ]
     },
     "execution_count": 17,
     "metadata": {},
     "output_type": "execute_result"
    }
   ],
   "source": [
    "stats.ttest_ind(ef_resulting_df_highly_specific[['Accuracy_Balanced']], lf_resulting_df_highly_specific[['Accuracy_Balanced']])"
   ]
  },
  {
   "cell_type": "markdown",
   "id": "1c3662fe",
   "metadata": {},
   "source": [
    "# Parents vs. Specialist Annotation"
   ]
  },
  {
   "cell_type": "code",
   "execution_count": 4,
   "id": "f2f17a6e",
   "metadata": {},
   "outputs": [],
   "source": [
    "scenario=['va_early_fusion', 'va_late_fusion']\n",
    "annotation_type=['parents']\n",
    "subset_data='all_data'\n",
    "p_resulting_df_generic, _ = get_subset_data(oversampling_data_results, \n",
    "                                            scenario=scenario,\n",
    "                                            annotation_type=annotation_type, \n",
    "                                            subdataset_case=subset_data)\n",
    "\n",
    "\n",
    "scenario=['va_early_fusion', 'va_late_fusion']\n",
    "annotation_type=['specialist']\n",
    "subset_data='all_data'\n",
    "s_resulting_df_generic, _ = get_subset_data(oversampling_data_results, \n",
    "                                            scenario=scenario,\n",
    "                                            annotation_type=annotation_type, \n",
    "                                            subdataset_case=subset_data)\n",
    "\n",
    "scenario=['va_early_fusion', 'va_late_fusion']\n",
    "annotation_type=['parents']\n",
    "subset_data='participants'\n",
    "p_resulting_df_specific, _ = get_subset_data(oversampling_data_results, \n",
    "                                            scenario=scenario,\n",
    "                                            annotation_type=annotation_type, \n",
    "                                            subdataset_case=subset_data)\n",
    "\n",
    "\n",
    "scenario=['va_early_fusion', 'va_late_fusion']\n",
    "annotation_type=['specialist']\n",
    "subset_data='participants'\n",
    "s_resulting_df_specific, _ = get_subset_data(oversampling_data_results, \n",
    "                                            scenario=scenario,\n",
    "                                            annotation_type=annotation_type, \n",
    "                                            subdataset_case=subset_data)\n",
    "\n",
    "scenario=['va_early_fusion', 'va_late_fusion']\n",
    "annotation_type=['parents']\n",
    "subset_data='sessions'\n",
    "p_resulting_df_highly_specific, _ = get_subset_data(oversampling_data_results, \n",
    "                                            scenario=scenario,\n",
    "                                            annotation_type=annotation_type, \n",
    "                                            subdataset_case=subset_data)\n",
    "\n",
    "\n",
    "scenario=['va_early_fusion', 'va_late_fusion']\n",
    "annotation_type=['specialist']\n",
    "subset_data='sessions'\n",
    "s_resulting_df_highly_specific, _ = get_subset_data(oversampling_data_results, \n",
    "                                            scenario=scenario,\n",
    "                                            annotation_type=annotation_type, \n",
    "                                            subdataset_case=subset_data)\n",
    "\n",
    "\n",
    "\n",
    "annotation_values_concat = [p_resulting_df_generic[['Accuracy']], \n",
    "                 s_resulting_df_generic[['Accuracy']],\n",
    "                 p_resulting_df_specific[['Accuracy']], \n",
    "                 s_resulting_df_specific[['Accuracy']],\n",
    "                 p_resulting_df_highly_specific[['Accuracy']],\n",
    "                 s_resulting_df_highly_specific[['Accuracy']]\n",
    "                ]\n",
    "\n",
    "keys_annotation = ['GM_P','GM_S', 'SM_P','SM_S', 'HSM_P','HSM_S']\n",
    "\n",
    "accuracies_nnotation = pd.concat(annotation_values_concat, axis=1, keys=keys_annotation)\n",
    "\n",
    "annotation_values_concat_b_acc = [p_resulting_df_generic[['Accuracy_Balanced']], \n",
    "                 s_resulting_df_generic[['Accuracy_Balanced']],\n",
    "                 p_resulting_df_specific[['Accuracy_Balanced']], \n",
    "                 s_resulting_df_specific[['Accuracy_Balanced']],\n",
    "                 p_resulting_df_highly_specific[['Accuracy_Balanced']],\n",
    "                 s_resulting_df_highly_specific[['Accuracy_Balanced']]\n",
    "                ]\n",
    "\n",
    "annotation_balanced_accuracies = pd.concat(annotation_values_concat_b_acc, axis=1,  keys=keys_annotation)"
   ]
  },
  {
   "cell_type": "code",
   "execution_count": 5,
   "id": "7aea50bf",
   "metadata": {},
   "outputs": [
    {
     "data": {
      "image/png": "[encoded data removed]",
      "text/plain": [
       "<Figure size 640x480 with 1 Axes>"
      ]
     },
     "metadata": {},
     "output_type": "display_data"
    }
   ],
   "source": [
    "boxplot = accuracies_nnotation.boxplot(column=keys_annotation)"
   ]
  },
  {
   "cell_type": "code",
   "execution_count": 22,
   "id": "d4279aad",
   "metadata": {
    "scrolled": false
   },
   "outputs": [
    {
     "data": {
      "image/png": "[encoded data removed]",
      "text/plain": [
       "<Figure size 640x480 with 1 Axes>"
      ]
     },
     "metadata": {},
     "output_type": "display_data"
    }
   ],
   "source": [
    "boxplot = annotation_balanced_accuracies.boxplot(column=keys_annotation)"
   ]
  },
  {
   "cell_type": "code",
   "execution_count": 5,
   "id": "fadebf6f",
   "metadata": {},
   "outputs": [
    {
     "data": {
      "text/plain": [
       "Ttest_indResult(statistic=array([-4.03209303]), pvalue=array([0.05635938]))"
      ]
     },
     "execution_count": 5,
     "metadata": {},
     "output_type": "execute_result"
    }
   ],
   "source": [
    "stats.ttest_ind(p_resulting_df_generic[['Accuracy']], s_resulting_df_generic[['Accuracy']])"
   ]
  },
  {
   "cell_type": "code",
   "execution_count": 66,
   "id": "d75f8fa4",
   "metadata": {},
   "outputs": [
    {
     "data": {
      "text/plain": [
       "Ttest_indResult(statistic=array([-4.09777003]), pvalue=array([0.05471161]))"
      ]
     },
     "execution_count": 66,
     "metadata": {},
     "output_type": "execute_result"
    }
   ],
   "source": [
    "stats.ttest_ind(p_resulting_df_generic[['Accuracy_Balanced']], s_resulting_df_generic[['Accuracy_Balanced']])"
   ]
  },
  {
   "cell_type": "code",
   "execution_count": 67,
   "id": "94e59af9",
   "metadata": {
    "scrolled": true
   },
   "outputs": [
    {
     "data": {
      "text/plain": [
       "Ttest_indResult(statistic=array([-2.76521768]), pvalue=array([0.01518425]))"
      ]
     },
     "execution_count": 67,
     "metadata": {},
     "output_type": "execute_result"
    }
   ],
   "source": [
    "stats.ttest_ind(p_resulting_df_specific[['Accuracy']], s_resulting_df_specific[['Accuracy']])"
   ]
  },
  {
   "cell_type": "code",
   "execution_count": 68,
   "id": "562efe0a",
   "metadata": {},
   "outputs": [
    {
     "data": {
      "text/plain": [
       "Ttest_indResult(statistic=array([-2.64380168]), pvalue=array([0.01926078]))"
      ]
     },
     "execution_count": 68,
     "metadata": {},
     "output_type": "execute_result"
    }
   ],
   "source": [
    "stats.ttest_ind(p_resulting_df_specific[['Accuracy_Balanced']], s_resulting_df_specific[['Accuracy_Balanced']])"
   ]
  },
  {
   "cell_type": "code",
   "execution_count": 69,
   "id": "c51c106b",
   "metadata": {},
   "outputs": [
    {
     "data": {
      "text/plain": [
       "Ttest_indResult(statistic=array([-2.92808757]), pvalue=array([0.00700304]))"
      ]
     },
     "execution_count": 69,
     "metadata": {},
     "output_type": "execute_result"
    }
   ],
   "source": [
    "stats.ttest_ind(p_resulting_df_highly_specific[['Accuracy']], s_resulting_df_highly_specific[['Accuracy']])"
   ]
  },
  {
   "cell_type": "code",
   "execution_count": 8,
   "id": "ea367902",
   "metadata": {
    "scrolled": true
   },
   "outputs": [
    {
     "data": {
      "text/plain": [
       "Ttest_indResult(statistic=array([-1.43711094]), pvalue=array([0.16261269]))"
      ]
     },
     "execution_count": 8,
     "metadata": {},
     "output_type": "execute_result"
    }
   ],
   "source": [
    "stats.ttest_ind(p_resulting_df_highly_specific[['Accuracy_Balanced']], s_resulting_df_highly_specific[['Accuracy_Balanced']])"
   ]
  },
  {
   "cell_type": "code",
   "execution_count": 6,
   "id": "47ce2674",
   "metadata": {},
   "outputs": [
    {
     "data": {
      "text/plain": [
       "False"
      ]
     },
     "execution_count": 6,
     "metadata": {},
     "output_type": "execute_result"
    }
   ],
   "source": [
    "does_it_pass_t_test(p_resulting_df_generic[['Accuracy']], s_resulting_df_generic[['Accuracy']])"
   ]
  },
  {
   "cell_type": "code",
   "execution_count": 8,
   "id": "7982d441",
   "metadata": {},
   "outputs": [
    {
     "data": {
      "text/plain": [
       "False"
      ]
     },
     "execution_count": 8,
     "metadata": {},
     "output_type": "execute_result"
    }
   ],
   "source": [
    "does_it_pass_t_test(p_resulting_df_generic[['Accuracy_Balanced']], s_resulting_df_generic[['Accuracy_Balanced']])"
   ]
  },
  {
   "cell_type": "code",
   "execution_count": 9,
   "id": "65dc70a0",
   "metadata": {},
   "outputs": [
    {
     "data": {
      "text/plain": [
       "True"
      ]
     },
     "execution_count": 9,
     "metadata": {},
     "output_type": "execute_result"
    }
   ],
   "source": [
    "does_it_pass_t_test(p_resulting_df_specific[['Accuracy']], s_resulting_df_specific[['Accuracy']])"
   ]
  },
  {
   "cell_type": "code",
   "execution_count": 10,
   "id": "29327e00",
   "metadata": {},
   "outputs": [
    {
     "data": {
      "text/plain": [
       "True"
      ]
     },
     "execution_count": 10,
     "metadata": {},
     "output_type": "execute_result"
    }
   ],
   "source": [
    "does_it_pass_t_test(p_resulting_df_specific[['Accuracy_Balanced']], s_resulting_df_specific[['Accuracy_Balanced']])"
   ]
  },
  {
   "cell_type": "code",
   "execution_count": 10,
   "id": "1d8353b0",
   "metadata": {},
   "outputs": [
    {
     "data": {
      "text/plain": [
       "True"
      ]
     },
     "execution_count": 10,
     "metadata": {},
     "output_type": "execute_result"
    }
   ],
   "source": [
    "does_it_pass_t_test(p_resulting_df_specific[['Accuracy_Balanced']], s_resulting_df_specific[['Accuracy_Balanced']])"
   ]
  },
  {
   "cell_type": "code",
   "execution_count": 12,
   "id": "73a9dbdd",
   "metadata": {},
   "outputs": [
    {
     "data": {
      "text/plain": [
       "True"
      ]
     },
     "execution_count": 12,
     "metadata": {},
     "output_type": "execute_result"
    }
   ],
   "source": [
    "does_it_pass_t_test(p_resulting_df_highly_specific[['Accuracy']], s_resulting_df_highly_specific[['Accuracy']])"
   ]
  },
  {
   "cell_type": "code",
   "execution_count": 13,
   "id": "81a62a71",
   "metadata": {},
   "outputs": [
    {
     "data": {
      "text/plain": [
       "False"
      ]
     },
     "execution_count": 13,
     "metadata": {},
     "output_type": "execute_result"
    }
   ],
   "source": [
    "does_it_pass_t_test(p_resulting_df_highly_specific[['Accuracy_Balanced']], s_resulting_df_highly_specific[['Accuracy_Balanced']])"
   ]
  },
  {
   "cell_type": "code",
   "execution_count": null,
   "id": "75287810",
   "metadata": {},
   "outputs": [],
   "source": []
  },
  {
   "cell_type": "code",
   "execution_count": 39,
   "id": "5f3000c5",
   "metadata": {},
   "outputs": [
    {
     "data": {
      "text/html": [
       "<div>\n",
       "<style scoped>\n",
       "    .dataframe tbody tr th:only-of-type {\n",
       "        vertical-align: middle;\n",
       "    }\n",
       "\n",
       "    .dataframe tbody tr th {\n",
       "        vertical-align: top;\n",
       "    }\n",
       "\n",
       "    .dataframe thead th {\n",
       "        text-align: right;\n",
       "    }\n",
       "</style>\n",
       "<table border=\"1\" class=\"dataframe\">\n",
       "  <thead>\n",
       "    <tr style=\"text-align: right;\">\n",
       "      <th></th>\n",
       "      <th>Accuracy</th>\n",
       "    </tr>\n",
       "  </thead>\n",
       "  <tbody>\n",
       "    <tr>\n",
       "      <th>4</th>\n",
       "      <td>0.6151</td>\n",
       "    </tr>\n",
       "    <tr>\n",
       "      <th>24</th>\n",
       "      <td>0.6088</td>\n",
       "    </tr>\n",
       "  </tbody>\n",
       "</table>\n",
       "</div>"
      ],
      "text/plain": [
       "    Accuracy\n",
       "4     0.6151\n",
       "24    0.6088"
      ]
     },
     "execution_count": 39,
     "metadata": {},
     "output_type": "execute_result"
    }
   ],
   "source": [
    "p_resulting_df_generic[['Accuracy']]"
   ]
  },
  {
   "cell_type": "code",
   "execution_count": 40,
   "id": "09473195",
   "metadata": {},
   "outputs": [
    {
     "data": {
      "text/html": [
       "<div>\n",
       "<style scoped>\n",
       "    .dataframe tbody tr th:only-of-type {\n",
       "        vertical-align: middle;\n",
       "    }\n",
       "\n",
       "    .dataframe tbody tr th {\n",
       "        vertical-align: top;\n",
       "    }\n",
       "\n",
       "    .dataframe thead th {\n",
       "        text-align: right;\n",
       "    }\n",
       "</style>\n",
       "<table border=\"1\" class=\"dataframe\">\n",
       "  <thead>\n",
       "    <tr style=\"text-align: right;\">\n",
       "      <th></th>\n",
       "      <th>Accuracy</th>\n",
       "    </tr>\n",
       "  </thead>\n",
       "  <tbody>\n",
       "    <tr>\n",
       "      <th>52</th>\n",
       "      <td>0.6752</td>\n",
       "    </tr>\n",
       "    <tr>\n",
       "      <th>87</th>\n",
       "      <td>0.6507</td>\n",
       "    </tr>\n",
       "  </tbody>\n",
       "</table>\n",
       "</div>"
      ],
      "text/plain": [
       "    Accuracy\n",
       "52    0.6752\n",
       "87    0.6507"
      ]
     },
     "execution_count": 40,
     "metadata": {},
     "output_type": "execute_result"
    }
   ],
   "source": [
    "s_resulting_df_generic[['Accuracy']]"
   ]
  },
  {
   "cell_type": "code",
   "execution_count": 35,
   "id": "294251db",
   "metadata": {},
   "outputs": [
    {
     "data": {
      "text/plain": [
       "Accuracy    0.61195\n",
       "dtype: float64"
      ]
     },
     "execution_count": 35,
     "metadata": {},
     "output_type": "execute_result"
    }
   ],
   "source": [
    "p_resulting_df_generic[['Accuracy']].mean()"
   ]
  },
  {
   "cell_type": "code",
   "execution_count": 36,
   "id": "cc7c96e3",
   "metadata": {
    "scrolled": true
   },
   "outputs": [
    {
     "data": {
      "text/plain": [
       "Accuracy    0.66295\n",
       "dtype: float64"
      ]
     },
     "execution_count": 36,
     "metadata": {},
     "output_type": "execute_result"
    }
   ],
   "source": [
    "s_resulting_df_generic[['Accuracy']].mean()"
   ]
  },
  {
   "cell_type": "code",
   "execution_count": 37,
   "id": "a1fdbc75",
   "metadata": {
    "scrolled": true
   },
   "outputs": [
    {
     "data": {
      "text/plain": [
       "Accuracy    0.004455\n",
       "dtype: float64"
      ]
     },
     "execution_count": 37,
     "metadata": {},
     "output_type": "execute_result"
    }
   ],
   "source": [
    "p_resulting_df_generic[['Accuracy']].std()"
   ]
  },
  {
   "cell_type": "code",
   "execution_count": 38,
   "id": "ed7a7045",
   "metadata": {},
   "outputs": [
    {
     "data": {
      "text/plain": [
       "Accuracy    0.017324\n",
       "dtype: float64"
      ]
     },
     "execution_count": 38,
     "metadata": {},
     "output_type": "execute_result"
    }
   ],
   "source": [
    "s_resulting_df_generic[['Accuracy']].std()"
   ]
  },
  {
   "cell_type": "markdown",
   "id": "4d342429",
   "metadata": {},
   "source": [
    "### Normal distribution Test"
   ]
  },
  {
   "cell_type": "code",
   "execution_count": 32,
   "id": "bb8b1d65",
   "metadata": {},
   "outputs": [],
   "source": [
    "st, pvalue = stats.normaltest(resulting_df_specific[['Accuracy']])"
   ]
  },
  {
   "cell_type": "code",
   "execution_count": 33,
   "id": "dfc81683",
   "metadata": {},
   "outputs": [],
   "source": [
    "alpha = 1e-3 \n",
    "print (pvalue < alpha)"
   ]
  },
  {
   "cell_type": "code",
   "execution_count": 34,
   "id": "2bed8286",
   "metadata": {},
   "outputs": [],
   "source": [
    "st2, pvalue2 = stats.normaltest(resulting_df_highly_specific[['Accuracy']])"
   ]
  },
  {
   "cell_type": "code",
   "execution_count": 35,
   "id": "09ca9969",
   "metadata": {},
   "outputs": [],
   "source": [
    "alpha = 1e-3 \n",
    "print (pvalue < alpha)"
   ]
  },
  {
   "cell_type": "markdown",
   "id": "be3f7cf5",
   "metadata": {},
   "source": [
    "# Getting the Best SM and HSM for Parents annotation"
   ]
  },
  {
   "cell_type": "code",
   "execution_count": 5,
   "id": "de8fb763",
   "metadata": {},
   "outputs": [
    {
     "name": "stdout",
     "output_type": "stream",
     "text": [
      "..........\n",
      "Average Accuracy in all_data_['va_late_fusion', 'va_early_fusion']_['parents'] models: 0.61195(+-0.004455)\n",
      "Baseline value in all_data_['va_late_fusion', 'va_early_fusion']_['parents'] models: 0.65615\n",
      "Difference from Baseline: -6.74%\n",
      "..........\n",
      "Average Balanced Accuracy in all_data_['va_late_fusion', 'va_early_fusion']_['parents'] models: 0.61615 (+-0.01096)\n",
      "Baseline value in all_data_['va_late_fusion', 'va_early_fusion']_['parents'] models: 0.4621\n",
      "Difference from Baseline: 33.34%\n",
      "..........\n",
      "Best Values for the current Scenario:\n",
      "..........\n",
      "Best Accuracy: 0.6151 (all_data_va_late_fusion_parents)\n",
      "Accuracy of the best model in baseline: 0.6508 (all_data_va_late_fusion_parents)\n",
      "\n",
      "Best Accuracy (baseline): 0.6615 (all_data_va_early_fusion_parents)\n",
      "Accuracy of the best baseline model in this scenario: 0.6088 (all_data_va_early_fusion_parents)\n",
      "\n",
      "Difference of Best Acc Value between Scenario and Baseline: -7.01%\n",
      "..........\n",
      "Best Balanced Accuracy: 0.6239 (all_data_va_late_fusion_parents)\n",
      "Balanced Accuracy of the best model in baseline: 0.4432 (all_data_va_late_fusion_parents)\n",
      "\n",
      "Best Balanced Accuracy (baseline): 0.481 (all_data_va_early_fusion_parents)\n",
      "Best Accuracy of the best baseline model in this scenario: 0.6084 (all_data_va_early_fusion_parents)\n",
      "\n",
      "Difference of Best Balanced Acc Values between Scenario and Baseline: 29.71%\n"
     ]
    }
   ],
   "source": [
    "scenario=['va_late_fusion', 'va_early_fusion']\n",
    "annotation_type=['parents']\n",
    "subset_data='all_data'\n",
    "resulting_df, baseline_df = get_subset_data(oversampling_data_results, \n",
    "                                            scenario=scenario,\n",
    "                                            annotation_type=annotation_type, \n",
    "                                            subdataset_case=subset_data)\n",
    "compare_against_baseline(resulting_df, baseline_df, scenario, annotation_type, subset_data)"
   ]
  },
  {
   "cell_type": "code",
   "execution_count": 6,
   "id": "8bfe2113",
   "metadata": {},
   "outputs": [
    {
     "name": "stdout",
     "output_type": "stream",
     "text": [
      "..........\n",
      "Average Accuracy in participants_['va_late_fusion', 'va_early_fusion']_['parents'] models: 0.690288(+-0.037107)\n",
      "Baseline value in participants_['va_late_fusion', 'va_early_fusion']_['parents'] models: 0.6934\n",
      "Difference from Baseline: -0.45%\n",
      "..........\n",
      "Average Balanced Accuracy in participants_['va_late_fusion', 'va_early_fusion']_['parents'] models: 0.687175 (+-0.047812)\n",
      "Baseline value in participants_['va_late_fusion', 'va_early_fusion']_['parents'] models: 0.50295\n",
      "Difference from Baseline: 36.63%\n",
      "..........\n",
      "Best Values for the current Scenario:\n",
      "..........\n",
      "Best Accuracy: 0.7422 (participant_03_va_late_fusion_parents)\n",
      "Accuracy of the best model in baseline: 0.7267 (participant_03_va_late_fusion_parents)\n",
      "\n",
      "Best Accuracy (baseline): 0.7267 (participant_03_va_late_fusion_parents)\n",
      "Accuracy of the best baseline model in this scenario: 0.7422 (participant_03_va_late_fusion_parents)\n",
      "\n",
      "Difference of Best Acc Value between Scenario and Baseline: 2.13%\n",
      "..........\n",
      "Best Balanced Accuracy: 0.7722 (participant_03_va_late_fusion_parents)\n",
      "Balanced Accuracy of the best model in baseline: 0.6059 (participant_03_va_late_fusion_parents)\n",
      "\n",
      "Best Balanced Accuracy (baseline): 0.6233 (participant_03_va_early_fusion_parents)\n",
      "Best Accuracy of the best baseline model in this scenario: 0.7343 (participant_03_va_early_fusion_parents)\n",
      "\n",
      "Difference of Best Balanced Acc Values between Scenario and Baseline: 23.89%\n"
     ]
    }
   ],
   "source": [
    "scenario=['va_late_fusion', 'va_early_fusion']\n",
    "annotation_type=['parents']\n",
    "subset_data='participants'\n",
    "resulting_df, baseline_df = get_subset_data(oversampling_data_results, \n",
    "                                            scenario=scenario,\n",
    "                                            annotation_type=annotation_type, \n",
    "                                            subdataset_case=subset_data)\n",
    "compare_against_baseline(resulting_df, baseline_df, scenario, annotation_type, subset_data)"
   ]
  },
  {
   "cell_type": "code",
   "execution_count": 8,
   "id": "55b526cc",
   "metadata": {
    "scrolled": false
   },
   "outputs": [
    {
     "name": "stdout",
     "output_type": "stream",
     "text": [
      "..........\n",
      "Average Accuracy in sessions_['va_late_fusion', 'va_early_fusion']_['parents'] models: 0.716886(+-0.045701)\n",
      "Baseline value in sessions_['va_late_fusion', 'va_early_fusion']_['parents'] models: 0.723493\n",
      "Difference from Baseline: -0.91%\n",
      "..........\n",
      "Average Balanced Accuracy in sessions_['va_late_fusion', 'va_early_fusion']_['parents'] models: 0.713479 (+-0.062406)\n",
      "Baseline value in sessions_['va_late_fusion', 'va_early_fusion']_['parents'] models: 0.551071\n",
      "Difference from Baseline: 29.47%\n",
      "..........\n",
      "Best Values for the current Scenario:\n",
      "..........\n",
      "Best Accuracy: 0.8246 (session_03_01_va_late_fusion_parents)\n",
      "Accuracy of the best model in baseline: 0.8064 (session_03_01_va_late_fusion_parents)\n",
      "\n",
      "Best Accuracy (baseline): 0.8064 (session_03_01_va_late_fusion_parents)\n",
      "Accuracy of the best baseline model in this scenario: 0.8246 (session_03_01_va_late_fusion_parents)\n",
      "\n",
      "Difference of Best Acc Value between Scenario and Baseline: 2.26%\n",
      "..........\n",
      "Best Balanced Accuracy: 0.8415 (session_03_01_va_late_fusion_parents)\n",
      "Balanced Accuracy of the best model in baseline: 0.669 (session_03_01_va_late_fusion_parents)\n",
      "\n",
      "Best Balanced Accuracy (baseline): 0.6912 (session_03_01_va_early_fusion_parents)\n",
      "Best Accuracy of the best baseline model in this scenario: 0.8273 (session_03_01_va_early_fusion_parents)\n",
      "\n",
      "Difference of Best Balanced Acc Values between Scenario and Baseline: 21.74%\n"
     ]
    }
   ],
   "source": [
    "scenario=['va_late_fusion', 'va_early_fusion']\n",
    "annotation_type=['parents']\n",
    "subset_data='sessions'\n",
    "resulting_df, baseline_df = get_subset_data(oversampling_data_results, \n",
    "                                            scenario=scenario,\n",
    "                                            annotation_type=annotation_type, \n",
    "                                            subdataset_case=subset_data)\n",
    "compare_against_baseline(resulting_df, baseline_df, scenario, annotation_type, subset_data)"
   ]
  },
  {
   "cell_type": "markdown",
   "id": "3f8ba542",
   "metadata": {},
   "source": [
    "# Getting the Best SM and HSM for Specialist annotation"
   ]
  },
  {
   "cell_type": "code",
   "execution_count": 9,
   "id": "768175c5",
   "metadata": {},
   "outputs": [
    {
     "name": "stdout",
     "output_type": "stream",
     "text": [
      "..........\n",
      "Average Accuracy in all_data_['va_late_fusion', 'va_early_fusion']_['specialist'] models: 0.66295(+-0.017324)\n",
      "Baseline value in all_data_['va_late_fusion', 'va_early_fusion']_['specialist'] models: 0.70875\n",
      "Difference from Baseline: -6.46%\n",
      "..........\n",
      "Average Balanced Accuracy in all_data_['va_late_fusion', 'va_early_fusion']_['specialist'] models: 0.67555 (+-0.017324)\n",
      "Baseline value in all_data_['va_late_fusion', 'va_early_fusion']_['specialist'] models: 0.4463\n",
      "Difference from Baseline: 51.37%\n",
      "..........\n",
      "Best Values for the current Scenario:\n",
      "..........\n",
      "Best Accuracy: 0.6752 (all_data_va_late_fusion_specialist)\n",
      "Accuracy of the best model in baseline: 0.7076 (all_data_va_late_fusion_specialist)\n",
      "\n",
      "Best Accuracy (baseline): 0.7099 (all_data_va_early_fusion_specialist)\n",
      "Accuracy of the best baseline model in this scenario: 0.6507 (all_data_va_early_fusion_specialist)\n",
      "\n",
      "Difference of Best Acc Value between Scenario and Baseline: -4.89%\n",
      "..........\n",
      "Best Balanced Accuracy: 0.6878 (all_data_va_late_fusion_specialist)\n",
      "Balanced Accuracy of the best model in baseline: 0.4201 (all_data_va_late_fusion_specialist)\n",
      "\n",
      "Best Balanced Accuracy (baseline): 0.4725 (all_data_va_early_fusion_specialist)\n",
      "Best Accuracy of the best baseline model in this scenario: 0.6633 (all_data_va_early_fusion_specialist)\n",
      "\n",
      "Difference of Best Balanced Acc Values between Scenario and Baseline: 45.57%\n"
     ]
    }
   ],
   "source": [
    "scenario=['va_late_fusion', 'va_early_fusion']\n",
    "annotation_type=['specialist']\n",
    "subset_data='all_data'\n",
    "resulting_df, baseline_df = get_subset_data(oversampling_data_results, \n",
    "                                            scenario=scenario,\n",
    "                                            annotation_type=annotation_type, \n",
    "                                            subdataset_case=subset_data)\n",
    "compare_against_baseline(resulting_df, baseline_df, scenario, annotation_type, subset_data)"
   ]
  },
  {
   "cell_type": "code",
   "execution_count": 10,
   "id": "4c467889",
   "metadata": {},
   "outputs": [
    {
     "name": "stdout",
     "output_type": "stream",
     "text": [
      "..........\n",
      "Average Accuracy in participants_['va_late_fusion', 'va_early_fusion']_['specialist'] models: 0.7342(+-0.025308)\n",
      "Baseline value in participants_['va_late_fusion', 'va_early_fusion']_['specialist'] models: 0.750175\n",
      "Difference from Baseline: -2.13%\n",
      "..........\n",
      "Average Balanced Accuracy in participants_['va_late_fusion', 'va_early_fusion']_['specialist'] models: 0.737212 (+-0.024075)\n",
      "Baseline value in participants_['va_late_fusion', 'va_early_fusion']_['specialist'] models: 0.542225\n",
      "Difference from Baseline: 35.96%\n",
      "..........\n",
      "Best Values for the current Scenario:\n",
      "..........\n",
      "Best Accuracy: 0.7676 (participant_03_va_late_fusion_specialist)\n",
      "Accuracy of the best model in baseline: 0.7509 (participant_03_va_late_fusion_specialist)\n",
      "\n",
      "Best Accuracy (baseline): 0.8007 (participant_02_va_early_fusion_specialist)\n",
      "Accuracy of the best baseline model in this scenario: 0.7398 (participant_02_va_early_fusion_specialist)\n",
      "\n",
      "Difference of Best Acc Value between Scenario and Baseline: -4.13%\n",
      "..........\n",
      "Best Balanced Accuracy: 0.7683 (participant_03_va_late_fusion_specialist)\n",
      "Balanced Accuracy of the best model in baseline: 0.5826 (participant_03_va_late_fusion_specialist)\n",
      "\n",
      "Best Balanced Accuracy (baseline): 0.6422 (participant_01_va_early_fusion_specialist)\n",
      "Best Accuracy of the best baseline model in this scenario: 0.7339 (participant_01_va_early_fusion_specialist)\n",
      "\n",
      "Difference of Best Balanced Acc Values between Scenario and Baseline: 19.64%\n"
     ]
    }
   ],
   "source": [
    "scenario=['va_late_fusion', 'va_early_fusion']\n",
    "annotation_type=['specialist']\n",
    "subset_data='participants'\n",
    "resulting_df, baseline_df = get_subset_data(oversampling_data_results, \n",
    "                                            scenario=scenario,\n",
    "                                            annotation_type=annotation_type, \n",
    "                                            subdataset_case=subset_data)\n",
    "compare_against_baseline(resulting_df, baseline_df, scenario, annotation_type, subset_data)"
   ]
  },
  {
   "cell_type": "code",
   "execution_count": 11,
   "id": "d3b6b56f",
   "metadata": {},
   "outputs": [
    {
     "name": "stdout",
     "output_type": "stream",
     "text": [
      "..........\n",
      "Average Accuracy in sessions_['va_late_fusion', 'va_early_fusion']_['specialist'] models: 0.7703(+-0.050697)\n",
      "Baseline value in sessions_['va_late_fusion', 'va_early_fusion']_['specialist'] models: 0.774979\n",
      "Difference from Baseline: -0.60%\n",
      "..........\n",
      "Average Balanced Accuracy in sessions_['va_late_fusion', 'va_early_fusion']_['specialist'] models: 0.751971 (+-0.078419)\n",
      "Baseline value in sessions_['va_late_fusion', 'va_early_fusion']_['specialist'] models: 0.588279\n",
      "Difference from Baseline: 27.83%\n",
      "..........\n",
      "Best Values for the current Scenario:\n",
      "..........\n",
      "Best Accuracy: 0.843 (session_03_01_va_late_fusion_specialist)\n",
      "Accuracy of the best model in baseline: 0.8146 (session_03_01_va_late_fusion_specialist)\n",
      "\n",
      "Best Accuracy (baseline): 0.8305 (session_02_01_va_early_fusion_specialist)\n",
      "Accuracy of the best baseline model in this scenario: 0.8245 (session_02_01_va_early_fusion_specialist)\n",
      "\n",
      "Difference of Best Acc Value between Scenario and Baseline: 1.51%\n",
      "..........\n",
      "Best Balanced Accuracy: 0.8334 (session_02_01_va_late_fusion_specialist)\n",
      "Balanced Accuracy of the best model in baseline: 0.5109 (session_02_01_va_late_fusion_specialist)\n",
      "\n",
      "Best Balanced Accuracy (baseline): 0.7045 (session_03_01_va_early_fusion_specialist)\n",
      "Best Accuracy of the best baseline model in this scenario: 0.8085 (session_03_01_va_early_fusion_specialist)\n",
      "\n",
      "Difference of Best Balanced Acc Values between Scenario and Baseline: 18.30%\n"
     ]
    }
   ],
   "source": [
    "scenario=['va_late_fusion', 'va_early_fusion']\n",
    "annotation_type=['specialist']\n",
    "subset_data='sessions'\n",
    "resulting_df, baseline_df = get_subset_data(oversampling_data_results, \n",
    "                                            scenario=scenario,\n",
    "                                            annotation_type=annotation_type, \n",
    "                                            subdataset_case=subset_data)\n",
    "compare_against_baseline(resulting_df, baseline_df, scenario, annotation_type, subset_data)"
   ]
  },
  {
   "cell_type": "markdown",
   "id": "f626b50a",
   "metadata": {},
   "source": [
    "# Comments & Conclusions\n",
    "\n",
    "1. "
   ]
  }
 ],
 "metadata": {
  "kernelspec": {
   "display_name": "Python 3 (ipykernel)",
   "language": "python",
   "name": "python3"
  },
  "language_info": {
   "codemirror_mode": {
    "name": "ipython",
    "version": 3
   },
   "file_extension": ".py",
   "mimetype": "text/x-python",
   "name": "python",
   "nbconvert_exporter": "python",
   "pygments_lexer": "ipython3",
   "version": "3.10.4"
  }
 },
 "nbformat": 4,
 "nbformat_minor": 5
}
