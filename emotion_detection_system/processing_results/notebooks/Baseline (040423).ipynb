{
 "cells": [
  {
   "cell_type": "code",
   "execution_count": 1,
   "id": "732fd167",
   "metadata": {},
   "outputs": [],
   "source": [
    "import os\n",
    "import sys"
   ]
  },
  {
   "cell_type": "code",
   "execution_count": 2,
   "id": "06e196b3",
   "metadata": {},
   "outputs": [],
   "source": [
    "NOTEBOOK_DIR = os.path.dirname(os.path.realpath(\"__file__\"))\n",
    "PROJECT_ROOT = os.path.dirname(NOTEBOOK_DIR)\n",
    "\n",
    "sys.path.append(PROJECT_ROOT) # make my_module available to import\n",
    "\n",
    "# Importing my python module utils\n",
    "from emotion_detection_system.processing_results.information_from_results import *"
   ]
  },
  {
   "cell_type": "code",
   "execution_count": 3,
   "id": "673eb129",
   "metadata": {},
   "outputs": [
    {
     "name": "stdout",
     "output_type": "stream",
     "text": [
      "##########\n",
      "\n",
      "Best Values for the Data Experiment Batch:\n",
      "Best Accuracy: 0.8438 (session_02_01_v_specialist)\n",
      "Compared to baseline: 0.8438 (session_02_01_v_specialist)\n",
      "Difference from Baseline: 0.00%\n",
      "##########\n",
      "\n",
      "Best Balanced Accuracy: 0.7469 (session_03_01_v_specialist)\n",
      "Compared to baseline: 0.7469 (session_03_01_v_specialist)\n",
      "Difference from Baseline: 0.00%\n"
     ]
    }
   ],
   "source": [
    "calculate_best_acc(BASELINE_DATA)"
   ]
  },
  {
   "cell_type": "code",
   "execution_count": 4,
   "id": "0fe8492c",
   "metadata": {
    "scrolled": true
   },
   "outputs": [
    {
     "name": "stdout",
     "output_type": "stream",
     "text": [
      "##########\n",
      "\n",
      "Average Accuracy in ['va_late_fusion', 'va_early_fusion']_['parents', 'specialist'] models: 0.734521(+-0.047367)\n",
      "Baseline value: 0.734521\n",
      "Difference from Baseline: 0.00%\n",
      "##########\n",
      "\n",
      "Average Balanced Accuracy in ['va_late_fusion', 'va_early_fusion']_['parents', 'specialist'] models: 0.544356 (+-0.084798)\n",
      "Baseline value: 0.544356\n",
      "Difference from Baseline: 0.00%\n",
      "##########\n",
      "\n",
      "Best Values for the current Scenario:\n",
      "Best Accuracy: 0.8305 (session_02_01_va_early_fusion_specialist)\n",
      "Compared to baseline: 0.8305 (session_02_01_va_early_fusion_specialist)\n",
      "Difference from Baseline: 0.00%\n",
      "##########\n",
      "\n",
      "Best Balanced Accuracy: 0.7045 (session_03_01_va_early_fusion_specialist)\n",
      "Compared to baseline: 0.7045 (session_03_01_va_early_fusion_specialist)\n",
      "Difference from Baseline: 0.00%\n"
     ]
    }
   ],
   "source": [
    "compare_against_baseline(BASELINE_DATA, scenario=['va_late_fusion', 'va_early_fusion'], annotation_type=['parents', 'specialist'])"
   ]
  },
  {
   "cell_type": "code",
   "execution_count": 5,
   "id": "e0495c8e",
   "metadata": {
    "scrolled": true
   },
   "outputs": [
    {
     "name": "stdout",
     "output_type": "stream",
     "text": [
      "##########\n",
      "\n",
      "Average Accuracy in ['va_late_fusion', 'va_early_fusion']_['parents'] models: 0.70785(+-0.03997)\n",
      "Baseline value: 0.70785\n",
      "Difference from Baseline: 0.00%\n",
      "##########\n",
      "\n",
      "Average Balanced Accuracy in ['va_late_fusion', 'va_early_fusion']_['parents'] models: 0.527617 (+-0.089932)\n",
      "Baseline value: 0.527617\n",
      "Difference from Baseline: 0.00%\n",
      "##########\n",
      "\n",
      "Best Values for the current Scenario:\n",
      "Best Accuracy: 0.8064\n",
      "0.8064 ( session_03_01_va_late_fusion\n",
      "session_03_01_va_early_fusion_parents\n",
      "parents)\n",
      "Compared to baseline: 0.8064\n",
      "0.8064 ( session_03_01_va_late_fusion\n",
      "session_03_01_va_early_fusion_parents\n",
      "parents)\n",
      "Difference from Baseline: 0.00%\n",
      "##########\n",
      "\n",
      "Best Balanced Accuracy: 0.6912 (session_03_01_va_early_fusion_parents)\n",
      "Compared to baseline: 0.6912 (session_03_01_va_early_fusion_parents)\n",
      "Difference from Baseline: 0.00%\n"
     ]
    }
   ],
   "source": [
    "compare_against_baseline(BASELINE_DATA,scenario=['va_late_fusion', 'va_early_fusion'], annotation_type=['parents'])"
   ]
  },
  {
   "cell_type": "code",
   "execution_count": 6,
   "id": "456a65cf",
   "metadata": {},
   "outputs": [
    {
     "name": "stdout",
     "output_type": "stream",
     "text": [
      "##########\n",
      "\n",
      "Average Accuracy in ['va_late_fusion', 'va_early_fusion']_['specialist'] models: 0.761192(+-0.038766)\n",
      "Baseline value: 0.761192\n",
      "Difference from Baseline: 0.00%\n",
      "##########\n",
      "\n",
      "Average Balanced Accuracy in ['va_late_fusion', 'va_early_fusion']_['specialist'] models: 0.561096 (+-0.077598)\n",
      "Baseline value: 0.561096\n",
      "Difference from Baseline: 0.00%\n",
      "##########\n",
      "\n",
      "Best Values for the current Scenario:\n",
      "Best Accuracy: 0.8305 (session_02_01_va_early_fusion_specialist)\n",
      "Compared to baseline: 0.8305 (session_02_01_va_early_fusion_specialist)\n",
      "Difference from Baseline: 0.00%\n",
      "##########\n",
      "\n",
      "Best Balanced Accuracy: 0.7045 (session_03_01_va_early_fusion_specialist)\n",
      "Compared to baseline: 0.7045 (session_03_01_va_early_fusion_specialist)\n",
      "Difference from Baseline: 0.00%\n"
     ]
    }
   ],
   "source": [
    "compare_against_baseline(BASELINE_DATA,scenario=['va_late_fusion', 'va_early_fusion'], annotation_type=['specialist'])"
   ]
  },
  {
   "cell_type": "code",
   "execution_count": 7,
   "id": "37cf4fc5",
   "metadata": {},
   "outputs": [
    {
     "name": "stdout",
     "output_type": "stream",
     "text": [
      "##########\n",
      "\n",
      "Average Accuracy in ['va_late_fusion']_['parents', 'specialist'] models: 0.73255(+-0.046834)\n",
      "Baseline value: 0.73255\n",
      "Difference from Baseline: 0.00%\n",
      "##########\n",
      "\n",
      "Average Balanced Accuracy in ['va_late_fusion']_['parents', 'specialist'] models: 0.522604 (+-0.087934)\n",
      "Baseline value: 0.522604\n",
      "Difference from Baseline: 0.00%\n",
      "##########\n",
      "\n",
      "Best Values for the current Scenario:\n",
      "Best Accuracy: 0.8149 (session_02_01_va_late_fusion_specialist)\n",
      "Compared to baseline: 0.8149 (session_02_01_va_late_fusion_specialist)\n",
      "Difference from Baseline: 0.00%\n",
      "##########\n",
      "\n",
      "Best Balanced Accuracy: 0.696 (session_03_01_va_late_fusion_specialist)\n",
      "Compared to baseline: 0.696 (session_03_01_va_late_fusion_specialist)\n",
      "Difference from Baseline: 0.00%\n"
     ]
    }
   ],
   "source": [
    "compare_against_baseline(BASELINE_DATA, scenario=['va_late_fusion'], annotation_type=['parents', 'specialist'])"
   ]
  },
  {
   "cell_type": "code",
   "execution_count": 8,
   "id": "6c5c85dc",
   "metadata": {},
   "outputs": [
    {
     "name": "stdout",
     "output_type": "stream",
     "text": [
      "##########\n",
      "\n",
      "Average Accuracy in ['va_early_fusion']_['parents', 'specialist'] models: 0.736492(+-0.04882)\n",
      "Baseline value: 0.736492\n",
      "Difference from Baseline: 0.00%\n",
      "##########\n",
      "\n",
      "Average Balanced Accuracy in ['va_early_fusion']_['parents', 'specialist'] models: 0.566108 (+-0.077292)\n",
      "Baseline value: 0.566108\n",
      "Difference from Baseline: 0.00%\n",
      "##########\n",
      "\n",
      "Best Values for the current Scenario:\n",
      "Best Accuracy: 0.8305 (session_02_01_va_early_fusion_specialist)\n",
      "Compared to baseline: 0.8305 (session_02_01_va_early_fusion_specialist)\n",
      "Difference from Baseline: 0.00%\n",
      "##########\n",
      "\n",
      "Best Balanced Accuracy: 0.7045 (session_03_01_va_early_fusion_specialist)\n",
      "Compared to baseline: 0.7045 (session_03_01_va_early_fusion_specialist)\n",
      "Difference from Baseline: 0.00%\n"
     ]
    }
   ],
   "source": [
    "compare_against_baseline(BASELINE_DATA, scenario=['va_early_fusion'], annotation_type=['parents', 'specialist'])"
   ]
  },
  {
   "cell_type": "code",
   "execution_count": 9,
   "id": "a82d4d17",
   "metadata": {},
   "outputs": [
    {
     "name": "stdout",
     "output_type": "stream",
     "text": [
      "##########\n",
      "\n",
      "Average Accuracy in ['va_late_fusion']_['parents'] models: 0.706017(+-0.041772)\n",
      "Baseline value: 0.706017\n",
      "Difference from Baseline: 0.00%\n",
      "##########\n",
      "\n",
      "Average Balanced Accuracy in ['va_late_fusion']_['parents'] models: 0.510183 (+-0.096144)\n",
      "Baseline value: 0.510183\n",
      "Difference from Baseline: 0.00%\n",
      "##########\n",
      "\n",
      "Best Values for the current Scenario:\n",
      "Best Accuracy: 0.8064 (session_03_01_va_late_fusion_parents)\n",
      "Compared to baseline: 0.8064 (session_03_01_va_late_fusion_parents)\n",
      "Difference from Baseline: 0.00%\n",
      "##########\n",
      "\n",
      "Best Balanced Accuracy: 0.669 (session_03_01_va_late_fusion_parents)\n",
      "Compared to baseline: 0.669 (session_03_01_va_late_fusion_parents)\n",
      "Difference from Baseline: 0.00%\n"
     ]
    }
   ],
   "source": [
    "compare_against_baseline(BASELINE_DATA, scenario=['va_late_fusion'], annotation_type=['parents'])"
   ]
  },
  {
   "cell_type": "code",
   "execution_count": 10,
   "id": "ec3bd4e1",
   "metadata": {},
   "outputs": [
    {
     "name": "stdout",
     "output_type": "stream",
     "text": [
      "##########\n",
      "\n",
      "Average Accuracy in ['va_early_fusion']_['parents'] models: 0.709683(+-0.039852)\n",
      "Baseline value: 0.709683\n",
      "Difference from Baseline: 0.00%\n",
      "##########\n",
      "\n",
      "Average Balanced Accuracy in ['va_early_fusion']_['parents'] models: 0.54505 (+-0.083689)\n",
      "Baseline value: 0.54505\n",
      "Difference from Baseline: 0.00%\n",
      "##########\n",
      "\n",
      "Best Values for the current Scenario:\n",
      "Best Accuracy: 0.8064 (session_03_01_va_early_fusion_parents)\n",
      "Compared to baseline: 0.8064 (session_03_01_va_early_fusion_parents)\n",
      "Difference from Baseline: 0.00%\n",
      "##########\n",
      "\n",
      "Best Balanced Accuracy: 0.6912 (session_03_01_va_early_fusion_parents)\n",
      "Compared to baseline: 0.6912 (session_03_01_va_early_fusion_parents)\n",
      "Difference from Baseline: 0.00%\n"
     ]
    }
   ],
   "source": [
    "compare_against_baseline(BASELINE_DATA, scenario=['va_early_fusion'], annotation_type=['parents'])"
   ]
  },
  {
   "cell_type": "code",
   "execution_count": 11,
   "id": "165f6173",
   "metadata": {},
   "outputs": [
    {
     "name": "stdout",
     "output_type": "stream",
     "text": [
      "##########\n",
      "\n",
      "Average Accuracy in ['va_late_fusion']_['specialist'] models: 0.759083(+-0.036128)\n",
      "Baseline value: 0.759083\n",
      "Difference from Baseline: 0.00%\n",
      "##########\n",
      "\n",
      "Average Balanced Accuracy in ['va_late_fusion']_['specialist'] models: 0.535025 (+-0.081164)\n",
      "Baseline value: 0.535025\n",
      "Difference from Baseline: 0.00%\n",
      "##########\n",
      "\n",
      "Best Values for the current Scenario:\n",
      "Best Accuracy: 0.8149 (session_02_01_va_late_fusion_specialist)\n",
      "Compared to baseline: 0.8149 (session_02_01_va_late_fusion_specialist)\n",
      "Difference from Baseline: 0.00%\n",
      "##########\n",
      "\n",
      "Best Balanced Accuracy: 0.696 (session_03_01_va_late_fusion_specialist)\n",
      "Compared to baseline: 0.696 (session_03_01_va_late_fusion_specialist)\n",
      "Difference from Baseline: 0.00%\n"
     ]
    }
   ],
   "source": [
    "compare_against_baseline(BASELINE_DATA, scenario=['va_late_fusion'], annotation_type=['specialist'])"
   ]
  },
  {
   "cell_type": "code",
   "execution_count": 12,
   "id": "7facfe7d",
   "metadata": {},
   "outputs": [
    {
     "name": "stdout",
     "output_type": "stream",
     "text": [
      "##########\n",
      "\n",
      "Average Accuracy in ['va_early_fusion']_['specialist'] models: 0.7633(+-0.042746)\n",
      "Baseline value: 0.7633\n",
      "Difference from Baseline: 0.00%\n",
      "##########\n",
      "\n",
      "Average Balanced Accuracy in ['va_early_fusion']_['specialist'] models: 0.587167 (+-0.067228)\n",
      "Baseline value: 0.587167\n",
      "Difference from Baseline: 0.00%\n",
      "##########\n",
      "\n",
      "Best Values for the current Scenario:\n",
      "Best Accuracy: 0.8305 (session_02_01_va_early_fusion_specialist)\n",
      "Compared to baseline: 0.8305 (session_02_01_va_early_fusion_specialist)\n",
      "Difference from Baseline: 0.00%\n",
      "##########\n",
      "\n",
      "Best Balanced Accuracy: 0.7045 (session_03_01_va_early_fusion_specialist)\n",
      "Compared to baseline: 0.7045 (session_03_01_va_early_fusion_specialist)\n",
      "Difference from Baseline: 0.00%\n"
     ]
    }
   ],
   "source": [
    "compare_against_baseline(BASELINE_DATA, scenario=['va_early_fusion'], annotation_type=['specialist'])"
   ]
  },
  {
   "cell_type": "code",
   "execution_count": 13,
   "id": "795c639d",
   "metadata": {},
   "outputs": [
    {
     "name": "stdout",
     "output_type": "stream",
     "text": [
      "##########\n",
      "\n",
      "Average Accuracy in ['v']_['parents', 'specialist'] models: 0.746779(+-0.052594)\n",
      "Baseline value: 0.746779\n",
      "Difference from Baseline: 0.00%\n",
      "##########\n",
      "\n",
      "Average Balanced Accuracy in ['v']_['parents', 'specialist'] models: 0.579958 (+-0.083822)\n",
      "Baseline value: 0.579958\n",
      "Difference from Baseline: 0.00%\n",
      "##########\n",
      "\n",
      "Best Values for the current Scenario:\n",
      "Best Accuracy: 0.8438 (session_02_01_v_specialist)\n",
      "Compared to baseline: 0.8438 (session_02_01_v_specialist)\n",
      "Difference from Baseline: 0.00%\n",
      "##########\n",
      "\n",
      "Best Balanced Accuracy: 0.7469 (session_03_01_v_specialist)\n",
      "Compared to baseline: 0.7469 (session_03_01_v_specialist)\n",
      "Difference from Baseline: 0.00%\n"
     ]
    }
   ],
   "source": [
    "compare_against_baseline(BASELINE_DATA, scenario=['v'], annotation_type=['parents', 'specialist'])"
   ]
  },
  {
   "cell_type": "code",
   "execution_count": 14,
   "id": "38a390aa",
   "metadata": {},
   "outputs": [
    {
     "name": "stdout",
     "output_type": "stream",
     "text": [
      "##########\n",
      "\n",
      "Average Accuracy in ['v']_['specialist'] models: 0.7759(+-0.044378)\n",
      "Baseline value: 0.7759\n",
      "Difference from Baseline: 0.00%\n",
      "##########\n",
      "\n",
      "Average Balanced Accuracy in ['v']_['specialist'] models: 0.60095 (+-0.081241)\n",
      "Baseline value: 0.60095\n",
      "Difference from Baseline: 0.00%\n",
      "##########\n",
      "\n",
      "Best Values for the current Scenario:\n",
      "Best Accuracy: 0.8438 (session_02_01_v_specialist)\n",
      "Compared to baseline: 0.8438 (session_02_01_v_specialist)\n",
      "Difference from Baseline: 0.00%\n",
      "##########\n",
      "\n",
      "Best Balanced Accuracy: 0.7469 (session_03_01_v_specialist)\n",
      "Compared to baseline: 0.7469 (session_03_01_v_specialist)\n",
      "Difference from Baseline: 0.00%\n"
     ]
    }
   ],
   "source": [
    "compare_against_baseline(BASELINE_DATA, scenario=['v'], annotation_type=['specialist'])"
   ]
  },
  {
   "cell_type": "code",
   "execution_count": 15,
   "id": "0c3a27fe",
   "metadata": {},
   "outputs": [
    {
     "name": "stdout",
     "output_type": "stream",
     "text": [
      "##########\n",
      "\n",
      "Average Accuracy in ['v']_['parents'] models: 0.717658(+-0.044319)\n",
      "Baseline value: 0.717658\n",
      "Difference from Baseline: 0.00%\n",
      "##########\n",
      "\n",
      "Average Balanced Accuracy in ['v']_['parents'] models: 0.558967 (+-0.084437)\n",
      "Baseline value: 0.558967\n",
      "Difference from Baseline: 0.00%\n",
      "##########\n",
      "\n",
      "Best Values for the current Scenario:\n",
      "Best Accuracy: 0.8235 (session_03_01_v_parents)\n",
      "Compared to baseline: 0.8235 (session_03_01_v_parents)\n",
      "Difference from Baseline: 0.00%\n",
      "##########\n",
      "\n",
      "Best Balanced Accuracy: 0.7308 (session_03_01_v_parents)\n",
      "Compared to baseline: 0.7308 (session_03_01_v_parents)\n",
      "Difference from Baseline: 0.00%\n"
     ]
    }
   ],
   "source": [
    "compare_against_baseline(BASELINE_DATA, scenario=['v'], annotation_type=['parents'])"
   ]
  },
  {
   "cell_type": "code",
   "execution_count": 16,
   "id": "2596bd59",
   "metadata": {},
   "outputs": [
    {
     "name": "stdout",
     "output_type": "stream",
     "text": [
      "##########\n",
      "\n",
      "Average Accuracy in ['a']_['parents', 'specialist'] models: 0.585779(+-0.064176)\n",
      "Baseline value: 0.585779\n",
      "Difference from Baseline: 0.00%\n",
      "##########\n",
      "\n",
      "Average Balanced Accuracy in ['a']_['parents', 'specialist'] models: 0.284983 (+-0.04401)\n",
      "Baseline value: 0.284983\n",
      "Difference from Baseline: 0.00%\n",
      "##########\n",
      "\n",
      "Best Values for the current Scenario:\n",
      "Best Accuracy: 0.6843 (session_02_01_a_specialist)\n",
      "Compared to baseline: 0.6843 (session_02_01_a_specialist)\n",
      "Difference from Baseline: 0.00%\n",
      "##########\n",
      "\n",
      "Best Balanced Accuracy: 0.4271 (session_02_02_a_parents)\n",
      "Compared to baseline: 0.4271 (session_02_02_a_parents)\n",
      "Difference from Baseline: 0.00%\n"
     ]
    }
   ],
   "source": [
    "compare_against_baseline(BASELINE_DATA, scenario=['a'], annotation_type=['parents', 'specialist'])"
   ]
  },
  {
   "cell_type": "code",
   "execution_count": 17,
   "id": "08903ac7",
   "metadata": {
    "scrolled": true
   },
   "outputs": [
    {
     "name": "stdout",
     "output_type": "stream",
     "text": [
      "##########\n",
      "\n",
      "Average Accuracy in ['a']_['specialist'] models: 0.618117(+-0.043467)\n",
      "Baseline value: 0.618117\n",
      "Difference from Baseline: 0.00%\n",
      "##########\n",
      "\n",
      "Average Balanced Accuracy in ['a']_['specialist'] models: 0.288625 (+-0.038073)\n",
      "Baseline value: 0.288625\n",
      "Difference from Baseline: 0.00%\n",
      "##########\n",
      "\n",
      "Best Values for the current Scenario:\n",
      "Best Accuracy: 0.6843 (session_02_01_a_specialist)\n",
      "Compared to baseline: 0.6843 (session_02_01_a_specialist)\n",
      "Difference from Baseline: 0.00%\n",
      "##########\n",
      "\n",
      "Best Balanced Accuracy: 0.3341 (session_03_01_a_specialist)\n",
      "Compared to baseline: 0.3341 (session_03_01_a_specialist)\n",
      "Difference from Baseline: 0.00%\n"
     ]
    }
   ],
   "source": [
    "compare_against_baseline(BASELINE_DATA, scenario=['a'], annotation_type=['specialist'])"
   ]
  },
  {
   "cell_type": "code",
   "execution_count": 18,
   "id": "6b4e050f",
   "metadata": {},
   "outputs": [
    {
     "name": "stdout",
     "output_type": "stream",
     "text": [
      "##########\n",
      "\n",
      "Average Accuracy in ['a']_['parents'] models: 0.553442(+-0.066638)\n",
      "Baseline value: 0.553442\n",
      "Difference from Baseline: 0.00%\n",
      "##########\n",
      "\n",
      "Average Balanced Accuracy in ['a']_['parents'] models: 0.281342 (+-0.050708)\n",
      "Baseline value: 0.281342\n",
      "Difference from Baseline: 0.00%\n",
      "##########\n",
      "\n",
      "Best Values for the current Scenario:\n",
      "Best Accuracy: 0.6378 (session_04_01_a_parents)\n",
      "Compared to baseline: 0.6378 (session_04_01_a_parents)\n",
      "Difference from Baseline: 0.00%\n",
      "##########\n",
      "\n",
      "Best Balanced Accuracy: 0.4271 (session_02_02_a_parents)\n",
      "Compared to baseline: 0.4271 (session_02_02_a_parents)\n",
      "Difference from Baseline: 0.00%\n"
     ]
    }
   ],
   "source": [
    "compare_against_baseline(BASELINE_DATA, scenario=['a'], annotation_type=['parents'])"
   ]
  },
  {
   "cell_type": "code",
   "execution_count": 19,
   "id": "85a1ebe6",
   "metadata": {},
   "outputs": [
    {
     "name": "stdout",
     "output_type": "stream",
     "text": [
      "##########\n",
      "\n",
      "Best Values of F1Score:\n",
      "Best F1Score (Blue): 0.7826 (session_03_01_va_late_fusion_parents)\n",
      "Compared to baseline: 0.7826 (session_03_01_va_late_fusion_parents)\n",
      "Difference from Baseline: 0.00%\n",
      "..........\n",
      "Best F1Score (Green): 0.9109 (session_02_01_v_specialist)\n",
      "Compared to baseline: 0.9109 (session_02_01_v_specialist)\n",
      "Difference from Baseline: 0.00%\n",
      "..........\n",
      "Best F1Score (Red): 0.7733 (session_04_01_v_specialist)\n",
      "Compared to baseline: 0.7733 (session_04_01_v_specialist)\n",
      "Difference from Baseline: 0.00%\n",
      "..........\n",
      "Best F1Score (Yellow): 0.6935 (session_04_01_v_specialist)\n",
      "Compared to baseline: 0.6935 (session_04_01_v_specialist)\n",
      "Difference from Baseline: 0.00%\n"
     ]
    }
   ],
   "source": [
    "calculate_best_f1_score(BASELINE_DATA)"
   ]
  },
  {
   "cell_type": "code",
   "execution_count": 20,
   "id": "18386fdc",
   "metadata": {},
   "outputs": [
    {
     "name": "stdout",
     "output_type": "stream",
     "text": [
      "##########\n",
      "\n",
      "Average F1score (blue) models: 0.481688 (+-0.26413)\n",
      "Baseline value: 0.481688\n",
      "Difference from Baseline: 0.00%\n",
      "##########\n",
      "\n",
      "Average F1score (green) models: 0.804024 (+-0.057076)\n",
      "Baseline value: 0.804024\n",
      "Difference from Baseline: 0.00%\n",
      "##########\n",
      "\n",
      "Average F1score (red) models: 0.330767 (+-0.22374)\n",
      "Baseline value: 0.330767\n",
      "Difference from Baseline: 0.00%\n",
      "##########\n",
      "\n",
      "Average F1score (yellow) models: 0.375693 (+-0.210223)\n",
      "Baseline value: 0.375693\n",
      "Difference from Baseline: 0.00%\n"
     ]
    }
   ],
   "source": [
    "calculate_aggregated_f1_score(BASELINE_DATA)"
   ]
  },
  {
   "cell_type": "markdown",
   "id": "f626b50a",
   "metadata": {},
   "source": [
    "# Comments & Conclusions\n",
    "\n",
    "1. "
   ]
  }
 ],
 "metadata": {
  "kernelspec": {
   "display_name": "Python 3 (ipykernel)",
   "language": "python",
   "name": "python3"
  },
  "language_info": {
   "codemirror_mode": {
    "name": "ipython",
    "version": 3
   },
   "file_extension": ".py",
   "mimetype": "text/x-python",
   "name": "python",
   "nbconvert_exporter": "python",
   "pygments_lexer": "ipython3",
   "version": "3.10.4"
  }
 },
 "nbformat": 4,
 "nbformat_minor": 5
}
