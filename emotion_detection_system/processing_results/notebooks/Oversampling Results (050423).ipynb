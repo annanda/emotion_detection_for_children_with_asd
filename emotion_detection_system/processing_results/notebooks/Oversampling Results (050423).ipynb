{
 "cells": [
  {
   "cell_type": "code",
   "execution_count": 1,
   "id": "732fd167",
   "metadata": {},
   "outputs": [],
   "source": [
    "import os\n",
    "import sys"
   ]
  },
  {
   "cell_type": "code",
   "execution_count": 2,
   "id": "06e196b3",
   "metadata": {},
   "outputs": [],
   "source": [
    "NOTEBOOK_DIR = os.path.dirname(os.path.realpath(\"__file__\"))\n",
    "PROJECT_ROOT = os.path.dirname(NOTEBOOK_DIR)\n",
    "\n",
    "sys.path.append(PROJECT_ROOT) # make my_module available to import\n",
    "\n",
    "# Importing my python module utils\n",
    "from emotion_detection_system.processing_results.information_from_results import *"
   ]
  },
  {
   "cell_type": "markdown",
   "id": "6b79b008",
   "metadata": {},
   "source": [
    "## Best Accuracy and Balanced Accuracy"
   ]
  },
  {
   "cell_type": "code",
   "execution_count": 3,
   "id": "673eb129",
   "metadata": {},
   "outputs": [
    {
     "name": "stdout",
     "output_type": "stream",
     "text": [
      "Best Values for the Data Experiment Batch:\n",
      "Best Accuracy: 0.8589 (session_03_01_v_specialist)\n",
      "Compared to baseline: 0.8438 (session_02_01_v_specialist)\n",
      "Difference from Baseline: 1.79%\n",
      "..........\n",
      "\n",
      "Best Balanced Accuracy: 0.8421 (session_03_01_v_parents)\n",
      "Compared to baseline: 0.7469 (session_03_01_v_specialist)\n",
      "Difference from Baseline: 12.75%\n"
     ]
    }
   ],
   "source": [
    "calculate_best_acc(oversampling_data_results)"
   ]
  },
  {
   "cell_type": "markdown",
   "id": "9b727f46",
   "metadata": {},
   "source": [
    "# Models using a subset of the dataset"
   ]
  },
  {
   "cell_type": "markdown",
   "id": "cf66636c",
   "metadata": {},
   "source": [
    "## Results for Multimodal (parents and specialist)"
   ]
  },
  {
   "cell_type": "code",
   "execution_count": 31,
   "id": "0fe8492c",
   "metadata": {
    "scrolled": true
   },
   "outputs": [
    {
     "name": "stdout",
     "output_type": "stream",
     "text": [
      "Average Accuracy in ['va_late_fusion', 'va_early_fusion']_['parents', 'specialist'] models: 0.732193(+-0.051122)\n",
      "Baseline value: 0.739255\n",
      "Difference from Baseline: -0.96%\n",
      "..........\n",
      "\n",
      "Average Balanced Accuracy in ['va_late_fusion', 'va_early_fusion']_['parents', 'specialist'] models: 0.725259 (+-0.063851)\n",
      "Baseline value: 0.552552\n",
      "Difference from Baseline: 31.26%\n",
      "..........\n",
      "\n",
      "Best Values for the current Scenario:\n",
      "Best Accuracy: 0.843 (session_03_01_va_late_fusion_specialist)\n",
      "Compared to baseline: 0.8305 (session_02_01_va_early_fusion_specialist)\n",
      "Difference from Baseline: 1.51%\n",
      "..........\n",
      "\n",
      "Best Balanced Accuracy: 0.8415 (session_03_01_va_late_fusion_parents)\n",
      "Compared to baseline: 0.7045 (session_03_01_va_early_fusion_specialist)\n",
      "Difference from Baseline: 19.45%\n"
     ]
    }
   ],
   "source": [
    "scenario=['va_late_fusion', 'va_early_fusion']\n",
    "annotation_type=['parents', 'specialist']\n",
    "compare_against_baseline(oversampling_data_results, scenario, annotation_type)"
   ]
  },
  {
   "cell_type": "markdown",
   "id": "9943cd73",
   "metadata": {},
   "source": [
    "## Results for Multimodal (parents)"
   ]
  },
  {
   "cell_type": "code",
   "execution_count": 33,
   "id": "e0495c8e",
   "metadata": {
    "scrolled": true
   },
   "outputs": [
    {
     "name": "stdout",
     "output_type": "stream",
     "text": [
      "Average Accuracy in ['va_late_fusion', 'va_early_fusion']_['parents'] models: 0.707214(+-0.043857)\n",
      "Baseline value: 0.71255\n",
      "Difference from Baseline: -0.75%\n",
      "..........\n",
      "\n",
      "Average Balanced Accuracy in ['va_late_fusion', 'va_early_fusion']_['parents'] models: 0.703914 (+-0.057798)\n",
      "Baseline value: 0.533573\n",
      "Difference from Baseline: 31.92%\n",
      "..........\n",
      "\n",
      "Best Values for the current Scenario:\n",
      "Best Accuracy: 0.8246 (session_03_01_va_late_fusion_parents)\n",
      "Compared to baseline: 0.8064\n",
      "0.8064 ( session_03_01_va_late_fusion\n",
      "session_03_01_va_early_fusion_parents\n",
      "parents)\n",
      "Difference from Baseline: 2.26%\n",
      "..........\n",
      "\n",
      "Best Balanced Accuracy: 0.8415 (session_03_01_va_late_fusion_parents)\n",
      "Compared to baseline: 0.6912 (session_03_01_va_early_fusion_parents)\n",
      "Difference from Baseline: 21.74%\n"
     ]
    }
   ],
   "source": [
    "scenario=['va_late_fusion', 'va_early_fusion']\n",
    "annotation_type=['parents']\n",
    "compare_against_baseline(oversampling_data_results, scenario, annotation_type)"
   ]
  },
  {
   "cell_type": "markdown",
   "id": "d251d341",
   "metadata": {},
   "source": [
    "## Results for Multimodal (specialist)"
   ]
  },
  {
   "cell_type": "code",
   "execution_count": 34,
   "id": "456a65cf",
   "metadata": {},
   "outputs": [
    {
     "name": "stdout",
     "output_type": "stream",
     "text": [
      "Average Accuracy in ['va_late_fusion', 'va_early_fusion']_['specialist'] models: 0.757173(+-0.046049)\n",
      "Baseline value: 0.765959\n",
      "Difference from Baseline: -1.15%\n",
      "..........\n",
      "\n",
      "Average Balanced Accuracy in ['va_late_fusion', 'va_early_fusion']_['specialist'] models: 0.746605 (+-0.063662)\n",
      "Baseline value: 0.571532\n",
      "Difference from Baseline: 30.63%\n",
      "..........\n",
      "\n",
      "Best Values for the current Scenario:\n",
      "Best Accuracy: 0.843 (session_03_01_va_late_fusion_specialist)\n",
      "Compared to baseline: 0.8305 (session_02_01_va_early_fusion_specialist)\n",
      "Difference from Baseline: 1.51%\n",
      "..........\n",
      "\n",
      "Best Balanced Accuracy: 0.8334 (session_02_01_va_late_fusion_specialist)\n",
      "Compared to baseline: 0.7045 (session_03_01_va_early_fusion_specialist)\n",
      "Difference from Baseline: 18.30%\n"
     ]
    }
   ],
   "source": [
    "scenario=['va_late_fusion', 'va_early_fusion']\n",
    "annotation_type=['specialist']\n",
    "compare_against_baseline(oversampling_data_results, scenario, annotation_type)"
   ]
  },
  {
   "cell_type": "markdown",
   "id": "e748183d",
   "metadata": {},
   "source": [
    "## Results for Multimodal - Late Fusion (parents and specialist)"
   ]
  },
  {
   "cell_type": "code",
   "execution_count": 29,
   "id": "37cf4fc5",
   "metadata": {},
   "outputs": [
    {
     "name": "stdout",
     "output_type": "stream",
     "text": [
      "Average Accuracy in ['va_late_fusion']_['parents', 'specialist'] models: 0.741036(+-0.049456)\n",
      "Baseline value: 0.7374\n",
      "Difference from Baseline: 0.49%\n",
      "..........\n",
      "\n",
      "Average Balanced Accuracy in ['va_late_fusion']_['parents', 'specialist'] models: 0.736432 (+-0.05773)\n",
      "Baseline value: 0.530873\n",
      "Difference from Baseline: 38.72%\n",
      "..........\n",
      "\n",
      "Best Values for the current Scenario:\n",
      "Best Accuracy: 0.843 (session_03_01_va_late_fusion_specialist)\n",
      "Compared to baseline: 0.8149 (session_02_01_va_late_fusion_specialist)\n",
      "Difference from Baseline: 3.45%\n",
      "..........\n",
      "\n",
      "Best Balanced Accuracy: 0.8415 (session_03_01_va_late_fusion_parents)\n",
      "Compared to baseline: 0.696 (session_03_01_va_late_fusion_specialist)\n",
      "Difference from Baseline: 20.91%\n"
     ]
    }
   ],
   "source": [
    "scenario=['va_late_fusion']\n",
    "annotation_type=['parents', 'specialist']\n",
    "compare_against_baseline(oversampling_data_results, scenario, annotation_type)"
   ]
  },
  {
   "cell_type": "markdown",
   "id": "1f1d748b",
   "metadata": {},
   "source": [
    "## Results for Multimodal - Early Fusion (parents and specialist)"
   ]
  },
  {
   "cell_type": "code",
   "execution_count": 28,
   "id": "6c5c85dc",
   "metadata": {},
   "outputs": [
    {
     "name": "stdout",
     "output_type": "stream",
     "text": [
      "Average Accuracy in ['va_early_fusion']_['parents', 'specialist'] models: 0.72335(+-0.05236)\n",
      "Baseline value: 0.741109\n",
      "Difference from Baseline: -2.40%\n",
      "..........\n",
      "\n",
      "Average Balanced Accuracy in ['va_early_fusion']_['parents', 'specialist'] models: 0.714086 (+-0.068948)\n",
      "Baseline value: 0.574232\n",
      "Difference from Baseline: 24.36%\n",
      "..........\n",
      "\n",
      "Best Values for the current Scenario:\n",
      "Best Accuracy: 0.8245 (session_02_01_va_early_fusion_specialist)\n",
      "Compared to baseline: 0.8305 (session_02_01_va_early_fusion_specialist)\n",
      "Difference from Baseline: -0.72%\n",
      "..........\n",
      "\n",
      "Best Balanced Accuracy: 0.8275 (session_02_01_va_early_fusion_specialist)\n",
      "Compared to baseline: 0.7045 (session_03_01_va_early_fusion_specialist)\n",
      "Difference from Baseline: 17.46%\n"
     ]
    }
   ],
   "source": [
    "scenario=['va_early_fusion']\n",
    "annotation_type=['parents', 'specialist']\n",
    "compare_against_baseline(oversampling_data_results, scenario, annotation_type)"
   ]
  },
  {
   "cell_type": "markdown",
   "id": "a0e03ab6",
   "metadata": {},
   "source": [
    "## Results for Multimodal - Late Fusion (parents)"
   ]
  },
  {
   "cell_type": "code",
   "execution_count": 9,
   "id": "a82d4d17",
   "metadata": {},
   "outputs": [
    {
     "name": "stdout",
     "output_type": "stream",
     "text": [
      "Average Accuracy in ['va_late_fusion']_['parents'] models: 0.718327(+-0.043248)\n",
      "Baseline value: 0.711036\n",
      "Difference from Baseline: 1.03%\n",
      "..........\n",
      "\n",
      "Average Balanced Accuracy in ['va_late_fusion']_['parents'] models: 0.715755 (+-0.05478)\n",
      "Baseline value: 0.516273\n",
      "Difference from Baseline: 38.64%\n",
      "..........\n",
      "\n",
      "Best Values for the current Scenario:\n",
      "Best Accuracy: 0.8246 (session_03_01_va_late_fusion_parents)\n",
      "Compared to baseline: 0.8064 (session_03_01_va_late_fusion_parents)\n",
      "Difference from Baseline: 2.26%\n",
      "..........\n",
      "\n",
      "Best Balanced Accuracy: 0.8415 (session_03_01_va_late_fusion_parents)\n",
      "Compared to baseline: 0.669 (session_03_01_va_late_fusion_parents)\n",
      "Difference from Baseline: 25.78%\n"
     ]
    }
   ],
   "source": [
    "compare_against_baseline(oversampling_data_results, scenario=['va_late_fusion'], annotation_type=['parents'])"
   ]
  },
  {
   "cell_type": "markdown",
   "id": "3ae768ef",
   "metadata": {},
   "source": [
    "## Results for Multimodal - Early Fusion (parents)"
   ]
  },
  {
   "cell_type": "code",
   "execution_count": 10,
   "id": "ec3bd4e1",
   "metadata": {},
   "outputs": [
    {
     "name": "stdout",
     "output_type": "stream",
     "text": [
      "Average Accuracy in ['va_early_fusion']_['parents'] models: 0.6961(+-0.043555)\n",
      "Baseline value: 0.714064\n",
      "Difference from Baseline: -2.52%\n",
      "..........\n",
      "\n",
      "Average Balanced Accuracy in ['va_early_fusion']_['parents'] models: 0.692073 (+-0.060878)\n",
      "Baseline value: 0.550873\n",
      "Difference from Baseline: 25.63%\n",
      "..........\n",
      "\n",
      "Best Values for the current Scenario:\n",
      "Best Accuracy: 0.795 (session_03_01_va_early_fusion_parents)\n",
      "Compared to baseline: 0.8064 (session_03_01_va_early_fusion_parents)\n",
      "Difference from Baseline: -1.41%\n",
      "..........\n",
      "\n",
      "Best Balanced Accuracy: 0.8273 (session_03_01_va_early_fusion_parents)\n",
      "Compared to baseline: 0.6912 (session_03_01_va_early_fusion_parents)\n",
      "Difference from Baseline: 19.69%\n"
     ]
    }
   ],
   "source": [
    "compare_against_baseline(oversampling_data_results, scenario=['va_early_fusion'], annotation_type=['parents'])"
   ]
  },
  {
   "cell_type": "markdown",
   "id": "005b3cff",
   "metadata": {},
   "source": [
    "## Results for Multimodal - Late Fusion (specialist)"
   ]
  },
  {
   "cell_type": "code",
   "execution_count": 11,
   "id": "165f6173",
   "metadata": {},
   "outputs": [
    {
     "name": "stdout",
     "output_type": "stream",
     "text": [
      "Average Accuracy in ['va_late_fusion']_['specialist'] models: 0.763745(+-0.046167)\n",
      "Baseline value: 0.763764\n",
      "Difference from Baseline: -0.00%\n",
      "..........\n",
      "\n",
      "Average Balanced Accuracy in ['va_late_fusion']_['specialist'] models: 0.757109 (+-0.055293)\n",
      "Baseline value: 0.545473\n",
      "Difference from Baseline: 38.80%\n",
      "..........\n",
      "\n",
      "Best Values for the current Scenario:\n",
      "Best Accuracy: 0.843 (session_03_01_va_late_fusion_specialist)\n",
      "Compared to baseline: 0.8149 (session_02_01_va_late_fusion_specialist)\n",
      "Difference from Baseline: 3.45%\n",
      "..........\n",
      "\n",
      "Best Balanced Accuracy: 0.8334 (session_02_01_va_late_fusion_specialist)\n",
      "Compared to baseline: 0.696 (session_03_01_va_late_fusion_specialist)\n",
      "Difference from Baseline: 19.74%\n"
     ]
    }
   ],
   "source": [
    "compare_against_baseline(oversampling_data_results, scenario=['va_late_fusion'], annotation_type=['specialist'])"
   ]
  },
  {
   "cell_type": "markdown",
   "id": "f0390b16",
   "metadata": {},
   "source": [
    "## Results for Multimodal - Early Fusion (specialist)"
   ]
  },
  {
   "cell_type": "code",
   "execution_count": 12,
   "id": "7facfe7d",
   "metadata": {},
   "outputs": [
    {
     "name": "stdout",
     "output_type": "stream",
     "text": [
      "Average Accuracy in ['va_early_fusion']_['specialist'] models: 0.7506(+-0.047188)\n",
      "Baseline value: 0.768155\n",
      "Difference from Baseline: -2.29%\n",
      "..........\n",
      "\n",
      "Average Balanced Accuracy in ['va_early_fusion']_['specialist'] models: 0.7361 (+-0.072186)\n",
      "Baseline value: 0.597591\n",
      "Difference from Baseline: 23.18%\n",
      "..........\n",
      "\n",
      "Best Values for the current Scenario:\n",
      "Best Accuracy: 0.8245 (session_02_01_va_early_fusion_specialist)\n",
      "Compared to baseline: 0.8305 (session_02_01_va_early_fusion_specialist)\n",
      "Difference from Baseline: -0.72%\n",
      "..........\n",
      "\n",
      "Best Balanced Accuracy: 0.8275 (session_02_01_va_early_fusion_specialist)\n",
      "Compared to baseline: 0.7045 (session_03_01_va_early_fusion_specialist)\n",
      "Difference from Baseline: 17.46%\n"
     ]
    }
   ],
   "source": [
    "compare_against_baseline(oversampling_data_results, scenario=['va_early_fusion'], annotation_type=['specialist'])"
   ]
  },
  {
   "cell_type": "markdown",
   "id": "cfb5d25a",
   "metadata": {},
   "source": [
    "## Results for Video Modality (parents and specialist)"
   ]
  },
  {
   "cell_type": "code",
   "execution_count": 13,
   "id": "795c639d",
   "metadata": {},
   "outputs": [
    {
     "name": "stdout",
     "output_type": "stream",
     "text": [
      "Average Accuracy in ['v']_['parents', 'specialist'] models: 0.731045(+-0.05555)\n",
      "Baseline value: 0.751923\n",
      "Difference from Baseline: -2.78%\n",
      "..........\n",
      "\n",
      "Average Balanced Accuracy in ['v']_['parents', 'specialist'] models: 0.725432 (+-0.066831)\n",
      "Baseline value: 0.588955\n",
      "Difference from Baseline: 23.17%\n",
      "..........\n",
      "\n",
      "Best Values for the current Scenario:\n",
      "Best Accuracy: 0.8589 (session_03_01_v_specialist)\n",
      "Compared to baseline: 0.8438 (session_02_01_v_specialist)\n",
      "Difference from Baseline: 1.79%\n",
      "..........\n",
      "\n",
      "Best Balanced Accuracy: 0.8421 (session_03_01_v_parents)\n",
      "Compared to baseline: 0.7469 (session_03_01_v_specialist)\n",
      "Difference from Baseline: 12.75%\n"
     ]
    }
   ],
   "source": [
    "compare_against_baseline(oversampling_data_results, scenario=['v'], annotation_type=['parents', 'specialist'])"
   ]
  },
  {
   "cell_type": "markdown",
   "id": "cca648af",
   "metadata": {},
   "source": [
    "## Results for Video Modality (specialist)"
   ]
  },
  {
   "cell_type": "code",
   "execution_count": 14,
   "id": "38a390aa",
   "metadata": {},
   "outputs": [
    {
     "name": "stdout",
     "output_type": "stream",
     "text": [
      "Average Accuracy in ['v']_['specialist'] models: 0.754609(+-0.056277)\n",
      "Baseline value: 0.780827\n",
      "Difference from Baseline: -3.36%\n",
      "..........\n",
      "\n",
      "Average Balanced Accuracy in ['v']_['specialist'] models: 0.746109 (+-0.070956)\n",
      "Baseline value: 0.612173\n",
      "Difference from Baseline: 21.88%\n",
      "..........\n",
      "\n",
      "Best Values for the current Scenario:\n",
      "Best Accuracy: 0.8589 (session_03_01_v_specialist)\n",
      "Compared to baseline: 0.8438 (session_02_01_v_specialist)\n",
      "Difference from Baseline: 1.79%\n",
      "..........\n",
      "\n",
      "Best Balanced Accuracy: 0.8391 (session_03_01_v_specialist)\n",
      "Compared to baseline: 0.7469 (session_03_01_v_specialist)\n",
      "Difference from Baseline: 12.34%\n"
     ]
    }
   ],
   "source": [
    "compare_against_baseline(oversampling_data_results, scenario=['v'], annotation_type=['specialist'])"
   ]
  },
  {
   "cell_type": "markdown",
   "id": "f9cc7032",
   "metadata": {},
   "source": [
    "## Results for Video Modality (parents)"
   ]
  },
  {
   "cell_type": "code",
   "execution_count": 15,
   "id": "0c3a27fe",
   "metadata": {},
   "outputs": [
    {
     "name": "stdout",
     "output_type": "stream",
     "text": [
      "Average Accuracy in ['v']_['parents'] models: 0.707482(+-0.045732)\n",
      "Baseline value: 0.723018\n",
      "Difference from Baseline: -2.15%\n",
      "..........\n",
      "\n",
      "Average Balanced Accuracy in ['v']_['parents'] models: 0.704755 (+-0.058345)\n",
      "Baseline value: 0.565736\n",
      "Difference from Baseline: 24.57%\n",
      "..........\n",
      "\n",
      "Best Values for the current Scenario:\n",
      "Best Accuracy: 0.82 (session_03_01_v_parents)\n",
      "Compared to baseline: 0.8235 (session_03_01_v_parents)\n",
      "Difference from Baseline: -0.43%\n",
      "..........\n",
      "\n",
      "Best Balanced Accuracy: 0.8421 (session_03_01_v_parents)\n",
      "Compared to baseline: 0.7308 (session_03_01_v_parents)\n",
      "Difference from Baseline: 15.23%\n"
     ]
    }
   ],
   "source": [
    "compare_against_baseline(oversampling_data_results, scenario=['v'], annotation_type=['parents'])"
   ]
  },
  {
   "cell_type": "code",
   "execution_count": 16,
   "id": "2596bd59",
   "metadata": {},
   "outputs": [
    {
     "name": "stdout",
     "output_type": "stream",
     "text": [
      "Average Accuracy in ['a']_['parents', 'specialist'] models: 0.353691(+-0.090984)\n",
      "Baseline value: 0.585914\n",
      "Difference from Baseline: -39.63%\n",
      "..........\n",
      "\n",
      "Average Balanced Accuracy in ['a']_['parents', 'specialist'] models: 0.389309 (+-0.073116)\n",
      "Baseline value: 0.286027\n",
      "Difference from Baseline: 36.11%\n",
      "..........\n",
      "\n",
      "Best Values for the current Scenario:\n",
      "Best Accuracy: 0.5062 (session_02_02_a_parents)\n",
      "Compared to baseline: 0.6843 (session_02_01_a_specialist)\n",
      "Difference from Baseline: -26.03%\n",
      "..........\n",
      "\n",
      "Best Balanced Accuracy: 0.5736 (session_02_02_a_parents)\n",
      "Compared to baseline: 0.4271 (session_02_02_a_parents)\n",
      "Difference from Baseline: 34.30%\n"
     ]
    }
   ],
   "source": [
    "compare_against_baseline(oversampling_data_results, scenario=['a'], annotation_type=['parents', 'specialist'])"
   ]
  },
  {
   "cell_type": "code",
   "execution_count": 17,
   "id": "08903ac7",
   "metadata": {},
   "outputs": [
    {
     "name": "stdout",
     "output_type": "stream",
     "text": [
      "Average Accuracy in ['a']_['specialist'] models: 0.379818(+-0.095813)\n",
      "Baseline value: 0.618027\n",
      "Difference from Baseline: -38.54%\n",
      "..........\n",
      "\n",
      "Average Balanced Accuracy in ['a']_['specialist'] models: 0.399918 (+-0.075027)\n",
      "Baseline value: 0.291309\n",
      "Difference from Baseline: 37.28%\n",
      "..........\n",
      "\n",
      "Best Values for the current Scenario:\n",
      "Best Accuracy: 0.5042 (participant_01_a_specialist)\n",
      "Compared to baseline: 0.6843 (session_02_01_a_specialist)\n",
      "Difference from Baseline: -26.32%\n",
      "..........\n",
      "\n",
      "Best Balanced Accuracy: 0.4942 (participant_01_a_specialist)\n",
      "Compared to baseline: 0.3341 (session_03_01_a_specialist)\n",
      "Difference from Baseline: 47.92%\n"
     ]
    }
   ],
   "source": [
    "compare_against_baseline(oversampling_data_results, scenario=['a'], annotation_type=['specialist'])"
   ]
  },
  {
   "cell_type": "code",
   "execution_count": 18,
   "id": "6b4e050f",
   "metadata": {},
   "outputs": [
    {
     "name": "stdout",
     "output_type": "stream",
     "text": [
      "Average Accuracy in ['a']_['parents'] models: 0.327564(+-0.081867)\n",
      "Baseline value: 0.5538\n",
      "Difference from Baseline: -40.85%\n",
      "..........\n",
      "\n",
      "Average Balanced Accuracy in ['a']_['parents'] models: 0.3787 (+-0.073143)\n",
      "Baseline value: 0.280745\n",
      "Difference from Baseline: 34.89%\n",
      "..........\n",
      "\n",
      "Best Values for the current Scenario:\n",
      "Best Accuracy: 0.5062 (session_02_02_a_parents)\n",
      "Compared to baseline: 0.6378 (session_04_01_a_parents)\n",
      "Difference from Baseline: -20.63%\n",
      "..........\n",
      "\n",
      "Best Balanced Accuracy: 0.5736 (session_02_02_a_parents)\n",
      "Compared to baseline: 0.4271 (session_02_02_a_parents)\n",
      "Difference from Baseline: 34.30%\n"
     ]
    }
   ],
   "source": [
    "compare_against_baseline(oversampling_data_results, scenario=['a'], annotation_type=['parents'])"
   ]
  },
  {
   "cell_type": "markdown",
   "id": "79f91fa4",
   "metadata": {},
   "source": [
    "# Models using all dataset"
   ]
  },
  {
   "cell_type": "markdown",
   "id": "e2c3250e",
   "metadata": {},
   "source": [
    "## Results Multimodal (parents and specialist): All data"
   ]
  },
  {
   "cell_type": "code",
   "execution_count": 23,
   "id": "c7b2d542",
   "metadata": {},
   "outputs": [
    {
     "name": "stdout",
     "output_type": "stream",
     "text": [
      "Average Accuracy in ['va_late_fusion', 'va_early_fusion', 'v', 'a']_['parents', 'specialist']_all_data models: 0.560475(+-0.14639)\n",
      "Baseline value: 0.65985\n",
      "Difference from Baseline: -15.06%\n",
      "..........\n",
      "\n",
      "Average Balanced Accuracy in ['va_late_fusion', 'va_early_fusion', 'v', 'a']_['parents', 'specialist']_all_data models: 0.575713(+-0.137438)\n",
      "Baseline value: 0.415725\n",
      "Difference from Baseline: 38.48%\n",
      "..........\n",
      "\n",
      "Best Values for the current Scenario:\n",
      "Best Accuracy: 0.6752 (all_data_va_late_fusion_specialist)\n",
      "Compared to baseline: 0.7217 (all_data_v_specialist)\n",
      "Difference from Baseline: -6.44%\n",
      "..........\n",
      "\n",
      "Best Balanced Accuracy: 0.6878 (all_data_va_late_fusion_specialist)\n",
      "Compared to baseline: 0.4845 (all_data_v_parents)\n",
      "Difference from Baseline: 41.96%\n"
     ]
    }
   ],
   "source": [
    "scenario=['va_late_fusion', 'va_early_fusion', 'v', 'a']\n",
    "annotation_type=['parents', 'specialist']\n",
    "compare_against_baseline_for_all_data(oversampling_data_results, scenario, annotation_type)"
   ]
  },
  {
   "cell_type": "code",
   "execution_count": 24,
   "id": "ce384c40",
   "metadata": {},
   "outputs": [
    {
     "name": "stdout",
     "output_type": "stream",
     "text": [
      "Average Accuracy in ['va_late_fusion', 'va_early_fusion']_['parents', 'specialist']_all_data models: 0.63745(+-0.031203)\n",
      "Baseline value: 0.68245\n",
      "Difference from Baseline: -6.59%\n",
      "..........\n",
      "\n",
      "Average Balanced Accuracy in ['va_late_fusion', 'va_early_fusion']_['parents', 'specialist']_all_data models: 0.64585(+-0.03628)\n",
      "Baseline value: 0.4542\n",
      "Difference from Baseline: 42.20%\n",
      "..........\n",
      "\n",
      "Best Values for the current Scenario:\n",
      "Best Accuracy: 0.6752 (all_data_va_late_fusion_specialist)\n",
      "Compared to baseline: 0.7099 (all_data_va_early_fusion_specialist)\n",
      "Difference from Baseline: -4.89%\n",
      "..........\n",
      "\n",
      "Best Balanced Accuracy: 0.6878 (all_data_va_late_fusion_specialist)\n",
      "Compared to baseline: 0.481 (all_data_va_early_fusion_parents)\n",
      "Difference from Baseline: 42.99%\n"
     ]
    }
   ],
   "source": [
    "scenario=['va_late_fusion', 'va_early_fusion']\n",
    "annotation_type=['parents', 'specialist']\n",
    "compare_against_baseline_for_all_data(oversampling_data_results, scenario, annotation_type)"
   ]
  },
  {
   "cell_type": "code",
   "execution_count": 25,
   "id": "a89acace",
   "metadata": {
    "scrolled": true
   },
   "outputs": [
    {
     "name": "stdout",
     "output_type": "stream",
     "text": [
      "Average Accuracy in ['v']_['parents', 'specialist']_all_data models: 0.6396(+-0.036911)\n",
      "Baseline value: 0.6902\n",
      "Difference from Baseline: -7.33%\n",
      "..........\n",
      "\n",
      "Average Balanced Accuracy in ['v']_['parents', 'specialist']_all_data models: 0.65315(+-0.040941)\n",
      "Baseline value: 0.481\n",
      "Difference from Baseline: 35.79%\n",
      "..........\n",
      "\n",
      "Best Values for the current Scenario:\n",
      "Best Accuracy: 0.6657 (all_data_v_specialist)\n",
      "Compared to baseline: 0.7217 (all_data_v_specialist)\n",
      "Difference from Baseline: -7.76%\n",
      "..........\n",
      "\n",
      "Best Balanced Accuracy: 0.6821 (all_data_v_specialist)\n",
      "Compared to baseline: 0.4845 (all_data_v_parents)\n",
      "Difference from Baseline: 40.78%\n"
     ]
    }
   ],
   "source": [
    "scenario=['v']\n",
    "annotation_type=['parents', 'specialist']\n",
    "compare_against_baseline_for_all_data(oversampling_data_results, scenario, annotation_type)"
   ]
  },
  {
   "cell_type": "code",
   "execution_count": 26,
   "id": "04b0637c",
   "metadata": {},
   "outputs": [
    {
     "name": "stdout",
     "output_type": "stream",
     "text": [
      "Average Accuracy in ['a']_['parents', 'specialist']_all_data models: 0.3274(+-0.029274)\n",
      "Baseline value: 0.5843\n",
      "Difference from Baseline: -43.97%\n",
      "..........\n",
      "\n",
      "Average Balanced Accuracy in ['a']_['parents', 'specialist']_all_data models: 0.358(+-0.011455)\n",
      "Baseline value: 0.2735\n",
      "Difference from Baseline: 30.90%\n",
      "..........\n",
      "\n",
      "Best Values for the current Scenario:\n",
      "Best Accuracy: 0.3481 (all_data_a_specialist)\n",
      "Compared to baseline: 0.6191 (all_data_a_specialist)\n",
      "Difference from Baseline: -43.77%\n",
      "..........\n",
      "\n",
      "Best Balanced Accuracy: 0.3661 (all_data_a_specialist)\n",
      "Compared to baseline: 0.2879 (all_data_a_parents)\n",
      "Difference from Baseline: 27.16%\n"
     ]
    }
   ],
   "source": [
    "scenario=['a']\n",
    "annotation_type=['parents', 'specialist']\n",
    "compare_against_baseline_for_all_data(oversampling_data_results, scenario, annotation_type)"
   ]
  },
  {
   "cell_type": "markdown",
   "id": "9d560dbe",
   "metadata": {},
   "source": [
    "# F1 score analysis (including all 96 cases scenarios generated) "
   ]
  },
  {
   "cell_type": "code",
   "execution_count": 19,
   "id": "85a1ebe6",
   "metadata": {},
   "outputs": [
    {
     "name": "stdout",
     "output_type": "stream",
     "text": [
      "Best Values of F1Score:\n",
      "Best F1Score (Blue): 0.8505 (session_03_01_v_specialist)\n",
      "Compared to baseline: 0.7826 (session_03_01_va_late_fusion_parents)\n",
      "Difference from Baseline: 8.68%\n",
      "..........\n",
      "Best F1Score (Green): 0.902 (session_03_01_v_specialist)\n",
      "Compared to baseline: 0.9109 (session_02_01_v_specialist)\n",
      "Difference from Baseline: -0.98%\n",
      "..........\n",
      "Best F1Score (Red): 0.8627 (session_03_01_va_late_fusion_parents)\n",
      "Compared to baseline: 0.7733 (session_04_01_v_specialist)\n",
      "Difference from Baseline: 11.56%\n",
      "..........\n",
      "Best F1Score (Yellow): 0.7516 (session_04_01_v_specialist)\n",
      "Compared to baseline: 0.6935 (session_04_01_v_specialist)\n",
      "Difference from Baseline: 8.38%\n"
     ]
    }
   ],
   "source": [
    "calculate_best_f1_score(oversampling_data_results)"
   ]
  },
  {
   "cell_type": "code",
   "execution_count": 20,
   "id": "18386fdc",
   "metadata": {},
   "outputs": [
    {
     "name": "stdout",
     "output_type": "stream",
     "text": [
      "Average F1score (blue) models: 0.60139 (+-0.171845)\n",
      "Baseline value: 0.481688\n",
      "Difference from Baseline: 24.85%\n",
      "..........\n",
      "\n",
      "Average F1score (green) models: 0.708574 (+-0.179056)\n",
      "Baseline value: 0.804024\n",
      "Difference from Baseline: -11.87%\n",
      "..........\n",
      "\n",
      "Average F1score (red) models: 0.430053 (+-0.212017)\n",
      "Baseline value: 0.330767\n",
      "Difference from Baseline: 30.02%\n",
      "..........\n",
      "\n",
      "Average F1score (yellow) models: 0.505407 (+-0.159366)\n",
      "Baseline value: 0.375693\n",
      "Difference from Baseline: 34.53%\n"
     ]
    }
   ],
   "source": [
    "calculate_aggregated_f1_score(oversampling_data_results)"
   ]
  },
  {
   "cell_type": "markdown",
   "id": "f626b50a",
   "metadata": {},
   "source": [
    "# Comments & Conclusions\n",
    "\n",
    "1. "
   ]
  }
 ],
 "metadata": {
  "kernelspec": {
   "display_name": "Python 3 (ipykernel)",
   "language": "python",
   "name": "python3"
  },
  "language_info": {
   "codemirror_mode": {
    "name": "ipython",
    "version": 3
   },
   "file_extension": ".py",
   "mimetype": "text/x-python",
   "name": "python",
   "nbconvert_exporter": "python",
   "pygments_lexer": "ipython3",
   "version": "3.10.4"
  }
 },
 "nbformat": 4,
 "nbformat_minor": 5
}
