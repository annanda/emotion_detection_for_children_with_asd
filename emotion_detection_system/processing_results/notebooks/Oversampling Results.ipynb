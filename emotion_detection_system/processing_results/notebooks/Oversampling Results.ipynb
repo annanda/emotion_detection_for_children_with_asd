{
 "cells": [
  {
   "cell_type": "code",
   "execution_count": 1,
   "id": "732fd167",
   "metadata": {},
   "outputs": [],
   "source": [
    "import os\n",
    "import sys"
   ]
  },
  {
   "cell_type": "code",
   "execution_count": 2,
   "id": "06e196b3",
   "metadata": {},
   "outputs": [],
   "source": [
    "NOTEBOOK_DIR = os.path.dirname(os.path.realpath(\"__file__\"))\n",
    "PROJECT_ROOT = os.path.dirname(NOTEBOOK_DIR)\n",
    "\n",
    "sys.path.append(PROJECT_ROOT) # make my_module available to import\n",
    "\n",
    "# Importing my python module utils\n",
    "from emotion_detection_system.processing_results.information_from_results import *"
   ]
  },
  {
   "cell_type": "code",
   "execution_count": 3,
   "id": "673eb129",
   "metadata": {},
   "outputs": [
    {
     "name": "stdout",
     "output_type": "stream",
     "text": [
      "##########\n",
      "\n",
      "Best Values for the Data Experiment Batch:\n",
      "Best Accuracy: 0.8522 (session_02_01_v_specialist)\n",
      "Compared to baseline: 0.8438 (session_02_01_v_specialist)\n",
      "Difference from Baseline: 1.00%\n",
      "##########\n",
      "\n",
      "Best Balanced Accuracy: 0.8353 (session_03_01_v_parents)\n",
      "Compared to baseline: 0.7469 (session_03_01_v_specialist)\n",
      "Difference from Baseline: 11.84%\n"
     ]
    }
   ],
   "source": [
    "calculate_best_acc(oversampling_data_results)"
   ]
  },
  {
   "cell_type": "code",
   "execution_count": 4,
   "id": "0fe8492c",
   "metadata": {
    "scrolled": true
   },
   "outputs": [
    {
     "name": "stdout",
     "output_type": "stream",
     "text": [
      "##########\n",
      "\n",
      "Average Accuracy in ['va_late_fusion', 'va_early_fusion']_['parents', 'specialist'] models: 0.73469(+-0.053951)\n",
      "Baseline value: 0.734521\n",
      "Difference from Baseline: 0.02%\n",
      "##########\n",
      "\n",
      "Average Balanced Accuracy in ['va_late_fusion', 'va_early_fusion']_['parents', 'specialist'] models: 0.612519 (+-0.111858)\n",
      "Baseline value: 0.544356\n",
      "Difference from Baseline: 12.52%\n",
      "##########\n",
      "\n",
      "Best Values for the current Scenario:\n",
      "Best Accuracy: 0.851 (session_02_01_va_early_fusion_specialist)\n",
      "Compared to baseline: 0.8305 (session_02_01_va_early_fusion_specialist)\n",
      "Difference from Baseline: 2.47%\n",
      "##########\n",
      "\n",
      "Best Balanced Accuracy: 0.8243 (session_03_01_va_late_fusion_specialist)\n",
      "Compared to baseline: 0.7045 (session_03_01_va_early_fusion_specialist)\n",
      "Difference from Baseline: 17.00%\n"
     ]
    }
   ],
   "source": [
    "compare_against_baseline(oversampling_data_results, scenario=['va_late_fusion', 'va_early_fusion'], annotation_type=['parents', 'specialist'])"
   ]
  },
  {
   "cell_type": "code",
   "execution_count": 5,
   "id": "e0495c8e",
   "metadata": {
    "scrolled": true
   },
   "outputs": [
    {
     "name": "stdout",
     "output_type": "stream",
     "text": [
      "##########\n",
      "\n",
      "Average Accuracy in ['va_late_fusion', 'va_early_fusion']_['parents'] models: 0.707342(+-0.049661)\n",
      "Baseline value: 0.70785\n",
      "Difference from Baseline: -0.07%\n",
      "##########\n",
      "\n",
      "Average Balanced Accuracy in ['va_late_fusion', 'va_early_fusion']_['parents'] models: 0.603662 (+-0.120153)\n",
      "Baseline value: 0.527617\n",
      "Difference from Baseline: 14.41%\n",
      "##########\n",
      "\n",
      "Best Values for the current Scenario:\n",
      "Best Accuracy: 0.8337 (session_03_01_va_late_fusion_parents)\n",
      "Compared to baseline: 0.8064\n",
      "0.8064 ( session_03_01_va_late_fusion\n",
      "session_03_01_va_early_fusion_parents\n",
      "parents)\n",
      "Difference from Baseline: 3.39%\n",
      "##########\n",
      "\n",
      "Best Balanced Accuracy: 0.8237 (session_03_01_va_late_fusion_parents)\n",
      "Compared to baseline: 0.6912 (session_03_01_va_early_fusion_parents)\n",
      "Difference from Baseline: 19.17%\n"
     ]
    }
   ],
   "source": [
    "compare_against_baseline(oversampling_data_results,scenario=['va_late_fusion', 'va_early_fusion'], annotation_type=['parents'])"
   ]
  },
  {
   "cell_type": "code",
   "execution_count": 6,
   "id": "456a65cf",
   "metadata": {},
   "outputs": [
    {
     "name": "stdout",
     "output_type": "stream",
     "text": [
      "##########\n",
      "\n",
      "Average Accuracy in ['va_late_fusion', 'va_early_fusion']_['specialist'] models: 0.762037(+-0.043828)\n",
      "Baseline value: 0.761192\n",
      "Difference from Baseline: 0.11%\n",
      "##########\n",
      "\n",
      "Average Balanced Accuracy in ['va_late_fusion', 'va_early_fusion']_['specialist'] models: 0.621375 (+-0.104728)\n",
      "Baseline value: 0.561096\n",
      "Difference from Baseline: 10.74%\n",
      "##########\n",
      "\n",
      "Best Values for the current Scenario:\n",
      "Best Accuracy: 0.851 (session_02_01_va_early_fusion_specialist)\n",
      "Compared to baseline: 0.8305 (session_02_01_va_early_fusion_specialist)\n",
      "Difference from Baseline: 2.47%\n",
      "##########\n",
      "\n",
      "Best Balanced Accuracy: 0.8243 (session_03_01_va_late_fusion_specialist)\n",
      "Compared to baseline: 0.7045 (session_03_01_va_early_fusion_specialist)\n",
      "Difference from Baseline: 17.00%\n"
     ]
    }
   ],
   "source": [
    "compare_against_baseline(oversampling_data_results,scenario=['va_late_fusion', 'va_early_fusion'], annotation_type=['specialist'])"
   ]
  },
  {
   "cell_type": "code",
   "execution_count": 7,
   "id": "37cf4fc5",
   "metadata": {},
   "outputs": [
    {
     "name": "stdout",
     "output_type": "stream",
     "text": [
      "##########\n",
      "\n",
      "Average Accuracy in ['va_late_fusion']_['parents', 'specialist'] models: 0.742654(+-0.05178)\n",
      "Baseline value: 0.73255\n",
      "Difference from Baseline: 1.38%\n",
      "##########\n",
      "\n",
      "Average Balanced Accuracy in ['va_late_fusion']_['parents', 'specialist'] models: 0.651229 (+-0.094054)\n",
      "Baseline value: 0.522604\n",
      "Difference from Baseline: 24.61%\n",
      "##########\n",
      "\n",
      "Best Values for the current Scenario:\n",
      "Best Accuracy: 0.8498 (session_02_01_va_late_fusion_specialist)\n",
      "Compared to baseline: 0.8149 (session_02_01_va_late_fusion_specialist)\n",
      "Difference from Baseline: 4.28%\n",
      "##########\n",
      "\n",
      "Best Balanced Accuracy: 0.8243 (session_03_01_va_late_fusion_specialist)\n",
      "Compared to baseline: 0.696 (session_03_01_va_late_fusion_specialist)\n",
      "Difference from Baseline: 18.43%\n"
     ]
    }
   ],
   "source": [
    "compare_against_baseline(oversampling_data_results, scenario=['va_late_fusion'], annotation_type=['parents', 'specialist'])"
   ]
  },
  {
   "cell_type": "code",
   "execution_count": 8,
   "id": "6c5c85dc",
   "metadata": {},
   "outputs": [
    {
     "name": "stdout",
     "output_type": "stream",
     "text": [
      "##########\n",
      "\n",
      "Average Accuracy in ['va_early_fusion']_['parents', 'specialist'] models: 0.726725(+-0.055987)\n",
      "Baseline value: 0.736492\n",
      "Difference from Baseline: -1.33%\n",
      "##########\n",
      "\n",
      "Average Balanced Accuracy in ['va_early_fusion']_['parents', 'specialist'] models: 0.573808 (+-0.116597)\n",
      "Baseline value: 0.566108\n",
      "Difference from Baseline: 1.36%\n",
      "##########\n",
      "\n",
      "Best Values for the current Scenario:\n",
      "Best Accuracy: 0.851 (session_02_01_va_early_fusion_specialist)\n",
      "Compared to baseline: 0.8305 (session_02_01_va_early_fusion_specialist)\n",
      "Difference from Baseline: 2.47%\n",
      "##########\n",
      "\n",
      "Best Balanced Accuracy: 0.7724 (session_03_01_va_early_fusion_specialist)\n",
      "Compared to baseline: 0.7045 (session_03_01_va_early_fusion_specialist)\n",
      "Difference from Baseline: 9.64%\n"
     ]
    }
   ],
   "source": [
    "compare_against_baseline(oversampling_data_results, scenario=['va_early_fusion'], annotation_type=['parents', 'specialist'])"
   ]
  },
  {
   "cell_type": "code",
   "execution_count": 9,
   "id": "a82d4d17",
   "metadata": {},
   "outputs": [
    {
     "name": "stdout",
     "output_type": "stream",
     "text": [
      "##########\n",
      "\n",
      "Average Accuracy in ['va_late_fusion']_['parents'] models: 0.717983(+-0.050607)\n",
      "Baseline value: 0.706017\n",
      "Difference from Baseline: 1.69%\n",
      "##########\n",
      "\n",
      "Average Balanced Accuracy in ['va_late_fusion']_['parents'] models: 0.648333 (+-0.087831)\n",
      "Baseline value: 0.510183\n",
      "Difference from Baseline: 27.08%\n",
      "##########\n",
      "\n",
      "Best Values for the current Scenario:\n",
      "Best Accuracy: 0.8337 (session_03_01_va_late_fusion_parents)\n",
      "Compared to baseline: 0.8064 (session_03_01_va_late_fusion_parents)\n",
      "Difference from Baseline: 3.39%\n",
      "##########\n",
      "\n",
      "Best Balanced Accuracy: 0.8237 (session_03_01_va_late_fusion_parents)\n",
      "Compared to baseline: 0.669 (session_03_01_va_late_fusion_parents)\n",
      "Difference from Baseline: 23.12%\n"
     ]
    }
   ],
   "source": [
    "compare_against_baseline(oversampling_data_results, scenario=['va_late_fusion'], annotation_type=['parents'])"
   ]
  },
  {
   "cell_type": "code",
   "execution_count": 10,
   "id": "ec3bd4e1",
   "metadata": {},
   "outputs": [
    {
     "name": "stdout",
     "output_type": "stream",
     "text": [
      "##########\n",
      "\n",
      "Average Accuracy in ['va_early_fusion']_['parents'] models: 0.6967(+-0.048462)\n",
      "Baseline value: 0.709683\n",
      "Difference from Baseline: -1.83%\n",
      "##########\n",
      "\n",
      "Average Balanced Accuracy in ['va_early_fusion']_['parents'] models: 0.558992 (+-0.134602)\n",
      "Baseline value: 0.54505\n",
      "Difference from Baseline: 2.56%\n",
      "##########\n",
      "\n",
      "Best Values for the current Scenario:\n",
      "Best Accuracy: 0.8178 (session_03_01_va_early_fusion_parents)\n",
      "Compared to baseline: 0.8064 (session_03_01_va_early_fusion_parents)\n",
      "Difference from Baseline: 1.41%\n",
      "##########\n",
      "\n",
      "Best Balanced Accuracy: 0.7536 (session_03_01_va_early_fusion_parents)\n",
      "Compared to baseline: 0.6912 (session_03_01_va_early_fusion_parents)\n",
      "Difference from Baseline: 9.03%\n"
     ]
    }
   ],
   "source": [
    "compare_against_baseline(oversampling_data_results, scenario=['va_early_fusion'], annotation_type=['parents'])"
   ]
  },
  {
   "cell_type": "code",
   "execution_count": 11,
   "id": "165f6173",
   "metadata": {},
   "outputs": [
    {
     "name": "stdout",
     "output_type": "stream",
     "text": [
      "##########\n",
      "\n",
      "Average Accuracy in ['va_late_fusion']_['specialist'] models: 0.767325(+-0.041436)\n",
      "Baseline value: 0.759083\n",
      "Difference from Baseline: 1.09%\n",
      "##########\n",
      "\n",
      "Average Balanced Accuracy in ['va_late_fusion']_['specialist'] models: 0.654125 (+-0.10375)\n",
      "Baseline value: 0.535025\n",
      "Difference from Baseline: 22.26%\n",
      "##########\n",
      "\n",
      "Best Values for the current Scenario:\n",
      "Best Accuracy: 0.8498 (session_02_01_va_late_fusion_specialist)\n",
      "Compared to baseline: 0.8149 (session_02_01_va_late_fusion_specialist)\n",
      "Difference from Baseline: 4.28%\n",
      "##########\n",
      "\n",
      "Best Balanced Accuracy: 0.8243 (session_03_01_va_late_fusion_specialist)\n",
      "Compared to baseline: 0.696 (session_03_01_va_late_fusion_specialist)\n",
      "Difference from Baseline: 18.43%\n"
     ]
    }
   ],
   "source": [
    "compare_against_baseline(oversampling_data_results, scenario=['va_late_fusion'], annotation_type=['specialist'])"
   ]
  },
  {
   "cell_type": "code",
   "execution_count": 12,
   "id": "7facfe7d",
   "metadata": {},
   "outputs": [
    {
     "name": "stdout",
     "output_type": "stream",
     "text": [
      "##########\n",
      "\n",
      "Average Accuracy in ['va_early_fusion']_['specialist'] models: 0.75675(+-0.047313)\n",
      "Baseline value: 0.7633\n",
      "Difference from Baseline: -0.86%\n",
      "##########\n",
      "\n",
      "Average Balanced Accuracy in ['va_early_fusion']_['specialist'] models: 0.588625 (+-0.099141)\n",
      "Baseline value: 0.587167\n",
      "Difference from Baseline: 0.25%\n",
      "##########\n",
      "\n",
      "Best Values for the current Scenario:\n",
      "Best Accuracy: 0.851 (session_02_01_va_early_fusion_specialist)\n",
      "Compared to baseline: 0.8305 (session_02_01_va_early_fusion_specialist)\n",
      "Difference from Baseline: 2.47%\n",
      "##########\n",
      "\n",
      "Best Balanced Accuracy: 0.7724 (session_03_01_va_early_fusion_specialist)\n",
      "Compared to baseline: 0.7045 (session_03_01_va_early_fusion_specialist)\n",
      "Difference from Baseline: 9.64%\n"
     ]
    }
   ],
   "source": [
    "compare_against_baseline(oversampling_data_results, scenario=['va_early_fusion'], annotation_type=['specialist'])"
   ]
  },
  {
   "cell_type": "code",
   "execution_count": 13,
   "id": "795c639d",
   "metadata": {},
   "outputs": [
    {
     "name": "stdout",
     "output_type": "stream",
     "text": [
      "##########\n",
      "\n",
      "Average Accuracy in ['v']_['parents', 'specialist'] models: 0.720721(+-0.062196)\n",
      "Baseline value: 0.746779\n",
      "Difference from Baseline: -3.49%\n",
      "##########\n",
      "\n",
      "Average Balanced Accuracy in ['v']_['parents', 'specialist'] models: 0.661442 (+-0.084281)\n",
      "Baseline value: 0.579958\n",
      "Difference from Baseline: 14.05%\n",
      "##########\n",
      "\n",
      "Best Values for the current Scenario:\n",
      "Best Accuracy: 0.8522 (session_02_01_v_specialist)\n",
      "Compared to baseline: 0.8438 (session_02_01_v_specialist)\n",
      "Difference from Baseline: 1.00%\n",
      "##########\n",
      "\n",
      "Best Balanced Accuracy: 0.8353 (session_03_01_v_parents)\n",
      "Compared to baseline: 0.7469 (session_03_01_v_specialist)\n",
      "Difference from Baseline: 11.84%\n"
     ]
    }
   ],
   "source": [
    "compare_against_baseline(oversampling_data_results, scenario=['v'], annotation_type=['parents', 'specialist'])"
   ]
  },
  {
   "cell_type": "code",
   "execution_count": 14,
   "id": "38a390aa",
   "metadata": {},
   "outputs": [
    {
     "name": "stdout",
     "output_type": "stream",
     "text": [
      "##########\n",
      "\n",
      "Average Accuracy in ['v']_['specialist'] models: 0.743183(+-0.04903)\n",
      "Baseline value: 0.7759\n",
      "Difference from Baseline: -4.22%\n",
      "##########\n",
      "\n",
      "Average Balanced Accuracy in ['v']_['specialist'] models: 0.668733 (+-0.090912)\n",
      "Baseline value: 0.60095\n",
      "Difference from Baseline: 11.28%\n",
      "##########\n",
      "\n",
      "Best Values for the current Scenario:\n",
      "Best Accuracy: 0.8522 (session_02_01_v_specialist)\n",
      "Compared to baseline: 0.8438 (session_02_01_v_specialist)\n",
      "Difference from Baseline: 1.00%\n",
      "##########\n",
      "\n",
      "Best Balanced Accuracy: 0.8153 (session_03_01_v_specialist)\n",
      "Compared to baseline: 0.7469 (session_03_01_v_specialist)\n",
      "Difference from Baseline: 9.16%\n"
     ]
    }
   ],
   "source": [
    "compare_against_baseline(oversampling_data_results, scenario=['v'], annotation_type=['specialist'])"
   ]
  },
  {
   "cell_type": "code",
   "execution_count": 15,
   "id": "0c3a27fe",
   "metadata": {},
   "outputs": [
    {
     "name": "stdout",
     "output_type": "stream",
     "text": [
      "##########\n",
      "\n",
      "Average Accuracy in ['v']_['parents'] models: 0.698258(+-0.067702)\n",
      "Baseline value: 0.717658\n",
      "Difference from Baseline: -2.70%\n",
      "##########\n",
      "\n",
      "Average Balanced Accuracy in ['v']_['parents'] models: 0.65415 (+-0.080445)\n",
      "Baseline value: 0.558967\n",
      "Difference from Baseline: 17.03%\n",
      "##########\n",
      "\n",
      "Best Values for the current Scenario:\n",
      "Best Accuracy: 0.8326 (session_03_01_v_parents)\n",
      "Compared to baseline: 0.8235 (session_03_01_v_parents)\n",
      "Difference from Baseline: 1.11%\n",
      "##########\n",
      "\n",
      "Best Balanced Accuracy: 0.8353 (session_03_01_v_parents)\n",
      "Compared to baseline: 0.7308 (session_03_01_v_parents)\n",
      "Difference from Baseline: 14.30%\n"
     ]
    }
   ],
   "source": [
    "compare_against_baseline(oversampling_data_results, scenario=['v'], annotation_type=['parents'])"
   ]
  },
  {
   "cell_type": "code",
   "execution_count": 16,
   "id": "2596bd59",
   "metadata": {},
   "outputs": [
    {
     "name": "stdout",
     "output_type": "stream",
     "text": [
      "##########\n",
      "\n",
      "Average Accuracy in ['a']_['parents', 'specialist'] models: 0.508696(+-0.1107)\n",
      "Baseline value: 0.585779\n",
      "Difference from Baseline: -13.16%\n",
      "##########\n",
      "\n",
      "Average Balanced Accuracy in ['a']_['parents', 'specialist'] models: 0.315958 (+-0.057279)\n",
      "Baseline value: 0.284983\n",
      "Difference from Baseline: 10.87%\n",
      "##########\n",
      "\n",
      "Best Values for the current Scenario:\n",
      "Best Accuracy: 0.6506 (participant_02_a_specialist)\n",
      "Compared to baseline: 0.6843 (session_02_01_a_specialist)\n",
      "Difference from Baseline: -4.92%\n",
      "##########\n",
      "\n",
      "Best Balanced Accuracy: 0.5287 (session_02_02_a_parents)\n",
      "Compared to baseline: 0.4271 (session_02_02_a_parents)\n",
      "Difference from Baseline: 23.79%\n"
     ]
    }
   ],
   "source": [
    "compare_against_baseline(oversampling_data_results, scenario=['a'], annotation_type=['parents', 'specialist'])"
   ]
  },
  {
   "cell_type": "code",
   "execution_count": 17,
   "id": "08903ac7",
   "metadata": {},
   "outputs": [
    {
     "name": "stdout",
     "output_type": "stream",
     "text": [
      "##########\n",
      "\n",
      "Average Accuracy in ['a']_['specialist'] models: 0.5395(+-0.108193)\n",
      "Baseline value: 0.618117\n",
      "Difference from Baseline: -12.72%\n",
      "##########\n",
      "\n",
      "Average Balanced Accuracy in ['a']_['specialist'] models: 0.31815 (+-0.034253)\n",
      "Baseline value: 0.288625\n",
      "Difference from Baseline: 10.23%\n",
      "##########\n",
      "\n",
      "Best Values for the current Scenario:\n",
      "Best Accuracy: 0.6506 (participant_02_a_specialist)\n",
      "Compared to baseline: 0.6843 (session_02_01_a_specialist)\n",
      "Difference from Baseline: -4.92%\n",
      "##########\n",
      "\n",
      "Best Balanced Accuracy: 0.3505 (participant_01_a_specialist)\n",
      "Compared to baseline: 0.3341 (session_03_01_a_specialist)\n",
      "Difference from Baseline: 4.91%\n"
     ]
    }
   ],
   "source": [
    "compare_against_baseline(oversampling_data_results, scenario=['a'], annotation_type=['specialist'])"
   ]
  },
  {
   "cell_type": "code",
   "execution_count": 18,
   "id": "6b4e050f",
   "metadata": {},
   "outputs": [
    {
     "name": "stdout",
     "output_type": "stream",
     "text": [
      "##########\n",
      "\n",
      "Average Accuracy in ['a']_['parents'] models: 0.477892(+-0.108844)\n",
      "Baseline value: 0.553442\n",
      "Difference from Baseline: -13.65%\n",
      "##########\n",
      "\n",
      "Average Balanced Accuracy in ['a']_['parents'] models: 0.313767 (+-0.075341)\n",
      "Baseline value: 0.281342\n",
      "Difference from Baseline: 11.53%\n",
      "##########\n",
      "\n",
      "Best Values for the current Scenario:\n",
      "Best Accuracy: 0.6392 (session_04_01_a_parents)\n",
      "Compared to baseline: 0.6378 (session_04_01_a_parents)\n",
      "Difference from Baseline: 0.22%\n",
      "##########\n",
      "\n",
      "Best Balanced Accuracy: 0.5287 (session_02_02_a_parents)\n",
      "Compared to baseline: 0.4271 (session_02_02_a_parents)\n",
      "Difference from Baseline: 23.79%\n"
     ]
    }
   ],
   "source": [
    "compare_against_baseline(oversampling_data_results, scenario=['a'], annotation_type=['parents'])"
   ]
  },
  {
   "cell_type": "code",
   "execution_count": 19,
   "id": "85a1ebe6",
   "metadata": {},
   "outputs": [
    {
     "name": "stdout",
     "output_type": "stream",
     "text": [
      "##########\n",
      "\n",
      "Best Values of F1Score:\n",
      "Best F1Score (Blue): 0.8271 (session_02_01_va_late_fusion_specialist)\n",
      "Compared to baseline: 0.7826 (session_03_01_va_late_fusion_parents)\n",
      "Difference from Baseline: 5.69%\n",
      "..........\n",
      "Best F1Score (Green): 0.9123 (session_02_01_va_early_fusion_specialist)\n",
      "Compared to baseline: 0.9109 (session_02_01_v_specialist)\n",
      "Difference from Baseline: 0.15%\n",
      "..........\n",
      "Best F1Score (Red): 0.8713\n",
      "0.8713 (             session_03_01_v\n",
      "session_03_01_va_late_fusion_parents\n",
      "parents)\n",
      "Compared to baseline: 0.7733 (session_04_01_v_specialist)\n",
      "Difference from Baseline: 12.67%\n",
      "..........\n",
      "Best F1Score (Yellow): 0.7089 (session_03_01_va_late_fusion_specialist)\n",
      "Compared to baseline: 0.6935 (session_04_01_v_specialist)\n",
      "Difference from Baseline: 2.22%\n"
     ]
    }
   ],
   "source": [
    "calculate_best_f1_score(oversampling_data_results)"
   ]
  },
  {
   "cell_type": "code",
   "execution_count": 20,
   "id": "18386fdc",
   "metadata": {},
   "outputs": [
    {
     "name": "stdout",
     "output_type": "stream",
     "text": [
      "##########\n",
      "\n",
      "Average F1score (blue) models: 0.520887 (+-0.272052)\n",
      "Baseline value: 0.481688\n",
      "Difference from Baseline: 8.14%\n",
      "##########\n",
      "\n",
      "Average F1score (green) models: 0.772709 (+-0.107056)\n",
      "Baseline value: 0.804024\n",
      "Difference from Baseline: -3.89%\n",
      "##########\n",
      "\n",
      "Average F1score (red) models: 0.337711 (+-0.238673)\n",
      "Baseline value: 0.330767\n",
      "Difference from Baseline: 2.10%\n",
      "##########\n",
      "\n",
      "Average F1score (yellow) models: 0.433742 (+-0.213237)\n",
      "Baseline value: 0.375693\n",
      "Difference from Baseline: 15.45%\n"
     ]
    }
   ],
   "source": [
    "calculate_aggregated_f1_score(oversampling_data_results)"
   ]
  },
  {
   "cell_type": "markdown",
   "id": "f626b50a",
   "metadata": {},
   "source": [
    "# Comments & Conclusions\n",
    "\n",
    "1. "
   ]
  }
 ],
 "metadata": {
  "kernelspec": {
   "display_name": "Python 3 (ipykernel)",
   "language": "python",
   "name": "python3"
  },
  "language_info": {
   "codemirror_mode": {
    "name": "ipython",
    "version": 3
   },
   "file_extension": ".py",
   "mimetype": "text/x-python",
   "name": "python",
   "nbconvert_exporter": "python",
   "pygments_lexer": "ipython3",
   "version": "3.10.4"
  }
 },
 "nbformat": 4,
 "nbformat_minor": 5
}
