{
 "cells": [
  {
   "cell_type": "markdown",
   "metadata": {},
   "source": [
    "## Modalities & Features type: video {AU} \n",
    "\n",
    "## Model: SVM \n",
    "\n",
    "\n"
   ]
  },
  {
   "cell_type": "markdown",
   "metadata": {},
   "source": [
    "## Modalities & Features type: video {appearance} \n",
    "\n",
    "## Model: SVM \n",
    "\n",
    "\n"
   ]
  },
  {
   "cell_type": "markdown",
   "metadata": {},
   "source": [
    "## Modalities & Features type: video {BoVW} \n",
    "\n",
    "## Model: SVM \n",
    "\n",
    "\n"
   ]
  },
  {
   "cell_type": "markdown",
   "metadata": {},
   "source": [
    "## Modalities & Features type: video {geometric} \n",
    "\n",
    "## Model: SVM \n",
    "\n",
    "\n",
    "Using balanced training set of total of 1420 examples. \n",
    "355 examples of each class\n",
    "\n",
    "\n",
    "Accuracy: 0.23861852433281006\n",
    "\n",
    "Confusion matrix: labels=[\"blue\", \"green\", \"yellow\", \"red\"]\n",
    "```\n",
    "[[ 74  14  59 108]\n",
    " [181  17 156  98]\n",
    " [160  16 203 147]\n",
    " [ 16   2  13  10]]```"
   ]
  },
  {
   "cell_type": "markdown",
   "metadata": {},
   "source": [
    "## Modalities & Features type: audio {BoAW} \n",
    "\n",
    "## Model: SVM "
   ]
  },
  {
   "cell_type": "markdown",
   "metadata": {},
   "source": [
    "## Modalities & Features type: audio {DeepSpectrum} \n",
    "\n",
    "## Model: SVM "
   ]
  },
  {
   "cell_type": "markdown",
   "metadata": {},
   "source": [
    "## Modalities & Features type: audio {eGeMAPSfunct} \n",
    "\n",
    "## Model: SVM "
   ]
  }
 ],
 "metadata": {
  "kernelspec": {
   "display_name": "Python 3",
   "language": "python",
   "name": "python3"
  },
  "language_info": {
   "codemirror_mode": {
    "name": "ipython",
    "version": 3
   },
   "file_extension": ".py",
   "mimetype": "text/x-python",
   "name": "python",
   "nbconvert_exporter": "python",
   "pygments_lexer": "ipython3",
   "version": "3.7.7"
  }
 },
 "nbformat": 4,
 "nbformat_minor": 4
}
