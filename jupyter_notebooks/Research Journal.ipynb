{
 "cells": [
  {
   "cell_type": "markdown",
   "metadata": {},
   "source": [
    "# Emotion Detection System using AVEC 2018\n",
    "\n",
    "## I mapped valence and arousasal into the four emotion zones using this reference: \n",
    "```\n",
    "    @article{tan2019automatic,\n",
    "  title={Automatic music mood recognition using Russell’s twodimensional valence-arousal space from audio and lyrical data as classified using SVM and Na{\\\"\\i}ve Bayes},\n",
    " author={Tan, KR and Villarino, ML and Maderazo, C},\n",
    "  journal={MS\\&E},\n",
    "  volume={482},\n",
    "  number={1},\n",
    "  pages={012019},\n",
    "  year={2019}\n",
    "} ```\n",
    "### Two dimensional valence-arousal space\n",
    "![alt text](valence_arousal.png \"Two dimensional valence-arousal space\")\n",
    "\n",
    "### I took some decisions when we find values over orthogonal axis \n",
    "1. the point (0,0) is green\n",
    "2. the point (0,1) is yellow\n",
    "3. the point (1,0) is green\n",
    "4. the point (0,-1) is blue\n",
    "5. the point (-1,0) is red \n",
    "\n",
    "Following the same logic, I defined that:\n",
    "1. when the values rest on the valence axis (arousal value equals 0), \n",
    "  * If valence value is positive (valence greater than 0): green class \n",
    "  * Else (valence less than 0): red class \n",
    "\n",
    "\n",
    "2. when the values rest on the arousal axis (valence value equals 0), \n",
    "  * If arousal value is positive (arousal greater than 0): yellow class \n",
    "  * Else (arousal less than 0): blue class "
   ]
  },
  {
   "cell_type": "code",
   "execution_count": 20,
   "metadata": {},
   "outputs": [],
   "source": [
    "import glob\n",
    "import pathlib\n",
    "import os.path\n",
    "\n",
    "import pandas as pd\n",
    "\n",
    "path_annotation_emotions = '/Users/user/PycharmProjects/emotion_detection_system/labels/emotion_zones/emotion_names'\n",
    "files = glob.glob(f\"{path_annotation_emotions}/*.csv\")\n",
    "train_count = {'yellow': 0, 'red': 0, 'blue': 0, 'green': 0}\n",
    "dev_count = {'yellow': 0, 'red': 0, 'blue': 0, 'green': 0}\n",
    "for file in files:\n",
    "    df_train = pd.read_csv(file)\n",
    "    df_train['emotion_zone'].value_counts()\n",
    "    count_emotions = df_train['emotion_zone'].value_counts()\n",
    "    if 'train' in file:\n",
    "        train_count['yellow'] += count_emotions['yellow']\n",
    "        train_count['red'] += count_emotions['red']\n",
    "        train_count['blue'] += count_emotions['blue']\n",
    "        train_count['green'] += count_emotions['green']\n",
    "    elif 'dev' in file:\n",
    "        dev_count['yellow'] += count_emotions['yellow']\n",
    "        dev_count['red'] += count_emotions['red']\n",
    "        dev_count['blue'] += count_emotions['blue']\n",
    "        dev_count['green'] += count_emotions['green']"
   ]
  },
  {
   "cell_type": "markdown",
   "metadata": {},
   "source": [
    "## We then computed statistics to find emotion zones distribution into train and dev datasets. "
   ]
  },
  {
   "cell_type": "markdown",
   "metadata": {},
   "source": [
    "### Class Distribution within all train dataset"
   ]
  },
  {
   "cell_type": "code",
   "execution_count": 21,
   "metadata": {},
   "outputs": [
    {
     "data": {
      "text/plain": [
       "<BarContainer object of 4 artists>"
      ]
     },
     "execution_count": 21,
     "metadata": {},
     "output_type": "execute_result"
    },
    {
     "data": {
      "image/png": "[encoded data removed]",
      "text/plain": [
       "<Figure size 432x288 with 1 Axes>"
      ]
     },
     "metadata": {
      "needs_background": "light"
     },
     "output_type": "display_data"
    }
   ],
   "source": [
    "import matplotlib.pyplot as plt\n",
    "keys = train_count.keys()\n",
    "values = train_count.values()\n",
    "\n",
    "plt.bar(keys, values)"
   ]
  },
  {
   "cell_type": "markdown",
   "metadata": {},
   "source": [
    "### Class Distribution within all dev dataset"
   ]
  },
  {
   "cell_type": "code",
   "execution_count": 22,
   "metadata": {
    "scrolled": true
   },
   "outputs": [
    {
     "data": {
      "text/plain": [
       "<BarContainer object of 4 artists>"
      ]
     },
     "execution_count": 22,
     "metadata": {},
     "output_type": "execute_result"
    },
    {
     "data": {
      "image/png": "[encoded data removed]",
      "text/plain": [
       "<Figure size 432x288 with 1 Axes>"
      ]
     },
     "metadata": {
      "needs_background": "light"
     },
     "output_type": "display_data"
    }
   ],
   "source": [
    "keys = dev_count.keys()\n",
    "values = dev_count.values()\n",
    "\n",
    "plt.bar(keys, values)"
   ]
  },
  {
   "cell_type": "markdown",
   "metadata": {},
   "source": [
    "## Observations: \n",
    "1. both datasets follow the same distribution of classes. \n",
    "2. the classes are very unbalanced. With ```red``` being the one with less examples. \n",
    "\n",
    "## Problem: Defining what zero means \n",
    "How much close to zero can we consider a value as zero? This might make a lot of difference on the class distribution. e.g. 0.01 should be seen as zero? "
   ]
  }
 ],
 "metadata": {
  "kernelspec": {
   "display_name": "Python 3",
   "language": "python",
   "name": "python3"
  },
  "language_info": {
   "codemirror_mode": {
    "name": "ipython",
    "version": 3
   },
   "file_extension": ".py",
   "mimetype": "text/x-python",
   "name": "python",
   "nbconvert_exporter": "python",
   "pygments_lexer": "ipython3",
   "version": "3.7.7"
  }
 },
 "nbformat": 4,
 "nbformat_minor": 4
}
