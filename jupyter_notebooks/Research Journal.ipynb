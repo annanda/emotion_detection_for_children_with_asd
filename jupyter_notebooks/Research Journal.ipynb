{
 "cells": [
  {
   "cell_type": "markdown",
   "metadata": {},
   "source": [
    "# Emotion Detection System using AVEC 2018\n",
    "\n",
    "## I mapped valence and arousasal into the four emotion zones using this reference: \n",
    "```\n",
    "    @article{tan2019automatic,\n",
    "  title={Automatic music mood recognition using Russell’s twodimensional valence-arousal space from audio and lyrical data as classified using SVM and Na{\\\"\\i}ve Bayes},\n",
    " author={Tan, KR and Villarino, ML and Maderazo, C},\n",
    "  journal={MS\\&E},\n",
    "  volume={482},\n",
    "  number={1},\n",
    "  pages={012019},\n",
    "  year={2019}\n",
    "} ```\n",
    "### Two dimensional valence-arousal space\n",
    "![alt text](valence_arousal.png \"Two dimensional valence-arousal space\")\n",
    "\n",
    "### I took some decisions when we find values over orthogonal axis \n",
    "1. the point (0,0) is green\n",
    "2. the point (0,1) is yellow\n",
    "3. the point (1,0) is green\n",
    "4. the point (0,-1) is blue\n",
    "5. the point (-1,0) is red \n",
    "\n",
    "Following the same logic, I defined that:\n",
    "1. when the values rest on the valence axis (arousal value equals 0), \n",
    "  * If valence value is positive (valence greater than 0): green class \n",
    "  * Else (valence less than 0): red class \n",
    "\n",
    "\n",
    "2. when the values rest on the arousal axis (valence value equals 0), \n",
    "  * If arousal value is positive (arousal greater than 0): yellow class \n",
    "  * Else (arousal less than 0): blue class "
   ]
  },
  {
   "cell_type": "code",
   "execution_count": null,
   "metadata": {},
   "outputs": [],
   "source": []
  },
  {
   "cell_type": "code",
   "execution_count": 20,
   "metadata": {},
   "outputs": [],
   "source": [
    "import glob\n",
    "import pathlib\n",
    "import os.path\n",
    "\n",
    "import pandas as pd\n",
    "\n",
    "path_annotation_emotions = '/Users/user/PycharmProjects/emotion_detection_system/labels/emotion_zones/emotion_names'\n",
    "files = glob.glob(f\"{path_annotation_emotions}/*.csv\")\n",
    "train_count = {'yellow': 0, 'red': 0, 'blue': 0, 'green': 0}\n",
    "dev_count = {'yellow': 0, 'red': 0, 'blue': 0, 'green': 0}\n",
    "for file in files:\n",
    "    df_train = pd.read_csv(file)\n",
    "    df_train['emotion_zone'].value_counts()\n",
    "    count_emotions = df_train['emotion_zone'].value_counts()\n",
    "    if 'train' in file:\n",
    "        train_count['yellow'] += count_emotions['yellow']\n",
    "        train_count['red'] += count_emotions['red']\n",
    "        train_count['blue'] += count_emotions['blue']\n",
    "        train_count['green'] += count_emotions['green']\n",
    "    elif 'dev' in file:\n",
    "        dev_count['yellow'] += count_emotions['yellow']\n",
    "        dev_count['red'] += count_emotions['red']\n",
    "        dev_count['blue'] += count_emotions['blue']\n",
    "        dev_count['green'] += count_emotions['green']"
   ]
  },
  {
   "cell_type": "markdown",
   "metadata": {},
   "source": [
    "## We then computed statistics to find emotion zones distribution into train and dev datasets. "
   ]
  },
  {
   "cell_type": "markdown",
   "metadata": {},
   "source": [
    "### Class Distribution within all train dataset"
   ]
  },
  {
   "cell_type": "code",
   "execution_count": 21,
   "metadata": {},
   "outputs": [
    {
     "data": {
      "text/plain": [
       "<BarContainer object of 4 artists>"
      ]
     },
     "execution_count": 21,
     "metadata": {},
     "output_type": "execute_result"
    },
    {
     "data": {
      "image/png": "[encoded data removed]",
      "text/plain": [
       "<Figure size 432x288 with 1 Axes>"
      ]
     },
     "metadata": {
      "needs_background": "light"
     },
     "output_type": "display_data"
    }
   ],
   "source": [
    "import matplotlib.pyplot as plt\n",
    "keys = train_count.keys()\n",
    "values = train_count.values()\n",
    "\n",
    "plt.bar(keys, values)"
   ]
  },
  {
   "cell_type": "markdown",
   "metadata": {},
   "source": [
    "### Class Distribution within all dev dataset"
   ]
  },
  {
   "cell_type": "code",
   "execution_count": 22,
   "metadata": {
    "scrolled": true
   },
   "outputs": [
    {
     "data": {
      "text/plain": [
       "<BarContainer object of 4 artists>"
      ]
     },
     "execution_count": 22,
     "metadata": {},
     "output_type": "execute_result"
    },
    {
     "data": {
      "image/png": "[encoded data removed]",
      "text/plain": [
       "<Figure size 432x288 with 1 Axes>"
      ]
     },
     "metadata": {
      "needs_background": "light"
     },
     "output_type": "display_data"
    }
   ],
   "source": [
    "keys = dev_count.keys()\n",
    "values = dev_count.values()\n",
    "\n",
    "plt.bar(keys, values)"
   ]
  },
  {
   "cell_type": "markdown",
   "metadata": {},
   "source": [
    "## Observations: \n",
    "1. both datasets follow the same distribution of classes. \n",
    "2. the classes are very unbalanced. With ```red``` being the one with less examples. \n",
    "\n",
    "## Problem: Defining what zero means \n",
    "How much close to zero can we consider a value as zero? This might make a lot of difference on the class distribution. e.g. 0.01 should be seen as zero? "
   ]
  },
  {
   "cell_type": "markdown",
   "metadata": {},
   "source": [
    "# Creating a baseline model (Dummy model)"
   ]
  },
  {
   "cell_type": "markdown",
   "metadata": {},
   "source": [
    "## Checking the data distribution of test set (made of 20% of dev set)"
   ]
  },
  {
   "cell_type": "code",
   "execution_count": 13,
   "metadata": {},
   "outputs": [
    {
     "data": {
      "text/plain": [
       "<BarContainer object of 4 artists>"
      ]
     },
     "execution_count": 13,
     "metadata": {},
     "output_type": "execute_result"
    },
    {
     "data": {
      "image/png": "[encoded data removed]",
      "text/plain": [
       "<Figure size 432x288 with 1 Axes>"
      ]
     },
     "metadata": {
      "needs_background": "light"
     },
     "output_type": "display_data"
    }
   ],
   "source": [
    "import matplotlib.pyplot as plt\n",
    "y_test_count = y_test.value_counts()\n",
    "\n",
    "\n",
    "test_count = {}\n",
    "test_count['yellow'] = y_test_count['yellow']\n",
    "test_count['red'] = y_test_count['red'] \n",
    "test_count['blue'] = y_test_count['blue'] \n",
    "test_count['green'] = y_test_count['green'] \n",
    "\n",
    "keys = test_count.keys()\n",
    "values = test_count.values()\n",
    "\n",
    "plt.bar(keys, values)\n"
   ]
  },
  {
   "cell_type": "markdown",
   "metadata": {},
   "source": [
    "## Baseline model - most frequent prediction always\n",
    "\n",
    "### 1. Accuracy"
   ]
  },
  {
   "cell_type": "code",
   "execution_count": 9,
   "metadata": {
    "scrolled": true
   },
   "outputs": [
    {
     "data": {
      "text/plain": [
       "0.42979053529868116"
      ]
     },
     "execution_count": 9,
     "metadata": {},
     "output_type": "execute_result"
    }
   ],
   "source": [
    "from sklearn.dummy import DummyClassifier\n",
    "import pandas as pd\n",
    "from sklearn.metrics import accuracy_score\n",
    "\n",
    "from sklearn.model_selection import train_test_split\n",
    "\n",
    "DATASET_VIDEO_FOLDER = '/Users/user/PycharmProjects/emotion_detection_system/dataset/video'\n",
    "\n",
    "x = pd.read_csv(f'{DATASET_VIDEO_FOLDER}/AU_train.csv').iloc[:, 2:-1]\n",
    "y = pd.read_csv(f'{DATASET_VIDEO_FOLDER}/AU_train.csv')['emotion_zone']\n",
    "\n",
    "x_dev_dataset = pd.read_csv(f'{DATASET_VIDEO_FOLDER}/AU_dev.csv').iloc[:, 2:-1]\n",
    "y_dev_dataset = pd.read_csv(f'{DATASET_VIDEO_FOLDER}/AU_dev.csv')['emotion_zone']\n",
    "x_dev, x_test = train_test_split(x_dev_dataset, test_size=0.2)\n",
    "y_dev, y_test = train_test_split(y_dev_dataset, test_size=0.2)\n",
    "dummy_clf = DummyClassifier(strategy=\"most_frequent\")\n",
    "# dummy_clf = DummyClassifier(strategy=\"uniform\")\n",
    "dummy_clf.fit(x, y)\n",
    "predictions = dummy_clf.predict(x_test)\n",
    "accuracy = accuracy_score(y_test, predictions)\n",
    "accuracy"
   ]
  },
  {
   "cell_type": "markdown",
   "metadata": {},
   "source": [
    "### 2. Confusion Matrix"
   ]
  },
  {
   "cell_type": "code",
   "execution_count": 10,
   "metadata": {},
   "outputs": [
    {
     "data": {
      "text/plain": [
       "array([[  0,   0, 230,   0],\n",
       "       [  0,   0, 461,   0],\n",
       "       [  0,   0, 554,   0],\n",
       "       [  0,   0,  44,   0]])"
      ]
     },
     "execution_count": 10,
     "metadata": {},
     "output_type": "execute_result"
    }
   ],
   "source": [
    "from sklearn.metrics import confusion_matrix\n",
    "confusion_matrix(y_test, predictions, labels=[\"blue\", \"green\", \"yellow\", \"red\"])"
   ]
  },
  {
   "cell_type": "markdown",
   "metadata": {},
   "source": [
    "## Baseline model - uniform random prediction\n",
    "### 1. Accuracy"
   ]
  },
  {
   "cell_type": "code",
   "execution_count": 12,
   "metadata": {},
   "outputs": [
    {
     "data": {
      "text/plain": [
       "0.24903025601241272"
      ]
     },
     "execution_count": 12,
     "metadata": {},
     "output_type": "execute_result"
    }
   ],
   "source": [
    "from sklearn.dummy import DummyClassifier\n",
    "import pandas as pd\n",
    "from sklearn.metrics import accuracy_score\n",
    "\n",
    "from sklearn.model_selection import train_test_split\n",
    "\n",
    "DATASET_VIDEO_FOLDER = '/Users/user/PycharmProjects/emotion_detection_system/dataset/video'\n",
    "\n",
    "x = pd.read_csv(f'{DATASET_VIDEO_FOLDER}/AU_train.csv').iloc[:, 2:-1]\n",
    "y = pd.read_csv(f'{DATASET_VIDEO_FOLDER}/AU_train.csv')['emotion_zone']\n",
    "\n",
    "x_dev_dataset = pd.read_csv(f'{DATASET_VIDEO_FOLDER}/AU_dev.csv').iloc[:, 2:-1]\n",
    "y_dev_dataset = pd.read_csv(f'{DATASET_VIDEO_FOLDER}/AU_dev.csv')['emotion_zone']\n",
    "x_dev, x_test = train_test_split(x_dev_dataset, test_size=0.2)\n",
    "y_dev, y_test = train_test_split(y_dev_dataset, test_size=0.2)\n",
    "dummy_clf = DummyClassifier(strategy=\"uniform\")\n",
    "dummy_clf.fit(x, y)\n",
    "predictions = dummy_clf.predict(x_test)\n",
    "accuracy = accuracy_score(y_test, predictions)\n",
    "accuracy"
   ]
  },
  {
   "cell_type": "markdown",
   "metadata": {},
   "source": [
    "### 2. Confusion Matrix"
   ]
  },
  {
   "cell_type": "code",
   "execution_count": 13,
   "metadata": {},
   "outputs": [
    {
     "data": {
      "text/plain": [
       "array([[ 61,  62,  57,  63],\n",
       "       [121, 104, 110, 120],\n",
       "       [132, 128, 148, 140],\n",
       "       [  8,  19,   8,   8]])"
      ]
     },
     "execution_count": 13,
     "metadata": {},
     "output_type": "execute_result"
    }
   ],
   "source": [
    "from sklearn.metrics import confusion_matrix\n",
    "confusion_matrix(y_test, predictions, labels=[\"blue\", \"green\", \"yellow\", \"red\"])"
   ]
  },
  {
   "cell_type": "markdown",
   "metadata": {},
   "source": [
    "## ED model - Using SVM - Video input + AU features\n",
    "1. Only Video modality \n",
    "2. Only AU features \n",
    "\n",
    "### 1. Accuracy\n",
    "\n",
    "The accuracy obtained is greater than a random guess and less than always guessing on the most frequent in the dataset. "
   ]
  },
  {
   "cell_type": "code",
   "execution_count": 4,
   "metadata": {},
   "outputs": [
    {
     "name": "stdout",
     "output_type": "stream",
     "text": [
      "Accuracy of SVM model: 0.39332816136539955\n"
     ]
    }
   ],
   "source": [
    "from sklearn import svm\n",
    "clf = svm.SVC()\n",
    "clf.fit(x, y)\n",
    "\n",
    "predictions = clf.predict(x_test)\n",
    "accuracy = accuracy_score(y_test, predictions)\n",
    "print(f'Accuracy of SVM model: {accuracy}')"
   ]
  },
  {
   "cell_type": "markdown",
   "metadata": {},
   "source": [
    "### 2. Confusion matrix\n",
    "\n",
    "As expected, the class more corrected predicted is ```yellow```. "
   ]
  },
  {
   "cell_type": "code",
   "execution_count": 7,
   "metadata": {},
   "outputs": [
    {
     "data": {
      "text/plain": [
       "array([[  9,  56, 169,   5],\n",
       "       [ 24,  89, 340,   8],\n",
       "       [ 25, 101, 409,  11],\n",
       "       [  3,   4,  36,   0]])"
      ]
     },
     "execution_count": 7,
     "metadata": {},
     "output_type": "execute_result"
    }
   ],
   "source": [
    "from sklearn.metrics import confusion_matrix\n",
    "confusion_matrix(y_test, predictions, labels=[\"blue\", \"green\", \"yellow\", \"red\"])"
   ]
  },
  {
   "cell_type": "markdown",
   "metadata": {},
   "source": [
    "## ED model - Using SVM - Video input + appearance features\n",
    "1. Only Video modality \n",
    "2. Only appearance features \n",
    "\n",
    "### 1. Accuracy"
   ]
  },
  {
   "cell_type": "code",
   "execution_count": 6,
   "metadata": {},
   "outputs": [
    {
     "name": "stdout",
     "output_type": "stream",
     "text": [
      "Accuracy of SVM model: 0.42096774193548386\n"
     ]
    }
   ],
   "source": [
    "import pandas as pd\n",
    "from sklearn.metrics import accuracy_score\n",
    "from sklearn import svm\n",
    "\n",
    "from sklearn.model_selection import train_test_split\n",
    "\n",
    "DATASET_VIDEO_FOLDER = '/Users/user/PycharmProjects/emotion_detection_system/dataset/video'\n",
    "\n",
    "def run_model_one_feature(video_feature, model):\n",
    "    x = pd.read_csv(f'{DATASET_VIDEO_FOLDER}/{video_feature}_train.csv').iloc[:, 2:-1]\n",
    "    y = pd.read_csv(f'{DATASET_VIDEO_FOLDER}/{video_feature}_train.csv')['emotion_zone']\n",
    "    x_dev_dataset = pd.read_csv(f'{DATASET_VIDEO_FOLDER}/{video_feature}_dev.csv').iloc[:, 2:-1]\n",
    "    y_dev_dataset = pd.read_csv(f'{DATASET_VIDEO_FOLDER}/{video_feature}_dev.csv')['emotion_zone']\n",
    "    x_dev, x_test = train_test_split(x_dev_dataset, test_size=0.2)\n",
    "    y_dev, y_test = train_test_split(y_dev_dataset, test_size=0.2)\n",
    "\n",
    "    if model == 'SVM':\n",
    "        clf = svm.SVC()\n",
    "    clf.fit(x, y)\n",
    "\n",
    "    predictions = clf.predict(x_test)\n",
    "    accuracy = accuracy_score(y_test, predictions)\n",
    "    print(f'Accuracy of SVM model: {accuracy}')\n",
    "\n",
    "    return predictions, y_test\n",
    "\n",
    "predictions, y_test = run_model_one_feature('appearance', 'SVM')\n"
   ]
  },
  {
   "cell_type": "markdown",
   "metadata": {},
   "source": [
    "### 2. Confusion matrix"
   ]
  },
  {
   "cell_type": "code",
   "execution_count": 8,
   "metadata": {},
   "outputs": [
    {
     "data": {
      "text/plain": [
       "array([[  6,  34, 160,   0],\n",
       "       [ 12,  68, 381,   0],\n",
       "       [ 14,  76, 448,   0],\n",
       "       [  2,   4,  35,   0]])"
      ]
     },
     "execution_count": 8,
     "metadata": {},
     "output_type": "execute_result"
    }
   ],
   "source": [
    "from sklearn.metrics import confusion_matrix\n",
    "confusion_matrix(y_test, predictions, labels=[\"blue\", \"green\", \"yellow\", \"red\"])"
   ]
  },
  {
   "cell_type": "markdown",
   "metadata": {},
   "source": [
    "## ED model - Using SVM - Video input + BoVW features\n",
    "1. Only Video modality \n",
    "2. Only BoVW features \n",
    "\n",
    "### 1. Accuracy"
   ]
  },
  {
   "cell_type": "code",
   "execution_count": 12,
   "metadata": {},
   "outputs": [
    {
     "name": "stdout",
     "output_type": "stream",
     "text": [
      "Accuracy of SVM model: 0.3809171597633136\n"
     ]
    }
   ],
   "source": [
    "import pandas as pd\n",
    "from sklearn.metrics import accuracy_score\n",
    "from sklearn import svm\n",
    "\n",
    "from sklearn.model_selection import train_test_split\n",
    "\n",
    "DATASET_VIDEO_FOLDER = '/Users/user/PycharmProjects/emotion_detection_system/dataset/video'\n",
    "\n",
    "def run_model_one_feature(video_feature, model):\n",
    "    x = pd.read_csv(f'{DATASET_VIDEO_FOLDER}/{video_feature}_train.csv').iloc[:, 2:-1]\n",
    "    y = pd.read_csv(f'{DATASET_VIDEO_FOLDER}/{video_feature}_train.csv')['emotion_zone']\n",
    "    x_dev_dataset = pd.read_csv(f'{DATASET_VIDEO_FOLDER}/{video_feature}_dev.csv').iloc[:, 2:-1]\n",
    "    y_dev_dataset = pd.read_csv(f'{DATASET_VIDEO_FOLDER}/{video_feature}_dev.csv')['emotion_zone']\n",
    "    x_dev, x_test = train_test_split(x_dev_dataset, test_size=0.2)\n",
    "    y_dev, y_test = train_test_split(y_dev_dataset, test_size=0.2)\n",
    "\n",
    "    if model == 'SVM':\n",
    "        clf = svm.SVC()\n",
    "    clf.fit(x, y)\n",
    "\n",
    "    predictions = clf.predict(x_test)\n",
    "    accuracy = accuracy_score(y_test, predictions)\n",
    "    print(f'Accuracy of SVM model: {accuracy}')\n",
    "\n",
    "    return predictions, y_test\n",
    "\n",
    "predictions, y_test = run_model_one_feature('BoVW', 'SVM')"
   ]
  },
  {
   "cell_type": "markdown",
   "metadata": {},
   "source": [
    "### 2. Confusion Matrix"
   ]
  },
  {
   "cell_type": "code",
   "execution_count": 13,
   "metadata": {},
   "outputs": [
    {
     "data": {
      "text/plain": [
       "array([[  4,  59, 228,   1],\n",
       "       [ 11, 125, 358,   2],\n",
       "       [  7, 136, 386,   1],\n",
       "       [  0,   8,  26,   0]])"
      ]
     },
     "execution_count": 13,
     "metadata": {},
     "output_type": "execute_result"
    }
   ],
   "source": [
    "from sklearn.metrics import confusion_matrix\n",
    "confusion_matrix(y_test, predictions, labels=[\"blue\", \"green\", \"yellow\", \"red\"])"
   ]
  },
  {
   "cell_type": "markdown",
   "metadata": {},
   "source": [
    "## ED model - Using SVM - Video input + (AU + appearance) features\n",
    "\n",
    "1. Only Video modality \n",
    "2. AU and appearance features \n",
    "\n",
    "### 1. Accuracy"
   ]
  },
  {
   "cell_type": "code",
   "execution_count": 9,
   "metadata": {},
   "outputs": [
    {
     "name": "stdout",
     "output_type": "stream",
     "text": [
      "Accuracy of SVM model: 0.43842364532019706\n"
     ]
    }
   ],
   "source": [
    "import pandas as pd\n",
    "from sklearn.metrics import accuracy_score\n",
    "from sklearn import svm\n",
    "import functools\n",
    "import glob\n",
    "\n",
    "from sklearn.model_selection import train_test_split\n",
    "\n",
    "DATASET_VIDEO_FOLDER = '/Users/user/PycharmProjects/emotion_detection_system/dataset/video'\n",
    "\n",
    "def concatenate_video_au_files(dataset_type, features_type):\n",
    "    \"\"\"\n",
    "    dataset_type must be 'train' or 'dev'\n",
    "    \"\"\"\n",
    "    files = glob.glob(f'{DATASET_VIDEO_FOLDER}/{features_type}/{dataset_type}_*.csv')\n",
    "\n",
    "    dfs = []\n",
    "    for file in files:\n",
    "        df = pd.read_csv(file)\n",
    "        dfs.append(df)\n",
    "\n",
    "    concated = pd.concat(dfs)\n",
    "    concated.to_csv(f'{DATASET_VIDEO_FOLDER}/{features_type}_{dataset_type}.csv')\n",
    "\n",
    "def concatenate_different_features_type_dataset(dataset_type, features_type_list):\n",
    "    \"\"\"\n",
    "    dataset_type must be 'train' or 'dev'\n",
    "    \"\"\"\n",
    "    files = glob.glob(f'{DATASET_VIDEO_FOLDER}/{features_type_list[0]}/{dataset_type}_*.csv')\n",
    "\n",
    "    for file in files:\n",
    "        dfs = []\n",
    "        file_name = file.split('/')[-1]\n",
    "        df = pd.read_csv(file).iloc[:, :-1]\n",
    "        other_df_path = f'{DATASET_VIDEO_FOLDER}/{features_type_list[1]}/{file_name}'\n",
    "        other_df = pd.read_csv(other_df_path)\n",
    "        dfs.append(df)\n",
    "        dfs.append(other_df)\n",
    "        merged = functools.reduce(lambda df1, df2: pd.merge(df1, df2, on='frametime', how='inner'), dfs)\n",
    "        # print(merged)\n",
    "        merged.to_csv(f'{DATASET_VIDEO_FOLDER}/temp/{file_name}', index=False)\n",
    "\n",
    "def producing_more_than_one_features_type(feature_type_lst):\n",
    "    concatenate_different_features_type_dataset('train', feature_type_lst)\n",
    "    concatenate_different_features_type_dataset('dev', feature_type_lst)\n",
    "    concatenate_video_au_files('train', 'temp')\n",
    "    concatenate_video_au_files('dev', 'temp')\n",
    "\n",
    "def run_model_one_feature_type(video_feature, model):\n",
    "    x = pd.read_csv(f'{DATASET_VIDEO_FOLDER}/{video_feature}_train.csv').iloc[:, 2:-1]\n",
    "    y = pd.read_csv(f'{DATASET_VIDEO_FOLDER}/{video_feature}_train.csv')['emotion_zone']\n",
    "    x_dev_dataset = pd.read_csv(f'{DATASET_VIDEO_FOLDER}/{video_feature}_dev.csv').iloc[:, 2:-1]\n",
    "    y_dev_dataset = pd.read_csv(f'{DATASET_VIDEO_FOLDER}/{video_feature}_dev.csv')['emotion_zone']\n",
    "    x_dev, x_test = train_test_split(x_dev_dataset, test_size=0.2)\n",
    "    y_dev, y_test = train_test_split(y_dev_dataset, test_size=0.2)\n",
    "\n",
    "    if model == 'SVM':\n",
    "        clf = svm.SVC()\n",
    "    clf.fit(x, y)\n",
    "\n",
    "    predictions = clf.predict(x_test)\n",
    "    accuracy = accuracy_score(y_test, predictions)\n",
    "    print(f'Accuracy of SVM model: {accuracy}')\n",
    "    return predictions, y_test \n",
    "\n",
    "\n",
    "def run_model_more_than_one_feature_type(feature_type_list, model):\n",
    "    producing_more_than_one_features_type(feature_type_list)\n",
    "    predictions, y_test  = run_model_one_feature_type('temp', model)\n",
    "    return predictions, y_test \n",
    "\n",
    "\n",
    "feature_type_list = ['AU', 'appearance']\n",
    "predictions, y_test = run_model_more_than_one_feature_type(feature_type_list, 'SVM')"
   ]
  },
  {
   "cell_type": "markdown",
   "metadata": {},
   "source": [
    "### 2. Confusion matrix"
   ]
  },
  {
   "cell_type": "code",
   "execution_count": 11,
   "metadata": {},
   "outputs": [
    {
     "data": {
      "text/plain": [
       "array([[  8,  50, 164,   1],\n",
       "       [ 19,  71, 308,   1],\n",
       "       [ 19,  87, 455,   0],\n",
       "       [  1,   8,  26,   0]])"
      ]
     },
     "execution_count": 11,
     "metadata": {},
     "output_type": "execute_result"
    }
   ],
   "source": [
    "from sklearn.metrics import confusion_matrix\n",
    "confusion_matrix(y_test, predictions, labels=[\"blue\", \"green\", \"yellow\", \"red\"])"
   ]
  },
  {
   "cell_type": "markdown",
   "metadata": {},
   "source": [
    "## ED model - Using SVM - Video input + (AU + appearance + BoVW) features\n",
    "\n",
    "1. Only Video modality \n",
    "2. AU, appearance and BoVW features \n",
    "\n",
    "### 1. Accuracy"
   ]
  },
  {
   "cell_type": "code",
   "execution_count": 16,
   "metadata": {},
   "outputs": [
    {
     "name": "stdout",
     "output_type": "stream",
     "text": [
      "Accuracy of SVM model: 0.4006568144499179\n"
     ]
    }
   ],
   "source": [
    "import pandas as pd\n",
    "from sklearn.metrics import accuracy_score\n",
    "from sklearn import svm\n",
    "import functools\n",
    "import glob\n",
    "\n",
    "from sklearn.model_selection import train_test_split\n",
    "\n",
    "DATASET_VIDEO_FOLDER = '/Users/user/PycharmProjects/emotion_detection_system/dataset/video'\n",
    "\n",
    "def concatenate_video_au_files(dataset_type, features_type):\n",
    "    \"\"\"\n",
    "    dataset_type must be 'train' or 'dev'\n",
    "    \"\"\"\n",
    "    files = glob.glob(f'{DATASET_VIDEO_FOLDER}/{features_type}/{dataset_type}_*.csv')\n",
    "\n",
    "    dfs = []\n",
    "    for file in files:\n",
    "        df = pd.read_csv(file)\n",
    "        dfs.append(df)\n",
    "\n",
    "    concated = pd.concat(dfs)\n",
    "    concated.to_csv(f'{DATASET_VIDEO_FOLDER}/{features_type}_{dataset_type}.csv')\n",
    "\n",
    "def concatenate_different_features_type_dataset(dataset_type, features_type_list):\n",
    "    \"\"\"\n",
    "    dataset_type must be 'train' or 'dev'\n",
    "    \"\"\"\n",
    "\n",
    "    files = glob.glob(f'{DATASET_VIDEO_FOLDER}/{features_type_list[0]}/{dataset_type}_*.csv')\n",
    "\n",
    "    for file in files[:]:\n",
    "        dfs = []\n",
    "        file_name = file.split('/')[-1]\n",
    "        # df = pd.read_csv(file).iloc[:, :-1]\n",
    "        # dfs.append(df)\n",
    "        for i, feature_type in enumerate(features_type_list):\n",
    "            if i < len(features_type_list) - 1:\n",
    "                other_df_path = f'{DATASET_VIDEO_FOLDER}/{features_type_list[i]}/{file_name}'\n",
    "                other_df = pd.read_csv(other_df_path).iloc[:, :-1]\n",
    "                dfs.append(other_df)\n",
    "            else:\n",
    "                last_df_path = f'{DATASET_VIDEO_FOLDER}/{features_type_list[-1]}/{file_name}'\n",
    "                last_df_path = pd.read_csv(last_df_path)\n",
    "                dfs.append(last_df_path)\n",
    "\n",
    "        merged = functools.reduce(lambda df1, df2: pd.merge(df1, df2, on='frametime', how='inner'), dfs)\n",
    "        # print(merged)\n",
    "        merged.to_csv(f'{DATASET_VIDEO_FOLDER}/temp/{file_name}', index=False)\n",
    "\n",
    "def producing_more_than_one_features_type(feature_type_lst):\n",
    "    concatenate_different_features_type_dataset('train', feature_type_lst)\n",
    "    concatenate_different_features_type_dataset('dev', feature_type_lst)\n",
    "    concatenate_video_au_files('train', 'temp')\n",
    "    concatenate_video_au_files('dev', 'temp')\n",
    "\n",
    "def run_model_one_feature_type(video_feature, model):\n",
    "    x = pd.read_csv(f'{DATASET_VIDEO_FOLDER}/{video_feature}_train.csv').iloc[:, 2:-1]\n",
    "    y = pd.read_csv(f'{DATASET_VIDEO_FOLDER}/{video_feature}_train.csv')['emotion_zone']\n",
    "    x_dev_dataset = pd.read_csv(f'{DATASET_VIDEO_FOLDER}/{video_feature}_dev.csv').iloc[:, 2:-1]\n",
    "    y_dev_dataset = pd.read_csv(f'{DATASET_VIDEO_FOLDER}/{video_feature}_dev.csv')['emotion_zone']\n",
    "    x_dev, x_test = train_test_split(x_dev_dataset, test_size=0.2)\n",
    "    y_dev, y_test = train_test_split(y_dev_dataset, test_size=0.2)\n",
    "\n",
    "    if model == 'SVM':\n",
    "        clf = svm.SVC()\n",
    "    clf.fit(x, y)\n",
    "\n",
    "    predictions = clf.predict(x_test)\n",
    "    accuracy = accuracy_score(y_test, predictions)\n",
    "    print(f'Accuracy of SVM model: {accuracy}')\n",
    "    return predictions, y_test \n",
    "\n",
    "\n",
    "def run_model_more_than_one_feature_type(feature_type_list, model):\n",
    "    producing_more_than_one_features_type(feature_type_list)\n",
    "    predictions, y_test  = run_model_one_feature_type('temp', model)\n",
    "    return predictions, y_test \n",
    "\n",
    "\n",
    "feature_type_list = ['AU', 'appearance', 'BoVW']\n",
    "predictions, y_test = run_model_more_than_one_feature_type(feature_type_list, 'SVM')"
   ]
  },
  {
   "cell_type": "markdown",
   "metadata": {},
   "source": [
    "### 2. Confusion matrix"
   ]
  },
  {
   "cell_type": "code",
   "execution_count": 18,
   "metadata": {},
   "outputs": [
    {
     "data": {
      "text/plain": [
       "array([[  3,  46, 167,   0],\n",
       "       [  9,  94, 355,   0],\n",
       "       [ 14, 100, 391,   0],\n",
       "       [  0,   7,  32,   0]])"
      ]
     },
     "execution_count": 18,
     "metadata": {},
     "output_type": "execute_result"
    }
   ],
   "source": [
    "from sklearn.metrics import confusion_matrix\n",
    "confusion_matrix(y_test, predictions, labels=[\"blue\", \"green\", \"yellow\", \"red\"])"
   ]
  },
  {
   "cell_type": "markdown",
   "metadata": {},
   "source": [
    "### Model with video (AU + appearance + BoVW features) - SVM \n",
    "\n",
    "#### Accuracy of SVM model: 0.4302134646962233\n",
    "\n",
    "#### Confusion matrix: labels=[\"blue\", \"green\", \"yellow\", \"red\"]\n",
    "```\n",
    "[[  6  42 167   0]\n",
    " [ 15 108 326   0]\n",
    " [ 17  92 410   0]\n",
    " [  1   9  25   0]]```"
   ]
  },
  {
   "cell_type": "markdown",
   "metadata": {},
   "source": [
    "### Model with video (AU  + BoVW features) - SVM \n",
    "\n",
    "#### Accuracy of SVM model: 0.395655546935609\n",
    "\n",
    "#### Confusion matrix: labels=[\"blue\", \"green\", \"yellow\", \"red\"]\n",
    " \n",
    "```\n",
    "[[  9  63 191   1]\n",
    " [ 14 117 317   0]\n",
    " [ 12 141 384   2]\n",
    " [  4   6  28   0]]```"
   ]
  },
  {
   "cell_type": "markdown",
   "metadata": {},
   "source": [
    "### Model with video (geometric features) - SVM \n",
    "\n",
    "#### Accuracy of SVM model: 0.4324960753532182\n",
    "\n",
    "#### Confusion matrix: labels=[\"blue\", \"green\", \"yellow\", \"red\"]\n",
    " \n",
    "```\n",
    "[[  0   5 232   0]\n",
    " [  0   8 433   0]\n",
    " [  0   6 543   0]\n",
    " [  0   3  44   0]]\n",
    "```"
   ]
  },
  {
   "cell_type": "markdown",
   "metadata": {},
   "source": [
    "### Model with video (AU + appearance + BoVW + geometric features) - SVM \n",
    "\n",
    "#### Accuracy of SVM model: 0.4324960753532182\n",
    "\n",
    "#### Confusion matrix: labels=[\"blue\", \"green\", \"yellow\", \"red\"]\n",
    " \n",
    "```\n",
    "[[  0   4 208   0]\n",
    " [  0   8 422   0]\n",
    " [  0  11 530   0]\n",
    " [  0   0  35   0]]\n",
    "```"
   ]
  },
  {
   "cell_type": "markdown",
   "metadata": {},
   "source": [
    "### Model with video (AU + geometric features) - SVM \n",
    "\n",
    "#### Accuracy of SVM model: 0.41626409017713367\n",
    "\n",
    "#### Confusion matrix: labels=[\"blue\", \"green\", \"yellow\", \"red\"]\n",
    " \n",
    "```\n",
    "[[  0   5 222   0]\n",
    " [  0   5 454   0]\n",
    " [  0   7 512   0]\n",
    " [  0   1  36   0]]\n",
    "```\n",
    "\n",
    "Accuracy of SVM model for video modality using ['AU', 'geometric'] as features: 0.4331723027375201\n",
    "```\n",
    "[[  0   7 213   0]\n",
    " [  0  11 432   0]\n",
    " [  0   8 527   0]\n",
    " [  0   1  43   0]]\n",
    " ```\n",
    " \n",
    " Accuracy of SVM model for video modality using ['AU', 'geometric'] as features: 0.4420289855072464\n",
    "\n",
    "Confusion matrix: labels=[\"blue\", \"green\", \"yellow\", \"red\"]\n",
    "```\n",
    "[[  0   5 219   0]\n",
    " [  0  12 416   0]\n",
    " [  0  10 537   0]\n",
    " [  0   1  42   0]]\n",
    " ```"
   ]
  },
  {
   "cell_type": "markdown",
   "metadata": {},
   "source": [
    "### Model with AUDIO (BoAW) - SVM \n",
    "\n",
    "#### Accuracy of SVM model: 0.4066666666666667\n",
    "\n",
    "#### Confusion matrix: labels=[\"blue\", \"green\", \"yellow\", \"red\"]\n",
    " \n",
    "```\n",
    "[[  5  78 164   0]\n",
    " [  4 166 327   0]\n",
    " [  6 179 378   0]\n",
    " [  0  18  25   0]]\n",
    "```"
   ]
  },
  {
   "cell_type": "markdown",
   "metadata": {},
   "source": [
    "# 13/07/2020\n",
    "# Regenerating all results: \n",
    "Because there was a bug on the dev/test dataset split, making that the annotation from the testset wasn't correct. "
   ]
  },
  {
   "cell_type": "markdown",
   "metadata": {},
   "source": [
    "## Processing the input: {'modalities': {'video': {'features_type': {'AU': True, 'appearance': False, 'BoVW': False, 'geometric': False}, 'model': 'SVM'}}, 'fusion_type': 'late_fusion'}\n",
    "\n",
    "\n",
    "Accuracy: 0.39875872769588827\n",
    "\n",
    "Confusion matrix: labels=[\"blue\", \"green\", \"yellow\", \"red\"]\n",
    "```\n",
    "[[  4  67 195   0]\n",
    " [ 34  95 318   8]\n",
    " [ 30  76 414  14]\n",
    " [  0   5  28   1]]\n",
    " ```"
   ]
  },
  {
   "cell_type": "markdown",
   "metadata": {},
   "source": [
    "## Processing the input: {'modalities': {'video': {'features_type': {'AU': False, 'appearance': True, 'BoVW': False, 'geometric': False}, 'model': 'SVM'}}, 'fusion_type': 'late_fusion'}\n",
    "\n",
    "Accuracy: 0.3758064516129032\n",
    "\n",
    "Confusion matrix: labels=[\"blue\", \"green\", \"yellow\", \"red\"]\n",
    "```\n",
    "[[  5  45 177   0]\n",
    " [ 17  63 381   0]\n",
    " [ 14 101 398   0]\n",
    " [  4   7  28   0]]```"
   ]
  },
  {
   "cell_type": "markdown",
   "metadata": {},
   "source": [
    "## Processing the input: {'modalities': {'video': {'features_type': {'AU': False, 'appearance': False, 'BoVW': True, 'geometric': False}, 'model': 'SVM'}}, 'fusion_type': 'late_fusion'}\n",
    "\n",
    "Accuracy: 0.40458579881656803\n",
    "\n",
    "Confusion matrix: labels=[\"blue\", \"green\", \"yellow\", \"red\"]\n",
    "```\n",
    "[[  8  64 190   3]\n",
    " [  6 115 360   0]\n",
    " [ 12 131 424   2]\n",
    " [  0  10  27   0]]```"
   ]
  },
  {
   "cell_type": "markdown",
   "metadata": {},
   "source": [
    "## Processing the input: {'modalities': {'video': {'features_type': {'AU': False, 'appearance': False, 'BoVW': False, 'geometric': True}, 'model': 'SVM'}}, 'fusion_type': 'late_fusion'}\n",
    "\n",
    "Accuracy: 0.41836734693877553\n",
    "\n",
    "Confusion matrix: labels=[\"blue\", \"green\", \"yellow\", \"red\"]\n",
    "```\n",
    "[[  0  10 238   0]\n",
    " [  0   1 435   0]\n",
    " [  0   9 532   0]\n",
    " [  0   1  48   0]]```"
   ]
  },
  {
   "cell_type": "markdown",
   "metadata": {},
   "source": [
    "## Processing the input: {'modalities': {'video': {'features_type': {'AU': True, 'appearance': True, 'BoVW': True, 'geometric': True}, 'model': 'SVM'}}, 'fusion_type': 'late_fusion'}\n",
    "\n",
    "Accuracy: 0.4236453201970443\n",
    "\n",
    "Confusion matrix: labels=[\"blue\", \"green\", \"yellow\", \"red\"]\n",
    "```\n",
    "[[  0   6 215   0]\n",
    " [  0   8 430   0]\n",
    " [  0   7 508   0]\n",
    " [  0   1  43   0]]```"
   ]
  },
  {
   "cell_type": "markdown",
   "metadata": {},
   "source": [
    "## Processing the input: {'modalities': {'audio': {'features_type': {'BoAW': True}, 'model': 'SVM'}}, 'fusion_type': 'late_fusion'}\n",
    "\n",
    "Accuracy: 0.5044444444444445\n",
    "\n",
    "Confusion matrix: labels=[\"blue\", \"green\", \"yellow\", \"red\"]\n",
    "```\n",
    "[[  4 106 149   0]\n",
    " [  3 255 275   1]\n",
    " [  5  92 422   0]\n",
    " [  0  10  28   0]]```"
   ]
  },
  {
   "cell_type": "markdown",
   "metadata": {},
   "source": [
    "## Processing the input: {'modalities': {'audio': {'features_type': {'BoAW': False, 'DeepSpectrum': True, 'eGeMAPSfunct': False}, 'model': 'SVM'}}, 'fusion_type': 'late_fusion'}\n",
    "\n",
    "Accuracy: 0.4703703703703704\n",
    "\n",
    "Confusion matrix: labels=[\"blue\", \"green\", \"yellow\", \"red\"]\n",
    "```\n",
    "[[  0 137 130   0]\n",
    " [  0 227 269   0]\n",
    " [  0 133 408   0]\n",
    " [  0  14  32   0]]```\n"
   ]
  },
  {
   "cell_type": "markdown",
   "metadata": {},
   "source": [
    "## Processing the input: {'modalities': {'video': {'features_type': {'AU': True, 'appearance': True, 'BoVW': True, 'geometric': True}, 'model': 'SVM'}, 'audio': {'features_type': {'BoAW': True}, 'model': 'SVM'}}, 'fusion_type': 'late_fusion'}\n",
    "\n",
    "Accuracy: 0.4734848484848485\n",
    "\n",
    "Confusion matrix: labels=[\"blue\", \"green\", \"yellow\", \"red\"]\n",
    "```\n",
    "[[  1  16  39   0]\n",
    " [  0  21  63   0]\n",
    " [  0  13 103   0]\n",
    " [  0   0   8   0]]```"
   ]
  },
  {
   "cell_type": "markdown",
   "metadata": {},
   "source": [
    "## Processing the input: {'modalities': {'video': {'features_type': {'AU': False, 'appearance': False, 'BoVW': False, 'geometric': True}, 'model': 'SVM'}, 'audio': {'features_type': {'BoAW': True}, 'model': 'SVM'}}, 'fusion_type': 'late_fusion'}\n",
    "\n",
    "Accuracy: 0.4461538461538462\n",
    "\n",
    "Confusion matrix: labels=[\"blue\", \"green\", \"yellow\", \"red\"]\n",
    "```\n",
    "[[ 0  9 44  0]\n",
    " [ 0 20 71  0]\n",
    " [ 0 11 96  0]\n",
    " [ 0  3  6  0]]```"
   ]
  },
  {
   "cell_type": "markdown",
   "metadata": {},
   "source": [
    "### Note that when using multimodal (the two results above), the number of examples for testset is way smaller (the sum of all numbers of the confusion matrix). \n",
    "\n",
    "This happens because, in the moment, the multimodality is a random selection of one of the two possible prediction modality - one coming from video and another from audio. \n",
    "To do this, the test dataset is the intersection of the frametime with avaliable features of video and audio. \n",
    "\n",
    "Since we do not have valid features for each frametime in the dataset for each modality, the intersection of the two modalities generates a testdataset smaller than using only one modality. "
   ]
  },
  {
   "cell_type": "markdown",
   "metadata": {},
   "source": [
    "### What can be done? \n",
    "\n",
    "I can include into the testset examples of when I have the prediction of only one modality available. \n",
    "So instead of being the intersection, it will be the union of the two modalitites. "
   ]
  },
  {
   "cell_type": "markdown",
   "metadata": {},
   "source": [
    "## Processing the input: {'modalities': {'video': {'features_type': {'AU': True, 'appearance': False, 'BoVW': False, 'geometric': False}, 'model': 'SVM'}, 'audio': {'features_type': {'BoAW': True}, 'model': 'SVM'}}, 'fusion_type': 'late_fusion'}\n",
    "\n",
    "Accuracy: 0.45867768595041325\n",
    "\n",
    "Confusion matrix: labels=[\"blue\", \"green\", \"yellow\", \"red\"]\n",
    "```\n",
    "[[ 0 12 28  0]\n",
    " [ 4 28 58  1]\n",
    " [ 5 12 83  3]\n",
    " [ 0  3  5  0]]```"
   ]
  },
  {
   "cell_type": "markdown",
   "metadata": {},
   "source": [
    "# Balancing the dataset\n",
    "## 1. First method: undersampling "
   ]
  },
  {
   "cell_type": "markdown",
   "metadata": {},
   "source": [
    "## Using balanced training set of total of 1392 examples. \n",
    "348 examples of each class\n",
    "\n",
    "## Processing the input: {'modalities': {'video': {'features_type': {'AU': True, 'appearance': False, 'BoVW': False, 'geometric': False}, 'model': 'SVM'}}, 'fusion_type': 'late_fusion'}\n",
    "\n",
    "Accuracy: 0.2699767261442979\n",
    "\n",
    "Confusion matrix: labels=[\"blue\", \"green\", \"yellow\", \"red\"]\n",
    "```\n",
    "[[ 45 101  68  41]\n",
    " [118 121 117 111]\n",
    " [116 106 181 126]\n",
    " [  5  10  22   1]]```\n"
   ]
  },
  {
   "cell_type": "markdown",
   "metadata": {},
   "source": [
    "## Using balanced training set of total of 1540 examples. \n",
    "385 examples of each class\n",
    "\n",
    "## Processing the input: {'modalities': {'audio': {'features_type': {'BoAW': False, 'DeepSpectrum': False, 'eGeMAPSfunct': True}, 'model': 'SVM'}}, 'fusion_type': 'late_fusion'}\n",
    "\n",
    "Accuracy: 0.2952167414050822\n",
    "\n",
    "Confusion matrix: labels=[\"blue\", \"green\", \"yellow\", \"red\"]\n",
    "```\n",
    "[[ 83 117  12  27]\n",
    " [150 265  31  42]\n",
    " [140 299  47  78]\n",
    " [ 15  29   3   0]]```"
   ]
  },
  {
   "cell_type": "markdown",
   "metadata": {},
   "source": [
    "## Using balanced training set of total of 1588 examples. \n",
    "397 examples of each class\n",
    "\n",
    "## Processing the input: {'modalities': {'audio': {'features_type': {'BoAW': True, 'DeepSpectrum': False, 'eGeMAPSfunct': False}, 'model': 'SVM'}}, 'fusion_type': 'late_fusion'}\n",
    "\n",
    "Accuracy: 0.42444444444444446\n",
    "\n",
    "Confusion matrix: labels=[\"blue\", \"green\", \"yellow\", \"red\"]\n",
    "```\n",
    "[[ 40 118  68  31]\n",
    " [ 83 247 115  36]\n",
    " [ 51 151 280  79]\n",
    " [  3  13  29   6]]```"
   ]
  },
  {
   "cell_type": "markdown",
   "metadata": {},
   "source": [
    "# Result using two modalities and processing the union of examples of each modality, i.e. if some modality is unavailable, the result of the other modality is used. If both modality are available, we radomly select one of them to be the predicted result. \n",
    "We obtain higher accuracy this way. \n",
    "\n",
    "\n",
    "## VIDEO\n",
    "Using balanced training set of total of 1392 examples. \n",
    "348 examples of each class\n",
    "\n",
    "## AUDIO\n",
    "Using balanced training set of total of 1540 examples. \n",
    "385 examples of each class\n",
    "\n",
    "## Processing the input: {'modalities': {'video': {'features_type': {'AU': True, 'appearance': False, 'BoVW': False, 'geometric': False}, 'model': 'SVM'}, 'audio': {'features_type': {'BoAW': False, 'DeepSpectrum': False, 'eGeMAPSfunct': True}, 'model': 'SVM'}}, 'fusion_type': 'late_fusion'}\n",
    "\n",
    "\n",
    "Accuracy: 0.627712219261515\n",
    "\n",
    "Confusion matrix: labels=[\"blue\", \"green\", \"yellow\", \"red\"]\n",
    "```\n",
    "[[ 35  92  86  50]\n",
    " [111 136 130  98]\n",
    " [133 117 136 138]\n",
    " [  4  14   5   4]]```\n",
    "\n",
    "\n"
   ]
  },
  {
   "cell_type": "markdown",
   "metadata": {},
   "source": [
    "OBS: The audio feature type DeepSpectrum cannot be used with other audio features, because they do note share the same timeframes. The annotators created this feature using frametimes of 400ms but starting from 1.0 not 0.0 (as the other features). We still have annotation for those frametimes, thus DeepSpectrum feature works alone or together with video features. "
   ]
  },
  {
   "cell_type": "markdown",
   "metadata": {},
   "source": [
    "## Using balanced training set of total of 908 examples. \n",
    "227 examples of each class\n",
    "\n",
    "## Processing the input: {'modalities': {'physio': {'features_type': {'HRHRV': True}, 'model': 'SVM'}}, 'fusion_type': 'late_fusion'}\n",
    "\n",
    "Accuracy: 0.3484646194926569\n",
    "\n",
    "Confusion matrix: labels=[\"blue\", \"green\", \"yellow\", \"red\"]\n",
    "```\n",
    "[[  8  40  92  18]\n",
    " [ 51 102 107  43]\n",
    " [ 23  70 148  27]\n",
    " [  4   5   8   3]]```"
   ]
  },
  {
   "cell_type": "markdown",
   "metadata": {},
   "source": [
    "## Using balanced training set of total of 1392 examples. \n",
    "348 examples of each class\n",
    "\n",
    "## Processing the input: {'modalities': {'video': {'features_type': {'AU': True, 'appearance': False, 'BoVW': True, 'geometric': False}, 'model': 'SVM'}}, 'fusion_type': 'late_fusion'}\n",
    "\n",
    "Accuracy: 0.360744763382467\n",
    "\n",
    "Confusion matrix: labels=[\"blue\", \"green\", \"yellow\", \"red\"]\n",
    "```\n",
    "[[ 45 120  76  20]\n",
    " [108 154 150  39]\n",
    " [110 110 263  51]\n",
    " [ 13  12  15   3]]```"
   ]
  },
  {
   "cell_type": "markdown",
   "metadata": {},
   "source": [
    "## 14th September 2020 \n",
    "\n",
    "Implementing Manel's idea of only getting values of emotions that are aaway from the axis, trying to avoid points of confusion between emotion classes. \n",
    "\n",
    "I createad an area that will be discarted with the value of threshold of X (variable) \n",
    "\n",
    "If x or y (valence or arousal) are less than the threshold value, we discard the value, the example from the dataset. Not considering that emotion as valid. \n",
    "\n"
   ]
  },
  {
   "cell_type": "code",
   "execution_count": 9,
   "metadata": {
    "scrolled": true
   },
   "outputs": [
    {
     "name": "stdout",
     "output_type": "stream",
     "text": [
      "yellow    1084\n",
      "green      107\n",
      "red         99\n",
      "blue         1\n",
      "Name: emotion_zone, dtype: int64\n",
      "yellow    1709\n",
      "green      141\n",
      "Name: emotion_zone, dtype: int64\n",
      "yellow    3870\n",
      "green      952\n",
      "blue       151\n",
      "Name: emotion_zone, dtype: int64\n",
      "green     1072\n",
      "yellow     456\n",
      "Name: emotion_zone, dtype: int64\n",
      "yellow    1750\n",
      "green      207\n",
      "red        126\n",
      "Name: emotion_zone, dtype: int64\n",
      "yellow    1171\n",
      "green      384\n",
      "Name: emotion_zone, dtype: int64\n",
      "yellow    2639\n",
      "green      451\n",
      "Name: emotion_zone, dtype: int64\n",
      "green     935\n",
      "yellow    834\n",
      "blue      145\n",
      "Name: emotion_zone, dtype: int64\n",
      "yellow    3033\n",
      "red        221\n",
      "blue        78\n",
      "green       72\n",
      "Name: emotion_zone, dtype: int64\n",
      "yellow    2980\n",
      "green        2\n",
      "Name: emotion_zone, dtype: int64\n",
      "blue      399\n",
      "yellow     15\n",
      "green       5\n",
      "Name: emotion_zone, dtype: int64\n",
      "yellow    1833\n",
      "green      637\n",
      "Name: emotion_zone, dtype: int64\n",
      "blue      345\n",
      "yellow    117\n",
      "green      86\n",
      "Name: emotion_zone, dtype: int64\n",
      "blue      945\n",
      "yellow    523\n",
      "green     315\n",
      "Name: emotion_zone, dtype: int64\n",
      "green     742\n",
      "yellow    256\n",
      "Name: emotion_zone, dtype: int64\n",
      "yellow    2759\n",
      "green      206\n",
      "Name: emotion_zone, dtype: int64\n",
      "yellow    3773\n",
      "green     1700\n",
      "Name: emotion_zone, dtype: int64\n",
      "yellow    2789\n",
      "green      350\n",
      "Name: emotion_zone, dtype: int64\n",
      "{'yellow': 18621, 'red': 446, 'blue': 424, 'green': 4047}\n",
      "{'yellow': 12970, 'red': 0, 'blue': 1640, 'green': 4317}\n"
     ]
    }
   ],
   "source": [
    "import glob\n",
    "import pathlib\n",
    "import os.path\n",
    "\n",
    "import pandas as pd\n",
    "\n",
    "path_annotation_emotions = '/Users/user/PycharmProjects/emotion_detection_system/labels/emotion_zones/advanced_mapping'\n",
    "# path_annotation_emotions = '/Users/user/PycharmProjects/emotion_detection_system/labels/emotion_zones/emotion_names'\n",
    "files = glob.glob(f\"{path_annotation_emotions}/*.csv\")\n",
    "train_count = {'yellow': 0, 'red': 0, 'blue': 0, 'green': 0}\n",
    "dev_count = {'yellow': 0, 'red': 0, 'blue': 0, 'green': 0}\n",
    "for file in files:\n",
    "    df_train = pd.read_csv(file)\n",
    "    df_train['emotion_zone'].value_counts()\n",
    "    count_emotions = df_train['emotion_zone'].value_counts()\n",
    "    print(count_emotions)\n",
    "    if 'train' in file:\n",
    "        try:\n",
    "            train_count['yellow'] += count_emotions['yellow']\n",
    "        except:\n",
    "            pass\n",
    "        try:\n",
    "            train_count['red'] += count_emotions['red']\n",
    "        except:\n",
    "            pass\n",
    "        try:\n",
    "            train_count['blue'] += count_emotions['blue']\n",
    "        except:\n",
    "            pass\n",
    "        try:\n",
    "            train_count['green'] += count_emotions['green']\n",
    "        except:\n",
    "            pass\n",
    "    elif 'dev' in file:\n",
    "        try: \n",
    "            dev_count['yellow'] += count_emotions['yellow']\n",
    "        except:\n",
    "            pass\n",
    "        try: \n",
    "            dev_count['red'] += count_emotions['red']\n",
    "        except:\n",
    "            pass\n",
    "        try: \n",
    "            dev_count['blue'] += count_emotions['blue']\n",
    "        except:\n",
    "            pass\n",
    "        try: \n",
    "            dev_count['green'] += count_emotions['green']\n",
    "        except:\n",
    "            pass\n",
    "print(train_count)\n",
    "print(dev_count)"
   ]
  },
  {
   "cell_type": "markdown",
   "metadata": {},
   "source": [
    "![GitHub Logo](emotion_mapping.jpeg)"
   ]
  },
  {
   "cell_type": "markdown",
   "metadata": {},
   "source": [
    "![GitHub Logo](emotion_mapping_manel_idea.jpeg)"
   ]
  },
  {
   "cell_type": "markdown",
   "metadata": {},
   "source": [
    "## 1. Using the threshold value as 0.25 \n",
    "\n",
    "{'yellow': 2487, 'red': 0, 'blue': 0, 'green': 142}\n",
    "\n",
    "{'yellow': 1335, 'red': 0, 'blue': 0, 'green': 0}\n",
    "\n"
   ]
  },
  {
   "cell_type": "code",
   "execution_count": 6,
   "metadata": {
    "scrolled": true
   },
   "outputs": [
    {
     "data": {
      "text/plain": [
       "<BarContainer object of 4 artists>"
      ]
     },
     "execution_count": 6,
     "metadata": {},
     "output_type": "execute_result"
    },
    {
     "data": {
      "image/png": "[encoded data removed]",
      "text/plain": [
       "<Figure size 432x288 with 1 Axes>"
      ]
     },
     "metadata": {
      "needs_background": "light"
     },
     "output_type": "display_data"
    }
   ],
   "source": [
    "import matplotlib.pyplot as plt\n",
    "keys = train_count.keys()\n",
    "values = train_count.values()\n",
    "\n",
    "plt.bar(keys, values)"
   ]
  },
  {
   "cell_type": "code",
   "execution_count": 5,
   "metadata": {
    "scrolled": true
   },
   "outputs": [
    {
     "data": {
      "text/plain": [
       "<BarContainer object of 4 artists>"
      ]
     },
     "execution_count": 5,
     "metadata": {},
     "output_type": "execute_result"
    },
    {
     "data": {
      "image/png": "[encoded data removed]",
      "text/plain": [
       "<Figure size 432x288 with 1 Axes>"
      ]
     },
     "metadata": {
      "needs_background": "light"
     },
     "output_type": "display_data"
    }
   ],
   "source": [
    "import matplotlib.pyplot as plt\n",
    "keys = dev_count.keys()\n",
    "values = dev_count.values()\n",
    "\n",
    "plt.bar(keys, values)"
   ]
  },
  {
   "cell_type": "markdown",
   "metadata": {},
   "source": [
    "## 2. Using the threshold value as 0.1\n",
    "\n",
    "{'yellow': 18621, 'red': 446, 'blue': 424, 'green': 4047}\n",
    "\n",
    "{'yellow': 12970, 'red': 0, 'blue': 1640, 'green': 4317}\n",
    "\n"
   ]
  },
  {
   "cell_type": "code",
   "execution_count": 10,
   "metadata": {
    "scrolled": false
   },
   "outputs": [
    {
     "data": {
      "text/plain": [
       "<BarContainer object of 4 artists>"
      ]
     },
     "execution_count": 10,
     "metadata": {},
     "output_type": "execute_result"
    },
    {
     "data": {
      "image/png": "[encoded data removed]",
      "text/plain": [
       "<Figure size 432x288 with 1 Axes>"
      ]
     },
     "metadata": {
      "needs_background": "light"
     },
     "output_type": "display_data"
    }
   ],
   "source": [
    "import matplotlib.pyplot as plt\n",
    "keys = train_count.keys()\n",
    "values = train_count.values()\n",
    "\n",
    "plt.bar(keys, values)"
   ]
  },
  {
   "cell_type": "code",
   "execution_count": 11,
   "metadata": {
    "scrolled": true
   },
   "outputs": [
    {
     "data": {
      "text/plain": [
       "<BarContainer object of 4 artists>"
      ]
     },
     "execution_count": 11,
     "metadata": {},
     "output_type": "execute_result"
    },
    {
     "data": {
      "image/png": "[encoded data removed]",
      "text/plain": [
       "<Figure size 432x288 with 1 Axes>"
      ]
     },
     "metadata": {
      "needs_background": "light"
     },
     "output_type": "display_data"
    }
   ],
   "source": [
    "import matplotlib.pyplot as plt\n",
    "keys = dev_count.keys()\n",
    "values = dev_count.values()\n",
    "\n",
    "plt.bar(keys, values)"
   ]
  },
  {
   "cell_type": "markdown",
   "metadata": {},
   "source": [
    "Conclusion: the distribution continue to be the same, but the number of examples drop a lot. \n",
    "Is it worth to do it anyway? "
   ]
  },
  {
   "cell_type": "markdown",
   "metadata": {},
   "source": [
    "## 10th May 2021\n",
    "Distribution of Valence / Arousal in RECOLA "
   ]
  },
  {
   "cell_type": "code",
   "execution_count": 5,
   "metadata": {},
   "outputs": [
    {
     "name": "stdout",
     "output_type": "stream",
     "text": [
      "True\n"
     ]
    },
    {
     "data": {
      "image/png": "[encoded data removed]",
      "text/plain": [
       "<Figure size 432x288 with 1 Axes>"
      ]
     },
     "metadata": {
      "needs_background": "light"
     },
     "output_type": "display_data"
    }
   ],
   "source": [
    "# var = 'GrLivArea'\n",
    "# data = pd.concat([df_train['SalePrice'], df_train[var]], axis=1)\n",
    "# data.plot.scatter(x='Valence', y='Arousal', ylim=(-1,1), s=32, c='#80a4d1');\n",
    "\n",
    "\n",
    "import pandas as pd\n",
    "import numpy as np\n",
    "import seaborn as sns\n",
    "\n",
    "df = pd.DataFrame(np.random.randn(100, 6), columns=['a', 'b', 'c', 'd', 'e', 'f'])\n",
    "# df = pd.rea\n",
    "\n",
    "\n",
    "ax1 = df.plot(kind='scatter', x='a', y='b', color='r', ylim=(-1,1))    \n",
    "ax2 = df.plot(kind='scatter', x='c', y='d', color='g', ax=ax1)    \n",
    "ax3 = df.plot(kind='scatter', x='e', y='f', color='b', ax=ax1)\n",
    "\n",
    "print(ax1 == ax2 == ax3)  # True"
   ]
  },
  {
   "cell_type": "code",
   "execution_count": 27,
   "metadata": {
    "scrolled": true
   },
   "outputs": [
    {
     "data": {
      "text/plain": [
       "[(-1.0, 1.0)]"
      ]
     },
     "execution_count": 27,
     "metadata": {},
     "output_type": "execute_result"
    },
    {
     "data": {
      "image/png": "[encoded data removed]",
      "text/plain": [
       "<Figure size 432x288 with 1 Axes>"
      ]
     },
     "metadata": {},
     "output_type": "display_data"
    }
   ],
   "source": [
    "import pandas as pd\n",
    "import numpy as np\n",
    "import seaborn as sns\n",
    "\n",
    "sns.set(style='whitegrid', palette='muted',font_scale=1.5)\n",
    "df = pd.read_csv('/Users/user/PycharmProjects/emotion_detection_system/labels/combined_valence_arousal/train_1.csv')\n",
    "\n",
    "# tips = sns.load_dataset(\"tips\")\n",
    "g = sns.scatterplot(data=df, x=\"GoldStandardValence\", y=\"GoldStandardArousal\")\n",
    "g.set(ylim=(-1,1))\n",
    "g.set(xlim=(-1,1))"
   ]
  },
  {
   "cell_type": "code",
   "execution_count": 28,
   "metadata": {},
   "outputs": [
    {
     "data": {
      "image/png": "[encoded data removed]",
      "text/plain": [
       "<Figure size 432x288 with 1 Axes>"
      ]
     },
     "metadata": {},
     "output_type": "display_data"
    }
   ],
   "source": [
    "import pandas as pd\n",
    "import numpy as np\n",
    "import seaborn as sns\n",
    "\n",
    "sns.set(style='whitegrid', palette='muted',font_scale=1.5)\n",
    "df = pd.read_csv('/Users/user/PycharmProjects/emotion_detection_system/labels/combined_valence_arousal/train_1.csv')\n",
    "\n",
    "# tips = sns.load_dataset(\"tips\")\n",
    "g = sns.scatterplot(data=df, x=\"GoldStandardValence\", y=\"GoldStandardArousal\")"
   ]
  }
 ],
 "metadata": {
  "kernelspec": {
   "display_name": "Python 3",
   "language": "python",
   "name": "python3"
  },
  "language_info": {
   "codemirror_mode": {
    "name": "ipython",
    "version": 3
   },
   "file_extension": ".py",
   "mimetype": "text/x-python",
   "name": "python",
   "nbconvert_exporter": "python",
   "pygments_lexer": "ipython3",
   "version": "3.7.7"
  }
 },
 "nbformat": 4,
 "nbformat_minor": 4
}
