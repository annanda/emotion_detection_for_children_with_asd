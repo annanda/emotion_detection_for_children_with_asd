{
 "cells": [
  {
   "cell_type": "markdown",
   "metadata": {},
   "source": [
    "# 24th July 2020\n",
    "After implementing the later fusion for multimodality processing of video/audio/physiological signals"
   ]
  },
  {
   "cell_type": "markdown",
   "metadata": {},
   "source": [
    "## Modalities & Features type: video {AU} \n",
    "\n",
    "## Model: SVM \n",
    "\n",
    "Using balanced training set of total of 1392 examples. \n",
    "348 examples of each class\n",
    "\n",
    "Accuracy: 0.28626842513576417\n",
    "\n",
    "Confusion matrix: labels=[\"blue\", \"green\", \"yellow\", \"red\"]\n",
    "```\n",
    "[[ 37  90  43  46]\n",
    " [ 83 154 111 113]\n",
    " [ 97 127 175 169]\n",
    " [  7  19  15   3]]```\n",
    "\n",
    "\n"
   ]
  },
  {
   "cell_type": "markdown",
   "metadata": {},
   "source": [
    "## Modalities & Features type: video {appearance} \n",
    "\n",
    "## Model: SVM \n",
    "\n",
    "\n",
    "Using balanced training set of total of 1352 examples. \n",
    "338 examples of each class\n",
    "\n",
    "Accuracy: 0.3346774193548387\n",
    "\n",
    "Confusion matrix: labels=[\"blue\", \"green\", \"yellow\", \"red\"]\n",
    "```\n",
    "[[ 39  49  92  22]\n",
    " [ 49 114 272  48]\n",
    " [ 49 162 259  54]\n",
    " [  8   5  15   3]]```\n",
    "\n"
   ]
  },
  {
   "cell_type": "markdown",
   "metadata": {},
   "source": [
    "## Modalities & Features type: video {BoVW} \n",
    "\n",
    "## Model: SVM \n",
    "\n",
    "\n",
    "Using balanced training set of total of 1596 examples. 399 examples of each class\n",
    "\n",
    "Accuracy: 0.3853550295857988\n",
    "\n",
    "Confusion matrix: labels=[\"blue\", \"green\", \"yellow\", \"red\"]\n",
    "```\n",
    "[[ 61  85  99  17]\n",
    " [110 198 176  35]\n",
    " [ 84 158 261  32]\n",
    " [  6  16  13   1]]```"
   ]
  },
  {
   "cell_type": "markdown",
   "metadata": {},
   "source": [
    "## Modalities & Features type: video {geometric} \n",
    "\n",
    "## Model: SVM \n",
    "\n",
    "\n",
    "Using balanced training set of total of 1420 examples. \n",
    "355 examples of each class\n",
    "\n",
    "\n",
    "Accuracy: 0.25745682888540034\n",
    "\n",
    "Confusion matrix: labels=[\"blue\", \"green\", \"yellow\", \"red\"]\n",
    "```\n",
    "[[ 56  19  67 105]\n",
    " [153  22 140 105]\n",
    " [144  25 246 163]\n",
    " [ 14   1  10   4]]```\n"
   ]
  },
  {
   "cell_type": "markdown",
   "metadata": {},
   "source": [
    "## Modalities & Features type: audio {BoAW} \n",
    "This feature type yields good results just by itself.\n",
    "\n",
    "## Model: SVM \n",
    "\n",
    "Using balanced training set of total of 1588 examples. \n",
    "397 examples of each class\n",
    "\n",
    "Accuracy: 0.43777777777777777\n",
    "\n",
    "Confusion matrix: labels=[\"blue\", \"green\", \"yellow\", \"red\"]\n",
    "```\n",
    "[[ 56 128  60  19]\n",
    " [105 248 115  42]\n",
    " [ 62 124 282  63]\n",
    " [  8  13  20   5]]```\n",
    "\n",
    "\n"
   ]
  },
  {
   "cell_type": "markdown",
   "metadata": {},
   "source": [
    "## Modalities & Features type: audio {DeepSpectrum} \n",
    "\n",
    "## Model: SVM \n",
    "\n",
    "Using balanced training set of total of 1588 examples. \n",
    "397 examples of each class\n",
    "\n",
    "Accuracy: 0.3385185185185185\n",
    "\n",
    "Confusion matrix: labels=[\"blue\", \"green\", \"yellow\", \"red\"]\n",
    "```\n",
    "[[117  82  36  30]\n",
    " [174 154  86  59]\n",
    " [124 151 179 123]\n",
    " [  7  12   9   7]]```\n",
    "\n",
    "\n"
   ]
  },
  {
   "cell_type": "markdown",
   "metadata": {},
   "source": [
    "## Modalities & Features type: audio {eGeMAPSfunct} \n",
    "\n",
    "## Model: SVM \n",
    "\n",
    "Using balanced training set of total of 1540 examples. \n",
    "385 examples of each class\n",
    "\n",
    "Accuracy: 0.32585949177877427\n",
    "\n",
    "Confusion matrix: labels=[\"blue\", \"green\", \"yellow\", \"red\"]\n",
    "```\n",
    "[[115 122  24  20]\n",
    " [161 234  50  51]\n",
    " [122 246  85  61]\n",
    " [ 11  26   8   2]]```\n"
   ]
  },
  {
   "cell_type": "markdown",
   "metadata": {},
   "source": [
    "## Modalities & Features type: physio {HRHRV} \n",
    "\n",
    "## Model: SVM \n",
    "\n",
    "Using balanced training set of total of 908 examples. \n",
    "227 examples of each class\n",
    " \n",
    "Accuracy: 0.33511348464619495\n",
    "\n",
    "Confusion matrix: labels=[\"blue\", \"green\", \"yellow\", \"red\"]\n",
    "```\n",
    "[[ 13  44  74  23]\n",
    " [ 57  61 127  31]\n",
    " [ 25  55 174  36]\n",
    " [  8   4  14   3]]```\n"
   ]
  },
  {
   "cell_type": "markdown",
   "metadata": {},
   "source": [
    "# Multimodal models - late fusion (random selection of one modality as prediction)\n",
    "## Modalities & Features type: \n",
    "## video {BoVW} + physio {HRHRV} \n",
    "\n",
    "## Model: SVM \n",
    "\n",
    "(video)\n",
    "Using balanced training set of total of 1596 examples. \n",
    "399 examples of each class\n",
    "\n",
    "(physio)\n",
    "Using balanced training set of total of 908 examples. \n",
    "227 examples of each class\n",
    "\n",
    "Accuracy: 0.3844559585492228\n",
    "\n",
    "Confusion matrix: labels=[\"blue\", \"green\", \"yellow\", \"red\"]\n",
    "```\n",
    "[[ 56 126 177  40]\n",
    " [105 259 286  58]\n",
    " [ 73 228 423  50]\n",
    " [  3  28  14   4]]```\n"
   ]
  },
  {
   "cell_type": "markdown",
   "metadata": {},
   "source": [
    "# Multimodal models - late fusion (random selection of one modality as prediction)\n",
    "## Modalities & Features type: \n",
    "## video {BoVW} + audio {BoAW}  + physio {HRHRV} \n",
    "\n",
    "## Model: SVM \n",
    "\n",
    "Using balanced training set of total of 1596 examples. \n",
    "399 examples of each class (VIDEO)\n",
    "\n",
    "Using balanced training set of total of 1588 examples. \n",
    "397 examples of each class (AUDIO)\n",
    " \n",
    "Using balanced training set of total of 908 examples. \n",
    "227 examples of each class (PHYSIO)\n",
    " \n",
    "Accuracy: 0.39378238341968913\n",
    "\n",
    "Confusion matrix: labels=[\"blue\", \"green\", \"yellow\", \"red\"]\n",
    "```\n",
    "[[ 76 245 204  67]\n",
    " [186 445 306  97]\n",
    " [141 326 606 105]\n",
    " [  4  37  37  13]]```"
   ]
  },
  {
   "cell_type": "markdown",
   "metadata": {},
   "source": [
    "# 28th July 2020"
   ]
  },
  {
   "cell_type": "markdown",
   "metadata": {},
   "source": [
    "## Modalities and features type: video {AU} \n",
    "### Model: SVM\n",
    "\n",
    "\n",
    "Average of accuracy by running the system 50 times: 0.2852\n",
    "\n",
    "Std of accuracy by running the system 50 times: 0.0148\n",
    "\n",
    "Last computed Confusion matrix: labels=[\"blue\", \"green\", \"yellow\", \"red\"]\n",
    "```\n",
    "[[ 73  90  42  37]\n",
    " [131 137 115  91]\n",
    " [148  98 178 115]\n",
    " [ 11  10  13   0]]```"
   ]
  },
  {
   "cell_type": "markdown",
   "metadata": {},
   "source": [
    "## Processing the input: {'modalities': {'video': {'features_type': {'AU': True, 'appearance': False, 'BoVW': False, 'geometric': False}, 'model': 'SVM'}, 'audio': {'features_type': {'BoAW': True, 'DeepSpectrum': False, 'eGeMAPSfunct': False}, 'model': 'SVM'}, 'physio': {'features_type': {'HRHRV': True}, 'model': 'SVM'}}, 'fusion_type': 'late_fusion'}\n",
    "\n",
    "###########################################\n",
    "\n",
    "Average of accuracy by running the system 50 times: 0.3787\n",
    "\n",
    "Std of accuracy by running the system 50 times: 0.0093\n",
    "\n",
    "Last computed Confusion matrix: labels=[\"blue\", \"green\", \"yellow\", \"red\"]\n",
    "```\n",
    "[[ 82 218 185  59]\n",
    " [199 399 341 125]\n",
    " [158 216 632 207]\n",
    " [ 10  24  34   9]]```\n",
    "\n"
   ]
  },
  {
   "cell_type": "markdown",
   "metadata": {},
   "source": [
    "# 10th August 2020 "
   ]
  },
  {
   "cell_type": "markdown",
   "metadata": {},
   "source": [
    "### Using balanced training set of total of 15804 examples. \n",
    "3951 examples of each class\n",
    "### Processing the input: {'modalities': {'video': {'features_type': {'AU': False, 'appearance': False, 'BoVW': False, 'geometric': False, 'gaze': True}, 'model': 'SVM'}}, 'fusion_type': 'late_fusion'}\n",
    "\n",
    "Accuracy: 0.3554\n",
    "\n",
    "Confusion matrix: labels=[\"blue\", \"green\", \"yellow\", \"red\"]\n",
    "\n",
    "```\n",
    "[[ 807 1254  349  216]\n",
    " [1050 1849 1593  499]\n",
    " [ 791 1663 2027  941]\n",
    " [  91  123  109  103]]```"
   ]
  },
  {
   "cell_type": "markdown",
   "metadata": {},
   "source": [
    "## Using balanced training set of total of 15804 examples. \n",
    "3951 examples of each class\n",
    "\n",
    "## Processing the input: {'modalities': {'video': {'features_type': {'AU': False, 'appearance': False, 'BoVW': False, 'geometric': False, 'gaze': False, '2d_eye_landmark': True, '3d_eye_landmark': False}, 'model': 'SVM'}}, 'fusion_type': 'late_fusion'}\n",
    "\n",
    "Accuracy: 0.2008\n",
    "Confusion matrix: labels=[\"blue\", \"green\", \"yellow\", \"red\"]\n",
    "```\n",
    "[[ 277  100 1789  408]\n",
    " [1367  712 1904  899]\n",
    " [1715  650 1633 1574]\n",
    " [ 159    9  187   82]]```"
   ]
  },
  {
   "cell_type": "markdown",
   "metadata": {},
   "source": [
    "## Using balanced training set of total of 15804 examples. \n",
    "3951 examples of each class\n",
    "## Processing the input: {'modalities': {'video': {'features_type': {'AU': False, 'appearance': False, 'BoVW': False, 'geometric': False, 'gaze': False, '2d_eye_landmark': False, '3d_eye_landmark': True}, 'model': 'SVM'}}, 'fusion_type': 'late_fusion'}\n",
    "\n",
    "\n",
    "Accuracy: 0.1925\n",
    "\n",
    "Confusion matrix: labels=[\"blue\", \"green\", \"yellow\", \"red\"]\n",
    "```\n",
    "[[ 237  558 1236  586]\n",
    " [1310  991 1523 1169]\n",
    " [1230 1008 1226 1958]\n",
    " [ 104   33  158  138]]```"
   ]
  },
  {
   "cell_type": "markdown",
   "metadata": {},
   "source": [
    "## Using balanced training set of total of 15804 examples. \n",
    "3951 examples of each class\n",
    "\n",
    "## Processing the input: {'modalities': {'video': {'features_type': {'AU': False, 'appearance': False, 'BoVW': False, 'geometric': False, 'gaze': False, '2d_eye_landmark': False, '3d_eye_landmark': False, 'head_pose': True}, 'model': 'SVM'}}, 'fusion_type': 'late_fusion'}\n",
    "\n",
    "Accuracy: 0.1896\n",
    "\n",
    "Confusion matrix: labels=[\"blue\", \"green\", \"yellow\", \"red\"]\n",
    "```\n",
    "[[ 280  171 1680  418]\n",
    " [1095  729 1888 1289]\n",
    " [ 958 1069 1393 2074]\n",
    " [  91   36  143  151]]```"
   ]
  },
  {
   "cell_type": "markdown",
   "metadata": {},
   "source": [
    "## Using balanced training set of total of 1416 examples. \n",
    "354 examples of each class\n",
    "## Processing the input: {'modalities': {'video': {'features_type': {'AU': True, 'appearance': False, 'BoVW': False, 'geometric': False, 'gaze': False, '2d_eye_landmark': False, '3d_eye_landmark': False, 'head_pose': True}, 'model': 'SVM'}}, 'fusion_type': 'late_fusion'}\n",
    "###########################################\n",
    "\n",
    "Accuracy: 0.1942\n",
    "\n",
    "Confusion matrix: labels=[\"blue\", \"green\", \"yellow\", \"red\"]\n",
    "```\n",
    "[[ 21  11 169  43]\n",
    " [130  58 180 104]\n",
    " [125  66 168 195]\n",
    " [ 11   1  19   7]]```\n"
   ]
  },
  {
   "cell_type": "markdown",
   "metadata": {},
   "source": [
    "## Using balanced training set of total of 17596 examples. \n",
    "4399 examples of each class\n",
    "## Processing the input: {'modalities': {'video': {'features_type': {'AU': False, 'appearance': False, 'BoVW': False, 'geometric': False, 'gaze': True, '2d_eye_landmark': True, '3d_eye_landmark': True, 'head_pose': True}, 'model': 'SVM'}}, 'fusion_type': 'late_fusion'}\n",
    "###########################################\n",
    "\n",
    "Accuracy: 0.1804\n",
    "\n",
    "Confusion matrix: labels=[\"blue\", \"green\", \"yellow\", \"red\"]\n",
    "```\n",
    "[[ 214  143 2025  574]\n",
    " [1453  998 1860 1232]\n",
    " [1355 1036 1381 2281]\n",
    " [ 148   82  166  127]]```\n",
    "\n"
   ]
  }
 ],
 "metadata": {
  "kernelspec": {
   "display_name": "Python 3",
   "language": "python",
   "name": "python3"
  },
  "language_info": {
   "codemirror_mode": {
    "name": "ipython",
    "version": 3
   },
   "file_extension": ".py",
   "mimetype": "text/x-python",
   "name": "python",
   "nbconvert_exporter": "python",
   "pygments_lexer": "ipython3",
   "version": "3.7.7"
  }
 },
 "nbformat": 4,
 "nbformat_minor": 4
}
